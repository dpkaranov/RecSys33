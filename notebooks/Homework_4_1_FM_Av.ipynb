{
 "cells": [
  {
   "cell_type": "markdown",
   "id": "cd898ace",
   "metadata": {
    "papermill": {
     "duration": 0.014221,
     "end_time": "2022-12-12T05:32:40.662957",
     "exception": false,
     "start_time": "2022-12-12T05:32:40.648736",
     "status": "completed"
    },
    "tags": []
   },
   "source": [
    "# Домашнее задание № 4 часть 1 (курс МТС, команда 33)"
   ]
  },
  {
   "cell_type": "markdown",
   "id": "eaf66295",
   "metadata": {
    "papermill": {
     "duration": 0.013912,
     "end_time": "2022-12-12T05:32:40.688456",
     "exception": false,
     "start_time": "2022-12-12T05:32:40.674544",
     "status": "completed"
    },
    "tags": []
   },
   "source": [
    "## Подготовка окружения для проведения эксперимента"
   ]
  },
  {
   "cell_type": "code",
   "execution_count": 1,
   "id": "c0f88e8e",
   "metadata": {
    "execution": {
     "iopub.execute_input": "2022-12-12T05:32:40.716499Z",
     "iopub.status.busy": "2022-12-12T05:32:40.715927Z",
     "iopub.status.idle": "2022-12-12T05:33:05.555224Z",
     "shell.execute_reply": "2022-12-12T05:33:05.553968Z"
    },
    "papermill": {
     "duration": 24.857063,
     "end_time": "2022-12-12T05:33:05.558437",
     "exception": false,
     "start_time": "2022-12-12T05:32:40.701374",
     "status": "completed"
    },
    "tags": []
   },
   "outputs": [
    {
     "name": "stdout",
     "output_type": "stream",
     "text": [
      "\u001b[33mWARNING: Running pip as the 'root' user can result in broken permissions and conflicting behaviour with the system package manager. It is recommended to use a virtual environment instead: https://pip.pypa.io/warnings/venv\u001b[0m\u001b[33m\r\n",
      "\u001b[0m\u001b[33mWARNING: Error parsing requirements for pybind11: [Errno 2] No such file or directory: '/opt/conda/lib/python3.7/site-packages/pybind11-2.10.0.dist-info/METADATA'\u001b[0m\u001b[33m\r\n",
      "\u001b[0m\u001b[33mWARNING: Running pip as the 'root' user can result in broken permissions and conflicting behaviour with the system package manager. It is recommended to use a virtual environment instead: https://pip.pypa.io/warnings/venv\u001b[0m\u001b[33m\r\n",
      "\u001b[0m"
     ]
    }
   ],
   "source": [
    "# устанавливаем необходимые зависимости\n",
    "!pip install rectools > None\n",
    "!pip install optuna > None"
   ]
  },
  {
   "cell_type": "code",
   "execution_count": 2,
   "id": "f12d74b2",
   "metadata": {
    "execution": {
     "iopub.execute_input": "2022-12-12T05:33:05.599727Z",
     "iopub.status.busy": "2022-12-12T05:33:05.599138Z",
     "iopub.status.idle": "2022-12-12T05:33:11.883982Z",
     "shell.execute_reply": "2022-12-12T05:33:11.882478Z"
    },
    "papermill": {
     "duration": 6.30804,
     "end_time": "2022-12-12T05:33:11.887085",
     "exception": false,
     "start_time": "2022-12-12T05:33:05.579045",
     "status": "completed"
    },
    "tags": []
   },
   "outputs": [
    {
     "name": "stderr",
     "output_type": "stream",
     "text": [
      "Your CPU supports instructions that this binary was not compiled to use: SSE3 SSE4.1 SSE4.2 AVX AVX2\n",
      "For maximum performance, you can install NMSLIB from sources \n",
      "pip install --no-binary :all: nmslib\n"
     ]
    }
   ],
   "source": [
    "# импортируем зависимости\n",
    "\n",
    "import datetime\n",
    "import optuna\n",
    "import dill\n",
    "import nmslib\n",
    "import pandas as pd\n",
    "import numpy as np\n",
    "\n",
    "from implicit.als import AlternatingLeastSquares\n",
    "from rectools.metrics import Precision, Recall, MAP, calc_metrics\n",
    "from rectools.models import ImplicitALSWrapperModel, LightFMWrapperModel\n",
    "from rectools import Columns\n",
    "from rectools.dataset import Dataset\n",
    "from lightfm import LightFM\n",
    "from lightfm.data import Dataset as LFMDataset"
   ]
  },
  {
   "cell_type": "code",
   "execution_count": 3,
   "id": "e07153b9",
   "metadata": {
    "execution": {
     "iopub.execute_input": "2022-12-12T05:33:11.915555Z",
     "iopub.status.busy": "2022-12-12T05:33:11.914945Z",
     "iopub.status.idle": "2022-12-12T05:33:18.592073Z",
     "shell.execute_reply": "2022-12-12T05:33:18.590376Z"
    },
    "papermill": {
     "duration": 6.694039,
     "end_time": "2022-12-12T05:33:18.594873",
     "exception": false,
     "start_time": "2022-12-12T05:33:11.900834",
     "status": "completed"
    },
    "tags": []
   },
   "outputs": [
    {
     "name": "stdout",
     "output_type": "stream",
     "text": [
      "--2022-12-12 05:33:12--  https://storage.yandexcloud.net/itmo-recsys-public-data/kion_train.zip\r\n",
      "Resolving storage.yandexcloud.net (storage.yandexcloud.net)... 213.180.193.243, 2a02:6b8::1d9\r\n",
      "Connecting to storage.yandexcloud.net (storage.yandexcloud.net)|213.180.193.243|:443... connected.\r\n",
      "HTTP request sent, awaiting response... 200 OK\r\n",
      "Length: 78795385 (75M) [application/zip]\r\n",
      "Saving to: ‘kion_train.zip’\r\n",
      "\r\n",
      "kion_train.zip      100%[===================>]  75.14M  21.1MB/s    in 4.4s    \r\n",
      "\r\n",
      "2022-12-12 05:33:18 (17.0 MB/s) - ‘kion_train.zip’ saved [78795385/78795385]\r\n",
      "\r\n"
     ]
    }
   ],
   "source": [
    "# скачиваем датасеты\n",
    "\n",
    "!wget https://storage.yandexcloud.net/itmo-recsys-public-data/kion_train.zip"
   ]
  },
  {
   "cell_type": "code",
   "execution_count": 4,
   "id": "7384c3a4",
   "metadata": {
    "execution": {
     "iopub.execute_input": "2022-12-12T05:33:18.628377Z",
     "iopub.status.busy": "2022-12-12T05:33:18.627228Z",
     "iopub.status.idle": "2022-12-12T05:33:19.668317Z",
     "shell.execute_reply": "2022-12-12T05:33:19.667073Z"
    },
    "papermill": {
     "duration": 1.060962,
     "end_time": "2022-12-12T05:33:19.671224",
     "exception": false,
     "start_time": "2022-12-12T05:33:18.610262",
     "status": "completed"
    },
    "tags": []
   },
   "outputs": [
    {
     "name": "stdout",
     "output_type": "stream",
     "text": [
      "None  __notebook__.ipynb  kion_train.zip\r\n"
     ]
    }
   ],
   "source": [
    "!ls"
   ]
  },
  {
   "cell_type": "code",
   "execution_count": 5,
   "id": "f889f944",
   "metadata": {
    "execution": {
     "iopub.execute_input": "2022-12-12T05:33:19.702363Z",
     "iopub.status.busy": "2022-12-12T05:33:19.701977Z",
     "iopub.status.idle": "2022-12-12T05:33:22.901999Z",
     "shell.execute_reply": "2022-12-12T05:33:22.900620Z"
    },
    "papermill": {
     "duration": 3.219059,
     "end_time": "2022-12-12T05:33:22.904511",
     "exception": false,
     "start_time": "2022-12-12T05:33:19.685452",
     "status": "completed"
    },
    "tags": []
   },
   "outputs": [
    {
     "name": "stdout",
     "output_type": "stream",
     "text": [
      "Archive:  ./kion_train.zip\r\n",
      "   creating: kion_train/\r\n",
      "  inflating: kion_train/interactions.csv  \r\n",
      "  inflating: __MACOSX/kion_train/._interactions.csv  \r\n",
      "  inflating: kion_train/users.csv    \r\n",
      "  inflating: __MACOSX/kion_train/._users.csv  \r\n",
      "  inflating: kion_train/items.csv    \r\n",
      "  inflating: __MACOSX/kion_train/._items.csv  \r\n"
     ]
    }
   ],
   "source": [
    "!unzip ./kion_train.zip "
   ]
  },
  {
   "cell_type": "code",
   "execution_count": 6,
   "id": "933af100",
   "metadata": {
    "execution": {
     "iopub.execute_input": "2022-12-12T05:33:22.936825Z",
     "iopub.status.busy": "2022-12-12T05:33:22.936406Z",
     "iopub.status.idle": "2022-12-12T05:33:22.942144Z",
     "shell.execute_reply": "2022-12-12T05:33:22.940998Z"
    },
    "papermill": {
     "duration": 0.025156,
     "end_time": "2022-12-12T05:33:22.944443",
     "exception": false,
     "start_time": "2022-12-12T05:33:22.919287",
     "status": "completed"
    },
    "tags": []
   },
   "outputs": [],
   "source": [
    "N = 10\n",
    "METRICS = {\"map@10\": MAP(k=10),\"recall@10\": Recall(k=10)}"
   ]
  },
  {
   "cell_type": "markdown",
   "id": "d1d01cb0",
   "metadata": {
    "papermill": {
     "duration": 0.014873,
     "end_time": "2022-12-12T05:33:22.974715",
     "exception": false,
     "start_time": "2022-12-12T05:33:22.959842",
     "status": "completed"
    },
    "tags": []
   },
   "source": [
    "## Подготовка датасета"
   ]
  },
  {
   "cell_type": "code",
   "execution_count": 7,
   "id": "bd9d12b3",
   "metadata": {
    "execution": {
     "iopub.execute_input": "2022-12-12T05:33:23.005921Z",
     "iopub.status.busy": "2022-12-12T05:33:23.005559Z",
     "iopub.status.idle": "2022-12-12T05:33:23.012549Z",
     "shell.execute_reply": "2022-12-12T05:33:23.011505Z"
    },
    "papermill": {
     "duration": 0.024982,
     "end_time": "2022-12-12T05:33:23.014623",
     "exception": false,
     "start_time": "2022-12-12T05:33:22.989641",
     "status": "completed"
    },
    "tags": []
   },
   "outputs": [],
   "source": [
    "def get_datasets():\n",
    "    inter_df = pd.read_csv('kion_train/interactions.csv')\n",
    "    user_df = pd.read_csv('kion_train/users.csv')\n",
    "    item_df = pd.read_csv('kion_train/items.csv')\n",
    "    inter_df.rename(columns={'last_watch_dt': 'datetime','total_dur': 'weight',},inplace=True)\n",
    "    inter_df['datetime'] = pd.to_datetime(inter_df['datetime'])\n",
    "    inter_df[Columns.Weight] = np.where(inter_df['watched_pct'] > 10, 3, 1)\n",
    "    return inter_df, user_df, item_df"
   ]
  },
  {
   "cell_type": "code",
   "execution_count": 8,
   "id": "d11d7f5e",
   "metadata": {
    "execution": {
     "iopub.execute_input": "2022-12-12T05:33:23.044327Z",
     "iopub.status.busy": "2022-12-12T05:33:23.043982Z",
     "iopub.status.idle": "2022-12-12T05:33:27.617723Z",
     "shell.execute_reply": "2022-12-12T05:33:27.616694Z"
    },
    "papermill": {
     "duration": 4.591936,
     "end_time": "2022-12-12T05:33:27.620200",
     "exception": false,
     "start_time": "2022-12-12T05:33:23.028264",
     "status": "completed"
    },
    "tags": []
   },
   "outputs": [],
   "source": [
    "inter_df, user_df, item_df = get_datasets()"
   ]
  },
  {
   "cell_type": "code",
   "execution_count": 9,
   "id": "1ea9ac30",
   "metadata": {
    "execution": {
     "iopub.execute_input": "2022-12-12T05:33:27.656218Z",
     "iopub.status.busy": "2022-12-12T05:33:27.654340Z",
     "iopub.status.idle": "2022-12-12T05:33:27.677502Z",
     "shell.execute_reply": "2022-12-12T05:33:27.676300Z"
    },
    "papermill": {
     "duration": 0.041731,
     "end_time": "2022-12-12T05:33:27.680108",
     "exception": false,
     "start_time": "2022-12-12T05:33:27.638377",
     "status": "completed"
    },
    "tags": []
   },
   "outputs": [
    {
     "data": {
      "text/html": [
       "<div>\n",
       "<style scoped>\n",
       "    .dataframe tbody tr th:only-of-type {\n",
       "        vertical-align: middle;\n",
       "    }\n",
       "\n",
       "    .dataframe tbody tr th {\n",
       "        vertical-align: top;\n",
       "    }\n",
       "\n",
       "    .dataframe thead th {\n",
       "        text-align: right;\n",
       "    }\n",
       "</style>\n",
       "<table border=\"1\" class=\"dataframe\">\n",
       "  <thead>\n",
       "    <tr style=\"text-align: right;\">\n",
       "      <th></th>\n",
       "      <th>user_id</th>\n",
       "      <th>item_id</th>\n",
       "      <th>datetime</th>\n",
       "      <th>weight</th>\n",
       "      <th>watched_pct</th>\n",
       "    </tr>\n",
       "  </thead>\n",
       "  <tbody>\n",
       "    <tr>\n",
       "      <th>0</th>\n",
       "      <td>176549</td>\n",
       "      <td>9506</td>\n",
       "      <td>2021-05-11</td>\n",
       "      <td>3</td>\n",
       "      <td>72.0</td>\n",
       "    </tr>\n",
       "    <tr>\n",
       "      <th>1</th>\n",
       "      <td>699317</td>\n",
       "      <td>1659</td>\n",
       "      <td>2021-05-29</td>\n",
       "      <td>3</td>\n",
       "      <td>100.0</td>\n",
       "    </tr>\n",
       "    <tr>\n",
       "      <th>2</th>\n",
       "      <td>656683</td>\n",
       "      <td>7107</td>\n",
       "      <td>2021-05-09</td>\n",
       "      <td>1</td>\n",
       "      <td>0.0</td>\n",
       "    </tr>\n",
       "    <tr>\n",
       "      <th>3</th>\n",
       "      <td>864613</td>\n",
       "      <td>7638</td>\n",
       "      <td>2021-07-05</td>\n",
       "      <td>3</td>\n",
       "      <td>100.0</td>\n",
       "    </tr>\n",
       "    <tr>\n",
       "      <th>4</th>\n",
       "      <td>964868</td>\n",
       "      <td>9506</td>\n",
       "      <td>2021-04-30</td>\n",
       "      <td>3</td>\n",
       "      <td>100.0</td>\n",
       "    </tr>\n",
       "    <tr>\n",
       "      <th>5</th>\n",
       "      <td>1032142</td>\n",
       "      <td>6686</td>\n",
       "      <td>2021-05-13</td>\n",
       "      <td>3</td>\n",
       "      <td>100.0</td>\n",
       "    </tr>\n",
       "    <tr>\n",
       "      <th>6</th>\n",
       "      <td>1016458</td>\n",
       "      <td>354</td>\n",
       "      <td>2021-08-14</td>\n",
       "      <td>3</td>\n",
       "      <td>25.0</td>\n",
       "    </tr>\n",
       "    <tr>\n",
       "      <th>7</th>\n",
       "      <td>884009</td>\n",
       "      <td>693</td>\n",
       "      <td>2021-08-04</td>\n",
       "      <td>3</td>\n",
       "      <td>14.0</td>\n",
       "    </tr>\n",
       "    <tr>\n",
       "      <th>8</th>\n",
       "      <td>648682</td>\n",
       "      <td>1449</td>\n",
       "      <td>2021-06-13</td>\n",
       "      <td>3</td>\n",
       "      <td>75.0</td>\n",
       "    </tr>\n",
       "    <tr>\n",
       "      <th>9</th>\n",
       "      <td>203219</td>\n",
       "      <td>13582</td>\n",
       "      <td>2021-08-22</td>\n",
       "      <td>3</td>\n",
       "      <td>100.0</td>\n",
       "    </tr>\n",
       "  </tbody>\n",
       "</table>\n",
       "</div>"
      ],
      "text/plain": [
       "   user_id  item_id   datetime  weight  watched_pct\n",
       "0   176549     9506 2021-05-11       3         72.0\n",
       "1   699317     1659 2021-05-29       3        100.0\n",
       "2   656683     7107 2021-05-09       1          0.0\n",
       "3   864613     7638 2021-07-05       3        100.0\n",
       "4   964868     9506 2021-04-30       3        100.0\n",
       "5  1032142     6686 2021-05-13       3        100.0\n",
       "6  1016458      354 2021-08-14       3         25.0\n",
       "7   884009      693 2021-08-04       3         14.0\n",
       "8   648682     1449 2021-06-13       3         75.0\n",
       "9   203219    13582 2021-08-22       3        100.0"
      ]
     },
     "execution_count": 9,
     "metadata": {},
     "output_type": "execute_result"
    }
   ],
   "source": [
    "# визуализируем датасеты\n",
    "\n",
    "inter_df.head(10)"
   ]
  },
  {
   "cell_type": "code",
   "execution_count": 10,
   "id": "ae119618",
   "metadata": {
    "execution": {
     "iopub.execute_input": "2022-12-12T05:33:27.714813Z",
     "iopub.status.busy": "2022-12-12T05:33:27.714422Z",
     "iopub.status.idle": "2022-12-12T05:33:27.739523Z",
     "shell.execute_reply": "2022-12-12T05:33:27.738500Z"
    },
    "papermill": {
     "duration": 0.045536,
     "end_time": "2022-12-12T05:33:27.742913",
     "exception": false,
     "start_time": "2022-12-12T05:33:27.697377",
     "status": "completed"
    },
    "tags": []
   },
   "outputs": [
    {
     "data": {
      "text/html": [
       "<div>\n",
       "<style scoped>\n",
       "    .dataframe tbody tr th:only-of-type {\n",
       "        vertical-align: middle;\n",
       "    }\n",
       "\n",
       "    .dataframe tbody tr th {\n",
       "        vertical-align: top;\n",
       "    }\n",
       "\n",
       "    .dataframe thead th {\n",
       "        text-align: right;\n",
       "    }\n",
       "</style>\n",
       "<table border=\"1\" class=\"dataframe\">\n",
       "  <thead>\n",
       "    <tr style=\"text-align: right;\">\n",
       "      <th></th>\n",
       "      <th>item_id</th>\n",
       "      <th>content_type</th>\n",
       "      <th>title</th>\n",
       "      <th>title_orig</th>\n",
       "      <th>release_year</th>\n",
       "      <th>genres</th>\n",
       "      <th>countries</th>\n",
       "      <th>for_kids</th>\n",
       "      <th>age_rating</th>\n",
       "      <th>studios</th>\n",
       "      <th>directors</th>\n",
       "      <th>actors</th>\n",
       "      <th>description</th>\n",
       "      <th>keywords</th>\n",
       "    </tr>\n",
       "  </thead>\n",
       "  <tbody>\n",
       "    <tr>\n",
       "      <th>0</th>\n",
       "      <td>10711</td>\n",
       "      <td>film</td>\n",
       "      <td>Поговори с ней</td>\n",
       "      <td>Hable con ella</td>\n",
       "      <td>2002.0</td>\n",
       "      <td>драмы, зарубежные, детективы, мелодрамы</td>\n",
       "      <td>Испания</td>\n",
       "      <td>NaN</td>\n",
       "      <td>16.0</td>\n",
       "      <td>NaN</td>\n",
       "      <td>Педро Альмодовар</td>\n",
       "      <td>Адольфо Фернандес, Ана Фернандес, Дарио Гранди...</td>\n",
       "      <td>Мелодрама легендарного Педро Альмодовара «Пого...</td>\n",
       "      <td>Поговори, ней, 2002, Испания, друзья, любовь, ...</td>\n",
       "    </tr>\n",
       "    <tr>\n",
       "      <th>1</th>\n",
       "      <td>2508</td>\n",
       "      <td>film</td>\n",
       "      <td>Голые перцы</td>\n",
       "      <td>Search Party</td>\n",
       "      <td>2014.0</td>\n",
       "      <td>зарубежные, приключения, комедии</td>\n",
       "      <td>США</td>\n",
       "      <td>NaN</td>\n",
       "      <td>16.0</td>\n",
       "      <td>NaN</td>\n",
       "      <td>Скот Армстронг</td>\n",
       "      <td>Адам Палли, Брайан Хаски, Дж.Б. Смув, Джейсон ...</td>\n",
       "      <td>Уморительная современная комедия на популярную...</td>\n",
       "      <td>Голые, перцы, 2014, США, друзья, свадьбы, прео...</td>\n",
       "    </tr>\n",
       "    <tr>\n",
       "      <th>2</th>\n",
       "      <td>10716</td>\n",
       "      <td>film</td>\n",
       "      <td>Тактическая сила</td>\n",
       "      <td>Tactical Force</td>\n",
       "      <td>2011.0</td>\n",
       "      <td>криминал, зарубежные, триллеры, боевики, комедии</td>\n",
       "      <td>Канада</td>\n",
       "      <td>NaN</td>\n",
       "      <td>16.0</td>\n",
       "      <td>NaN</td>\n",
       "      <td>Адам П. Калтраро</td>\n",
       "      <td>Адриан Холмс, Даррен Шалави, Джерри Вассерман,...</td>\n",
       "      <td>Профессиональный рестлер Стив Остин («Все или ...</td>\n",
       "      <td>Тактическая, сила, 2011, Канада, бандиты, ганг...</td>\n",
       "    </tr>\n",
       "    <tr>\n",
       "      <th>3</th>\n",
       "      <td>7868</td>\n",
       "      <td>film</td>\n",
       "      <td>45 лет</td>\n",
       "      <td>45 Years</td>\n",
       "      <td>2015.0</td>\n",
       "      <td>драмы, зарубежные, мелодрамы</td>\n",
       "      <td>Великобритания</td>\n",
       "      <td>NaN</td>\n",
       "      <td>16.0</td>\n",
       "      <td>NaN</td>\n",
       "      <td>Эндрю Хэй</td>\n",
       "      <td>Александра Риддлстон-Барретт, Джеральдин Джейм...</td>\n",
       "      <td>Шарлотта Рэмплинг, Том Кортни, Джеральдин Джей...</td>\n",
       "      <td>45, лет, 2015, Великобритания, брак, жизнь, лю...</td>\n",
       "    </tr>\n",
       "    <tr>\n",
       "      <th>4</th>\n",
       "      <td>16268</td>\n",
       "      <td>film</td>\n",
       "      <td>Все решает мгновение</td>\n",
       "      <td>NaN</td>\n",
       "      <td>1978.0</td>\n",
       "      <td>драмы, спорт, советские, мелодрамы</td>\n",
       "      <td>СССР</td>\n",
       "      <td>NaN</td>\n",
       "      <td>12.0</td>\n",
       "      <td>Ленфильм</td>\n",
       "      <td>Виктор Садовский</td>\n",
       "      <td>Александр Абдулов, Александр Демьяненко, Алекс...</td>\n",
       "      <td>Расчетливая чаровница из советского кинохита «...</td>\n",
       "      <td>Все, решает, мгновение, 1978, СССР, сильные, ж...</td>\n",
       "    </tr>\n",
       "    <tr>\n",
       "      <th>5</th>\n",
       "      <td>854</td>\n",
       "      <td>film</td>\n",
       "      <td>Северо-Юг</td>\n",
       "      <td>NaN</td>\n",
       "      <td>2015.0</td>\n",
       "      <td>драмы, русские</td>\n",
       "      <td>Россия</td>\n",
       "      <td>NaN</td>\n",
       "      <td>16.0</td>\n",
       "      <td>NaN</td>\n",
       "      <td>Юрий Грубник</td>\n",
       "      <td>Алексей Воронин, Алексей Мурашов, Алена Алинин...</td>\n",
       "      <td>Авторский фильм молодого режиссера Юрия Грубни...</td>\n",
       "      <td>Северо-Юг, 2015, Россия, бандиты, гангстеры, б...</td>\n",
       "    </tr>\n",
       "    <tr>\n",
       "      <th>6</th>\n",
       "      <td>1468</td>\n",
       "      <td>film</td>\n",
       "      <td>Марья-искусница</td>\n",
       "      <td>NaN</td>\n",
       "      <td>1960.0</td>\n",
       "      <td>фильмы, сказки, приключения, советские, семейн...</td>\n",
       "      <td>СССР</td>\n",
       "      <td>NaN</td>\n",
       "      <td>6.0</td>\n",
       "      <td>NaN</td>\n",
       "      <td>Александр Роу</td>\n",
       "      <td>Александр Баранов, Александр Хвыля, Анатолий К...</td>\n",
       "      <td>Два прославленных советских сказочника – писат...</td>\n",
       "      <td>Марья-искусница, 1960, СССР, преодоление, труд...</td>\n",
       "    </tr>\n",
       "    <tr>\n",
       "      <th>7</th>\n",
       "      <td>11114</td>\n",
       "      <td>film</td>\n",
       "      <td>Принцесса Лебедь: Пират или принцесса</td>\n",
       "      <td>The Swan Princess: Princess Tomorrow, Pirate T...</td>\n",
       "      <td>2016.0</td>\n",
       "      <td>для детей, сказки, полнометражные, зарубежные,...</td>\n",
       "      <td>США</td>\n",
       "      <td>NaN</td>\n",
       "      <td>6.0</td>\n",
       "      <td>Sony Pictures</td>\n",
       "      <td>Ричард Рич</td>\n",
       "      <td>Брайан Ниссен, Гарднер Джаэс, Грант Дураззо, Д...</td>\n",
       "      <td>Анимационная сказка о непоседливой принцессе Э...</td>\n",
       "      <td>Принцесса, Лебедь, Пират, или, принцесса, 2016...</td>\n",
       "    </tr>\n",
       "    <tr>\n",
       "      <th>8</th>\n",
       "      <td>9853</td>\n",
       "      <td>film</td>\n",
       "      <td>Лабиринты прошлого</td>\n",
       "      <td>Todos lo saben</td>\n",
       "      <td>2018.0</td>\n",
       "      <td>криминал, детективы, драмы, зарубежные, триллеры</td>\n",
       "      <td>Испания</td>\n",
       "      <td>NaN</td>\n",
       "      <td>16.0</td>\n",
       "      <td>NaN</td>\n",
       "      <td>Асгар Фархади</td>\n",
       "      <td>Барбара Ленни, Инма Куэста, Карла Кампра, Пене...</td>\n",
       "      <td>Испанка Лаура, давно переехавшая в Буэнос-Айре...</td>\n",
       "      <td>Лабиринты, прошлого, 2018, Испания, семейные, ...</td>\n",
       "    </tr>\n",
       "    <tr>\n",
       "      <th>9</th>\n",
       "      <td>8604</td>\n",
       "      <td>film</td>\n",
       "      <td>Третья попытка</td>\n",
       "      <td>NaN</td>\n",
       "      <td>2013.0</td>\n",
       "      <td>русские, мелодрамы</td>\n",
       "      <td>Россия</td>\n",
       "      <td>NaN</td>\n",
       "      <td>12.0</td>\n",
       "      <td>NaN</td>\n",
       "      <td>Игорь Мужжухин</td>\n",
       "      <td>Александр Асташенок, Александр Пашков, Андрей ...</td>\n",
       "      <td>Екатерина Рябова, Александр Асташенок и Алекса...</td>\n",
       "      <td>Третья, попытка, 2013, Россия, любовь, измена,...</td>\n",
       "    </tr>\n",
       "  </tbody>\n",
       "</table>\n",
       "</div>"
      ],
      "text/plain": [
       "   item_id content_type                                  title  \\\n",
       "0    10711         film                         Поговори с ней   \n",
       "1     2508         film                            Голые перцы   \n",
       "2    10716         film                       Тактическая сила   \n",
       "3     7868         film                                 45 лет   \n",
       "4    16268         film                   Все решает мгновение   \n",
       "5      854         film                              Северо-Юг   \n",
       "6     1468         film                        Марья-искусница   \n",
       "7    11114         film  Принцесса Лебедь: Пират или принцесса   \n",
       "8     9853         film                     Лабиринты прошлого   \n",
       "9     8604         film                         Третья попытка   \n",
       "\n",
       "                                          title_orig  release_year  \\\n",
       "0                                     Hable con ella        2002.0   \n",
       "1                                       Search Party        2014.0   \n",
       "2                                     Tactical Force        2011.0   \n",
       "3                                           45 Years        2015.0   \n",
       "4                                                NaN        1978.0   \n",
       "5                                                NaN        2015.0   \n",
       "6                                                NaN        1960.0   \n",
       "7  The Swan Princess: Princess Tomorrow, Pirate T...        2016.0   \n",
       "8                                     Todos lo saben        2018.0   \n",
       "9                                                NaN        2013.0   \n",
       "\n",
       "                                              genres       countries  \\\n",
       "0            драмы, зарубежные, детективы, мелодрамы         Испания   \n",
       "1                   зарубежные, приключения, комедии             США   \n",
       "2   криминал, зарубежные, триллеры, боевики, комедии          Канада   \n",
       "3                       драмы, зарубежные, мелодрамы  Великобритания   \n",
       "4                 драмы, спорт, советские, мелодрамы            СССР   \n",
       "5                                     драмы, русские          Россия   \n",
       "6  фильмы, сказки, приключения, советские, семейн...            СССР   \n",
       "7  для детей, сказки, полнометражные, зарубежные,...             США   \n",
       "8   криминал, детективы, драмы, зарубежные, триллеры         Испания   \n",
       "9                                 русские, мелодрамы          Россия   \n",
       "\n",
       "   for_kids  age_rating        studios         directors  \\\n",
       "0       NaN        16.0            NaN  Педро Альмодовар   \n",
       "1       NaN        16.0            NaN    Скот Армстронг   \n",
       "2       NaN        16.0            NaN  Адам П. Калтраро   \n",
       "3       NaN        16.0            NaN         Эндрю Хэй   \n",
       "4       NaN        12.0       Ленфильм  Виктор Садовский   \n",
       "5       NaN        16.0            NaN      Юрий Грубник   \n",
       "6       NaN         6.0            NaN     Александр Роу   \n",
       "7       NaN         6.0  Sony Pictures        Ричард Рич   \n",
       "8       NaN        16.0            NaN     Асгар Фархади   \n",
       "9       NaN        12.0            NaN    Игорь Мужжухин   \n",
       "\n",
       "                                              actors  \\\n",
       "0  Адольфо Фернандес, Ана Фернандес, Дарио Гранди...   \n",
       "1  Адам Палли, Брайан Хаски, Дж.Б. Смув, Джейсон ...   \n",
       "2  Адриан Холмс, Даррен Шалави, Джерри Вассерман,...   \n",
       "3  Александра Риддлстон-Барретт, Джеральдин Джейм...   \n",
       "4  Александр Абдулов, Александр Демьяненко, Алекс...   \n",
       "5  Алексей Воронин, Алексей Мурашов, Алена Алинин...   \n",
       "6  Александр Баранов, Александр Хвыля, Анатолий К...   \n",
       "7  Брайан Ниссен, Гарднер Джаэс, Грант Дураззо, Д...   \n",
       "8  Барбара Ленни, Инма Куэста, Карла Кампра, Пене...   \n",
       "9  Александр Асташенок, Александр Пашков, Андрей ...   \n",
       "\n",
       "                                         description  \\\n",
       "0  Мелодрама легендарного Педро Альмодовара «Пого...   \n",
       "1  Уморительная современная комедия на популярную...   \n",
       "2  Профессиональный рестлер Стив Остин («Все или ...   \n",
       "3  Шарлотта Рэмплинг, Том Кортни, Джеральдин Джей...   \n",
       "4  Расчетливая чаровница из советского кинохита «...   \n",
       "5  Авторский фильм молодого режиссера Юрия Грубни...   \n",
       "6  Два прославленных советских сказочника – писат...   \n",
       "7  Анимационная сказка о непоседливой принцессе Э...   \n",
       "8  Испанка Лаура, давно переехавшая в Буэнос-Айре...   \n",
       "9  Екатерина Рябова, Александр Асташенок и Алекса...   \n",
       "\n",
       "                                            keywords  \n",
       "0  Поговори, ней, 2002, Испания, друзья, любовь, ...  \n",
       "1  Голые, перцы, 2014, США, друзья, свадьбы, прео...  \n",
       "2  Тактическая, сила, 2011, Канада, бандиты, ганг...  \n",
       "3  45, лет, 2015, Великобритания, брак, жизнь, лю...  \n",
       "4  Все, решает, мгновение, 1978, СССР, сильные, ж...  \n",
       "5  Северо-Юг, 2015, Россия, бандиты, гангстеры, б...  \n",
       "6  Марья-искусница, 1960, СССР, преодоление, труд...  \n",
       "7  Принцесса, Лебедь, Пират, или, принцесса, 2016...  \n",
       "8  Лабиринты, прошлого, 2018, Испания, семейные, ...  \n",
       "9  Третья, попытка, 2013, Россия, любовь, измена,...  "
      ]
     },
     "execution_count": 10,
     "metadata": {},
     "output_type": "execute_result"
    }
   ],
   "source": [
    "item_df.head(10)"
   ]
  },
  {
   "cell_type": "code",
   "execution_count": 11,
   "id": "c9c390d4",
   "metadata": {
    "execution": {
     "iopub.execute_input": "2022-12-12T05:33:27.779010Z",
     "iopub.status.busy": "2022-12-12T05:33:27.778675Z",
     "iopub.status.idle": "2022-12-12T05:33:27.790416Z",
     "shell.execute_reply": "2022-12-12T05:33:27.789483Z"
    },
    "papermill": {
     "duration": 0.03217,
     "end_time": "2022-12-12T05:33:27.792678",
     "exception": false,
     "start_time": "2022-12-12T05:33:27.760508",
     "status": "completed"
    },
    "tags": []
   },
   "outputs": [
    {
     "data": {
      "text/html": [
       "<div>\n",
       "<style scoped>\n",
       "    .dataframe tbody tr th:only-of-type {\n",
       "        vertical-align: middle;\n",
       "    }\n",
       "\n",
       "    .dataframe tbody tr th {\n",
       "        vertical-align: top;\n",
       "    }\n",
       "\n",
       "    .dataframe thead th {\n",
       "        text-align: right;\n",
       "    }\n",
       "</style>\n",
       "<table border=\"1\" class=\"dataframe\">\n",
       "  <thead>\n",
       "    <tr style=\"text-align: right;\">\n",
       "      <th></th>\n",
       "      <th>user_id</th>\n",
       "      <th>age</th>\n",
       "      <th>income</th>\n",
       "      <th>sex</th>\n",
       "      <th>kids_flg</th>\n",
       "    </tr>\n",
       "  </thead>\n",
       "  <tbody>\n",
       "    <tr>\n",
       "      <th>0</th>\n",
       "      <td>973171</td>\n",
       "      <td>age_25_34</td>\n",
       "      <td>income_60_90</td>\n",
       "      <td>М</td>\n",
       "      <td>1</td>\n",
       "    </tr>\n",
       "    <tr>\n",
       "      <th>1</th>\n",
       "      <td>962099</td>\n",
       "      <td>age_18_24</td>\n",
       "      <td>income_20_40</td>\n",
       "      <td>М</td>\n",
       "      <td>0</td>\n",
       "    </tr>\n",
       "    <tr>\n",
       "      <th>2</th>\n",
       "      <td>1047345</td>\n",
       "      <td>age_45_54</td>\n",
       "      <td>income_40_60</td>\n",
       "      <td>Ж</td>\n",
       "      <td>0</td>\n",
       "    </tr>\n",
       "    <tr>\n",
       "      <th>3</th>\n",
       "      <td>721985</td>\n",
       "      <td>age_45_54</td>\n",
       "      <td>income_20_40</td>\n",
       "      <td>Ж</td>\n",
       "      <td>0</td>\n",
       "    </tr>\n",
       "    <tr>\n",
       "      <th>4</th>\n",
       "      <td>704055</td>\n",
       "      <td>age_35_44</td>\n",
       "      <td>income_60_90</td>\n",
       "      <td>Ж</td>\n",
       "      <td>0</td>\n",
       "    </tr>\n",
       "    <tr>\n",
       "      <th>5</th>\n",
       "      <td>1037719</td>\n",
       "      <td>age_45_54</td>\n",
       "      <td>income_60_90</td>\n",
       "      <td>М</td>\n",
       "      <td>0</td>\n",
       "    </tr>\n",
       "    <tr>\n",
       "      <th>6</th>\n",
       "      <td>391756</td>\n",
       "      <td>age_25_34</td>\n",
       "      <td>income_0_20</td>\n",
       "      <td>М</td>\n",
       "      <td>0</td>\n",
       "    </tr>\n",
       "    <tr>\n",
       "      <th>7</th>\n",
       "      <td>15878</td>\n",
       "      <td>age_25_34</td>\n",
       "      <td>income_40_60</td>\n",
       "      <td>М</td>\n",
       "      <td>1</td>\n",
       "    </tr>\n",
       "    <tr>\n",
       "      <th>8</th>\n",
       "      <td>846063</td>\n",
       "      <td>age_35_44</td>\n",
       "      <td>income_40_60</td>\n",
       "      <td>Ж</td>\n",
       "      <td>1</td>\n",
       "    </tr>\n",
       "    <tr>\n",
       "      <th>9</th>\n",
       "      <td>401219</td>\n",
       "      <td>age_35_44</td>\n",
       "      <td>income_40_60</td>\n",
       "      <td>Ж</td>\n",
       "      <td>0</td>\n",
       "    </tr>\n",
       "  </tbody>\n",
       "</table>\n",
       "</div>"
      ],
      "text/plain": [
       "   user_id        age        income sex  kids_flg\n",
       "0   973171  age_25_34  income_60_90   М         1\n",
       "1   962099  age_18_24  income_20_40   М         0\n",
       "2  1047345  age_45_54  income_40_60   Ж         0\n",
       "3   721985  age_45_54  income_20_40   Ж         0\n",
       "4   704055  age_35_44  income_60_90   Ж         0\n",
       "5  1037719  age_45_54  income_60_90   М         0\n",
       "6   391756  age_25_34   income_0_20   М         0\n",
       "7    15878  age_25_34  income_40_60   М         1\n",
       "8   846063  age_35_44  income_40_60   Ж         1\n",
       "9   401219  age_35_44  income_40_60   Ж         0"
      ]
     },
     "execution_count": 11,
     "metadata": {},
     "output_type": "execute_result"
    }
   ],
   "source": [
    "user_df.head(10)"
   ]
  },
  {
   "cell_type": "code",
   "execution_count": 12,
   "id": "090ed4c5",
   "metadata": {
    "execution": {
     "iopub.execute_input": "2022-12-12T05:33:27.826285Z",
     "iopub.status.busy": "2022-12-12T05:33:27.825890Z",
     "iopub.status.idle": "2022-12-12T05:33:28.262286Z",
     "shell.execute_reply": "2022-12-12T05:33:28.261087Z"
    },
    "papermill": {
     "duration": 0.456997,
     "end_time": "2022-12-12T05:33:28.265630",
     "exception": false,
     "start_time": "2022-12-12T05:33:27.808633",
     "status": "completed"
    },
    "tags": []
   },
   "outputs": [
    {
     "name": "stdout",
     "output_type": "stream",
     "text": [
      "Размерность трейна : (4985269, 5)\n",
      "Размерность теста: (490982, 5)\n"
     ]
    }
   ],
   "source": [
    "# формируем трейновый и тестовый датасет\n",
    "\n",
    "last_date = inter_df[Columns.Datetime].max().normalize()\n",
    "\n",
    "train = inter_df[inter_df[Columns.Datetime] < last_date - pd.Timedelta(days=7)].copy()\n",
    "test = inter_df[inter_df[Columns.Datetime] >= last_date - pd.Timedelta(days=7)].copy()\n",
    "\n",
    "print(f\"Размерность трейна : {train.shape}\")\n",
    "print(f\"Размерность теста: {test.shape}\")"
   ]
  },
  {
   "cell_type": "code",
   "execution_count": 13,
   "id": "4ef1ac36",
   "metadata": {
    "execution": {
     "iopub.execute_input": "2022-12-12T05:33:28.301253Z",
     "iopub.status.busy": "2022-12-12T05:33:28.299340Z",
     "iopub.status.idle": "2022-12-12T05:33:29.819912Z",
     "shell.execute_reply": "2022-12-12T05:33:29.818498Z"
    },
    "papermill": {
     "duration": 1.541053,
     "end_time": "2022-12-12T05:33:29.822989",
     "exception": false,
     "start_time": "2022-12-12T05:33:28.281936",
     "status": "completed"
    },
    "tags": []
   },
   "outputs": [],
   "source": [
    "# убираем холодных пользователей из теста\n",
    "\n",
    "cold_users = set(test[Columns.User]) - set(train[Columns.User])\n",
    "test.drop(test[test[Columns.User].isin(cold_users)].index, inplace=True)"
   ]
  },
  {
   "cell_type": "code",
   "execution_count": 14,
   "id": "667a03ad",
   "metadata": {
    "execution": {
     "iopub.execute_input": "2022-12-12T05:33:29.857229Z",
     "iopub.status.busy": "2022-12-12T05:33:29.856849Z",
     "iopub.status.idle": "2022-12-12T05:33:29.951570Z",
     "shell.execute_reply": "2022-12-12T05:33:29.949833Z"
    },
    "papermill": {
     "duration": 0.114978,
     "end_time": "2022-12-12T05:33:29.954484",
     "exception": false,
     "start_time": "2022-12-12T05:33:29.839506",
     "status": "completed"
    },
    "tags": []
   },
   "outputs": [
    {
     "name": "stdout",
     "output_type": "stream",
     "text": [
      "user_id         0\n",
      "age         14095\n",
      "income      14776\n",
      "sex         13831\n",
      "kids_flg        0\n",
      "dtype: int64\n"
     ]
    }
   ],
   "source": [
    "print(user_df.isna().sum())"
   ]
  },
  {
   "cell_type": "code",
   "execution_count": 15,
   "id": "b49dc726",
   "metadata": {
    "execution": {
     "iopub.execute_input": "2022-12-12T05:33:29.989351Z",
     "iopub.status.busy": "2022-12-12T05:33:29.988964Z",
     "iopub.status.idle": "2022-12-12T05:33:30.450899Z",
     "shell.execute_reply": "2022-12-12T05:33:30.449805Z"
    },
    "papermill": {
     "duration": 0.481442,
     "end_time": "2022-12-12T05:33:30.453238",
     "exception": false,
     "start_time": "2022-12-12T05:33:29.971796",
     "status": "completed"
    },
    "tags": []
   },
   "outputs": [
    {
     "data": {
      "text/html": [
       "<div>\n",
       "<style scoped>\n",
       "    .dataframe tbody tr th:only-of-type {\n",
       "        vertical-align: middle;\n",
       "    }\n",
       "\n",
       "    .dataframe tbody tr th {\n",
       "        vertical-align: top;\n",
       "    }\n",
       "\n",
       "    .dataframe thead th {\n",
       "        text-align: right;\n",
       "    }\n",
       "</style>\n",
       "<table border=\"1\" class=\"dataframe\">\n",
       "  <thead>\n",
       "    <tr style=\"text-align: right;\">\n",
       "      <th></th>\n",
       "      <th>user_id</th>\n",
       "      <th>age</th>\n",
       "      <th>income</th>\n",
       "      <th>sex</th>\n",
       "      <th>kids_flg</th>\n",
       "    </tr>\n",
       "  </thead>\n",
       "  <tbody>\n",
       "    <tr>\n",
       "      <th>0</th>\n",
       "      <td>973171</td>\n",
       "      <td>age_25_34</td>\n",
       "      <td>income_60_90</td>\n",
       "      <td>М</td>\n",
       "      <td>1</td>\n",
       "    </tr>\n",
       "    <tr>\n",
       "      <th>1</th>\n",
       "      <td>962099</td>\n",
       "      <td>age_18_24</td>\n",
       "      <td>income_20_40</td>\n",
       "      <td>М</td>\n",
       "      <td>0</td>\n",
       "    </tr>\n",
       "    <tr>\n",
       "      <th>3</th>\n",
       "      <td>721985</td>\n",
       "      <td>age_45_54</td>\n",
       "      <td>income_20_40</td>\n",
       "      <td>Ж</td>\n",
       "      <td>0</td>\n",
       "    </tr>\n",
       "    <tr>\n",
       "      <th>4</th>\n",
       "      <td>704055</td>\n",
       "      <td>age_35_44</td>\n",
       "      <td>income_60_90</td>\n",
       "      <td>Ж</td>\n",
       "      <td>0</td>\n",
       "    </tr>\n",
       "    <tr>\n",
       "      <th>5</th>\n",
       "      <td>1037719</td>\n",
       "      <td>age_45_54</td>\n",
       "      <td>income_60_90</td>\n",
       "      <td>М</td>\n",
       "      <td>0</td>\n",
       "    </tr>\n",
       "  </tbody>\n",
       "</table>\n",
       "</div>"
      ],
      "text/plain": [
       "   user_id        age        income sex  kids_flg\n",
       "0   973171  age_25_34  income_60_90   М         1\n",
       "1   962099  age_18_24  income_20_40   М         0\n",
       "3   721985  age_45_54  income_20_40   Ж         0\n",
       "4   704055  age_35_44  income_60_90   Ж         0\n",
       "5  1037719  age_45_54  income_60_90   М         0"
      ]
     },
     "execution_count": 15,
     "metadata": {},
     "output_type": "execute_result"
    }
   ],
   "source": [
    "# заполняем пустые значения\n",
    "\n",
    "user_df.fillna('Unknown', inplace=True)\n",
    "user_df = user_df.loc[user_df[Columns.User].isin(train[Columns.User])].copy()\n",
    "user_df.head()"
   ]
  },
  {
   "cell_type": "code",
   "execution_count": 16,
   "id": "6f10ba89",
   "metadata": {
    "execution": {
     "iopub.execute_input": "2022-12-12T05:33:30.485593Z",
     "iopub.status.busy": "2022-12-12T05:33:30.485238Z",
     "iopub.status.idle": "2022-12-12T05:33:30.602689Z",
     "shell.execute_reply": "2022-12-12T05:33:30.601433Z"
    },
    "papermill": {
     "duration": 0.137948,
     "end_time": "2022-12-12T05:33:30.605909",
     "exception": false,
     "start_time": "2022-12-12T05:33:30.467961",
     "status": "completed"
    },
    "tags": []
   },
   "outputs": [
    {
     "data": {
      "text/html": [
       "<div>\n",
       "<style scoped>\n",
       "    .dataframe tbody tr th:only-of-type {\n",
       "        vertical-align: middle;\n",
       "    }\n",
       "\n",
       "    .dataframe tbody tr th {\n",
       "        vertical-align: top;\n",
       "    }\n",
       "\n",
       "    .dataframe thead th {\n",
       "        text-align: right;\n",
       "    }\n",
       "</style>\n",
       "<table border=\"1\" class=\"dataframe\">\n",
       "  <thead>\n",
       "    <tr style=\"text-align: right;\">\n",
       "      <th></th>\n",
       "      <th>id</th>\n",
       "      <th>value</th>\n",
       "      <th>feature</th>\n",
       "    </tr>\n",
       "  </thead>\n",
       "  <tbody>\n",
       "    <tr>\n",
       "      <th>0</th>\n",
       "      <td>973171</td>\n",
       "      <td>age_25_34</td>\n",
       "      <td>age</td>\n",
       "    </tr>\n",
       "    <tr>\n",
       "      <th>1</th>\n",
       "      <td>962099</td>\n",
       "      <td>age_18_24</td>\n",
       "      <td>age</td>\n",
       "    </tr>\n",
       "    <tr>\n",
       "      <th>3</th>\n",
       "      <td>721985</td>\n",
       "      <td>age_45_54</td>\n",
       "      <td>age</td>\n",
       "    </tr>\n",
       "    <tr>\n",
       "      <th>4</th>\n",
       "      <td>704055</td>\n",
       "      <td>age_35_44</td>\n",
       "      <td>age</td>\n",
       "    </tr>\n",
       "    <tr>\n",
       "      <th>5</th>\n",
       "      <td>1037719</td>\n",
       "      <td>age_45_54</td>\n",
       "      <td>age</td>\n",
       "    </tr>\n",
       "  </tbody>\n",
       "</table>\n",
       "</div>"
      ],
      "text/plain": [
       "        id      value feature\n",
       "0   973171  age_25_34     age\n",
       "1   962099  age_18_24     age\n",
       "3   721985  age_45_54     age\n",
       "4   704055  age_35_44     age\n",
       "5  1037719  age_45_54     age"
      ]
     },
     "execution_count": 16,
     "metadata": {},
     "output_type": "execute_result"
    }
   ],
   "source": [
    "# извлекаем возраст, пол и доход пользователей\n",
    "\n",
    "user_features_frames = []\n",
    "for feature in [\"age\", \"sex\", \"income\"]:\n",
    "    feature_frame = user_df.reindex(columns=[Columns.User, feature])\n",
    "    feature_frame.columns = [\"id\", \"value\"]\n",
    "    feature_frame[\"feature\"] = feature\n",
    "    user_features_frames.append(feature_frame)\n",
    "user_features = pd.concat(user_features_frames)\n",
    "user_features.head()"
   ]
  },
  {
   "cell_type": "code",
   "execution_count": 17,
   "id": "f779e9fd",
   "metadata": {
    "execution": {
     "iopub.execute_input": "2022-12-12T05:33:30.637330Z",
     "iopub.status.busy": "2022-12-12T05:33:30.637015Z",
     "iopub.status.idle": "2022-12-12T05:33:30.718103Z",
     "shell.execute_reply": "2022-12-12T05:33:30.716850Z"
    },
    "papermill": {
     "duration": 0.099367,
     "end_time": "2022-12-12T05:33:30.720590",
     "exception": false,
     "start_time": "2022-12-12T05:33:30.621223",
     "status": "completed"
    },
    "tags": []
   },
   "outputs": [
    {
     "data": {
      "text/html": [
       "<div>\n",
       "<style scoped>\n",
       "    .dataframe tbody tr th:only-of-type {\n",
       "        vertical-align: middle;\n",
       "    }\n",
       "\n",
       "    .dataframe tbody tr th {\n",
       "        vertical-align: top;\n",
       "    }\n",
       "\n",
       "    .dataframe thead th {\n",
       "        text-align: right;\n",
       "    }\n",
       "</style>\n",
       "<table border=\"1\" class=\"dataframe\">\n",
       "  <thead>\n",
       "    <tr style=\"text-align: right;\">\n",
       "      <th></th>\n",
       "      <th>item_id</th>\n",
       "      <th>content_type</th>\n",
       "      <th>title</th>\n",
       "      <th>title_orig</th>\n",
       "      <th>release_year</th>\n",
       "      <th>genres</th>\n",
       "      <th>countries</th>\n",
       "      <th>for_kids</th>\n",
       "      <th>age_rating</th>\n",
       "      <th>studios</th>\n",
       "      <th>directors</th>\n",
       "      <th>actors</th>\n",
       "      <th>description</th>\n",
       "      <th>keywords</th>\n",
       "    </tr>\n",
       "  </thead>\n",
       "  <tbody>\n",
       "    <tr>\n",
       "      <th>0</th>\n",
       "      <td>10711</td>\n",
       "      <td>film</td>\n",
       "      <td>Поговори с ней</td>\n",
       "      <td>Hable con ella</td>\n",
       "      <td>2002.0</td>\n",
       "      <td>драмы, зарубежные, детективы, мелодрамы</td>\n",
       "      <td>Испания</td>\n",
       "      <td>NaN</td>\n",
       "      <td>16.0</td>\n",
       "      <td>NaN</td>\n",
       "      <td>Педро Альмодовар</td>\n",
       "      <td>Адольфо Фернандес, Ана Фернандес, Дарио Гранди...</td>\n",
       "      <td>Мелодрама легендарного Педро Альмодовара «Пого...</td>\n",
       "      <td>Поговори, ней, 2002, Испания, друзья, любовь, ...</td>\n",
       "    </tr>\n",
       "    <tr>\n",
       "      <th>1</th>\n",
       "      <td>2508</td>\n",
       "      <td>film</td>\n",
       "      <td>Голые перцы</td>\n",
       "      <td>Search Party</td>\n",
       "      <td>2014.0</td>\n",
       "      <td>зарубежные, приключения, комедии</td>\n",
       "      <td>США</td>\n",
       "      <td>NaN</td>\n",
       "      <td>16.0</td>\n",
       "      <td>NaN</td>\n",
       "      <td>Скот Армстронг</td>\n",
       "      <td>Адам Палли, Брайан Хаски, Дж.Б. Смув, Джейсон ...</td>\n",
       "      <td>Уморительная современная комедия на популярную...</td>\n",
       "      <td>Голые, перцы, 2014, США, друзья, свадьбы, прео...</td>\n",
       "    </tr>\n",
       "    <tr>\n",
       "      <th>2</th>\n",
       "      <td>10716</td>\n",
       "      <td>film</td>\n",
       "      <td>Тактическая сила</td>\n",
       "      <td>Tactical Force</td>\n",
       "      <td>2011.0</td>\n",
       "      <td>криминал, зарубежные, триллеры, боевики, комедии</td>\n",
       "      <td>Канада</td>\n",
       "      <td>NaN</td>\n",
       "      <td>16.0</td>\n",
       "      <td>NaN</td>\n",
       "      <td>Адам П. Калтраро</td>\n",
       "      <td>Адриан Холмс, Даррен Шалави, Джерри Вассерман,...</td>\n",
       "      <td>Профессиональный рестлер Стив Остин («Все или ...</td>\n",
       "      <td>Тактическая, сила, 2011, Канада, бандиты, ганг...</td>\n",
       "    </tr>\n",
       "    <tr>\n",
       "      <th>3</th>\n",
       "      <td>7868</td>\n",
       "      <td>film</td>\n",
       "      <td>45 лет</td>\n",
       "      <td>45 Years</td>\n",
       "      <td>2015.0</td>\n",
       "      <td>драмы, зарубежные, мелодрамы</td>\n",
       "      <td>Великобритания</td>\n",
       "      <td>NaN</td>\n",
       "      <td>16.0</td>\n",
       "      <td>NaN</td>\n",
       "      <td>Эндрю Хэй</td>\n",
       "      <td>Александра Риддлстон-Барретт, Джеральдин Джейм...</td>\n",
       "      <td>Шарлотта Рэмплинг, Том Кортни, Джеральдин Джей...</td>\n",
       "      <td>45, лет, 2015, Великобритания, брак, жизнь, лю...</td>\n",
       "    </tr>\n",
       "    <tr>\n",
       "      <th>4</th>\n",
       "      <td>16268</td>\n",
       "      <td>film</td>\n",
       "      <td>Все решает мгновение</td>\n",
       "      <td>NaN</td>\n",
       "      <td>1978.0</td>\n",
       "      <td>драмы, спорт, советские, мелодрамы</td>\n",
       "      <td>СССР</td>\n",
       "      <td>NaN</td>\n",
       "      <td>12.0</td>\n",
       "      <td>Ленфильм</td>\n",
       "      <td>Виктор Садовский</td>\n",
       "      <td>Александр Абдулов, Александр Демьяненко, Алекс...</td>\n",
       "      <td>Расчетливая чаровница из советского кинохита «...</td>\n",
       "      <td>Все, решает, мгновение, 1978, СССР, сильные, ж...</td>\n",
       "    </tr>\n",
       "  </tbody>\n",
       "</table>\n",
       "</div>"
      ],
      "text/plain": [
       "   item_id content_type                 title      title_orig  release_year  \\\n",
       "0    10711         film        Поговори с ней  Hable con ella        2002.0   \n",
       "1     2508         film           Голые перцы    Search Party        2014.0   \n",
       "2    10716         film      Тактическая сила  Tactical Force        2011.0   \n",
       "3     7868         film                45 лет        45 Years        2015.0   \n",
       "4    16268         film  Все решает мгновение             NaN        1978.0   \n",
       "\n",
       "                                             genres       countries  for_kids  \\\n",
       "0           драмы, зарубежные, детективы, мелодрамы         Испания       NaN   \n",
       "1                  зарубежные, приключения, комедии             США       NaN   \n",
       "2  криминал, зарубежные, триллеры, боевики, комедии          Канада       NaN   \n",
       "3                      драмы, зарубежные, мелодрамы  Великобритания       NaN   \n",
       "4                драмы, спорт, советские, мелодрамы            СССР       NaN   \n",
       "\n",
       "   age_rating   studios         directors  \\\n",
       "0        16.0       NaN  Педро Альмодовар   \n",
       "1        16.0       NaN    Скот Армстронг   \n",
       "2        16.0       NaN  Адам П. Калтраро   \n",
       "3        16.0       NaN         Эндрю Хэй   \n",
       "4        12.0  Ленфильм  Виктор Садовский   \n",
       "\n",
       "                                              actors  \\\n",
       "0  Адольфо Фернандес, Ана Фернандес, Дарио Гранди...   \n",
       "1  Адам Палли, Брайан Хаски, Дж.Б. Смув, Джейсон ...   \n",
       "2  Адриан Холмс, Даррен Шалави, Джерри Вассерман,...   \n",
       "3  Александра Риддлстон-Барретт, Джеральдин Джейм...   \n",
       "4  Александр Абдулов, Александр Демьяненко, Алекс...   \n",
       "\n",
       "                                         description  \\\n",
       "0  Мелодрама легендарного Педро Альмодовара «Пого...   \n",
       "1  Уморительная современная комедия на популярную...   \n",
       "2  Профессиональный рестлер Стив Остин («Все или ...   \n",
       "3  Шарлотта Рэмплинг, Том Кортни, Джеральдин Джей...   \n",
       "4  Расчетливая чаровница из советского кинохита «...   \n",
       "\n",
       "                                            keywords  \n",
       "0  Поговори, ней, 2002, Испания, друзья, любовь, ...  \n",
       "1  Голые, перцы, 2014, США, друзья, свадьбы, прео...  \n",
       "2  Тактическая, сила, 2011, Канада, бандиты, ганг...  \n",
       "3  45, лет, 2015, Великобритания, брак, жизнь, лю...  \n",
       "4  Все, решает, мгновение, 1978, СССР, сильные, ж...  "
      ]
     },
     "execution_count": 17,
     "metadata": {},
     "output_type": "execute_result"
    }
   ],
   "source": [
    "item_df = item_df.loc[item_df[Columns.Item].isin(train[Columns.Item])].copy()\n",
    "item_df.head()"
   ]
  },
  {
   "cell_type": "code",
   "execution_count": 18,
   "id": "c7cbfcb8",
   "metadata": {
    "execution": {
     "iopub.execute_input": "2022-12-12T05:33:30.756242Z",
     "iopub.status.busy": "2022-12-12T05:33:30.755439Z",
     "iopub.status.idle": "2022-12-12T05:33:30.763452Z",
     "shell.execute_reply": "2022-12-12T05:33:30.762250Z"
    },
    "papermill": {
     "duration": 0.027035,
     "end_time": "2022-12-12T05:33:30.765873",
     "exception": false,
     "start_time": "2022-12-12T05:33:30.738838",
     "status": "completed"
    },
    "tags": []
   },
   "outputs": [
    {
     "name": "stdout",
     "output_type": "stream",
     "text": [
      "['film' 'series']\n"
     ]
    }
   ],
   "source": [
    "# определяем тип контента\n",
    "\n",
    "print(item_df.content_type.unique())"
   ]
  },
  {
   "cell_type": "code",
   "execution_count": 19,
   "id": "4d72e350",
   "metadata": {
    "execution": {
     "iopub.execute_input": "2022-12-12T05:33:30.799663Z",
     "iopub.status.busy": "2022-12-12T05:33:30.798719Z",
     "iopub.status.idle": "2022-12-12T05:33:30.873069Z",
     "shell.execute_reply": "2022-12-12T05:33:30.871799Z"
    },
    "papermill": {
     "duration": 0.09441,
     "end_time": "2022-12-12T05:33:30.875653",
     "exception": false,
     "start_time": "2022-12-12T05:33:30.781243",
     "status": "completed"
    },
    "tags": []
   },
   "outputs": [
    {
     "data": {
      "text/html": [
       "<div>\n",
       "<style scoped>\n",
       "    .dataframe tbody tr th:only-of-type {\n",
       "        vertical-align: middle;\n",
       "    }\n",
       "\n",
       "    .dataframe tbody tr th {\n",
       "        vertical-align: top;\n",
       "    }\n",
       "\n",
       "    .dataframe thead th {\n",
       "        text-align: right;\n",
       "    }\n",
       "</style>\n",
       "<table border=\"1\" class=\"dataframe\">\n",
       "  <thead>\n",
       "    <tr style=\"text-align: right;\">\n",
       "      <th></th>\n",
       "      <th>id</th>\n",
       "      <th>value</th>\n",
       "      <th>feature</th>\n",
       "    </tr>\n",
       "  </thead>\n",
       "  <tbody>\n",
       "    <tr>\n",
       "      <th>0</th>\n",
       "      <td>10711</td>\n",
       "      <td>драмы</td>\n",
       "      <td>genre</td>\n",
       "    </tr>\n",
       "    <tr>\n",
       "      <th>0</th>\n",
       "      <td>10711</td>\n",
       "      <td>зарубежные</td>\n",
       "      <td>genre</td>\n",
       "    </tr>\n",
       "    <tr>\n",
       "      <th>0</th>\n",
       "      <td>10711</td>\n",
       "      <td>детективы</td>\n",
       "      <td>genre</td>\n",
       "    </tr>\n",
       "    <tr>\n",
       "      <th>0</th>\n",
       "      <td>10711</td>\n",
       "      <td>мелодрамы</td>\n",
       "      <td>genre</td>\n",
       "    </tr>\n",
       "    <tr>\n",
       "      <th>1</th>\n",
       "      <td>2508</td>\n",
       "      <td>зарубежные</td>\n",
       "      <td>genre</td>\n",
       "    </tr>\n",
       "  </tbody>\n",
       "</table>\n",
       "</div>"
      ],
      "text/plain": [
       "      id       value feature\n",
       "0  10711       драмы   genre\n",
       "0  10711  зарубежные   genre\n",
       "0  10711   детективы   genre\n",
       "0  10711   мелодрамы   genre\n",
       "1   2508  зарубежные   genre"
      ]
     },
     "execution_count": 19,
     "metadata": {},
     "output_type": "execute_result"
    }
   ],
   "source": [
    "# извлекаем жанры для каждого фильма и сериала\n",
    "\n",
    "item_df[\"genre\"] = item_df[\"genres\"].str.lower().str.replace(\", \", \",\", regex=False).str.split(\",\")\n",
    "genre_feature = item_df[[\"item_id\", \"genre\"]].explode(\"genre\")\n",
    "genre_feature.columns = [\"id\", \"value\"]\n",
    "genre_feature[\"feature\"] = \"genre\"\n",
    "genre_feature.head()"
   ]
  },
  {
   "cell_type": "code",
   "execution_count": 20,
   "id": "db821596",
   "metadata": {
    "execution": {
     "iopub.execute_input": "2022-12-12T05:33:30.912020Z",
     "iopub.status.busy": "2022-12-12T05:33:30.911527Z",
     "iopub.status.idle": "2022-12-12T05:33:30.925550Z",
     "shell.execute_reply": "2022-12-12T05:33:30.924401Z"
    },
    "papermill": {
     "duration": 0.034698,
     "end_time": "2022-12-12T05:33:30.927537",
     "exception": false,
     "start_time": "2022-12-12T05:33:30.892839",
     "status": "completed"
    },
    "tags": []
   },
   "outputs": [
    {
     "data": {
      "text/html": [
       "<div>\n",
       "<style scoped>\n",
       "    .dataframe tbody tr th:only-of-type {\n",
       "        vertical-align: middle;\n",
       "    }\n",
       "\n",
       "    .dataframe tbody tr th {\n",
       "        vertical-align: top;\n",
       "    }\n",
       "\n",
       "    .dataframe thead th {\n",
       "        text-align: right;\n",
       "    }\n",
       "</style>\n",
       "<table border=\"1\" class=\"dataframe\">\n",
       "  <thead>\n",
       "    <tr style=\"text-align: right;\">\n",
       "      <th></th>\n",
       "      <th>id</th>\n",
       "      <th>value</th>\n",
       "      <th>feature</th>\n",
       "    </tr>\n",
       "  </thead>\n",
       "  <tbody>\n",
       "    <tr>\n",
       "      <th>0</th>\n",
       "      <td>10711</td>\n",
       "      <td>film</td>\n",
       "      <td>content_type</td>\n",
       "    </tr>\n",
       "    <tr>\n",
       "      <th>1</th>\n",
       "      <td>2508</td>\n",
       "      <td>film</td>\n",
       "      <td>content_type</td>\n",
       "    </tr>\n",
       "    <tr>\n",
       "      <th>2</th>\n",
       "      <td>10716</td>\n",
       "      <td>film</td>\n",
       "      <td>content_type</td>\n",
       "    </tr>\n",
       "    <tr>\n",
       "      <th>3</th>\n",
       "      <td>7868</td>\n",
       "      <td>film</td>\n",
       "      <td>content_type</td>\n",
       "    </tr>\n",
       "    <tr>\n",
       "      <th>4</th>\n",
       "      <td>16268</td>\n",
       "      <td>film</td>\n",
       "      <td>content_type</td>\n",
       "    </tr>\n",
       "  </tbody>\n",
       "</table>\n",
       "</div>"
      ],
      "text/plain": [
       "      id value       feature\n",
       "0  10711  film  content_type\n",
       "1   2508  film  content_type\n",
       "2  10716  film  content_type\n",
       "3   7868  film  content_type\n",
       "4  16268  film  content_type"
      ]
     },
     "execution_count": 20,
     "metadata": {},
     "output_type": "execute_result"
    }
   ],
   "source": [
    "# извлекаем тип контента для каждого айтема\n",
    "\n",
    "content_feature = item_df.reindex(columns=[Columns.Item, \"content_type\"])\n",
    "content_feature.columns = [\"id\", \"value\"]\n",
    "content_feature[\"feature\"] = \"content_type\"\n",
    "content_feature.head()"
   ]
  },
  {
   "cell_type": "code",
   "execution_count": 21,
   "id": "fc71bece",
   "metadata": {
    "execution": {
     "iopub.execute_input": "2022-12-12T05:33:30.960685Z",
     "iopub.status.busy": "2022-12-12T05:33:30.960357Z",
     "iopub.status.idle": "2022-12-12T05:33:30.979230Z",
     "shell.execute_reply": "2022-12-12T05:33:30.977975Z"
    },
    "papermill": {
     "duration": 0.038332,
     "end_time": "2022-12-12T05:33:30.981890",
     "exception": false,
     "start_time": "2022-12-12T05:33:30.943558",
     "status": "completed"
    },
    "tags": []
   },
   "outputs": [
    {
     "data": {
      "text/html": [
       "<div>\n",
       "<style scoped>\n",
       "    .dataframe tbody tr th:only-of-type {\n",
       "        vertical-align: middle;\n",
       "    }\n",
       "\n",
       "    .dataframe tbody tr th {\n",
       "        vertical-align: top;\n",
       "    }\n",
       "\n",
       "    .dataframe thead th {\n",
       "        text-align: right;\n",
       "    }\n",
       "</style>\n",
       "<table border=\"1\" class=\"dataframe\">\n",
       "  <thead>\n",
       "    <tr style=\"text-align: right;\">\n",
       "      <th></th>\n",
       "      <th>id</th>\n",
       "      <th>value</th>\n",
       "      <th>feature</th>\n",
       "    </tr>\n",
       "  </thead>\n",
       "  <tbody>\n",
       "    <tr>\n",
       "      <th>0</th>\n",
       "      <td>10711</td>\n",
       "      <td>1</td>\n",
       "      <td>binned_r_year</td>\n",
       "    </tr>\n",
       "    <tr>\n",
       "      <th>1</th>\n",
       "      <td>2508</td>\n",
       "      <td>4</td>\n",
       "      <td>binned_r_year</td>\n",
       "    </tr>\n",
       "    <tr>\n",
       "      <th>2</th>\n",
       "      <td>10716</td>\n",
       "      <td>3</td>\n",
       "      <td>binned_r_year</td>\n",
       "    </tr>\n",
       "    <tr>\n",
       "      <th>3</th>\n",
       "      <td>7868</td>\n",
       "      <td>5</td>\n",
       "      <td>binned_r_year</td>\n",
       "    </tr>\n",
       "    <tr>\n",
       "      <th>4</th>\n",
       "      <td>16268</td>\n",
       "      <td>0</td>\n",
       "      <td>binned_r_year</td>\n",
       "    </tr>\n",
       "  </tbody>\n",
       "</table>\n",
       "</div>"
      ],
      "text/plain": [
       "      id value        feature\n",
       "0  10711     1  binned_r_year\n",
       "1   2508     4  binned_r_year\n",
       "2  10716     3  binned_r_year\n",
       "3   7868     5  binned_r_year\n",
       "4  16268     0  binned_r_year"
      ]
     },
     "execution_count": 21,
     "metadata": {},
     "output_type": "execute_result"
    }
   ],
   "source": [
    "# извлекаем квантиль года выпуска для каждого айтема\n",
    "\n",
    "item_df['binned_r_year'] = pd.qcut(item_df['release_year'], q=10, labels=list(range(10)))\n",
    "release_year_feature = item_df.reindex(columns=[Columns.Item, \"binned_r_year\"])\n",
    "release_year_feature.columns = [\"id\", \"value\"]\n",
    "release_year_feature[\"feature\"] = \"binned_r_year\"\n",
    "release_year_feature.head()"
   ]
  },
  {
   "cell_type": "code",
   "execution_count": 22,
   "id": "7ae62a73",
   "metadata": {
    "execution": {
     "iopub.execute_input": "2022-12-12T05:33:31.020133Z",
     "iopub.status.busy": "2022-12-12T05:33:31.019178Z",
     "iopub.status.idle": "2022-12-12T05:33:31.067410Z",
     "shell.execute_reply": "2022-12-12T05:33:31.066339Z"
    },
    "papermill": {
     "duration": 0.069376,
     "end_time": "2022-12-12T05:33:31.069882",
     "exception": false,
     "start_time": "2022-12-12T05:33:31.000506",
     "status": "completed"
    },
    "tags": []
   },
   "outputs": [
    {
     "data": {
      "text/html": [
       "<div>\n",
       "<style scoped>\n",
       "    .dataframe tbody tr th:only-of-type {\n",
       "        vertical-align: middle;\n",
       "    }\n",
       "\n",
       "    .dataframe tbody tr th {\n",
       "        vertical-align: top;\n",
       "    }\n",
       "\n",
       "    .dataframe thead th {\n",
       "        text-align: right;\n",
       "    }\n",
       "</style>\n",
       "<table border=\"1\" class=\"dataframe\">\n",
       "  <thead>\n",
       "    <tr style=\"text-align: right;\">\n",
       "      <th></th>\n",
       "      <th>id</th>\n",
       "      <th>value</th>\n",
       "      <th>feature</th>\n",
       "    </tr>\n",
       "  </thead>\n",
       "  <tbody>\n",
       "    <tr>\n",
       "      <th>0</th>\n",
       "      <td>10711</td>\n",
       "      <td>испания</td>\n",
       "      <td>country</td>\n",
       "    </tr>\n",
       "    <tr>\n",
       "      <th>1</th>\n",
       "      <td>2508</td>\n",
       "      <td>сша</td>\n",
       "      <td>country</td>\n",
       "    </tr>\n",
       "    <tr>\n",
       "      <th>2</th>\n",
       "      <td>10716</td>\n",
       "      <td>канада</td>\n",
       "      <td>country</td>\n",
       "    </tr>\n",
       "    <tr>\n",
       "      <th>3</th>\n",
       "      <td>7868</td>\n",
       "      <td>великобритания</td>\n",
       "      <td>country</td>\n",
       "    </tr>\n",
       "    <tr>\n",
       "      <th>4</th>\n",
       "      <td>16268</td>\n",
       "      <td>ссср</td>\n",
       "      <td>country</td>\n",
       "    </tr>\n",
       "  </tbody>\n",
       "</table>\n",
       "</div>"
      ],
      "text/plain": [
       "      id           value  feature\n",
       "0  10711         испания  country\n",
       "1   2508             сша  country\n",
       "2  10716          канада  country\n",
       "3   7868  великобритания  country\n",
       "4  16268            ссср  country"
      ]
     },
     "execution_count": 22,
     "metadata": {},
     "output_type": "execute_result"
    }
   ],
   "source": [
    "# извлекаем местоположение студии для каждого айтема\n",
    "\n",
    "item_df[\"country\"] = item_df[\"countries\"].str.lower().str.replace(\", \", \",\", regex=False).str.split(\",\")\n",
    "country_feature = item_df[[\"item_id\", \"country\"]].explode(\"country\")\n",
    "country_feature.columns = [\"id\", \"value\"]\n",
    "country_feature[\"feature\"] = \"country\"\n",
    "country_feature.head()"
   ]
  },
  {
   "cell_type": "code",
   "execution_count": 23,
   "id": "d3955fdd",
   "metadata": {
    "execution": {
     "iopub.execute_input": "2022-12-12T05:33:31.106002Z",
     "iopub.status.busy": "2022-12-12T05:33:31.105641Z",
     "iopub.status.idle": "2022-12-12T05:33:31.125947Z",
     "shell.execute_reply": "2022-12-12T05:33:31.124826Z"
    },
    "papermill": {
     "duration": 0.041635,
     "end_time": "2022-12-12T05:33:31.128322",
     "exception": false,
     "start_time": "2022-12-12T05:33:31.086687",
     "status": "completed"
    },
    "tags": []
   },
   "outputs": [
    {
     "data": {
      "text/html": [
       "<div>\n",
       "<style scoped>\n",
       "    .dataframe tbody tr th:only-of-type {\n",
       "        vertical-align: middle;\n",
       "    }\n",
       "\n",
       "    .dataframe tbody tr th {\n",
       "        vertical-align: top;\n",
       "    }\n",
       "\n",
       "    .dataframe thead th {\n",
       "        text-align: right;\n",
       "    }\n",
       "</style>\n",
       "<table border=\"1\" class=\"dataframe\">\n",
       "  <thead>\n",
       "    <tr style=\"text-align: right;\">\n",
       "      <th></th>\n",
       "      <th>id</th>\n",
       "      <th>value</th>\n",
       "      <th>feature</th>\n",
       "    </tr>\n",
       "  </thead>\n",
       "  <tbody>\n",
       "    <tr>\n",
       "      <th>4326</th>\n",
       "      <td>222</td>\n",
       "      <td>драмы</td>\n",
       "      <td>genre</td>\n",
       "    </tr>\n",
       "    <tr>\n",
       "      <th>4326</th>\n",
       "      <td>222</td>\n",
       "      <td>русские</td>\n",
       "      <td>genre</td>\n",
       "    </tr>\n",
       "    <tr>\n",
       "      <th>4326</th>\n",
       "      <td>222</td>\n",
       "      <td>film</td>\n",
       "      <td>content_type</td>\n",
       "    </tr>\n",
       "    <tr>\n",
       "      <th>4326</th>\n",
       "      <td>222</td>\n",
       "      <td>ссср</td>\n",
       "      <td>country</td>\n",
       "    </tr>\n",
       "    <tr>\n",
       "      <th>4326</th>\n",
       "      <td>222</td>\n",
       "      <td>0</td>\n",
       "      <td>binned_r_year</td>\n",
       "    </tr>\n",
       "  </tbody>\n",
       "</table>\n",
       "</div>"
      ],
      "text/plain": [
       "       id    value        feature\n",
       "4326  222    драмы          genre\n",
       "4326  222  русские          genre\n",
       "4326  222     film   content_type\n",
       "4326  222     ссср        country\n",
       "4326  222        0  binned_r_year"
      ]
     },
     "execution_count": 23,
     "metadata": {},
     "output_type": "execute_result"
    }
   ],
   "source": [
    "# конкатенируем таблицы с фичами и проверяем по рандомному id\n",
    "\n",
    "item_features = pd.concat((genre_feature, content_feature, country_feature, release_year_feature))\n",
    "item_features[item_features['id'] == 222]"
   ]
  },
  {
   "cell_type": "code",
   "execution_count": 24,
   "id": "d40b4308",
   "metadata": {
    "execution": {
     "iopub.execute_input": "2022-12-12T05:33:31.165995Z",
     "iopub.status.busy": "2022-12-12T05:33:31.165029Z",
     "iopub.status.idle": "2022-12-12T05:33:32.855105Z",
     "shell.execute_reply": "2022-12-12T05:33:32.853991Z"
    },
    "papermill": {
     "duration": 1.711144,
     "end_time": "2022-12-12T05:33:32.857785",
     "exception": false,
     "start_time": "2022-12-12T05:33:31.146641",
     "status": "completed"
    },
    "tags": []
   },
   "outputs": [],
   "source": [
    "# создаем датасет с фичами\n",
    "\n",
    "DATASET = Dataset.construct(\n",
    "    interactions_df=train,\n",
    "    user_features_df=user_features,\n",
    "    cat_user_features=[\"age\", \"sex\", \"income\"],\n",
    "    item_features_df=item_features,\n",
    "    cat_item_features=[\"genre\", \"country\", 'binned_r_year', 'content_type'],\n",
    ")"
   ]
  },
  {
   "cell_type": "code",
   "execution_count": 25,
   "id": "51c8f30f",
   "metadata": {
    "execution": {
     "iopub.execute_input": "2022-12-12T05:33:32.902797Z",
     "iopub.status.busy": "2022-12-12T05:33:32.902398Z",
     "iopub.status.idle": "2022-12-12T05:33:32.917217Z",
     "shell.execute_reply": "2022-12-12T05:33:32.915718Z"
    },
    "papermill": {
     "duration": 0.042815,
     "end_time": "2022-12-12T05:33:32.922078",
     "exception": false,
     "start_time": "2022-12-12T05:33:32.879263",
     "status": "completed"
    },
    "tags": []
   },
   "outputs": [
    {
     "data": {
      "text/plain": [
       "Dataset(user_id_map=IdMap(external_ids=array([176549, 699317, 656683, ..., 882138, 805174, 648596])), item_id_map=IdMap(external_ids=array([ 9506,  1659,  7107, ..., 13516, 13019, 10542])), interactions=Interactions(df=         user_id  item_id  weight   datetime\n",
       "0              0        0     3.0 2021-05-11\n",
       "1              1        1     3.0 2021-05-29\n",
       "2              2        2     1.0 2021-05-09\n",
       "3              3        3     3.0 2021-07-05\n",
       "4              4        0     3.0 2021-04-30\n",
       "...          ...      ...     ...        ...\n",
       "5476244    69627      219     3.0 2021-08-02\n",
       "5476245    40052      132     1.0 2021-05-12\n",
       "5476246   896790      318     1.0 2021-08-13\n",
       "5476247   206604     2546     3.0 2021-04-13\n",
       "5476249     7236     1609     3.0 2021-04-19\n",
       "\n",
       "[4985269 rows x 4 columns]), user_features=SparseFeatures(values=<896791x17 sparse matrix of type '<class 'numpy.float32'>'\n",
       "\twith 2091408 stored elements in Compressed Sparse Row format>, names=(('age', 'age_25_34'), ('age', 'age_18_24'), ('age', 'age_45_54'), ('age', 'age_35_44'), ('age', 'age_55_64'), ('age', 'age_65_inf'), ('age', 'Unknown'), ('sex', 'М'), ('sex', 'Ж'), ('sex', 'Unknown'), ('income', 'income_60_90'), ('income', 'income_20_40'), ('income', 'income_40_60'), ('income', 'income_90_150'), ('income', 'income_0_20'), ('income', 'Unknown'), ('income', 'income_150_inf'))), item_features=SparseFeatures(values=<15565x199 sparse matrix of type '<class 'numpy.float32'>'\n",
       "\twith 88622 stored elements in Compressed Sparse Row format>, names=(('genre', 'драмы'), ('genre', 'зарубежные'), ('genre', 'детективы'), ('genre', 'мелодрамы'), ('genre', 'приключения'), ('genre', 'комедии'), ('genre', 'криминал'), ('genre', 'триллеры'), ('genre', 'боевики'), ('genre', 'спорт'), ('genre', 'советские'), ('genre', 'фильмы'), ('genre', 'сказки'), ('genre', 'семейное'), ('genre', 'фэнтези'), ('genre', 'для детей'), ('genre', 'полнометражные'), ('genre', 'западные мультфильмы'), ('genre', 'русские'), ('genre', 'биография'), ('genre', 'экранизации'), ('genre', 'исторические'), ('genre', 'военные'), ('genre', 'ужасы'), ('genre', 'мистика'), ('genre', 'фильмы-спектакли'), ('genre', 'мюзиклы'), ('genre', 'короткометражные'), ('genre', 'детские'), ('genre', 'вестерн'), ('genre', 'мультфильмы'), ('genre', 'документальное'), ('genre', 'для взрослых'), ('genre', 'мультфильм'), ('genre', 'фантастика'), ('genre', 'историческое'), ('genre', 'концерт'), ('genre', 'познавательные'), ('genre', 'сериалы'), ('genre', 'про животных'), ('genre', 'музыка'), ('genre', 'реалити-шоу'), ('genre', 'фитнес'), ('genre', 'телешоу'), ('genre', 'научно-популярные'), ('genre', 'ток-шоу'), ('genre', 'молодежные'), ('genre', 'стендап'), ('genre', 'хочу всё знать'), ('genre', 'русские мультфильмы'), ('genre', 'развитие'), ('genre', 'детские песни'), ('genre', 'аниме'), ('genre', 'музыкальные'), ('genre', 'мультсериалы'), ('genre', 'для самых маленьких'), ('genre', 'no_genre'), ('genre', 'развлекательные'), ('genre', 'караоке'), ('genre', 'фильмы hbo'), ('genre', 'катастрофы'), ('genre', 'медицинские'), ('genre', 'передачи'), ('genre', 'мировая классика'), ('genre', 'артхаус'), ('genre', 'дорамы'), ('genre', 'воспитание детей'), ('genre', 'короткий метр'), ('genre', 'интервью'), ('genre', 'по комиксам'), ('genre', 'увлечения'), ('genre', 'охота и рыбалка'), ('genre', 'популярное'), ('genre', 'реалити'), ('genre', 'футбол'), ('genre', 'романтика'), ('genre', 'фильм-нуар'), ('genre', 'тележурналы'), ('genre', 'живая природа'), ('genre', 'немое кино'), ('genre', 'единоборства'), ('genre', 'шоу'), ('genre', 'юмор'), ('genre', 'вокруг света'), ('genre', 'анимация'), ('genre', 'кулинария'), ('genre', 'индийское кино'), ('genre', 'о знаменитостях'), ('genre', '18+'), ('genre', 'токшоу'), ('genre', 'комиксы'), ('genre', 'красота и здоровье'), ('genre', 'образование'), ('genre', 'рекомендуем'), ('country', 'испания'), ('country', 'сша'), ('country', 'канада'), ('country', 'великобритания'), ('country', 'ссср'), ('country', 'россия'), ('country', 'германия'), ('country', 'италия'), ('country', 'аргентина'), ('country', 'франция'), ('country', 'украина'), ('country', 'япония'), ('country', 'швеция'), ('country', 'норвегия'), ('country', 'чехия'), ('country', 'китай'), ('country', 'тайвань'), ('country', 'республика корея'), ('country', 'израиль'), ('country', 'дания'), ('country', 'исландия'), ('country', 'бельгия'), ('country', 'казахстан'), ('country', 'новая зеландия'), ('country', 'австралия'), ('country', 'мексика'), ('country', 'нидерланды'), ('country', 'кипр'), ('country', 'маврикий'), ('country', 'гонконг'), ('country', 'ирландия'), ('country', 'болгария'), ('country', 'беларусь'), ('country', 'киргизия'), ('country', 'румыния'), ('country', nan), ('country', 'мальта'), ('country', 'чили'), ('country', 'армения'), ('country', 'индия'), ('country', 'таиланд'), ('country', 'венгрия'), ('country', 'сенегал'), ('country', 'бразилия'), ('country', 'польша'), ('country', 'люксембург'), ('country', 'турция'), ('country', 'юар'), ('country', 'швейцария'), ('country', 'македония'), ('country', 'финляндия'), ('country', 'узбекистан'), ('country', 'малайзия'), ('country', 'оаэ'), ('country', 'португалия'), ('country', 'филиппины'), ('country', 'пуэрто-рико'), ('country', 'перу'), ('country', 'латвия'), ('country', 'австрия'), ('country', 'алжир'), ('country', 'колумбия'), ('country', 'венесуэла'), ('country', 'уругвай'), ('country', 'индонезия'), ('country', 'хорватия'), ('country', 'сингапур'), ('country', 'камбоджа'), ('country', 'иран'), ('country', 'парагвай'), ('country', 'сербия'), ('country', 'молдова'), ('country', 'эстония'), ('country', 'албания'), ('country', 'югославия'), ('country', 'словакия'), ('country', 'словения'), ('country', 'эквадор'), ('country', 'грузия'), ('country', 'египет'), ('country', 'марокко'), ('country', 'тунис'), ('country', 'греция'), ('country', 'ливан'), ('country', 'куба'), ('country', 'азербайджан'), ('country', 'иордания'), ('country', 'замбия'), ('country', 'вьетнам'), ('country', 'коста-рика'), ('country', 'кения'), ('country', 'литва'), ('binned_r_year', 1.0), ('binned_r_year', 4.0), ('binned_r_year', 3.0), ('binned_r_year', 5.0), ('binned_r_year', 0.0), ('binned_r_year', 7.0), ('binned_r_year', 6.0), ('binned_r_year', 8.0), ('binned_r_year', 2.0), ('binned_r_year', 9.0), ('binned_r_year', nan), ('content_type', 'film'), ('content_type', 'series'))))"
      ]
     },
     "execution_count": 25,
     "metadata": {},
     "output_type": "execute_result"
    }
   ],
   "source": [
    "DATASET"
   ]
  },
  {
   "cell_type": "code",
   "execution_count": 26,
   "id": "1e8a7daa",
   "metadata": {
    "execution": {
     "iopub.execute_input": "2022-12-12T05:33:32.966080Z",
     "iopub.status.busy": "2022-12-12T05:33:32.965662Z",
     "iopub.status.idle": "2022-12-12T05:33:32.979661Z",
     "shell.execute_reply": "2022-12-12T05:33:32.978801Z"
    },
    "papermill": {
     "duration": 0.038974,
     "end_time": "2022-12-12T05:33:32.982064",
     "exception": false,
     "start_time": "2022-12-12T05:33:32.943090",
     "status": "completed"
    },
    "tags": []
   },
   "outputs": [],
   "source": [
    "# определяем пользователей для теста\n",
    "\n",
    "TEST_USERS = test[Columns.User].unique()"
   ]
  },
  {
   "cell_type": "markdown",
   "id": "4b2a907c",
   "metadata": {
    "papermill": {
     "duration": 0.017961,
     "end_time": "2022-12-12T05:33:33.017182",
     "exception": false,
     "start_time": "2022-12-12T05:33:32.999221",
     "status": "completed"
    },
    "tags": []
   },
   "source": [
    "## Обучение факторизационных машин"
   ]
  },
  {
   "cell_type": "markdown",
   "id": "0341e48a",
   "metadata": {
    "papermill": {
     "duration": 0.019291,
     "end_time": "2022-12-12T05:33:33.056681",
     "exception": false,
     "start_time": "2022-12-12T05:33:33.037390",
     "status": "completed"
    },
    "tags": []
   },
   "source": [
    "### 1. ALS - Alternating Least Squares"
   ]
  },
  {
   "cell_type": "code",
   "execution_count": 27,
   "id": "ad5c2563",
   "metadata": {
    "execution": {
     "iopub.execute_input": "2022-12-12T05:33:33.097705Z",
     "iopub.status.busy": "2022-12-12T05:33:33.096614Z",
     "iopub.status.idle": "2022-12-12T05:33:33.107490Z",
     "shell.execute_reply": "2022-12-12T05:33:33.106426Z"
    },
    "papermill": {
     "duration": 0.033553,
     "end_time": "2022-12-12T05:33:33.110414",
     "exception": false,
     "start_time": "2022-12-12T05:33:33.076861",
     "status": "completed"
    },
    "tags": []
   },
   "outputs": [],
   "source": [
    "def objective_train_als_model(trial):\n",
    "    n_factors = trial.suggest_int(\"n_factors\", low=32, high=128, step=32)\n",
    "    regularization = trial.suggest_float(\"regularization\", low=0.01, high=0.51, step=0.1)\n",
    "    model = ImplicitALSWrapperModel(\n",
    "      model=AlternatingLeastSquares(\n",
    "        factors=n_factors, \n",
    "        regularization=regularization,\n",
    "        random_state=100, \n",
    "      ),\n",
    "      fit_features_together=True,\n",
    "    )\n",
    "    model.fit(DATASET)\n",
    "    rec = model.recommend(\n",
    "      users=TEST_USERS,\n",
    "      dataset=DATASET,\n",
    "      k=N,\n",
    "      filter_viewed=True,\n",
    "    )\n",
    "    metrics = calc_metrics(METRICS, rec, test, train)\n",
    "    return metrics['map@10'], metrics['recall@10']\n",
    "\n",
    "def save_best_model(trial):\n",
    "    n_factors = trial.suggest_int(\"n_factors\", low=32, high=128, step=32)\n",
    "    regularization = trial.suggest_float(\"regularization\", low=0.01, high=0.51, step=0.1)\n",
    "    model = ImplicitALSWrapperModel(\n",
    "      model=AlternatingLeastSquares(\n",
    "        factors=n_factors, \n",
    "        regularization=regularization,\n",
    "        random_state=100, \n",
    "      ),\n",
    "      fit_features_together=True,\n",
    "    )\n",
    "    model.fit(DATASET)\n",
    "    with open('als_model.dill', 'wb') as f:\n",
    "        dill.dump(model.model, f)"
   ]
  },
  {
   "cell_type": "code",
   "execution_count": 28,
   "id": "6ecc58c5",
   "metadata": {
    "execution": {
     "iopub.execute_input": "2022-12-12T05:33:33.149247Z",
     "iopub.status.busy": "2022-12-12T05:33:33.148398Z",
     "iopub.status.idle": "2022-12-12T05:33:33.154638Z",
     "shell.execute_reply": "2022-12-12T05:33:33.153571Z"
    },
    "papermill": {
     "duration": 0.028612,
     "end_time": "2022-12-12T05:33:33.156986",
     "exception": false,
     "start_time": "2022-12-12T05:33:33.128374",
     "status": "completed"
    },
    "tags": []
   },
   "outputs": [],
   "source": [
    "def print_train_loop_inf(train_loop):\n",
    "    print(\"Завершенных сессий: \", len(train_loop.trials))\n",
    "    print(\"Результаты: \")\n",
    "    trials = train_loop.best_trials\n",
    "    for trial in trials:\n",
    "        print(\"  Параметры: \")\n",
    "        for key, value in trial.params.items():\n",
    "            print(\"    {}: {}\".format(key, value))"
   ]
  },
  {
   "cell_type": "code",
   "execution_count": 29,
   "id": "5a2b250b",
   "metadata": {
    "execution": {
     "iopub.execute_input": "2022-12-12T05:33:33.200242Z",
     "iopub.status.busy": "2022-12-12T05:33:33.198277Z",
     "iopub.status.idle": "2022-12-12T06:14:27.243118Z",
     "shell.execute_reply": "2022-12-12T06:14:27.241971Z"
    },
    "papermill": {
     "duration": 2454.086652,
     "end_time": "2022-12-12T06:14:27.265249",
     "exception": false,
     "start_time": "2022-12-12T05:33:33.178597",
     "status": "completed"
    },
    "tags": []
   },
   "outputs": [
    {
     "name": "stderr",
     "output_type": "stream",
     "text": [
      "\u001b[32m[I 2022-12-12 05:33:33,202]\u001b[0m A new study created in memory with name: no-name-e21fb1fb-23b6-4c1e-ab6a-94d0fb1d9b09\u001b[0m\n",
      "/opt/conda/lib/python3.7/site-packages/rectools/dataset/features.py:399: UserWarning: Converting sparse features to dense array may cause MemoryError\n",
      "  warnings.warn(\"Converting sparse features to dense array may cause MemoryError\")\n",
      "/opt/conda/lib/python3.7/site-packages/rectools/models/implicit_als.py:270: UserWarning: GPU training requires number of factors to be a multiple of 32. Increasing factors from 280 to 288 (increasing latent factors from 64 to 72)\n",
      "  \"GPU training requires number of factors to be a multiple of 32.\"\n",
      "\u001b[32m[I 2022-12-12 05:37:28,933]\u001b[0m Trial 0 finished with values: [0.07932188677194683, 0.15315738030973283] and parameters: {'n_factors': 64, 'regularization': 0.41000000000000003}. \u001b[0m\n",
      "/opt/conda/lib/python3.7/site-packages/rectools/dataset/features.py:399: UserWarning: Converting sparse features to dense array may cause MemoryError\n",
      "  warnings.warn(\"Converting sparse features to dense array may cause MemoryError\")\n",
      "/opt/conda/lib/python3.7/site-packages/rectools/models/implicit_als.py:270: UserWarning: GPU training requires number of factors to be a multiple of 32. Increasing factors from 312 to 320 (increasing latent factors from 96 to 104)\n",
      "  \"GPU training requires number of factors to be a multiple of 32.\"\n",
      "\u001b[32m[I 2022-12-12 05:41:38,770]\u001b[0m Trial 1 finished with values: [0.07916420175584592, 0.15260505138554983] and parameters: {'n_factors': 96, 'regularization': 0.11}. \u001b[0m\n",
      "/opt/conda/lib/python3.7/site-packages/rectools/dataset/features.py:399: UserWarning: Converting sparse features to dense array may cause MemoryError\n",
      "  warnings.warn(\"Converting sparse features to dense array may cause MemoryError\")\n",
      "/opt/conda/lib/python3.7/site-packages/rectools/models/implicit_als.py:270: UserWarning: GPU training requires number of factors to be a multiple of 32. Increasing factors from 248 to 256 (increasing latent factors from 32 to 40)\n",
      "  \"GPU training requires number of factors to be a multiple of 32.\"\n",
      "\u001b[32m[I 2022-12-12 05:45:11,752]\u001b[0m Trial 2 finished with values: [0.0776665286347969, 0.150350109524118] and parameters: {'n_factors': 32, 'regularization': 0.31000000000000005}. \u001b[0m\n",
      "/opt/conda/lib/python3.7/site-packages/rectools/dataset/features.py:399: UserWarning: Converting sparse features to dense array may cause MemoryError\n",
      "  warnings.warn(\"Converting sparse features to dense array may cause MemoryError\")\n",
      "/opt/conda/lib/python3.7/site-packages/rectools/models/implicit_als.py:270: UserWarning: GPU training requires number of factors to be a multiple of 32. Increasing factors from 344 to 352 (increasing latent factors from 128 to 136)\n",
      "  \"GPU training requires number of factors to be a multiple of 32.\"\n",
      "\u001b[32m[I 2022-12-12 05:49:50,980]\u001b[0m Trial 3 finished with values: [0.07950833475590335, 0.15308069793562015] and parameters: {'n_factors': 128, 'regularization': 0.11}. \u001b[0m\n",
      "/opt/conda/lib/python3.7/site-packages/rectools/dataset/features.py:399: UserWarning: Converting sparse features to dense array may cause MemoryError\n",
      "  warnings.warn(\"Converting sparse features to dense array may cause MemoryError\")\n",
      "/opt/conda/lib/python3.7/site-packages/rectools/models/implicit_als.py:270: UserWarning: GPU training requires number of factors to be a multiple of 32. Increasing factors from 248 to 256 (increasing latent factors from 32 to 40)\n",
      "  \"GPU training requires number of factors to be a multiple of 32.\"\n",
      "\u001b[32m[I 2022-12-12 05:53:21,597]\u001b[0m Trial 4 finished with values: [0.0776665286347969, 0.150350109524118] and parameters: {'n_factors': 32, 'regularization': 0.31000000000000005}. \u001b[0m\n",
      "/opt/conda/lib/python3.7/site-packages/rectools/dataset/features.py:399: UserWarning: Converting sparse features to dense array may cause MemoryError\n",
      "  warnings.warn(\"Converting sparse features to dense array may cause MemoryError\")\n",
      "/opt/conda/lib/python3.7/site-packages/rectools/models/implicit_als.py:270: UserWarning: GPU training requires number of factors to be a multiple of 32. Increasing factors from 312 to 320 (increasing latent factors from 96 to 104)\n",
      "  \"GPU training requires number of factors to be a multiple of 32.\"\n",
      "\u001b[32m[I 2022-12-12 05:57:40,385]\u001b[0m Trial 5 finished with values: [0.07940032170591849, 0.15509207332340064] and parameters: {'n_factors': 96, 'regularization': 0.51}. \u001b[0m\n",
      "/opt/conda/lib/python3.7/site-packages/rectools/dataset/features.py:399: UserWarning: Converting sparse features to dense array may cause MemoryError\n",
      "  warnings.warn(\"Converting sparse features to dense array may cause MemoryError\")\n",
      "/opt/conda/lib/python3.7/site-packages/rectools/models/implicit_als.py:270: UserWarning: GPU training requires number of factors to be a multiple of 32. Increasing factors from 312 to 320 (increasing latent factors from 96 to 104)\n",
      "  \"GPU training requires number of factors to be a multiple of 32.\"\n",
      "\u001b[32m[I 2022-12-12 06:01:45,423]\u001b[0m Trial 6 finished with values: [0.07940032170591849, 0.15509207332340064] and parameters: {'n_factors': 96, 'regularization': 0.51}. \u001b[0m\n",
      "/opt/conda/lib/python3.7/site-packages/rectools/dataset/features.py:399: UserWarning: Converting sparse features to dense array may cause MemoryError\n",
      "  warnings.warn(\"Converting sparse features to dense array may cause MemoryError\")\n",
      "/opt/conda/lib/python3.7/site-packages/rectools/models/implicit_als.py:270: UserWarning: GPU training requires number of factors to be a multiple of 32. Increasing factors from 344 to 352 (increasing latent factors from 128 to 136)\n",
      "  \"GPU training requires number of factors to be a multiple of 32.\"\n",
      "\u001b[32m[I 2022-12-12 06:06:16,484]\u001b[0m Trial 7 finished with values: [0.07942057387313176, 0.15329565888533297] and parameters: {'n_factors': 128, 'regularization': 0.31000000000000005}. \u001b[0m\n",
      "/opt/conda/lib/python3.7/site-packages/rectools/dataset/features.py:399: UserWarning: Converting sparse features to dense array may cause MemoryError\n",
      "  warnings.warn(\"Converting sparse features to dense array may cause MemoryError\")\n",
      "/opt/conda/lib/python3.7/site-packages/rectools/models/implicit_als.py:270: UserWarning: GPU training requires number of factors to be a multiple of 32. Increasing factors from 280 to 288 (increasing latent factors from 64 to 72)\n",
      "  \"GPU training requires number of factors to be a multiple of 32.\"\n",
      "\u001b[32m[I 2022-12-12 06:10:17,344]\u001b[0m Trial 8 finished with values: [0.07895488716980396, 0.1523120810602572] and parameters: {'n_factors': 64, 'regularization': 0.21000000000000002}. \u001b[0m\n",
      "/opt/conda/lib/python3.7/site-packages/rectools/dataset/features.py:399: UserWarning: Converting sparse features to dense array may cause MemoryError\n",
      "  warnings.warn(\"Converting sparse features to dense array may cause MemoryError\")\n",
      "/opt/conda/lib/python3.7/site-packages/rectools/models/implicit_als.py:270: UserWarning: GPU training requires number of factors to be a multiple of 32. Increasing factors from 312 to 320 (increasing latent factors from 96 to 104)\n",
      "  \"GPU training requires number of factors to be a multiple of 32.\"\n",
      "\u001b[32m[I 2022-12-12 06:14:27,236]\u001b[0m Trial 9 finished with values: [0.07916420175584592, 0.15260505138554983] and parameters: {'n_factors': 96, 'regularization': 0.11}. \u001b[0m\n"
     ]
    },
    {
     "name": "stdout",
     "output_type": "stream",
     "text": [
      "CPU times: user 58min 50s, sys: 9min 42s, total: 1h 8min 33s\n",
      "Wall time: 40min 54s\n"
     ]
    }
   ],
   "source": [
    "%%time\n",
    "\n",
    "# обучаем ALS модель\n",
    "\n",
    "study = optuna.create_study(directions=[\"maximize\", \"maximize\"])\n",
    "study.optimize(objective_train_als_model, n_trials=10)"
   ]
  },
  {
   "cell_type": "code",
   "execution_count": 30,
   "id": "9e779f68",
   "metadata": {
    "execution": {
     "iopub.execute_input": "2022-12-12T06:14:27.303137Z",
     "iopub.status.busy": "2022-12-12T06:14:27.302790Z",
     "iopub.status.idle": "2022-12-12T06:14:27.310132Z",
     "shell.execute_reply": "2022-12-12T06:14:27.309143Z"
    },
    "papermill": {
     "duration": 0.029702,
     "end_time": "2022-12-12T06:14:27.313108",
     "exception": false,
     "start_time": "2022-12-12T06:14:27.283406",
     "status": "completed"
    },
    "tags": []
   },
   "outputs": [
    {
     "name": "stdout",
     "output_type": "stream",
     "text": [
      "Завершенных сессий:  10\n",
      "Результаты: \n",
      "  Параметры: \n",
      "    n_factors: 128\n",
      "    regularization: 0.11\n",
      "  Параметры: \n",
      "    n_factors: 96\n",
      "    regularization: 0.51\n",
      "  Параметры: \n",
      "    n_factors: 96\n",
      "    regularization: 0.51\n",
      "  Параметры: \n",
      "    n_factors: 128\n",
      "    regularization: 0.31000000000000005\n"
     ]
    }
   ],
   "source": [
    "print_train_loop_inf(study)"
   ]
  },
  {
   "cell_type": "code",
   "execution_count": 31,
   "id": "383148f0",
   "metadata": {
    "execution": {
     "iopub.execute_input": "2022-12-12T06:14:27.354860Z",
     "iopub.status.busy": "2022-12-12T06:14:27.354491Z",
     "iopub.status.idle": "2022-12-12T06:14:27.362922Z",
     "shell.execute_reply": "2022-12-12T06:14:27.361774Z"
    },
    "papermill": {
     "duration": 0.031742,
     "end_time": "2022-12-12T06:14:27.365388",
     "exception": false,
     "start_time": "2022-12-12T06:14:27.333646",
     "status": "completed"
    },
    "tags": []
   },
   "outputs": [
    {
     "data": {
      "text/plain": [
       "[FrozenTrial(number=3, values=[0.07950833475590335, 0.15308069793562015], datetime_start=datetime.datetime(2022, 12, 12, 5, 45, 11, 753506), datetime_complete=datetime.datetime(2022, 12, 12, 5, 49, 50, 980110), params={'n_factors': 128, 'regularization': 0.11}, distributions={'n_factors': IntDistribution(high=128, log=False, low=32, step=32), 'regularization': FloatDistribution(high=0.51, log=False, low=0.01, step=0.1)}, user_attrs={}, system_attrs={'nsga2:generation': 0}, intermediate_values={}, trial_id=3, state=TrialState.COMPLETE, value=None),\n",
       " FrozenTrial(number=5, values=[0.07940032170591849, 0.15509207332340064], datetime_start=datetime.datetime(2022, 12, 12, 5, 53, 21, 598496), datetime_complete=datetime.datetime(2022, 12, 12, 5, 57, 40, 385166), params={'n_factors': 96, 'regularization': 0.51}, distributions={'n_factors': IntDistribution(high=128, log=False, low=32, step=32), 'regularization': FloatDistribution(high=0.51, log=False, low=0.01, step=0.1)}, user_attrs={}, system_attrs={'nsga2:generation': 0}, intermediate_values={}, trial_id=5, state=TrialState.COMPLETE, value=None),\n",
       " FrozenTrial(number=6, values=[0.07940032170591849, 0.15509207332340064], datetime_start=datetime.datetime(2022, 12, 12, 5, 57, 40, 386790), datetime_complete=datetime.datetime(2022, 12, 12, 6, 1, 45, 423231), params={'n_factors': 96, 'regularization': 0.51}, distributions={'n_factors': IntDistribution(high=128, log=False, low=32, step=32), 'regularization': FloatDistribution(high=0.51, log=False, low=0.01, step=0.1)}, user_attrs={}, system_attrs={'nsga2:generation': 0}, intermediate_values={}, trial_id=6, state=TrialState.COMPLETE, value=None),\n",
       " FrozenTrial(number=7, values=[0.07942057387313176, 0.15329565888533297], datetime_start=datetime.datetime(2022, 12, 12, 6, 1, 45, 424764), datetime_complete=datetime.datetime(2022, 12, 12, 6, 6, 16, 484210), params={'n_factors': 128, 'regularization': 0.31000000000000005}, distributions={'n_factors': IntDistribution(high=128, log=False, low=32, step=32), 'regularization': FloatDistribution(high=0.51, log=False, low=0.01, step=0.1)}, user_attrs={}, system_attrs={'nsga2:generation': 0}, intermediate_values={}, trial_id=7, state=TrialState.COMPLETE, value=None)]"
      ]
     },
     "execution_count": 31,
     "metadata": {},
     "output_type": "execute_result"
    }
   ],
   "source": [
    "# визуализируем лучший вариант\n",
    "\n",
    "study.best_trials"
   ]
  },
  {
   "cell_type": "code",
   "execution_count": 32,
   "id": "af5839f6",
   "metadata": {
    "execution": {
     "iopub.execute_input": "2022-12-12T06:14:27.402662Z",
     "iopub.status.busy": "2022-12-12T06:14:27.402367Z",
     "iopub.status.idle": "2022-12-12T06:15:35.111698Z",
     "shell.execute_reply": "2022-12-12T06:15:35.108538Z"
    },
    "papermill": {
     "duration": 67.73176,
     "end_time": "2022-12-12T06:15:35.115639",
     "exception": false,
     "start_time": "2022-12-12T06:14:27.383879",
     "status": "completed"
    },
    "tags": []
   },
   "outputs": [
    {
     "name": "stderr",
     "output_type": "stream",
     "text": [
      "/opt/conda/lib/python3.7/site-packages/rectools/dataset/features.py:399: UserWarning: Converting sparse features to dense array may cause MemoryError\n",
      "  warnings.warn(\"Converting sparse features to dense array may cause MemoryError\")\n",
      "/opt/conda/lib/python3.7/site-packages/rectools/models/implicit_als.py:270: UserWarning: GPU training requires number of factors to be a multiple of 32. Increasing factors from 344 to 352 (increasing latent factors from 128 to 136)\n",
      "  \"GPU training requires number of factors to be a multiple of 32.\"\n"
     ]
    }
   ],
   "source": [
    "# сохраняем лучший вариант\n",
    "\n",
    "save_best_model(study.best_trials[0])"
   ]
  },
  {
   "cell_type": "markdown",
   "id": "93aaf48b",
   "metadata": {
    "papermill": {
     "duration": 0.349232,
     "end_time": "2022-12-12T06:15:35.622430",
     "exception": false,
     "start_time": "2022-12-12T06:15:35.273198",
     "status": "completed"
    },
    "tags": []
   },
   "source": [
    "### 2. Обучение LightFM"
   ]
  },
  {
   "cell_type": "code",
   "execution_count": 33,
   "id": "5a7ecdc9",
   "metadata": {
    "execution": {
     "iopub.execute_input": "2022-12-12T06:15:35.707671Z",
     "iopub.status.busy": "2022-12-12T06:15:35.707082Z",
     "iopub.status.idle": "2022-12-12T06:15:35.725112Z",
     "shell.execute_reply": "2022-12-12T06:15:35.724200Z"
    },
    "papermill": {
     "duration": 0.058519,
     "end_time": "2022-12-12T06:15:35.727075",
     "exception": false,
     "start_time": "2022-12-12T06:15:35.668556",
     "status": "completed"
    },
    "tags": []
   },
   "outputs": [],
   "source": [
    "def objective_train_light_fm(trial):\n",
    "    n_factors = trial.suggest_int(\"n_factors\", low=32, high=128, step=32)\n",
    "    loss = trial.suggest_categorical(\"loss\", choices=['logistic', 'bpr', 'warp'])\n",
    "    lr = trial.suggest_float(\"lr\", low=0.05, high=0.25, step=0.05)\n",
    "    item_alpha = trial.suggest_float(\"item_alpha\", low=0.0, high=0.1, step=0.05)\n",
    "    user_alpha = trial.suggest_float(\"item_alpha\", low=0.0, high=0.1, step=0.05)\n",
    "    model = LightFMWrapperModel(\n",
    "      model=LightFM(\n",
    "        no_components=n_factors, \n",
    "        loss=loss, \n",
    "        random_state=100,\n",
    "        learning_rate=lr,\n",
    "        user_alpha=user_alpha,\n",
    "        item_alpha=item_alpha,\n",
    "      ),\n",
    "      epochs=2,\n",
    "      num_threads=1,\n",
    "    )\n",
    "    model.fit(DATASET)\n",
    "    rec = model.recommend(\n",
    "      users=TEST_USERS,\n",
    "      dataset=DATASET,\n",
    "      k=N,\n",
    "      filter_viewed=True,\n",
    "    )\n",
    "    metrics = calc_metrics(METRICS, rec, test, train)\n",
    "    return metrics['map@10'], metrics['recall@10']\n",
    "\n",
    "def save_best_model(trial):\n",
    "    n_factors = trial.suggest_int(\"n_factors\", low=32, high=128, step=32)\n",
    "    loss = trial.suggest_categorical(\"loss\", choices=['logistic', 'bpr', 'warp'])\n",
    "    lr = trial.suggest_float(\"lr\", low=0.05, high=0.25, step=0.05)\n",
    "    item_alpha = trial.suggest_float(\"item_alpha\", low=0.0, high=0.1, step=0.05)\n",
    "    user_alpha = trial.suggest_float(\"item_alpha\", low=0.0, high=0.1, step=0.05)\n",
    "    model = LightFMWrapperModel(\n",
    "      model=LightFM(\n",
    "        no_components=n_factors, \n",
    "        loss=loss, \n",
    "        random_state=100,\n",
    "        learning_rate=lr,\n",
    "        user_alpha=user_alpha,\n",
    "        item_alpha=item_alpha,\n",
    "      ),\n",
    "      epochs=3,\n",
    "      num_threads=1,\n",
    "    )\n",
    "    model.fit(DATASET)\n",
    "    with open('lightfm.dill', 'wb') as f:\n",
    "        dill.dump(model.model, f)"
   ]
  },
  {
   "cell_type": "code",
   "execution_count": 34,
   "id": "7d58a903",
   "metadata": {
    "execution": {
     "iopub.execute_input": "2022-12-12T06:15:35.762618Z",
     "iopub.status.busy": "2022-12-12T06:15:35.762346Z",
     "iopub.status.idle": "2022-12-12T06:35:29.515693Z",
     "shell.execute_reply": "2022-12-12T06:35:29.514565Z"
    },
    "papermill": {
     "duration": 1193.796249,
     "end_time": "2022-12-12T06:35:29.540555",
     "exception": false,
     "start_time": "2022-12-12T06:15:35.744306",
     "status": "completed"
    },
    "tags": []
   },
   "outputs": [
    {
     "name": "stderr",
     "output_type": "stream",
     "text": [
      "\u001b[32m[I 2022-12-12 06:15:35,764]\u001b[0m A new study created in memory with name: no-name-63898d84-1eed-421a-a600-2dedc036e8d5\u001b[0m\n",
      "\u001b[32m[I 2022-12-12 06:19:00,370]\u001b[0m Trial 0 finished with values: [1.129848947351972e-05, 3.447708556934683e-05] and parameters: {'n_factors': 32, 'loss': 'bpr', 'lr': 0.2, 'item_alpha': 0.1}. \u001b[0m\n",
      "\u001b[32m[I 2022-12-12 06:23:07,950]\u001b[0m Trial 1 finished with values: [0.001115605084148824, 0.004406561311191432] and parameters: {'n_factors': 64, 'loss': 'warp', 'lr': 0.2, 'item_alpha': 0.0}. \u001b[0m\n",
      "\u001b[32m[I 2022-12-12 06:27:50,392]\u001b[0m Trial 2 finished with values: [1.0371808594495474e-06, 8.29744687559638e-06] and parameters: {'n_factors': 64, 'loss': 'bpr', 'lr': 0.15000000000000002, 'item_alpha': 0.1}. \u001b[0m\n",
      "\u001b[32m[I 2022-12-12 06:35:29,510]\u001b[0m Trial 3 finished with values: [0.0, 0.0] and parameters: {'n_factors': 128, 'loss': 'bpr', 'lr': 0.25, 'item_alpha': 0.05}. \u001b[0m\n"
     ]
    },
    {
     "name": "stdout",
     "output_type": "stream",
     "text": [
      "CPU times: user 24min 38s, sys: 4min 3s, total: 28min 42s\n",
      "Wall time: 19min 53s\n"
     ]
    }
   ],
   "source": [
    "%%time\n",
    "\n",
    "# обучаем LightFM модель\n",
    "\n",
    "study = optuna.create_study(directions=[\"maximize\", \"maximize\"])\n",
    "study.optimize(objective_train_light_fm, n_trials=4)"
   ]
  },
  {
   "cell_type": "code",
   "execution_count": 35,
   "id": "af572676",
   "metadata": {
    "execution": {
     "iopub.execute_input": "2022-12-12T06:35:29.577632Z",
     "iopub.status.busy": "2022-12-12T06:35:29.577254Z",
     "iopub.status.idle": "2022-12-12T06:35:29.584272Z",
     "shell.execute_reply": "2022-12-12T06:35:29.583136Z"
    },
    "papermill": {
     "duration": 0.029205,
     "end_time": "2022-12-12T06:35:29.587733",
     "exception": false,
     "start_time": "2022-12-12T06:35:29.558528",
     "status": "completed"
    },
    "tags": []
   },
   "outputs": [
    {
     "name": "stdout",
     "output_type": "stream",
     "text": [
      "Завершенных сессий:  4\n",
      "Результаты: \n",
      "  Параметры: \n",
      "    n_factors: 64\n",
      "    loss: warp\n",
      "    lr: 0.2\n",
      "    item_alpha: 0.0\n"
     ]
    }
   ],
   "source": [
    "print_train_loop_inf(study)"
   ]
  },
  {
   "cell_type": "code",
   "execution_count": 36,
   "id": "aa309802",
   "metadata": {
    "execution": {
     "iopub.execute_input": "2022-12-12T06:35:29.626142Z",
     "iopub.status.busy": "2022-12-12T06:35:29.625797Z",
     "iopub.status.idle": "2022-12-12T06:35:29.632851Z",
     "shell.execute_reply": "2022-12-12T06:35:29.631807Z"
    },
    "papermill": {
     "duration": 0.027558,
     "end_time": "2022-12-12T06:35:29.635238",
     "exception": false,
     "start_time": "2022-12-12T06:35:29.607680",
     "status": "completed"
    },
    "tags": []
   },
   "outputs": [
    {
     "data": {
      "text/plain": [
       "[FrozenTrial(number=1, values=[0.001115605084148824, 0.004406561311191432], datetime_start=datetime.datetime(2022, 12, 12, 6, 19, 0, 371567), datetime_complete=datetime.datetime(2022, 12, 12, 6, 23, 7, 950707), params={'n_factors': 64, 'loss': 'warp', 'lr': 0.2, 'item_alpha': 0.0}, distributions={'n_factors': IntDistribution(high=128, log=False, low=32, step=32), 'loss': CategoricalDistribution(choices=('logistic', 'bpr', 'warp')), 'lr': FloatDistribution(high=0.25, log=False, low=0.05, step=0.05), 'item_alpha': FloatDistribution(high=0.1, log=False, low=0.0, step=0.05)}, user_attrs={}, system_attrs={'nsga2:generation': 0}, intermediate_values={}, trial_id=1, state=TrialState.COMPLETE, value=None)]"
      ]
     },
     "execution_count": 36,
     "metadata": {},
     "output_type": "execute_result"
    }
   ],
   "source": [
    "study.best_trials"
   ]
  },
  {
   "cell_type": "code",
   "execution_count": 37,
   "id": "b386f216",
   "metadata": {
    "execution": {
     "iopub.execute_input": "2022-12-12T06:35:29.677419Z",
     "iopub.status.busy": "2022-12-12T06:35:29.677043Z",
     "iopub.status.idle": "2022-12-12T06:37:58.665126Z",
     "shell.execute_reply": "2022-12-12T06:37:58.663863Z"
    },
    "papermill": {
     "duration": 149.012032,
     "end_time": "2022-12-12T06:37:58.667513",
     "exception": false,
     "start_time": "2022-12-12T06:35:29.655481",
     "status": "completed"
    },
    "tags": []
   },
   "outputs": [],
   "source": [
    "save_best_model(study.best_trials[0])"
   ]
  },
  {
   "cell_type": "markdown",
   "id": "e4727be8",
   "metadata": {
    "papermill": {
     "duration": 0.019763,
     "end_time": "2022-12-12T06:37:58.705915",
     "exception": false,
     "start_time": "2022-12-12T06:37:58.686152",
     "status": "completed"
    },
    "tags": []
   },
   "source": [
    "## Создание аватаров"
   ]
  },
  {
   "cell_type": "markdown",
   "id": "22215d7d",
   "metadata": {
    "papermill": {
     "duration": 0.019898,
     "end_time": "2022-12-12T06:37:58.746065",
     "exception": false,
     "start_time": "2022-12-12T06:37:58.726167",
     "status": "completed"
    },
    "tags": []
   },
   "source": [
    "Для выполнения данного задания мы решили создать 3 аватара: 1) молодой мужчина, интересующийся немецкими ужастиками; 2) пожилой мужчина, увлекающийся американскими боевиками; 3) женщина среднего возраста, предпочитающая французские комедии."
   ]
  },
  {
   "cell_type": "code",
   "execution_count": 38,
   "id": "a37a5e5f",
   "metadata": {
    "execution": {
     "iopub.execute_input": "2022-12-12T06:37:58.787179Z",
     "iopub.status.busy": "2022-12-12T06:37:58.786270Z",
     "iopub.status.idle": "2022-12-12T06:37:58.793975Z",
     "shell.execute_reply": "2022-12-12T06:37:58.793081Z"
    },
    "papermill": {
     "duration": 0.029996,
     "end_time": "2022-12-12T06:37:58.796092",
     "exception": false,
     "start_time": "2022-12-12T06:37:58.766096",
     "status": "completed"
    },
    "tags": []
   },
   "outputs": [],
   "source": [
    "def create_watched_list(user_id, country, genre):\n",
    "    data = item_df[(item_df['countries'].str.contains(country)) & item_df['genres'].str.contains(genre)].sample(7, random_state=100)['title'].values\n",
    "    avatar_watched_list = pd.DataFrame({\"user_id\": user_id, \"title\": data})\n",
    "    avatar_watched_list = avatar_watched_list.merge(item_df[[\"item_id\", \"title\", \"genres\"]], on=\"title\")\n",
    "    return avatar_watched_list\n",
    "\n",
    "def create_avatar(user_id, sex, age, income):\n",
    "    avatar = pd.DataFrame([{'id': user_id, 'value': sex, 'feature': 'sex'},\n",
    "                            {'id': user_id, 'value': age, 'feature': 'age'},\n",
    "                            {'id': user_id, 'value': income, 'feature': 'income'},]\n",
    "    )\n",
    "    return avatar"
   ]
  },
  {
   "cell_type": "code",
   "execution_count": 39,
   "id": "0a838368",
   "metadata": {
    "execution": {
     "iopub.execute_input": "2022-12-12T06:37:58.837238Z",
     "iopub.status.busy": "2022-12-12T06:37:58.836331Z",
     "iopub.status.idle": "2022-12-12T06:37:58.880645Z",
     "shell.execute_reply": "2022-12-12T06:37:58.879413Z"
    },
    "papermill": {
     "duration": 0.068485,
     "end_time": "2022-12-12T06:37:58.883806",
     "exception": false,
     "start_time": "2022-12-12T06:37:58.815321",
     "status": "completed"
    },
    "tags": []
   },
   "outputs": [
    {
     "data": {
      "text/html": [
       "<div>\n",
       "<style scoped>\n",
       "    .dataframe tbody tr th:only-of-type {\n",
       "        vertical-align: middle;\n",
       "    }\n",
       "\n",
       "    .dataframe tbody tr th {\n",
       "        vertical-align: top;\n",
       "    }\n",
       "\n",
       "    .dataframe thead th {\n",
       "        text-align: right;\n",
       "    }\n",
       "</style>\n",
       "<table border=\"1\" class=\"dataframe\">\n",
       "  <thead>\n",
       "    <tr style=\"text-align: right;\">\n",
       "      <th></th>\n",
       "      <th>user_id</th>\n",
       "      <th>title</th>\n",
       "      <th>item_id</th>\n",
       "      <th>genres</th>\n",
       "    </tr>\n",
       "  </thead>\n",
       "  <tbody>\n",
       "    <tr>\n",
       "      <th>0</th>\n",
       "      <td>ger_horror</td>\n",
       "      <td>Голоса</td>\n",
       "      <td>11605</td>\n",
       "      <td>ужасы, триллеры, криминал, комедии</td>\n",
       "    </tr>\n",
       "    <tr>\n",
       "      <th>1</th>\n",
       "      <td>ger_horror</td>\n",
       "      <td>Голоса</td>\n",
       "      <td>779</td>\n",
       "      <td>триллеры, короткометражные</td>\n",
       "    </tr>\n",
       "    <tr>\n",
       "      <th>2</th>\n",
       "      <td>ger_horror</td>\n",
       "      <td>Мумия: Гробница Императора Драконов</td>\n",
       "      <td>14099</td>\n",
       "      <td>боевики, ужасы, триллеры, фэнтези</td>\n",
       "    </tr>\n",
       "    <tr>\n",
       "      <th>3</th>\n",
       "      <td>ger_horror</td>\n",
       "      <td>Свора</td>\n",
       "      <td>1256</td>\n",
       "      <td>приключения, зарубежные, фантастика, триллеры,...</td>\n",
       "    </tr>\n",
       "    <tr>\n",
       "      <th>4</th>\n",
       "      <td>ger_horror</td>\n",
       "      <td>Смертельный декабрь</td>\n",
       "      <td>5577</td>\n",
       "      <td>зарубежные, ужасы</td>\n",
       "    </tr>\n",
       "    <tr>\n",
       "      <th>5</th>\n",
       "      <td>ger_horror</td>\n",
       "      <td>Дом, который построил Джек (жестовым языком)</td>\n",
       "      <td>9699</td>\n",
       "      <td>драмы, ужасы, зарубежные, криминал</td>\n",
       "    </tr>\n",
       "    <tr>\n",
       "      <th>6</th>\n",
       "      <td>ger_horror</td>\n",
       "      <td>Голем</td>\n",
       "      <td>9151</td>\n",
       "      <td>триллеры, криминал, детективы</td>\n",
       "    </tr>\n",
       "    <tr>\n",
       "      <th>7</th>\n",
       "      <td>ger_horror</td>\n",
       "      <td>Голем</td>\n",
       "      <td>587</td>\n",
       "      <td>драмы, ужасы, фэнтези</td>\n",
       "    </tr>\n",
       "    <tr>\n",
       "      <th>8</th>\n",
       "      <td>ger_horror</td>\n",
       "      <td>Охотники на ведьм</td>\n",
       "      <td>11680</td>\n",
       "      <td>боевики, ужасы, фэнтези</td>\n",
       "    </tr>\n",
       "  </tbody>\n",
       "</table>\n",
       "</div>"
      ],
      "text/plain": [
       "      user_id                                         title  item_id  \\\n",
       "0  ger_horror                                        Голоса    11605   \n",
       "1  ger_horror                                        Голоса      779   \n",
       "2  ger_horror           Мумия: Гробница Императора Драконов    14099   \n",
       "3  ger_horror                                         Свора     1256   \n",
       "4  ger_horror                           Смертельный декабрь     5577   \n",
       "5  ger_horror  Дом, который построил Джек (жестовым языком)     9699   \n",
       "6  ger_horror                                         Голем     9151   \n",
       "7  ger_horror                                         Голем      587   \n",
       "8  ger_horror                             Охотники на ведьм    11680   \n",
       "\n",
       "                                              genres  \n",
       "0                 ужасы, триллеры, криминал, комедии  \n",
       "1                         триллеры, короткометражные  \n",
       "2                  боевики, ужасы, триллеры, фэнтези  \n",
       "3  приключения, зарубежные, фантастика, триллеры,...  \n",
       "4                                  зарубежные, ужасы  \n",
       "5                 драмы, ужасы, зарубежные, криминал  \n",
       "6                      триллеры, криминал, детективы  \n",
       "7                              драмы, ужасы, фэнтези  \n",
       "8                            боевики, ужасы, фэнтези  "
      ]
     },
     "execution_count": 39,
     "metadata": {},
     "output_type": "execute_result"
    }
   ],
   "source": [
    "ger_horror_watched = create_watched_list('ger_horror', 'Германия', 'ужасы')\n",
    "ger_horror_watched"
   ]
  },
  {
   "cell_type": "code",
   "execution_count": 40,
   "id": "278d1cfb",
   "metadata": {
    "execution": {
     "iopub.execute_input": "2022-12-12T06:37:58.924986Z",
     "iopub.status.busy": "2022-12-12T06:37:58.924010Z",
     "iopub.status.idle": "2022-12-12T06:37:58.934555Z",
     "shell.execute_reply": "2022-12-12T06:37:58.933407Z"
    },
    "papermill": {
     "duration": 0.032107,
     "end_time": "2022-12-12T06:37:58.936828",
     "exception": false,
     "start_time": "2022-12-12T06:37:58.904721",
     "status": "completed"
    },
    "tags": []
   },
   "outputs": [
    {
     "data": {
      "text/html": [
       "<div>\n",
       "<style scoped>\n",
       "    .dataframe tbody tr th:only-of-type {\n",
       "        vertical-align: middle;\n",
       "    }\n",
       "\n",
       "    .dataframe tbody tr th {\n",
       "        vertical-align: top;\n",
       "    }\n",
       "\n",
       "    .dataframe thead th {\n",
       "        text-align: right;\n",
       "    }\n",
       "</style>\n",
       "<table border=\"1\" class=\"dataframe\">\n",
       "  <thead>\n",
       "    <tr style=\"text-align: right;\">\n",
       "      <th></th>\n",
       "      <th>id</th>\n",
       "      <th>value</th>\n",
       "      <th>feature</th>\n",
       "    </tr>\n",
       "  </thead>\n",
       "  <tbody>\n",
       "    <tr>\n",
       "      <th>0</th>\n",
       "      <td>ger_horror</td>\n",
       "      <td>М</td>\n",
       "      <td>sex</td>\n",
       "    </tr>\n",
       "    <tr>\n",
       "      <th>1</th>\n",
       "      <td>ger_horror</td>\n",
       "      <td>age_18_24</td>\n",
       "      <td>age</td>\n",
       "    </tr>\n",
       "    <tr>\n",
       "      <th>2</th>\n",
       "      <td>ger_horror</td>\n",
       "      <td>income_0_20</td>\n",
       "      <td>income</td>\n",
       "    </tr>\n",
       "  </tbody>\n",
       "</table>\n",
       "</div>"
      ],
      "text/plain": [
       "           id        value feature\n",
       "0  ger_horror            М     sex\n",
       "1  ger_horror    age_18_24     age\n",
       "2  ger_horror  income_0_20  income"
      ]
     },
     "execution_count": 40,
     "metadata": {},
     "output_type": "execute_result"
    }
   ],
   "source": [
    "ger_horror = create_avatar('ger_horror', 'М', 'age_18_24', 'income_0_20')\n",
    "ger_horror"
   ]
  },
  {
   "cell_type": "code",
   "execution_count": 41,
   "id": "67c08671",
   "metadata": {
    "execution": {
     "iopub.execute_input": "2022-12-12T06:37:58.980182Z",
     "iopub.status.busy": "2022-12-12T06:37:58.979034Z",
     "iopub.status.idle": "2022-12-12T06:37:59.016987Z",
     "shell.execute_reply": "2022-12-12T06:37:59.015803Z"
    },
    "papermill": {
     "duration": 0.062571,
     "end_time": "2022-12-12T06:37:59.019654",
     "exception": false,
     "start_time": "2022-12-12T06:37:58.957083",
     "status": "completed"
    },
    "tags": []
   },
   "outputs": [
    {
     "data": {
      "text/html": [
       "<div>\n",
       "<style scoped>\n",
       "    .dataframe tbody tr th:only-of-type {\n",
       "        vertical-align: middle;\n",
       "    }\n",
       "\n",
       "    .dataframe tbody tr th {\n",
       "        vertical-align: top;\n",
       "    }\n",
       "\n",
       "    .dataframe thead th {\n",
       "        text-align: right;\n",
       "    }\n",
       "</style>\n",
       "<table border=\"1\" class=\"dataframe\">\n",
       "  <thead>\n",
       "    <tr style=\"text-align: right;\">\n",
       "      <th></th>\n",
       "      <th>user_id</th>\n",
       "      <th>title</th>\n",
       "      <th>item_id</th>\n",
       "      <th>genres</th>\n",
       "    </tr>\n",
       "  </thead>\n",
       "  <tbody>\n",
       "    <tr>\n",
       "      <th>0</th>\n",
       "      <td>rambo</td>\n",
       "      <td>Разборка в Маниле</td>\n",
       "      <td>9601</td>\n",
       "      <td>боевики</td>\n",
       "    </tr>\n",
       "    <tr>\n",
       "      <th>1</th>\n",
       "      <td>rambo</td>\n",
       "      <td>Проповедник с пулемётом</td>\n",
       "      <td>12302</td>\n",
       "      <td>боевики, драмы</td>\n",
       "    </tr>\n",
       "    <tr>\n",
       "      <th>2</th>\n",
       "      <td>rambo</td>\n",
       "      <td>Стартрек 8: Первый контакт</td>\n",
       "      <td>6972</td>\n",
       "      <td>боевики, фантастика, приключения</td>\n",
       "    </tr>\n",
       "    <tr>\n",
       "      <th>3</th>\n",
       "      <td>rambo</td>\n",
       "      <td>Побег</td>\n",
       "      <td>10758</td>\n",
       "      <td>криминал, приключения, драмы, триллеры, мелодр...</td>\n",
       "    </tr>\n",
       "    <tr>\n",
       "      <th>4</th>\n",
       "      <td>rambo</td>\n",
       "      <td>Побег</td>\n",
       "      <td>16025</td>\n",
       "      <td>драмы, короткометражные, приключения, комедии</td>\n",
       "    </tr>\n",
       "    <tr>\n",
       "      <th>5</th>\n",
       "      <td>rambo</td>\n",
       "      <td>Звёздная принцесса и силы зла</td>\n",
       "      <td>11868</td>\n",
       "      <td>мультсериалы, приключения, драмы, фантастика, ...</td>\n",
       "    </tr>\n",
       "    <tr>\n",
       "      <th>6</th>\n",
       "      <td>rambo</td>\n",
       "      <td>Парный удар</td>\n",
       "      <td>10036</td>\n",
       "      <td>приключения, драмы, зарубежные, боевики, комедии</td>\n",
       "    </tr>\n",
       "    <tr>\n",
       "      <th>7</th>\n",
       "      <td>rambo</td>\n",
       "      <td>Джон Уик 3</td>\n",
       "      <td>10073</td>\n",
       "      <td>боевики, триллеры, криминал</td>\n",
       "    </tr>\n",
       "  </tbody>\n",
       "</table>\n",
       "</div>"
      ],
      "text/plain": [
       "  user_id                          title  item_id  \\\n",
       "0   rambo              Разборка в Маниле     9601   \n",
       "1   rambo        Проповедник с пулемётом    12302   \n",
       "2   rambo     Стартрек 8: Первый контакт     6972   \n",
       "3   rambo                          Побег    10758   \n",
       "4   rambo                          Побег    16025   \n",
       "5   rambo  Звёздная принцесса и силы зла    11868   \n",
       "6   rambo                    Парный удар    10036   \n",
       "7   rambo                     Джон Уик 3    10073   \n",
       "\n",
       "                                              genres  \n",
       "0                                            боевики  \n",
       "1                                     боевики, драмы  \n",
       "2                   боевики, фантастика, приключения  \n",
       "3  криминал, приключения, драмы, триллеры, мелодр...  \n",
       "4      драмы, короткометражные, приключения, комедии  \n",
       "5  мультсериалы, приключения, драмы, фантастика, ...  \n",
       "6   приключения, драмы, зарубежные, боевики, комедии  \n",
       "7                        боевики, триллеры, криминал  "
      ]
     },
     "execution_count": 41,
     "metadata": {},
     "output_type": "execute_result"
    }
   ],
   "source": [
    "rambo_watched = create_watched_list('rambo', 'США', 'боевик')\n",
    "rambo_watched"
   ]
  },
  {
   "cell_type": "code",
   "execution_count": 42,
   "id": "bdd96d9e",
   "metadata": {
    "execution": {
     "iopub.execute_input": "2022-12-12T06:37:59.060683Z",
     "iopub.status.busy": "2022-12-12T06:37:59.059681Z",
     "iopub.status.idle": "2022-12-12T06:37:59.071674Z",
     "shell.execute_reply": "2022-12-12T06:37:59.070600Z"
    },
    "papermill": {
     "duration": 0.034975,
     "end_time": "2022-12-12T06:37:59.074087",
     "exception": false,
     "start_time": "2022-12-12T06:37:59.039112",
     "status": "completed"
    },
    "tags": []
   },
   "outputs": [
    {
     "data": {
      "text/html": [
       "<div>\n",
       "<style scoped>\n",
       "    .dataframe tbody tr th:only-of-type {\n",
       "        vertical-align: middle;\n",
       "    }\n",
       "\n",
       "    .dataframe tbody tr th {\n",
       "        vertical-align: top;\n",
       "    }\n",
       "\n",
       "    .dataframe thead th {\n",
       "        text-align: right;\n",
       "    }\n",
       "</style>\n",
       "<table border=\"1\" class=\"dataframe\">\n",
       "  <thead>\n",
       "    <tr style=\"text-align: right;\">\n",
       "      <th></th>\n",
       "      <th>id</th>\n",
       "      <th>value</th>\n",
       "      <th>feature</th>\n",
       "    </tr>\n",
       "  </thead>\n",
       "  <tbody>\n",
       "    <tr>\n",
       "      <th>0</th>\n",
       "      <td>rambo</td>\n",
       "      <td>М</td>\n",
       "      <td>sex</td>\n",
       "    </tr>\n",
       "    <tr>\n",
       "      <th>1</th>\n",
       "      <td>rambo</td>\n",
       "      <td>age_65_inf</td>\n",
       "      <td>age</td>\n",
       "    </tr>\n",
       "    <tr>\n",
       "      <th>2</th>\n",
       "      <td>rambo</td>\n",
       "      <td>income_60_90</td>\n",
       "      <td>income</td>\n",
       "    </tr>\n",
       "  </tbody>\n",
       "</table>\n",
       "</div>"
      ],
      "text/plain": [
       "      id         value feature\n",
       "0  rambo             М     sex\n",
       "1  rambo    age_65_inf     age\n",
       "2  rambo  income_60_90  income"
      ]
     },
     "execution_count": 42,
     "metadata": {},
     "output_type": "execute_result"
    }
   ],
   "source": [
    "rambo = create_avatar('rambo', 'М', 'age_65_inf', 'income_60_90')\n",
    "rambo"
   ]
  },
  {
   "cell_type": "code",
   "execution_count": 43,
   "id": "cb7b8456",
   "metadata": {
    "execution": {
     "iopub.execute_input": "2022-12-12T06:37:59.118280Z",
     "iopub.status.busy": "2022-12-12T06:37:59.117379Z",
     "iopub.status.idle": "2022-12-12T06:37:59.154434Z",
     "shell.execute_reply": "2022-12-12T06:37:59.153231Z"
    },
    "papermill": {
     "duration": 0.061602,
     "end_time": "2022-12-12T06:37:59.157259",
     "exception": false,
     "start_time": "2022-12-12T06:37:59.095657",
     "status": "completed"
    },
    "tags": []
   },
   "outputs": [
    {
     "data": {
      "text/html": [
       "<div>\n",
       "<style scoped>\n",
       "    .dataframe tbody tr th:only-of-type {\n",
       "        vertical-align: middle;\n",
       "    }\n",
       "\n",
       "    .dataframe tbody tr th {\n",
       "        vertical-align: top;\n",
       "    }\n",
       "\n",
       "    .dataframe thead th {\n",
       "        text-align: right;\n",
       "    }\n",
       "</style>\n",
       "<table border=\"1\" class=\"dataframe\">\n",
       "  <thead>\n",
       "    <tr style=\"text-align: right;\">\n",
       "      <th></th>\n",
       "      <th>user_id</th>\n",
       "      <th>title</th>\n",
       "      <th>item_id</th>\n",
       "      <th>genres</th>\n",
       "    </tr>\n",
       "  </thead>\n",
       "  <tbody>\n",
       "    <tr>\n",
       "      <th>0</th>\n",
       "      <td>madam_hihi</td>\n",
       "      <td>Красивый бандит</td>\n",
       "      <td>14172</td>\n",
       "      <td>драмы, детективы, комедии</td>\n",
       "    </tr>\n",
       "    <tr>\n",
       "      <th>1</th>\n",
       "      <td>madam_hihi</td>\n",
       "      <td>Ребенок любой ценой</td>\n",
       "      <td>12508</td>\n",
       "      <td>комедии</td>\n",
       "    </tr>\n",
       "    <tr>\n",
       "      <th>2</th>\n",
       "      <td>madam_hihi</td>\n",
       "      <td>Твоя рука в моей руке</td>\n",
       "      <td>11341</td>\n",
       "      <td>мелодрамы, зарубежные, комедии</td>\n",
       "    </tr>\n",
       "    <tr>\n",
       "      <th>3</th>\n",
       "      <td>madam_hihi</td>\n",
       "      <td>Каникулы маленького Николя</td>\n",
       "      <td>3747</td>\n",
       "      <td>семейное, комедии</td>\n",
       "    </tr>\n",
       "    <tr>\n",
       "      <th>4</th>\n",
       "      <td>madam_hihi</td>\n",
       "      <td>Playmobil фильм: Через вселенные (с тифлокомме...</td>\n",
       "      <td>12450</td>\n",
       "      <td>приключения, зарубежные, семейное, фэнтези, ко...</td>\n",
       "    </tr>\n",
       "    <tr>\n",
       "      <th>5</th>\n",
       "      <td>madam_hihi</td>\n",
       "      <td>День выборов по-французски</td>\n",
       "      <td>8024</td>\n",
       "      <td>комедии</td>\n",
       "    </tr>\n",
       "    <tr>\n",
       "      <th>6</th>\n",
       "      <td>madam_hihi</td>\n",
       "      <td>Бернард</td>\n",
       "      <td>16356</td>\n",
       "      <td>мультсериалы, семейное, комедии</td>\n",
       "    </tr>\n",
       "    <tr>\n",
       "      <th>7</th>\n",
       "      <td>madam_hihi</td>\n",
       "      <td>Бернард</td>\n",
       "      <td>5829</td>\n",
       "      <td>для детей, сериалы, про животных, зарубежные, ...</td>\n",
       "    </tr>\n",
       "  </tbody>\n",
       "</table>\n",
       "</div>"
      ],
      "text/plain": [
       "      user_id                                              title  item_id  \\\n",
       "0  madam_hihi                                    Красивый бандит    14172   \n",
       "1  madam_hihi                                Ребенок любой ценой    12508   \n",
       "2  madam_hihi                              Твоя рука в моей руке    11341   \n",
       "3  madam_hihi                         Каникулы маленького Николя     3747   \n",
       "4  madam_hihi  Playmobil фильм: Через вселенные (с тифлокомме...    12450   \n",
       "5  madam_hihi                         День выборов по-французски     8024   \n",
       "6  madam_hihi                                            Бернард    16356   \n",
       "7  madam_hihi                                            Бернард     5829   \n",
       "\n",
       "                                              genres  \n",
       "0                          драмы, детективы, комедии  \n",
       "1                                            комедии  \n",
       "2                     мелодрамы, зарубежные, комедии  \n",
       "3                                  семейное, комедии  \n",
       "4  приключения, зарубежные, семейное, фэнтези, ко...  \n",
       "5                                            комедии  \n",
       "6                    мультсериалы, семейное, комедии  \n",
       "7  для детей, сериалы, про животных, зарубежные, ...  "
      ]
     },
     "execution_count": 43,
     "metadata": {},
     "output_type": "execute_result"
    }
   ],
   "source": [
    "madam_hihi_watched = create_watched_list('madam_hihi', 'Франция', 'комедии')\n",
    "madam_hihi_watched"
   ]
  },
  {
   "cell_type": "code",
   "execution_count": 44,
   "id": "1da3586f",
   "metadata": {
    "execution": {
     "iopub.execute_input": "2022-12-12T06:37:59.196745Z",
     "iopub.status.busy": "2022-12-12T06:37:59.195847Z",
     "iopub.status.idle": "2022-12-12T06:37:59.207426Z",
     "shell.execute_reply": "2022-12-12T06:37:59.206257Z"
    },
    "papermill": {
     "duration": 0.033385,
     "end_time": "2022-12-12T06:37:59.209705",
     "exception": false,
     "start_time": "2022-12-12T06:37:59.176320",
     "status": "completed"
    },
    "tags": []
   },
   "outputs": [
    {
     "data": {
      "text/html": [
       "<div>\n",
       "<style scoped>\n",
       "    .dataframe tbody tr th:only-of-type {\n",
       "        vertical-align: middle;\n",
       "    }\n",
       "\n",
       "    .dataframe tbody tr th {\n",
       "        vertical-align: top;\n",
       "    }\n",
       "\n",
       "    .dataframe thead th {\n",
       "        text-align: right;\n",
       "    }\n",
       "</style>\n",
       "<table border=\"1\" class=\"dataframe\">\n",
       "  <thead>\n",
       "    <tr style=\"text-align: right;\">\n",
       "      <th></th>\n",
       "      <th>id</th>\n",
       "      <th>value</th>\n",
       "      <th>feature</th>\n",
       "    </tr>\n",
       "  </thead>\n",
       "  <tbody>\n",
       "    <tr>\n",
       "      <th>0</th>\n",
       "      <td>madam_hihi</td>\n",
       "      <td>Ж</td>\n",
       "      <td>sex</td>\n",
       "    </tr>\n",
       "    <tr>\n",
       "      <th>1</th>\n",
       "      <td>madam_hihi</td>\n",
       "      <td>age_35_44</td>\n",
       "      <td>age</td>\n",
       "    </tr>\n",
       "    <tr>\n",
       "      <th>2</th>\n",
       "      <td>madam_hihi</td>\n",
       "      <td>income_90_150</td>\n",
       "      <td>income</td>\n",
       "    </tr>\n",
       "  </tbody>\n",
       "</table>\n",
       "</div>"
      ],
      "text/plain": [
       "           id          value feature\n",
       "0  madam_hihi              Ж     sex\n",
       "1  madam_hihi      age_35_44     age\n",
       "2  madam_hihi  income_90_150  income"
      ]
     },
     "execution_count": 44,
     "metadata": {},
     "output_type": "execute_result"
    }
   ],
   "source": [
    "madam_hihi = create_avatar('madam_hihi', 'Ж', 'age_35_44', 'income_90_150')\n",
    "madam_hihi"
   ]
  },
  {
   "cell_type": "code",
   "execution_count": 45,
   "id": "467fe0bd",
   "metadata": {
    "execution": {
     "iopub.execute_input": "2022-12-12T06:37:59.251717Z",
     "iopub.status.busy": "2022-12-12T06:37:59.250739Z",
     "iopub.status.idle": "2022-12-12T06:37:59.512101Z",
     "shell.execute_reply": "2022-12-12T06:37:59.510712Z"
    },
    "papermill": {
     "duration": 0.285213,
     "end_time": "2022-12-12T06:37:59.515038",
     "exception": false,
     "start_time": "2022-12-12T06:37:59.229825",
     "status": "completed"
    },
    "tags": []
   },
   "outputs": [
    {
     "data": {
      "text/html": [
       "<div>\n",
       "<style scoped>\n",
       "    .dataframe tbody tr th:only-of-type {\n",
       "        vertical-align: middle;\n",
       "    }\n",
       "\n",
       "    .dataframe tbody tr th {\n",
       "        vertical-align: top;\n",
       "    }\n",
       "\n",
       "    .dataframe thead th {\n",
       "        text-align: right;\n",
       "    }\n",
       "</style>\n",
       "<table border=\"1\" class=\"dataframe\">\n",
       "  <thead>\n",
       "    <tr style=\"text-align: right;\">\n",
       "      <th></th>\n",
       "      <th>user_id</th>\n",
       "      <th>item_id</th>\n",
       "      <th>datetime</th>\n",
       "      <th>weight</th>\n",
       "      <th>watched_pct</th>\n",
       "    </tr>\n",
       "  </thead>\n",
       "  <tbody>\n",
       "    <tr>\n",
       "      <th>0</th>\n",
       "      <td>176549</td>\n",
       "      <td>9506</td>\n",
       "      <td>2021-05-11</td>\n",
       "      <td>3.0</td>\n",
       "      <td>72.0</td>\n",
       "    </tr>\n",
       "    <tr>\n",
       "      <th>1</th>\n",
       "      <td>699317</td>\n",
       "      <td>1659</td>\n",
       "      <td>2021-05-29</td>\n",
       "      <td>3.0</td>\n",
       "      <td>100.0</td>\n",
       "    </tr>\n",
       "    <tr>\n",
       "      <th>2</th>\n",
       "      <td>656683</td>\n",
       "      <td>7107</td>\n",
       "      <td>2021-05-09</td>\n",
       "      <td>1.0</td>\n",
       "      <td>0.0</td>\n",
       "    </tr>\n",
       "    <tr>\n",
       "      <th>3</th>\n",
       "      <td>864613</td>\n",
       "      <td>7638</td>\n",
       "      <td>2021-07-05</td>\n",
       "      <td>3.0</td>\n",
       "      <td>100.0</td>\n",
       "    </tr>\n",
       "    <tr>\n",
       "      <th>4</th>\n",
       "      <td>964868</td>\n",
       "      <td>9506</td>\n",
       "      <td>2021-04-30</td>\n",
       "      <td>3.0</td>\n",
       "      <td>100.0</td>\n",
       "    </tr>\n",
       "    <tr>\n",
       "      <th>5</th>\n",
       "      <td>1032142</td>\n",
       "      <td>6686</td>\n",
       "      <td>2021-05-13</td>\n",
       "      <td>3.0</td>\n",
       "      <td>100.0</td>\n",
       "    </tr>\n",
       "    <tr>\n",
       "      <th>6</th>\n",
       "      <td>1016458</td>\n",
       "      <td>354</td>\n",
       "      <td>2021-08-14</td>\n",
       "      <td>3.0</td>\n",
       "      <td>25.0</td>\n",
       "    </tr>\n",
       "    <tr>\n",
       "      <th>7</th>\n",
       "      <td>884009</td>\n",
       "      <td>693</td>\n",
       "      <td>2021-08-04</td>\n",
       "      <td>3.0</td>\n",
       "      <td>14.0</td>\n",
       "    </tr>\n",
       "    <tr>\n",
       "      <th>8</th>\n",
       "      <td>648682</td>\n",
       "      <td>1449</td>\n",
       "      <td>2021-06-13</td>\n",
       "      <td>3.0</td>\n",
       "      <td>75.0</td>\n",
       "    </tr>\n",
       "    <tr>\n",
       "      <th>10</th>\n",
       "      <td>791466</td>\n",
       "      <td>8199</td>\n",
       "      <td>2021-07-27</td>\n",
       "      <td>1.0</td>\n",
       "      <td>9.0</td>\n",
       "    </tr>\n",
       "  </tbody>\n",
       "</table>\n",
       "</div>"
      ],
      "text/plain": [
       "    user_id  item_id   datetime  weight  watched_pct\n",
       "0    176549     9506 2021-05-11     3.0         72.0\n",
       "1    699317     1659 2021-05-29     3.0        100.0\n",
       "2    656683     7107 2021-05-09     1.0          0.0\n",
       "3    864613     7638 2021-07-05     3.0        100.0\n",
       "4    964868     9506 2021-04-30     3.0        100.0\n",
       "5   1032142     6686 2021-05-13     3.0        100.0\n",
       "6   1016458      354 2021-08-14     3.0         25.0\n",
       "7    884009      693 2021-08-04     3.0         14.0\n",
       "8    648682     1449 2021-06-13     3.0         75.0\n",
       "10   791466     8199 2021-07-27     1.0          9.0"
      ]
     },
     "execution_count": 45,
     "metadata": {},
     "output_type": "execute_result"
    }
   ],
   "source": [
    "avatar_train = pd.concat([train, ger_horror_watched.drop(['title', 'genres'], axis=1),\n",
    "                          rambo_watched.drop(['title', 'genres'], axis=1), \n",
    "                          madam_hihi_watched.drop(['title', 'genres'], axis=1),], sort=False)\n",
    "avatar_train.head(10)"
   ]
  },
  {
   "cell_type": "code",
   "execution_count": 46,
   "id": "c5b776ad",
   "metadata": {
    "execution": {
     "iopub.execute_input": "2022-12-12T06:37:59.559982Z",
     "iopub.status.busy": "2022-12-12T06:37:59.559231Z",
     "iopub.status.idle": "2022-12-12T06:37:59.571457Z",
     "shell.execute_reply": "2022-12-12T06:37:59.570336Z"
    },
    "papermill": {
     "duration": 0.036538,
     "end_time": "2022-12-12T06:37:59.573687",
     "exception": false,
     "start_time": "2022-12-12T06:37:59.537149",
     "status": "completed"
    },
    "tags": []
   },
   "outputs": [
    {
     "data": {
      "text/html": [
       "<div>\n",
       "<style scoped>\n",
       "    .dataframe tbody tr th:only-of-type {\n",
       "        vertical-align: middle;\n",
       "    }\n",
       "\n",
       "    .dataframe tbody tr th {\n",
       "        vertical-align: top;\n",
       "    }\n",
       "\n",
       "    .dataframe thead th {\n",
       "        text-align: right;\n",
       "    }\n",
       "</style>\n",
       "<table border=\"1\" class=\"dataframe\">\n",
       "  <thead>\n",
       "    <tr style=\"text-align: right;\">\n",
       "      <th></th>\n",
       "      <th>user_id</th>\n",
       "      <th>item_id</th>\n",
       "      <th>datetime</th>\n",
       "      <th>weight</th>\n",
       "      <th>watched_pct</th>\n",
       "    </tr>\n",
       "  </thead>\n",
       "  <tbody>\n",
       "    <tr>\n",
       "      <th>6</th>\n",
       "      <td>rambo</td>\n",
       "      <td>10036</td>\n",
       "      <td>NaT</td>\n",
       "      <td>NaN</td>\n",
       "      <td>NaN</td>\n",
       "    </tr>\n",
       "    <tr>\n",
       "      <th>7</th>\n",
       "      <td>rambo</td>\n",
       "      <td>10073</td>\n",
       "      <td>NaT</td>\n",
       "      <td>NaN</td>\n",
       "      <td>NaN</td>\n",
       "    </tr>\n",
       "    <tr>\n",
       "      <th>0</th>\n",
       "      <td>madam_hihi</td>\n",
       "      <td>14172</td>\n",
       "      <td>NaT</td>\n",
       "      <td>NaN</td>\n",
       "      <td>NaN</td>\n",
       "    </tr>\n",
       "    <tr>\n",
       "      <th>1</th>\n",
       "      <td>madam_hihi</td>\n",
       "      <td>12508</td>\n",
       "      <td>NaT</td>\n",
       "      <td>NaN</td>\n",
       "      <td>NaN</td>\n",
       "    </tr>\n",
       "    <tr>\n",
       "      <th>2</th>\n",
       "      <td>madam_hihi</td>\n",
       "      <td>11341</td>\n",
       "      <td>NaT</td>\n",
       "      <td>NaN</td>\n",
       "      <td>NaN</td>\n",
       "    </tr>\n",
       "    <tr>\n",
       "      <th>3</th>\n",
       "      <td>madam_hihi</td>\n",
       "      <td>3747</td>\n",
       "      <td>NaT</td>\n",
       "      <td>NaN</td>\n",
       "      <td>NaN</td>\n",
       "    </tr>\n",
       "    <tr>\n",
       "      <th>4</th>\n",
       "      <td>madam_hihi</td>\n",
       "      <td>12450</td>\n",
       "      <td>NaT</td>\n",
       "      <td>NaN</td>\n",
       "      <td>NaN</td>\n",
       "    </tr>\n",
       "    <tr>\n",
       "      <th>5</th>\n",
       "      <td>madam_hihi</td>\n",
       "      <td>8024</td>\n",
       "      <td>NaT</td>\n",
       "      <td>NaN</td>\n",
       "      <td>NaN</td>\n",
       "    </tr>\n",
       "    <tr>\n",
       "      <th>6</th>\n",
       "      <td>madam_hihi</td>\n",
       "      <td>16356</td>\n",
       "      <td>NaT</td>\n",
       "      <td>NaN</td>\n",
       "      <td>NaN</td>\n",
       "    </tr>\n",
       "    <tr>\n",
       "      <th>7</th>\n",
       "      <td>madam_hihi</td>\n",
       "      <td>5829</td>\n",
       "      <td>NaT</td>\n",
       "      <td>NaN</td>\n",
       "      <td>NaN</td>\n",
       "    </tr>\n",
       "  </tbody>\n",
       "</table>\n",
       "</div>"
      ],
      "text/plain": [
       "      user_id  item_id datetime  weight  watched_pct\n",
       "6       rambo    10036      NaT     NaN          NaN\n",
       "7       rambo    10073      NaT     NaN          NaN\n",
       "0  madam_hihi    14172      NaT     NaN          NaN\n",
       "1  madam_hihi    12508      NaT     NaN          NaN\n",
       "2  madam_hihi    11341      NaT     NaN          NaN\n",
       "3  madam_hihi     3747      NaT     NaN          NaN\n",
       "4  madam_hihi    12450      NaT     NaN          NaN\n",
       "5  madam_hihi     8024      NaT     NaN          NaN\n",
       "6  madam_hihi    16356      NaT     NaN          NaN\n",
       "7  madam_hihi     5829      NaT     NaN          NaN"
      ]
     },
     "execution_count": 46,
     "metadata": {},
     "output_type": "execute_result"
    }
   ],
   "source": [
    "avatar_train.tail(10)"
   ]
  },
  {
   "cell_type": "code",
   "execution_count": 47,
   "id": "f3e9b7ad",
   "metadata": {
    "execution": {
     "iopub.execute_input": "2022-12-12T06:37:59.618806Z",
     "iopub.status.busy": "2022-12-12T06:37:59.617916Z",
     "iopub.status.idle": "2022-12-12T06:37:59.778128Z",
     "shell.execute_reply": "2022-12-12T06:37:59.776998Z"
    },
    "papermill": {
     "duration": 0.185875,
     "end_time": "2022-12-12T06:37:59.781208",
     "exception": false,
     "start_time": "2022-12-12T06:37:59.595333",
     "status": "completed"
    },
    "tags": []
   },
   "outputs": [],
   "source": [
    "avatar_train['datetime'] = avatar_train['datetime'].fillna(datetime.datetime(2021, 1, 1))\n",
    "avatar_train['weight'] = avatar_train['weight'].fillna(3)\n",
    "avatar_train['watched_pct'] = avatar_train['watched_pct'].fillna(80)"
   ]
  },
  {
   "cell_type": "code",
   "execution_count": 48,
   "id": "2640dff3",
   "metadata": {
    "execution": {
     "iopub.execute_input": "2022-12-12T06:37:59.824312Z",
     "iopub.status.busy": "2022-12-12T06:37:59.823944Z",
     "iopub.status.idle": "2022-12-12T06:38:25.683653Z",
     "shell.execute_reply": "2022-12-12T06:38:25.682391Z"
    },
    "papermill": {
     "duration": 25.882686,
     "end_time": "2022-12-12T06:38:25.686570",
     "exception": false,
     "start_time": "2022-12-12T06:37:59.803884",
     "status": "completed"
    },
    "tags": []
   },
   "outputs": [],
   "source": [
    "DATASET = LFMDataset()\n",
    "DATASET.fit(users=avatar_train[\"user_id\"].values,items=avatar_train[\"item_id\"].values,)\n",
    "inter_matrix, _ = DATASET.build_interactions(zip(*avatar_train[[\"user_id\", \"item_id\"]].values.T))"
   ]
  },
  {
   "cell_type": "code",
   "execution_count": 49,
   "id": "465e71aa",
   "metadata": {
    "execution": {
     "iopub.execute_input": "2022-12-12T06:38:25.773154Z",
     "iopub.status.busy": "2022-12-12T06:38:25.772700Z",
     "iopub.status.idle": "2022-12-12T06:38:46.072850Z",
     "shell.execute_reply": "2022-12-12T06:38:46.071597Z"
    },
    "papermill": {
     "duration": 20.355315,
     "end_time": "2022-12-12T06:38:46.075314",
     "exception": false,
     "start_time": "2022-12-12T06:38:25.719999",
     "status": "completed"
    },
    "tags": []
   },
   "outputs": [
    {
     "data": {
      "text/plain": [
       "<lightfm.lightfm.LightFM at 0x7f7b383db610>"
      ]
     },
     "execution_count": 49,
     "metadata": {},
     "output_type": "execute_result"
    }
   ],
   "source": [
    "model = LightFM(learning_rate=0.05, \n",
    "                loss='warp', \n",
    "                no_components=64,\n",
    "                random_state=100,\n",
    ")\n",
    "model.fit(interactions = inter_matrix, \n",
    "                        epochs=2,\n",
    "                        num_threads=20,\n",
    ")"
   ]
  },
  {
   "cell_type": "code",
   "execution_count": 50,
   "id": "641a978a",
   "metadata": {
    "execution": {
     "iopub.execute_input": "2022-12-12T06:38:46.122999Z",
     "iopub.status.busy": "2022-12-12T06:38:46.121187Z",
     "iopub.status.idle": "2022-12-12T06:38:46.128457Z",
     "shell.execute_reply": "2022-12-12T06:38:46.127441Z"
    },
    "papermill": {
     "duration": 0.031706,
     "end_time": "2022-12-12T06:38:46.130580",
     "exception": false,
     "start_time": "2022-12-12T06:38:46.098874",
     "status": "completed"
    },
    "tags": []
   },
   "outputs": [],
   "source": [
    "id_item_map = {v: k for k, v in DATASET._item_id_mapping.items()}"
   ]
  },
  {
   "cell_type": "code",
   "execution_count": 51,
   "id": "655259ce",
   "metadata": {
    "execution": {
     "iopub.execute_input": "2022-12-12T06:38:46.173995Z",
     "iopub.status.busy": "2022-12-12T06:38:46.173055Z",
     "iopub.status.idle": "2022-12-12T06:38:46.180642Z",
     "shell.execute_reply": "2022-12-12T06:38:46.179690Z"
    },
    "papermill": {
     "duration": 0.033031,
     "end_time": "2022-12-12T06:38:46.182891",
     "exception": false,
     "start_time": "2022-12-12T06:38:46.149860",
     "status": "completed"
    },
    "tags": []
   },
   "outputs": [],
   "source": [
    "def get_recos(user_id, model, inter_matrix, user_to_id, id_to_item, n_recommendations = N):\n",
    "    inner_id = user_to_id[user_id]\n",
    "    scores = model.predict(user_ids=inner_id,\n",
    "                            item_ids=np.arange(inter_matrix.shape[1]),\n",
    "                            num_threads=20)\n",
    "    watched_items = inter_matrix.col[inter_matrix.row == inner_id]\n",
    "    scores[watched_items] = -np.inf\n",
    "    reco_item_inner_ids = np.argpartition(scores, -np.arange(n_recommendations))[-n_recommendations:][::-1]\n",
    "    recos = [id_to_item[x] for x in reco_item_inner_ids]\n",
    "    return recos\n"
   ]
  },
  {
   "cell_type": "code",
   "execution_count": 52,
   "id": "1d1efa98",
   "metadata": {
    "execution": {
     "iopub.execute_input": "2022-12-12T06:38:46.227508Z",
     "iopub.status.busy": "2022-12-12T06:38:46.226466Z",
     "iopub.status.idle": "2022-12-12T06:38:46.254521Z",
     "shell.execute_reply": "2022-12-12T06:38:46.253532Z"
    },
    "papermill": {
     "duration": 0.052215,
     "end_time": "2022-12-12T06:38:46.256482",
     "exception": false,
     "start_time": "2022-12-12T06:38:46.204267",
     "status": "completed"
    },
    "tags": []
   },
   "outputs": [
    {
     "data": {
      "text/html": [
       "<div>\n",
       "<style scoped>\n",
       "    .dataframe tbody tr th:only-of-type {\n",
       "        vertical-align: middle;\n",
       "    }\n",
       "\n",
       "    .dataframe tbody tr th {\n",
       "        vertical-align: top;\n",
       "    }\n",
       "\n",
       "    .dataframe thead th {\n",
       "        text-align: right;\n",
       "    }\n",
       "</style>\n",
       "<table border=\"1\" class=\"dataframe\">\n",
       "  <thead>\n",
       "    <tr style=\"text-align: right;\">\n",
       "      <th></th>\n",
       "      <th>user_id</th>\n",
       "      <th>item_id</th>\n",
       "      <th>title</th>\n",
       "      <th>genres</th>\n",
       "    </tr>\n",
       "  </thead>\n",
       "  <tbody>\n",
       "    <tr>\n",
       "      <th>0</th>\n",
       "      <td>ger_horror</td>\n",
       "      <td>10440</td>\n",
       "      <td>Хрустальный</td>\n",
       "      <td>триллеры, детективы</td>\n",
       "    </tr>\n",
       "    <tr>\n",
       "      <th>1</th>\n",
       "      <td>ger_horror</td>\n",
       "      <td>9728</td>\n",
       "      <td>Гнев человеческий</td>\n",
       "      <td>боевики, триллеры</td>\n",
       "    </tr>\n",
       "    <tr>\n",
       "      <th>2</th>\n",
       "      <td>ger_horror</td>\n",
       "      <td>15297</td>\n",
       "      <td>Клиника счастья</td>\n",
       "      <td>драмы, мелодрамы</td>\n",
       "    </tr>\n",
       "    <tr>\n",
       "      <th>3</th>\n",
       "      <td>ger_horror</td>\n",
       "      <td>2657</td>\n",
       "      <td>Подслушано</td>\n",
       "      <td>драмы, триллеры</td>\n",
       "    </tr>\n",
       "    <tr>\n",
       "      <th>4</th>\n",
       "      <td>ger_horror</td>\n",
       "      <td>14741</td>\n",
       "      <td>Цвет из иных миров</td>\n",
       "      <td>фантастика, ужасы</td>\n",
       "    </tr>\n",
       "    <tr>\n",
       "      <th>5</th>\n",
       "      <td>ger_horror</td>\n",
       "      <td>7571</td>\n",
       "      <td>100% волк</td>\n",
       "      <td>мультфильм, приключения, семейное, фэнтези, ко...</td>\n",
       "    </tr>\n",
       "    <tr>\n",
       "      <th>6</th>\n",
       "      <td>ger_horror</td>\n",
       "      <td>4151</td>\n",
       "      <td>Секреты семейной жизни</td>\n",
       "      <td>комедии</td>\n",
       "    </tr>\n",
       "    <tr>\n",
       "      <th>7</th>\n",
       "      <td>ger_horror</td>\n",
       "      <td>13865</td>\n",
       "      <td>Девятаев</td>\n",
       "      <td>драмы, военные, приключения</td>\n",
       "    </tr>\n",
       "    <tr>\n",
       "      <th>8</th>\n",
       "      <td>ger_horror</td>\n",
       "      <td>14431</td>\n",
       "      <td>Приворот. Чёрное венчание</td>\n",
       "      <td>ужасы, триллеры, мелодрамы</td>\n",
       "    </tr>\n",
       "    <tr>\n",
       "      <th>9</th>\n",
       "      <td>ger_horror</td>\n",
       "      <td>3734</td>\n",
       "      <td>Прабабушка легкого поведения</td>\n",
       "      <td>комедии</td>\n",
       "    </tr>\n",
       "  </tbody>\n",
       "</table>\n",
       "</div>"
      ],
      "text/plain": [
       "      user_id  item_id                         title  \\\n",
       "0  ger_horror    10440                   Хрустальный   \n",
       "1  ger_horror     9728             Гнев человеческий   \n",
       "2  ger_horror    15297               Клиника счастья   \n",
       "3  ger_horror     2657                    Подслушано   \n",
       "4  ger_horror    14741            Цвет из иных миров   \n",
       "5  ger_horror     7571                     100% волк   \n",
       "6  ger_horror     4151        Секреты семейной жизни   \n",
       "7  ger_horror    13865                      Девятаев   \n",
       "8  ger_horror    14431     Приворот. Чёрное венчание   \n",
       "9  ger_horror     3734  Прабабушка легкого поведения   \n",
       "\n",
       "                                              genres  \n",
       "0                                триллеры, детективы  \n",
       "1                                  боевики, триллеры  \n",
       "2                                   драмы, мелодрамы  \n",
       "3                                    драмы, триллеры  \n",
       "4                                  фантастика, ужасы  \n",
       "5  мультфильм, приключения, семейное, фэнтези, ко...  \n",
       "6                                            комедии  \n",
       "7                        драмы, военные, приключения  \n",
       "8                         ужасы, триллеры, мелодрамы  \n",
       "9                                            комедии  "
      ]
     },
     "execution_count": 52,
     "metadata": {},
     "output_type": "execute_result"
    }
   ],
   "source": [
    "# рекомендации для аватара ger_horror\n",
    "\n",
    "user_id = \"ger_horror\"\n",
    "\n",
    "recommended_items = get_recos(user_id=user_id,\n",
    "                              model=model,\n",
    "                              inter_matrix=inter_matrix,\n",
    "                              user_to_id=DATASET._user_id_mapping,\n",
    "                              id_to_item=id_item_map,\n",
    "                              n_recommendations=N\n",
    ")\n",
    "\n",
    "ger_horror_recos = pd.DataFrame({\"user_id\": user_id, \"item_id\": recommended_items}).merge(item_df[[\"item_id\", \"title\", \"genres\"]])\n",
    "ger_horror_recos"
   ]
  },
  {
   "cell_type": "code",
   "execution_count": 53,
   "id": "530f7189",
   "metadata": {
    "execution": {
     "iopub.execute_input": "2022-12-12T06:38:46.300149Z",
     "iopub.status.busy": "2022-12-12T06:38:46.299213Z",
     "iopub.status.idle": "2022-12-12T06:38:46.326802Z",
     "shell.execute_reply": "2022-12-12T06:38:46.325807Z"
    },
    "papermill": {
     "duration": 0.053036,
     "end_time": "2022-12-12T06:38:46.329097",
     "exception": false,
     "start_time": "2022-12-12T06:38:46.276061",
     "status": "completed"
    },
    "tags": []
   },
   "outputs": [
    {
     "data": {
      "text/html": [
       "<div>\n",
       "<style scoped>\n",
       "    .dataframe tbody tr th:only-of-type {\n",
       "        vertical-align: middle;\n",
       "    }\n",
       "\n",
       "    .dataframe tbody tr th {\n",
       "        vertical-align: top;\n",
       "    }\n",
       "\n",
       "    .dataframe thead th {\n",
       "        text-align: right;\n",
       "    }\n",
       "</style>\n",
       "<table border=\"1\" class=\"dataframe\">\n",
       "  <thead>\n",
       "    <tr style=\"text-align: right;\">\n",
       "      <th></th>\n",
       "      <th>user_id</th>\n",
       "      <th>item_id</th>\n",
       "      <th>title</th>\n",
       "      <th>genres</th>\n",
       "    </tr>\n",
       "  </thead>\n",
       "  <tbody>\n",
       "    <tr>\n",
       "      <th>0</th>\n",
       "      <td>rambo</td>\n",
       "      <td>10440</td>\n",
       "      <td>Хрустальный</td>\n",
       "      <td>триллеры, детективы</td>\n",
       "    </tr>\n",
       "    <tr>\n",
       "      <th>1</th>\n",
       "      <td>rambo</td>\n",
       "      <td>13865</td>\n",
       "      <td>Девятаев</td>\n",
       "      <td>драмы, военные, приключения</td>\n",
       "    </tr>\n",
       "    <tr>\n",
       "      <th>2</th>\n",
       "      <td>rambo</td>\n",
       "      <td>15297</td>\n",
       "      <td>Клиника счастья</td>\n",
       "      <td>драмы, мелодрамы</td>\n",
       "    </tr>\n",
       "    <tr>\n",
       "      <th>3</th>\n",
       "      <td>rambo</td>\n",
       "      <td>9728</td>\n",
       "      <td>Гнев человеческий</td>\n",
       "      <td>боевики, триллеры</td>\n",
       "    </tr>\n",
       "    <tr>\n",
       "      <th>4</th>\n",
       "      <td>rambo</td>\n",
       "      <td>3734</td>\n",
       "      <td>Прабабушка легкого поведения</td>\n",
       "      <td>комедии</td>\n",
       "    </tr>\n",
       "    <tr>\n",
       "      <th>5</th>\n",
       "      <td>rambo</td>\n",
       "      <td>4151</td>\n",
       "      <td>Секреты семейной жизни</td>\n",
       "      <td>комедии</td>\n",
       "    </tr>\n",
       "    <tr>\n",
       "      <th>6</th>\n",
       "      <td>rambo</td>\n",
       "      <td>4880</td>\n",
       "      <td>Афера</td>\n",
       "      <td>комедии</td>\n",
       "    </tr>\n",
       "    <tr>\n",
       "      <th>7</th>\n",
       "      <td>rambo</td>\n",
       "      <td>11237</td>\n",
       "      <td>День города</td>\n",
       "      <td>комедии</td>\n",
       "    </tr>\n",
       "    <tr>\n",
       "      <th>8</th>\n",
       "      <td>rambo</td>\n",
       "      <td>2657</td>\n",
       "      <td>Подслушано</td>\n",
       "      <td>драмы, триллеры</td>\n",
       "    </tr>\n",
       "    <tr>\n",
       "      <th>9</th>\n",
       "      <td>rambo</td>\n",
       "      <td>7571</td>\n",
       "      <td>100% волк</td>\n",
       "      <td>мультфильм, приключения, семейное, фэнтези, ко...</td>\n",
       "    </tr>\n",
       "  </tbody>\n",
       "</table>\n",
       "</div>"
      ],
      "text/plain": [
       "  user_id  item_id                         title  \\\n",
       "0   rambo    10440                   Хрустальный   \n",
       "1   rambo    13865                      Девятаев   \n",
       "2   rambo    15297               Клиника счастья   \n",
       "3   rambo     9728             Гнев человеческий   \n",
       "4   rambo     3734  Прабабушка легкого поведения   \n",
       "5   rambo     4151        Секреты семейной жизни   \n",
       "6   rambo     4880                         Афера   \n",
       "7   rambo    11237                   День города   \n",
       "8   rambo     2657                    Подслушано   \n",
       "9   rambo     7571                     100% волк   \n",
       "\n",
       "                                              genres  \n",
       "0                                триллеры, детективы  \n",
       "1                        драмы, военные, приключения  \n",
       "2                                   драмы, мелодрамы  \n",
       "3                                  боевики, триллеры  \n",
       "4                                            комедии  \n",
       "5                                            комедии  \n",
       "6                                            комедии  \n",
       "7                                            комедии  \n",
       "8                                    драмы, триллеры  \n",
       "9  мультфильм, приключения, семейное, фэнтези, ко...  "
      ]
     },
     "execution_count": 53,
     "metadata": {},
     "output_type": "execute_result"
    }
   ],
   "source": [
    "# рекомендации для аватара rambo\n",
    "\n",
    "user_id = \"rambo\"\n",
    "\n",
    "recommended_items = get_recos(user_id=user_id,\n",
    "                              model=model,\n",
    "                              inter_matrix=inter_matrix,\n",
    "                              user_to_id=DATASET._user_id_mapping,\n",
    "                              id_to_item=id_item_map,\n",
    "                              n_recommendations=N\n",
    ")\n",
    "\n",
    "rambo_recos = pd.DataFrame({\"user_id\": user_id, \"item_id\": recommended_items}).merge(item_df[[\"item_id\", \"title\", \"genres\"]])\n",
    "rambo_recos"
   ]
  },
  {
   "cell_type": "code",
   "execution_count": 54,
   "id": "fcc75443",
   "metadata": {
    "execution": {
     "iopub.execute_input": "2022-12-12T06:38:46.375916Z",
     "iopub.status.busy": "2022-12-12T06:38:46.374734Z",
     "iopub.status.idle": "2022-12-12T06:38:46.401597Z",
     "shell.execute_reply": "2022-12-12T06:38:46.400584Z"
    },
    "papermill": {
     "duration": 0.052432,
     "end_time": "2022-12-12T06:38:46.404206",
     "exception": false,
     "start_time": "2022-12-12T06:38:46.351774",
     "status": "completed"
    },
    "tags": []
   },
   "outputs": [
    {
     "data": {
      "text/html": [
       "<div>\n",
       "<style scoped>\n",
       "    .dataframe tbody tr th:only-of-type {\n",
       "        vertical-align: middle;\n",
       "    }\n",
       "\n",
       "    .dataframe tbody tr th {\n",
       "        vertical-align: top;\n",
       "    }\n",
       "\n",
       "    .dataframe thead th {\n",
       "        text-align: right;\n",
       "    }\n",
       "</style>\n",
       "<table border=\"1\" class=\"dataframe\">\n",
       "  <thead>\n",
       "    <tr style=\"text-align: right;\">\n",
       "      <th></th>\n",
       "      <th>user_id</th>\n",
       "      <th>item_id</th>\n",
       "      <th>title</th>\n",
       "      <th>genres</th>\n",
       "    </tr>\n",
       "  </thead>\n",
       "  <tbody>\n",
       "    <tr>\n",
       "      <th>0</th>\n",
       "      <td>madam_hihi</td>\n",
       "      <td>3734</td>\n",
       "      <td>Прабабушка легкого поведения</td>\n",
       "      <td>комедии</td>\n",
       "    </tr>\n",
       "    <tr>\n",
       "      <th>1</th>\n",
       "      <td>madam_hihi</td>\n",
       "      <td>15297</td>\n",
       "      <td>Клиника счастья</td>\n",
       "      <td>драмы, мелодрамы</td>\n",
       "    </tr>\n",
       "    <tr>\n",
       "      <th>2</th>\n",
       "      <td>madam_hihi</td>\n",
       "      <td>9728</td>\n",
       "      <td>Гнев человеческий</td>\n",
       "      <td>боевики, триллеры</td>\n",
       "    </tr>\n",
       "    <tr>\n",
       "      <th>3</th>\n",
       "      <td>madam_hihi</td>\n",
       "      <td>10440</td>\n",
       "      <td>Хрустальный</td>\n",
       "      <td>триллеры, детективы</td>\n",
       "    </tr>\n",
       "    <tr>\n",
       "      <th>4</th>\n",
       "      <td>madam_hihi</td>\n",
       "      <td>13865</td>\n",
       "      <td>Девятаев</td>\n",
       "      <td>драмы, военные, приключения</td>\n",
       "    </tr>\n",
       "    <tr>\n",
       "      <th>5</th>\n",
       "      <td>madam_hihi</td>\n",
       "      <td>4151</td>\n",
       "      <td>Секреты семейной жизни</td>\n",
       "      <td>комедии</td>\n",
       "    </tr>\n",
       "    <tr>\n",
       "      <th>6</th>\n",
       "      <td>madam_hihi</td>\n",
       "      <td>7571</td>\n",
       "      <td>100% волк</td>\n",
       "      <td>мультфильм, приключения, семейное, фэнтези, ко...</td>\n",
       "    </tr>\n",
       "    <tr>\n",
       "      <th>7</th>\n",
       "      <td>madam_hihi</td>\n",
       "      <td>16166</td>\n",
       "      <td>Зверополис</td>\n",
       "      <td>приключения, мультфильм, детективы, комедии</td>\n",
       "    </tr>\n",
       "    <tr>\n",
       "      <th>8</th>\n",
       "      <td>madam_hihi</td>\n",
       "      <td>4880</td>\n",
       "      <td>Афера</td>\n",
       "      <td>комедии</td>\n",
       "    </tr>\n",
       "    <tr>\n",
       "      <th>9</th>\n",
       "      <td>madam_hihi</td>\n",
       "      <td>11237</td>\n",
       "      <td>День города</td>\n",
       "      <td>комедии</td>\n",
       "    </tr>\n",
       "  </tbody>\n",
       "</table>\n",
       "</div>"
      ],
      "text/plain": [
       "      user_id  item_id                         title  \\\n",
       "0  madam_hihi     3734  Прабабушка легкого поведения   \n",
       "1  madam_hihi    15297               Клиника счастья   \n",
       "2  madam_hihi     9728             Гнев человеческий   \n",
       "3  madam_hihi    10440                   Хрустальный   \n",
       "4  madam_hihi    13865                      Девятаев   \n",
       "5  madam_hihi     4151        Секреты семейной жизни   \n",
       "6  madam_hihi     7571                     100% волк   \n",
       "7  madam_hihi    16166                    Зверополис   \n",
       "8  madam_hihi     4880                         Афера   \n",
       "9  madam_hihi    11237                   День города   \n",
       "\n",
       "                                              genres  \n",
       "0                                            комедии  \n",
       "1                                   драмы, мелодрамы  \n",
       "2                                  боевики, триллеры  \n",
       "3                                триллеры, детективы  \n",
       "4                        драмы, военные, приключения  \n",
       "5                                            комедии  \n",
       "6  мультфильм, приключения, семейное, фэнтези, ко...  \n",
       "7        приключения, мультфильм, детективы, комедии  \n",
       "8                                            комедии  \n",
       "9                                            комедии  "
      ]
     },
     "execution_count": 54,
     "metadata": {},
     "output_type": "execute_result"
    }
   ],
   "source": [
    "# рекомендации для аватара madam_hihi\n",
    "\n",
    "user_id = \"madam_hihi\"\n",
    "\n",
    "recommended_items = get_recos(user_id=user_id,\n",
    "                              model=model,\n",
    "                              inter_matrix=inter_matrix,\n",
    "                              user_to_id=DATASET._user_id_mapping,\n",
    "                              id_to_item=id_item_map,\n",
    "                              n_recommendations=N\n",
    ")\n",
    "\n",
    "madam_hihi_recos = pd.DataFrame({\"user_id\": user_id, \"item_id\": recommended_items}).merge(item_df[[\"item_id\", \"title\", \"genres\"]])\n",
    "madam_hihi_recos"
   ]
  }
 ],
 "metadata": {
  "kernelspec": {
   "display_name": "Python 3",
   "language": "python",
   "name": "python3"
  },
  "language_info": {
   "codemirror_mode": {
    "name": "ipython",
    "version": 3
   },
   "file_extension": ".py",
   "mimetype": "text/x-python",
   "name": "python",
   "nbconvert_exporter": "python",
   "pygments_lexer": "ipython3",
   "version": "3.7.12"
  },
  "papermill": {
   "default_parameters": {},
   "duration": 3977.925736,
   "end_time": "2022-12-12T06:38:49.299404",
   "environment_variables": {},
   "exception": null,
   "input_path": "__notebook__.ipynb",
   "output_path": "__notebook__.ipynb",
   "parameters": {},
   "start_time": "2022-12-12T05:32:31.373668",
   "version": "2.3.4"
  }
 },
 "nbformat": 4,
 "nbformat_minor": 5
}
