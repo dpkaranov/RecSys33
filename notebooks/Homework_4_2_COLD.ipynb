{
 "cells": [
  {
   "cell_type": "markdown",
   "id": "5f72b800",
   "metadata": {
    "_cell_guid": "b1076dfc-b9ad-4769-8c92-a6c4dae69d19",
    "_uuid": "8f2839f25d086af736a60e9eeb907d3b93b6e0e5",
    "papermill": {
     "duration": 0.009796,
     "end_time": "2022-12-12T18:54:25.444781",
     "exception": false,
     "start_time": "2022-12-12T18:54:25.434985",
     "status": "completed"
    },
    "tags": []
   },
   "source": [
    "# Домашнее задание № 4 часть 2 (курс МТС, команда 33)"
   ]
  },
  {
   "cell_type": "markdown",
   "id": "156758d0",
   "metadata": {
    "papermill": {
     "duration": 0.008634,
     "end_time": "2022-12-12T18:54:25.462492",
     "exception": false,
     "start_time": "2022-12-12T18:54:25.453858",
     "status": "completed"
    },
    "tags": []
   },
   "source": [
    "## Подготовка окружения для проведения эксперимента"
   ]
  },
  {
   "cell_type": "code",
   "execution_count": 1,
   "id": "34900a2a",
   "metadata": {
    "execution": {
     "iopub.execute_input": "2022-12-12T18:54:25.482878Z",
     "iopub.status.busy": "2022-12-12T18:54:25.482262Z",
     "iopub.status.idle": "2022-12-12T18:54:37.418737Z",
     "shell.execute_reply": "2022-12-12T18:54:37.417734Z"
    },
    "papermill": {
     "duration": 11.94981,
     "end_time": "2022-12-12T18:54:37.421287",
     "exception": false,
     "start_time": "2022-12-12T18:54:25.471477",
     "status": "completed"
    },
    "tags": []
   },
   "outputs": [
    {
     "name": "stdout",
     "output_type": "stream",
     "text": [
      "\u001b[33mWARNING: Running pip as the 'root' user can result in broken permissions and conflicting behaviour with the system package manager. It is recommended to use a virtual environment instead: https://pip.pypa.io/warnings/venv\u001b[0m\u001b[33m\r\n",
      "\u001b[0m"
     ]
    }
   ],
   "source": [
    "# устанавливаем необходимые зависимости\n",
    "!pip install rectools > None"
   ]
  },
  {
   "cell_type": "code",
   "execution_count": 2,
   "id": "92dd6650",
   "metadata": {
    "execution": {
     "iopub.execute_input": "2022-12-12T18:54:37.442015Z",
     "iopub.status.busy": "2022-12-12T18:54:37.441622Z",
     "iopub.status.idle": "2022-12-12T18:54:43.323562Z",
     "shell.execute_reply": "2022-12-12T18:54:43.322187Z"
    },
    "papermill": {
     "duration": 5.894624,
     "end_time": "2022-12-12T18:54:43.325980",
     "exception": false,
     "start_time": "2022-12-12T18:54:37.431356",
     "status": "completed"
    },
    "tags": []
   },
   "outputs": [
    {
     "name": "stderr",
     "output_type": "stream",
     "text": [
      "Your CPU supports instructions that this binary was not compiled to use: SSE3 SSE4.1 SSE4.2 AVX AVX2\n",
      "For maximum performance, you can install NMSLIB from sources \n",
      "pip install --no-binary :all: nmslib\n"
     ]
    }
   ],
   "source": [
    "# импортируем зависимости\n",
    "\n",
    "import pandas as pd\n",
    "import numpy as np\n",
    "\n",
    "import nmslib\n",
    "from rectools.metrics import Recall, MAP, calc_metrics\n",
    "from rectools.models import LightFMWrapperModel\n",
    "from rectools import Columns\n",
    "from rectools.dataset import Dataset\n",
    "from lightfm import LightFM\n",
    "from lightfm.data import Dataset as LFMDataset"
   ]
  },
  {
   "cell_type": "code",
   "execution_count": 3,
   "id": "0b45fc3a",
   "metadata": {
    "execution": {
     "iopub.execute_input": "2022-12-12T18:54:43.345965Z",
     "iopub.status.busy": "2022-12-12T18:54:43.345118Z",
     "iopub.status.idle": "2022-12-12T18:54:48.674577Z",
     "shell.execute_reply": "2022-12-12T18:54:48.673663Z"
    },
    "papermill": {
     "duration": 5.342229,
     "end_time": "2022-12-12T18:54:48.677192",
     "exception": false,
     "start_time": "2022-12-12T18:54:43.334963",
     "status": "completed"
    },
    "tags": []
   },
   "outputs": [
    {
     "name": "stdout",
     "output_type": "stream",
     "text": [
      "--2022-12-12 18:54:43--  https://storage.yandexcloud.net/itmo-recsys-public-data/kion_train.zip\r\n",
      "Resolving storage.yandexcloud.net (storage.yandexcloud.net)... 213.180.193.243, 2a02:6b8::1d9\r\n",
      "Connecting to storage.yandexcloud.net (storage.yandexcloud.net)|213.180.193.243|:443... connected.\r\n",
      "HTTP request sent, awaiting response... 200 OK\r\n",
      "Length: 78795385 (75M) [application/zip]\r\n",
      "Saving to: ‘kion_train.zip’\r\n",
      "\r\n",
      "kion_train.zip      100%[===================>]  75.14M  22.7MB/s    in 4.1s    \r\n",
      "\r\n",
      "2022-12-12 18:54:48 (18.3 MB/s) - ‘kion_train.zip’ saved [78795385/78795385]\r\n",
      "\r\n"
     ]
    }
   ],
   "source": [
    "# скачиваем датасеты\n",
    "\n",
    "!wget https://storage.yandexcloud.net/itmo-recsys-public-data/kion_train.zip"
   ]
  },
  {
   "cell_type": "code",
   "execution_count": 4,
   "id": "9c8f4c29",
   "metadata": {
    "execution": {
     "iopub.execute_input": "2022-12-12T18:54:48.701656Z",
     "iopub.status.busy": "2022-12-12T18:54:48.700865Z",
     "iopub.status.idle": "2022-12-12T18:54:48.985470Z",
     "shell.execute_reply": "2022-12-12T18:54:48.984521Z"
    },
    "papermill": {
     "duration": 0.298765,
     "end_time": "2022-12-12T18:54:48.987973",
     "exception": false,
     "start_time": "2022-12-12T18:54:48.689208",
     "status": "completed"
    },
    "tags": []
   },
   "outputs": [
    {
     "name": "stdout",
     "output_type": "stream",
     "text": [
      "None  __notebook__.ipynb  kion_train.zip\r\n"
     ]
    }
   ],
   "source": [
    "!ls"
   ]
  },
  {
   "cell_type": "code",
   "execution_count": 5,
   "id": "f7066afb",
   "metadata": {
    "execution": {
     "iopub.execute_input": "2022-12-12T18:54:49.013267Z",
     "iopub.status.busy": "2022-12-12T18:54:49.012495Z",
     "iopub.status.idle": "2022-12-12T18:54:51.084959Z",
     "shell.execute_reply": "2022-12-12T18:54:51.083798Z"
    },
    "papermill": {
     "duration": 2.087822,
     "end_time": "2022-12-12T18:54:51.087299",
     "exception": false,
     "start_time": "2022-12-12T18:54:48.999477",
     "status": "completed"
    },
    "tags": []
   },
   "outputs": [
    {
     "name": "stdout",
     "output_type": "stream",
     "text": [
      "Archive:  ./kion_train.zip\r\n",
      "   creating: kion_train/\r\n",
      "  inflating: kion_train/interactions.csv  \r\n",
      "  inflating: __MACOSX/kion_train/._interactions.csv  \r\n",
      "  inflating: kion_train/users.csv    \r\n",
      "  inflating: __MACOSX/kion_train/._users.csv  \r\n",
      "  inflating: kion_train/items.csv    \r\n",
      "  inflating: __MACOSX/kion_train/._items.csv  \r\n"
     ]
    }
   ],
   "source": [
    "!unzip ./kion_train.zip "
   ]
  },
  {
   "cell_type": "code",
   "execution_count": 6,
   "id": "cdfe877f",
   "metadata": {
    "execution": {
     "iopub.execute_input": "2022-12-12T18:54:51.110603Z",
     "iopub.status.busy": "2022-12-12T18:54:51.110159Z",
     "iopub.status.idle": "2022-12-12T18:54:51.114743Z",
     "shell.execute_reply": "2022-12-12T18:54:51.113972Z"
    },
    "papermill": {
     "duration": 0.018879,
     "end_time": "2022-12-12T18:54:51.116979",
     "exception": false,
     "start_time": "2022-12-12T18:54:51.098100",
     "status": "completed"
    },
    "tags": []
   },
   "outputs": [],
   "source": [
    "N = 10\n",
    "METRICS = {\"map@10\": MAP(k=10),\"recall@10\": Recall(k=10)}"
   ]
  },
  {
   "cell_type": "code",
   "execution_count": 7,
   "id": "13e735c6",
   "metadata": {
    "execution": {
     "iopub.execute_input": "2022-12-12T18:54:51.141026Z",
     "iopub.status.busy": "2022-12-12T18:54:51.140674Z",
     "iopub.status.idle": "2022-12-12T18:54:51.147294Z",
     "shell.execute_reply": "2022-12-12T18:54:51.145884Z"
    },
    "papermill": {
     "duration": 0.020805,
     "end_time": "2022-12-12T18:54:51.149245",
     "exception": false,
     "start_time": "2022-12-12T18:54:51.128440",
     "status": "completed"
    },
    "tags": []
   },
   "outputs": [],
   "source": [
    "def get_datasets():\n",
    "    inter_df = pd.read_csv('kion_train/interactions.csv')\n",
    "    user_df = pd.read_csv('kion_train/users.csv')\n",
    "    item_df = pd.read_csv('kion_train/items.csv')\n",
    "    inter_df.rename(columns={'last_watch_dt': 'datetime','total_dur': 'weight',},inplace=True)\n",
    "    inter_df['datetime'] = pd.to_datetime(inter_df['datetime'])\n",
    "    inter_df[Columns.Weight] = np.where(inter_df['watched_pct'] > 10, 3, 1)\n",
    "    return inter_df, user_df, item_df"
   ]
  },
  {
   "cell_type": "code",
   "execution_count": 8,
   "id": "d08730e9",
   "metadata": {
    "execution": {
     "iopub.execute_input": "2022-12-12T18:54:51.172471Z",
     "iopub.status.busy": "2022-12-12T18:54:51.172070Z",
     "iopub.status.idle": "2022-12-12T18:54:55.018371Z",
     "shell.execute_reply": "2022-12-12T18:54:55.016610Z"
    },
    "papermill": {
     "duration": 3.860865,
     "end_time": "2022-12-12T18:54:55.021009",
     "exception": false,
     "start_time": "2022-12-12T18:54:51.160144",
     "status": "completed"
    },
    "tags": []
   },
   "outputs": [
    {
     "name": "stdout",
     "output_type": "stream",
     "text": [
      "Размерность трейна : (4985269, 5)\n",
      "Размерность теста: (490982, 5)\n"
     ]
    }
   ],
   "source": [
    "inter_df, user_df, item_df = get_datasets()\n",
    "\n",
    "# формируем трейновый и тестовый датасет\n",
    "\n",
    "last_date = inter_df[Columns.Datetime].max().normalize()\n",
    "\n",
    "train = inter_df[inter_df[Columns.Datetime] < last_date - pd.Timedelta(days=7)].copy()\n",
    "test = inter_df[inter_df[Columns.Datetime] >= last_date - pd.Timedelta(days=7)].copy()\n",
    "\n",
    "print(f\"Размерность трейна : {train.shape}\")\n",
    "print(f\"Размерность теста: {test.shape}\")"
   ]
  },
  {
   "cell_type": "code",
   "execution_count": 9,
   "id": "17798ade",
   "metadata": {
    "execution": {
     "iopub.execute_input": "2022-12-12T18:54:55.044661Z",
     "iopub.status.busy": "2022-12-12T18:54:55.043828Z",
     "iopub.status.idle": "2022-12-12T18:54:56.926599Z",
     "shell.execute_reply": "2022-12-12T18:54:56.925363Z"
    },
    "papermill": {
     "duration": 1.897012,
     "end_time": "2022-12-12T18:54:56.929058",
     "exception": false,
     "start_time": "2022-12-12T18:54:55.032046",
     "status": "completed"
    },
    "tags": []
   },
   "outputs": [],
   "source": [
    "# убираем холодных пользователей из теста\n",
    "\n",
    "cold_users = set(test[Columns.User]) - set(train[Columns.User])\n",
    "test.drop(test[test[Columns.User].isin(cold_users)].index, inplace=True)"
   ]
  },
  {
   "cell_type": "code",
   "execution_count": 10,
   "id": "9536ba98",
   "metadata": {
    "execution": {
     "iopub.execute_input": "2022-12-12T18:54:56.952985Z",
     "iopub.status.busy": "2022-12-12T18:54:56.952148Z",
     "iopub.status.idle": "2022-12-12T18:54:57.348616Z",
     "shell.execute_reply": "2022-12-12T18:54:57.347463Z"
    },
    "papermill": {
     "duration": 0.410616,
     "end_time": "2022-12-12T18:54:57.350711",
     "exception": false,
     "start_time": "2022-12-12T18:54:56.940095",
     "status": "completed"
    },
    "tags": []
   },
   "outputs": [
    {
     "data": {
      "text/html": [
       "<div>\n",
       "<style scoped>\n",
       "    .dataframe tbody tr th:only-of-type {\n",
       "        vertical-align: middle;\n",
       "    }\n",
       "\n",
       "    .dataframe tbody tr th {\n",
       "        vertical-align: top;\n",
       "    }\n",
       "\n",
       "    .dataframe thead th {\n",
       "        text-align: right;\n",
       "    }\n",
       "</style>\n",
       "<table border=\"1\" class=\"dataframe\">\n",
       "  <thead>\n",
       "    <tr style=\"text-align: right;\">\n",
       "      <th></th>\n",
       "      <th>user_id</th>\n",
       "      <th>age</th>\n",
       "      <th>income</th>\n",
       "      <th>sex</th>\n",
       "      <th>kids_flg</th>\n",
       "    </tr>\n",
       "  </thead>\n",
       "  <tbody>\n",
       "    <tr>\n",
       "      <th>0</th>\n",
       "      <td>973171</td>\n",
       "      <td>age_25_34</td>\n",
       "      <td>income_60_90</td>\n",
       "      <td>М</td>\n",
       "      <td>1</td>\n",
       "    </tr>\n",
       "    <tr>\n",
       "      <th>1</th>\n",
       "      <td>962099</td>\n",
       "      <td>age_18_24</td>\n",
       "      <td>income_20_40</td>\n",
       "      <td>М</td>\n",
       "      <td>0</td>\n",
       "    </tr>\n",
       "    <tr>\n",
       "      <th>3</th>\n",
       "      <td>721985</td>\n",
       "      <td>age_45_54</td>\n",
       "      <td>income_20_40</td>\n",
       "      <td>Ж</td>\n",
       "      <td>0</td>\n",
       "    </tr>\n",
       "    <tr>\n",
       "      <th>4</th>\n",
       "      <td>704055</td>\n",
       "      <td>age_35_44</td>\n",
       "      <td>income_60_90</td>\n",
       "      <td>Ж</td>\n",
       "      <td>0</td>\n",
       "    </tr>\n",
       "    <tr>\n",
       "      <th>5</th>\n",
       "      <td>1037719</td>\n",
       "      <td>age_45_54</td>\n",
       "      <td>income_60_90</td>\n",
       "      <td>М</td>\n",
       "      <td>0</td>\n",
       "    </tr>\n",
       "  </tbody>\n",
       "</table>\n",
       "</div>"
      ],
      "text/plain": [
       "   user_id        age        income sex  kids_flg\n",
       "0   973171  age_25_34  income_60_90   М         1\n",
       "1   962099  age_18_24  income_20_40   М         0\n",
       "3   721985  age_45_54  income_20_40   Ж         0\n",
       "4   704055  age_35_44  income_60_90   Ж         0\n",
       "5  1037719  age_45_54  income_60_90   М         0"
      ]
     },
     "execution_count": 10,
     "metadata": {},
     "output_type": "execute_result"
    }
   ],
   "source": [
    "# заполняем пустые значения\n",
    "\n",
    "user_df.fillna('Unknown', inplace=True)\n",
    "user_df = user_df.loc[user_df[Columns.User].isin(train[Columns.User])].copy()\n",
    "user_df.head()"
   ]
  },
  {
   "cell_type": "code",
   "execution_count": 11,
   "id": "8b03a3da",
   "metadata": {
    "execution": {
     "iopub.execute_input": "2022-12-12T18:54:57.375307Z",
     "iopub.status.busy": "2022-12-12T18:54:57.374188Z",
     "iopub.status.idle": "2022-12-12T18:54:57.453320Z",
     "shell.execute_reply": "2022-12-12T18:54:57.451905Z"
    },
    "papermill": {
     "duration": 0.09417,
     "end_time": "2022-12-12T18:54:57.456192",
     "exception": false,
     "start_time": "2022-12-12T18:54:57.362022",
     "status": "completed"
    },
    "tags": []
   },
   "outputs": [
    {
     "data": {
      "text/html": [
       "<div>\n",
       "<style scoped>\n",
       "    .dataframe tbody tr th:only-of-type {\n",
       "        vertical-align: middle;\n",
       "    }\n",
       "\n",
       "    .dataframe tbody tr th {\n",
       "        vertical-align: top;\n",
       "    }\n",
       "\n",
       "    .dataframe thead th {\n",
       "        text-align: right;\n",
       "    }\n",
       "</style>\n",
       "<table border=\"1\" class=\"dataframe\">\n",
       "  <thead>\n",
       "    <tr style=\"text-align: right;\">\n",
       "      <th></th>\n",
       "      <th>id</th>\n",
       "      <th>value</th>\n",
       "      <th>feature</th>\n",
       "    </tr>\n",
       "  </thead>\n",
       "  <tbody>\n",
       "    <tr>\n",
       "      <th>0</th>\n",
       "      <td>973171</td>\n",
       "      <td>age_25_34</td>\n",
       "      <td>age</td>\n",
       "    </tr>\n",
       "    <tr>\n",
       "      <th>1</th>\n",
       "      <td>962099</td>\n",
       "      <td>age_18_24</td>\n",
       "      <td>age</td>\n",
       "    </tr>\n",
       "    <tr>\n",
       "      <th>3</th>\n",
       "      <td>721985</td>\n",
       "      <td>age_45_54</td>\n",
       "      <td>age</td>\n",
       "    </tr>\n",
       "    <tr>\n",
       "      <th>4</th>\n",
       "      <td>704055</td>\n",
       "      <td>age_35_44</td>\n",
       "      <td>age</td>\n",
       "    </tr>\n",
       "    <tr>\n",
       "      <th>5</th>\n",
       "      <td>1037719</td>\n",
       "      <td>age_45_54</td>\n",
       "      <td>age</td>\n",
       "    </tr>\n",
       "  </tbody>\n",
       "</table>\n",
       "</div>"
      ],
      "text/plain": [
       "        id      value feature\n",
       "0   973171  age_25_34     age\n",
       "1   962099  age_18_24     age\n",
       "3   721985  age_45_54     age\n",
       "4   704055  age_35_44     age\n",
       "5  1037719  age_45_54     age"
      ]
     },
     "execution_count": 11,
     "metadata": {},
     "output_type": "execute_result"
    }
   ],
   "source": [
    "# извлекаем возраст, пол и доход пользователей\n",
    "\n",
    "user_features_frames = []\n",
    "for feature in [\"age\", \"sex\", \"income\"]:\n",
    "    feature_frame = user_df.reindex(columns=[Columns.User, feature])\n",
    "    feature_frame.columns = [\"id\", \"value\"]\n",
    "    feature_frame[\"feature\"] = feature\n",
    "    user_features_frames.append(feature_frame)\n",
    "user_features = pd.concat(user_features_frames)\n",
    "user_features.head()"
   ]
  },
  {
   "cell_type": "code",
   "execution_count": 12,
   "id": "58460d10",
   "metadata": {
    "execution": {
     "iopub.execute_input": "2022-12-12T18:54:57.480502Z",
     "iopub.status.busy": "2022-12-12T18:54:57.480122Z",
     "iopub.status.idle": "2022-12-12T18:54:57.549963Z",
     "shell.execute_reply": "2022-12-12T18:54:57.548693Z"
    },
    "papermill": {
     "duration": 0.084336,
     "end_time": "2022-12-12T18:54:57.551985",
     "exception": false,
     "start_time": "2022-12-12T18:54:57.467649",
     "status": "completed"
    },
    "tags": []
   },
   "outputs": [
    {
     "data": {
      "text/html": [
       "<div>\n",
       "<style scoped>\n",
       "    .dataframe tbody tr th:only-of-type {\n",
       "        vertical-align: middle;\n",
       "    }\n",
       "\n",
       "    .dataframe tbody tr th {\n",
       "        vertical-align: top;\n",
       "    }\n",
       "\n",
       "    .dataframe thead th {\n",
       "        text-align: right;\n",
       "    }\n",
       "</style>\n",
       "<table border=\"1\" class=\"dataframe\">\n",
       "  <thead>\n",
       "    <tr style=\"text-align: right;\">\n",
       "      <th></th>\n",
       "      <th>item_id</th>\n",
       "      <th>content_type</th>\n",
       "      <th>title</th>\n",
       "      <th>title_orig</th>\n",
       "      <th>release_year</th>\n",
       "      <th>genres</th>\n",
       "      <th>countries</th>\n",
       "      <th>for_kids</th>\n",
       "      <th>age_rating</th>\n",
       "      <th>studios</th>\n",
       "      <th>directors</th>\n",
       "      <th>actors</th>\n",
       "      <th>description</th>\n",
       "      <th>keywords</th>\n",
       "    </tr>\n",
       "  </thead>\n",
       "  <tbody>\n",
       "    <tr>\n",
       "      <th>0</th>\n",
       "      <td>10711</td>\n",
       "      <td>film</td>\n",
       "      <td>Поговори с ней</td>\n",
       "      <td>Hable con ella</td>\n",
       "      <td>2002.0</td>\n",
       "      <td>драмы, зарубежные, детективы, мелодрамы</td>\n",
       "      <td>Испания</td>\n",
       "      <td>NaN</td>\n",
       "      <td>16.0</td>\n",
       "      <td>NaN</td>\n",
       "      <td>Педро Альмодовар</td>\n",
       "      <td>Адольфо Фернандес, Ана Фернандес, Дарио Гранди...</td>\n",
       "      <td>Мелодрама легендарного Педро Альмодовара «Пого...</td>\n",
       "      <td>Поговори, ней, 2002, Испания, друзья, любовь, ...</td>\n",
       "    </tr>\n",
       "    <tr>\n",
       "      <th>1</th>\n",
       "      <td>2508</td>\n",
       "      <td>film</td>\n",
       "      <td>Голые перцы</td>\n",
       "      <td>Search Party</td>\n",
       "      <td>2014.0</td>\n",
       "      <td>зарубежные, приключения, комедии</td>\n",
       "      <td>США</td>\n",
       "      <td>NaN</td>\n",
       "      <td>16.0</td>\n",
       "      <td>NaN</td>\n",
       "      <td>Скот Армстронг</td>\n",
       "      <td>Адам Палли, Брайан Хаски, Дж.Б. Смув, Джейсон ...</td>\n",
       "      <td>Уморительная современная комедия на популярную...</td>\n",
       "      <td>Голые, перцы, 2014, США, друзья, свадьбы, прео...</td>\n",
       "    </tr>\n",
       "    <tr>\n",
       "      <th>2</th>\n",
       "      <td>10716</td>\n",
       "      <td>film</td>\n",
       "      <td>Тактическая сила</td>\n",
       "      <td>Tactical Force</td>\n",
       "      <td>2011.0</td>\n",
       "      <td>криминал, зарубежные, триллеры, боевики, комедии</td>\n",
       "      <td>Канада</td>\n",
       "      <td>NaN</td>\n",
       "      <td>16.0</td>\n",
       "      <td>NaN</td>\n",
       "      <td>Адам П. Калтраро</td>\n",
       "      <td>Адриан Холмс, Даррен Шалави, Джерри Вассерман,...</td>\n",
       "      <td>Профессиональный рестлер Стив Остин («Все или ...</td>\n",
       "      <td>Тактическая, сила, 2011, Канада, бандиты, ганг...</td>\n",
       "    </tr>\n",
       "    <tr>\n",
       "      <th>3</th>\n",
       "      <td>7868</td>\n",
       "      <td>film</td>\n",
       "      <td>45 лет</td>\n",
       "      <td>45 Years</td>\n",
       "      <td>2015.0</td>\n",
       "      <td>драмы, зарубежные, мелодрамы</td>\n",
       "      <td>Великобритания</td>\n",
       "      <td>NaN</td>\n",
       "      <td>16.0</td>\n",
       "      <td>NaN</td>\n",
       "      <td>Эндрю Хэй</td>\n",
       "      <td>Александра Риддлстон-Барретт, Джеральдин Джейм...</td>\n",
       "      <td>Шарлотта Рэмплинг, Том Кортни, Джеральдин Джей...</td>\n",
       "      <td>45, лет, 2015, Великобритания, брак, жизнь, лю...</td>\n",
       "    </tr>\n",
       "    <tr>\n",
       "      <th>4</th>\n",
       "      <td>16268</td>\n",
       "      <td>film</td>\n",
       "      <td>Все решает мгновение</td>\n",
       "      <td>NaN</td>\n",
       "      <td>1978.0</td>\n",
       "      <td>драмы, спорт, советские, мелодрамы</td>\n",
       "      <td>СССР</td>\n",
       "      <td>NaN</td>\n",
       "      <td>12.0</td>\n",
       "      <td>Ленфильм</td>\n",
       "      <td>Виктор Садовский</td>\n",
       "      <td>Александр Абдулов, Александр Демьяненко, Алекс...</td>\n",
       "      <td>Расчетливая чаровница из советского кинохита «...</td>\n",
       "      <td>Все, решает, мгновение, 1978, СССР, сильные, ж...</td>\n",
       "    </tr>\n",
       "  </tbody>\n",
       "</table>\n",
       "</div>"
      ],
      "text/plain": [
       "   item_id content_type                 title      title_orig  release_year  \\\n",
       "0    10711         film        Поговори с ней  Hable con ella        2002.0   \n",
       "1     2508         film           Голые перцы    Search Party        2014.0   \n",
       "2    10716         film      Тактическая сила  Tactical Force        2011.0   \n",
       "3     7868         film                45 лет        45 Years        2015.0   \n",
       "4    16268         film  Все решает мгновение             NaN        1978.0   \n",
       "\n",
       "                                             genres       countries  for_kids  \\\n",
       "0           драмы, зарубежные, детективы, мелодрамы         Испания       NaN   \n",
       "1                  зарубежные, приключения, комедии             США       NaN   \n",
       "2  криминал, зарубежные, триллеры, боевики, комедии          Канада       NaN   \n",
       "3                      драмы, зарубежные, мелодрамы  Великобритания       NaN   \n",
       "4                драмы, спорт, советские, мелодрамы            СССР       NaN   \n",
       "\n",
       "   age_rating   studios         directors  \\\n",
       "0        16.0       NaN  Педро Альмодовар   \n",
       "1        16.0       NaN    Скот Армстронг   \n",
       "2        16.0       NaN  Адам П. Калтраро   \n",
       "3        16.0       NaN         Эндрю Хэй   \n",
       "4        12.0  Ленфильм  Виктор Садовский   \n",
       "\n",
       "                                              actors  \\\n",
       "0  Адольфо Фернандес, Ана Фернандес, Дарио Гранди...   \n",
       "1  Адам Палли, Брайан Хаски, Дж.Б. Смув, Джейсон ...   \n",
       "2  Адриан Холмс, Даррен Шалави, Джерри Вассерман,...   \n",
       "3  Александра Риддлстон-Барретт, Джеральдин Джейм...   \n",
       "4  Александр Абдулов, Александр Демьяненко, Алекс...   \n",
       "\n",
       "                                         description  \\\n",
       "0  Мелодрама легендарного Педро Альмодовара «Пого...   \n",
       "1  Уморительная современная комедия на популярную...   \n",
       "2  Профессиональный рестлер Стив Остин («Все или ...   \n",
       "3  Шарлотта Рэмплинг, Том Кортни, Джеральдин Джей...   \n",
       "4  Расчетливая чаровница из советского кинохита «...   \n",
       "\n",
       "                                            keywords  \n",
       "0  Поговори, ней, 2002, Испания, друзья, любовь, ...  \n",
       "1  Голые, перцы, 2014, США, друзья, свадьбы, прео...  \n",
       "2  Тактическая, сила, 2011, Канада, бандиты, ганг...  \n",
       "3  45, лет, 2015, Великобритания, брак, жизнь, лю...  \n",
       "4  Все, решает, мгновение, 1978, СССР, сильные, ж...  "
      ]
     },
     "execution_count": 12,
     "metadata": {},
     "output_type": "execute_result"
    }
   ],
   "source": [
    "item_df = item_df.loc[item_df[Columns.Item].isin(train[Columns.Item])].copy()\n",
    "item_df.head()"
   ]
  },
  {
   "cell_type": "code",
   "execution_count": 13,
   "id": "c8950ac6",
   "metadata": {
    "execution": {
     "iopub.execute_input": "2022-12-12T18:54:57.576971Z",
     "iopub.status.busy": "2022-12-12T18:54:57.576604Z",
     "iopub.status.idle": "2022-12-12T18:54:57.647211Z",
     "shell.execute_reply": "2022-12-12T18:54:57.645544Z"
    },
    "papermill": {
     "duration": 0.086199,
     "end_time": "2022-12-12T18:54:57.650009",
     "exception": false,
     "start_time": "2022-12-12T18:54:57.563810",
     "status": "completed"
    },
    "tags": []
   },
   "outputs": [
    {
     "data": {
      "text/html": [
       "<div>\n",
       "<style scoped>\n",
       "    .dataframe tbody tr th:only-of-type {\n",
       "        vertical-align: middle;\n",
       "    }\n",
       "\n",
       "    .dataframe tbody tr th {\n",
       "        vertical-align: top;\n",
       "    }\n",
       "\n",
       "    .dataframe thead th {\n",
       "        text-align: right;\n",
       "    }\n",
       "</style>\n",
       "<table border=\"1\" class=\"dataframe\">\n",
       "  <thead>\n",
       "    <tr style=\"text-align: right;\">\n",
       "      <th></th>\n",
       "      <th>id</th>\n",
       "      <th>value</th>\n",
       "      <th>feature</th>\n",
       "    </tr>\n",
       "  </thead>\n",
       "  <tbody>\n",
       "    <tr>\n",
       "      <th>0</th>\n",
       "      <td>10711</td>\n",
       "      <td>драмы</td>\n",
       "      <td>genre</td>\n",
       "    </tr>\n",
       "    <tr>\n",
       "      <th>0</th>\n",
       "      <td>10711</td>\n",
       "      <td>зарубежные</td>\n",
       "      <td>genre</td>\n",
       "    </tr>\n",
       "    <tr>\n",
       "      <th>0</th>\n",
       "      <td>10711</td>\n",
       "      <td>детективы</td>\n",
       "      <td>genre</td>\n",
       "    </tr>\n",
       "    <tr>\n",
       "      <th>0</th>\n",
       "      <td>10711</td>\n",
       "      <td>мелодрамы</td>\n",
       "      <td>genre</td>\n",
       "    </tr>\n",
       "    <tr>\n",
       "      <th>1</th>\n",
       "      <td>2508</td>\n",
       "      <td>зарубежные</td>\n",
       "      <td>genre</td>\n",
       "    </tr>\n",
       "  </tbody>\n",
       "</table>\n",
       "</div>"
      ],
      "text/plain": [
       "      id       value feature\n",
       "0  10711       драмы   genre\n",
       "0  10711  зарубежные   genre\n",
       "0  10711   детективы   genre\n",
       "0  10711   мелодрамы   genre\n",
       "1   2508  зарубежные   genre"
      ]
     },
     "execution_count": 13,
     "metadata": {},
     "output_type": "execute_result"
    }
   ],
   "source": [
    "# извлекаем жанры для каждого фильма и сериала\n",
    "\n",
    "item_df[\"genre\"] = item_df[\"genres\"].str.lower().str.replace(\", \", \",\", regex=False).str.split(\",\")\n",
    "genre_feature = item_df[[\"item_id\", \"genre\"]].explode(\"genre\")\n",
    "genre_feature.columns = [\"id\", \"value\"]\n",
    "genre_feature[\"feature\"] = \"genre\"\n",
    "genre_feature.head()"
   ]
  },
  {
   "cell_type": "code",
   "execution_count": 14,
   "id": "754b023d",
   "metadata": {
    "execution": {
     "iopub.execute_input": "2022-12-12T18:54:57.675926Z",
     "iopub.status.busy": "2022-12-12T18:54:57.675550Z",
     "iopub.status.idle": "2022-12-12T18:54:57.687922Z",
     "shell.execute_reply": "2022-12-12T18:54:57.686943Z"
    },
    "papermill": {
     "duration": 0.029054,
     "end_time": "2022-12-12T18:54:57.691216",
     "exception": false,
     "start_time": "2022-12-12T18:54:57.662162",
     "status": "completed"
    },
    "tags": []
   },
   "outputs": [
    {
     "data": {
      "text/html": [
       "<div>\n",
       "<style scoped>\n",
       "    .dataframe tbody tr th:only-of-type {\n",
       "        vertical-align: middle;\n",
       "    }\n",
       "\n",
       "    .dataframe tbody tr th {\n",
       "        vertical-align: top;\n",
       "    }\n",
       "\n",
       "    .dataframe thead th {\n",
       "        text-align: right;\n",
       "    }\n",
       "</style>\n",
       "<table border=\"1\" class=\"dataframe\">\n",
       "  <thead>\n",
       "    <tr style=\"text-align: right;\">\n",
       "      <th></th>\n",
       "      <th>id</th>\n",
       "      <th>value</th>\n",
       "      <th>feature</th>\n",
       "    </tr>\n",
       "  </thead>\n",
       "  <tbody>\n",
       "    <tr>\n",
       "      <th>0</th>\n",
       "      <td>10711</td>\n",
       "      <td>film</td>\n",
       "      <td>content_type</td>\n",
       "    </tr>\n",
       "    <tr>\n",
       "      <th>1</th>\n",
       "      <td>2508</td>\n",
       "      <td>film</td>\n",
       "      <td>content_type</td>\n",
       "    </tr>\n",
       "    <tr>\n",
       "      <th>2</th>\n",
       "      <td>10716</td>\n",
       "      <td>film</td>\n",
       "      <td>content_type</td>\n",
       "    </tr>\n",
       "    <tr>\n",
       "      <th>3</th>\n",
       "      <td>7868</td>\n",
       "      <td>film</td>\n",
       "      <td>content_type</td>\n",
       "    </tr>\n",
       "    <tr>\n",
       "      <th>4</th>\n",
       "      <td>16268</td>\n",
       "      <td>film</td>\n",
       "      <td>content_type</td>\n",
       "    </tr>\n",
       "  </tbody>\n",
       "</table>\n",
       "</div>"
      ],
      "text/plain": [
       "      id value       feature\n",
       "0  10711  film  content_type\n",
       "1   2508  film  content_type\n",
       "2  10716  film  content_type\n",
       "3   7868  film  content_type\n",
       "4  16268  film  content_type"
      ]
     },
     "execution_count": 14,
     "metadata": {},
     "output_type": "execute_result"
    }
   ],
   "source": [
    "# извлекаем тип контента для каждого айтема\n",
    "\n",
    "content_feature = item_df.reindex(columns=[Columns.Item, \"content_type\"])\n",
    "content_feature.columns = [\"id\", \"value\"]\n",
    "content_feature[\"feature\"] = \"content_type\"\n",
    "content_feature.head()"
   ]
  },
  {
   "cell_type": "code",
   "execution_count": 15,
   "id": "b82b4914",
   "metadata": {
    "execution": {
     "iopub.execute_input": "2022-12-12T18:54:57.716286Z",
     "iopub.status.busy": "2022-12-12T18:54:57.715956Z",
     "iopub.status.idle": "2022-12-12T18:54:57.735251Z",
     "shell.execute_reply": "2022-12-12T18:54:57.733582Z"
    },
    "papermill": {
     "duration": 0.034892,
     "end_time": "2022-12-12T18:54:57.737751",
     "exception": false,
     "start_time": "2022-12-12T18:54:57.702859",
     "status": "completed"
    },
    "tags": []
   },
   "outputs": [
    {
     "data": {
      "text/html": [
       "<div>\n",
       "<style scoped>\n",
       "    .dataframe tbody tr th:only-of-type {\n",
       "        vertical-align: middle;\n",
       "    }\n",
       "\n",
       "    .dataframe tbody tr th {\n",
       "        vertical-align: top;\n",
       "    }\n",
       "\n",
       "    .dataframe thead th {\n",
       "        text-align: right;\n",
       "    }\n",
       "</style>\n",
       "<table border=\"1\" class=\"dataframe\">\n",
       "  <thead>\n",
       "    <tr style=\"text-align: right;\">\n",
       "      <th></th>\n",
       "      <th>id</th>\n",
       "      <th>value</th>\n",
       "      <th>feature</th>\n",
       "    </tr>\n",
       "  </thead>\n",
       "  <tbody>\n",
       "    <tr>\n",
       "      <th>0</th>\n",
       "      <td>10711</td>\n",
       "      <td>1</td>\n",
       "      <td>binned_r_year</td>\n",
       "    </tr>\n",
       "    <tr>\n",
       "      <th>1</th>\n",
       "      <td>2508</td>\n",
       "      <td>4</td>\n",
       "      <td>binned_r_year</td>\n",
       "    </tr>\n",
       "    <tr>\n",
       "      <th>2</th>\n",
       "      <td>10716</td>\n",
       "      <td>3</td>\n",
       "      <td>binned_r_year</td>\n",
       "    </tr>\n",
       "    <tr>\n",
       "      <th>3</th>\n",
       "      <td>7868</td>\n",
       "      <td>5</td>\n",
       "      <td>binned_r_year</td>\n",
       "    </tr>\n",
       "    <tr>\n",
       "      <th>4</th>\n",
       "      <td>16268</td>\n",
       "      <td>0</td>\n",
       "      <td>binned_r_year</td>\n",
       "    </tr>\n",
       "  </tbody>\n",
       "</table>\n",
       "</div>"
      ],
      "text/plain": [
       "      id value        feature\n",
       "0  10711     1  binned_r_year\n",
       "1   2508     4  binned_r_year\n",
       "2  10716     3  binned_r_year\n",
       "3   7868     5  binned_r_year\n",
       "4  16268     0  binned_r_year"
      ]
     },
     "execution_count": 15,
     "metadata": {},
     "output_type": "execute_result"
    }
   ],
   "source": [
    "# извлекаем квантиль года выпуска для каждого айтема\n",
    "\n",
    "item_df['binned_r_year'] = pd.qcut(item_df['release_year'], q=10, labels=list(range(10)))\n",
    "release_year_feature = item_df.reindex(columns=[Columns.Item, \"binned_r_year\"])\n",
    "release_year_feature.columns = [\"id\", \"value\"]\n",
    "release_year_feature[\"feature\"] = \"binned_r_year\"\n",
    "release_year_feature.head()"
   ]
  },
  {
   "cell_type": "code",
   "execution_count": 16,
   "id": "891b0758",
   "metadata": {
    "execution": {
     "iopub.execute_input": "2022-12-12T18:54:57.763772Z",
     "iopub.status.busy": "2022-12-12T18:54:57.762624Z",
     "iopub.status.idle": "2022-12-12T18:54:57.813594Z",
     "shell.execute_reply": "2022-12-12T18:54:57.812462Z"
    },
    "papermill": {
     "duration": 0.065985,
     "end_time": "2022-12-12T18:54:57.815697",
     "exception": false,
     "start_time": "2022-12-12T18:54:57.749712",
     "status": "completed"
    },
    "tags": []
   },
   "outputs": [
    {
     "data": {
      "text/html": [
       "<div>\n",
       "<style scoped>\n",
       "    .dataframe tbody tr th:only-of-type {\n",
       "        vertical-align: middle;\n",
       "    }\n",
       "\n",
       "    .dataframe tbody tr th {\n",
       "        vertical-align: top;\n",
       "    }\n",
       "\n",
       "    .dataframe thead th {\n",
       "        text-align: right;\n",
       "    }\n",
       "</style>\n",
       "<table border=\"1\" class=\"dataframe\">\n",
       "  <thead>\n",
       "    <tr style=\"text-align: right;\">\n",
       "      <th></th>\n",
       "      <th>id</th>\n",
       "      <th>value</th>\n",
       "      <th>feature</th>\n",
       "    </tr>\n",
       "  </thead>\n",
       "  <tbody>\n",
       "    <tr>\n",
       "      <th>0</th>\n",
       "      <td>10711</td>\n",
       "      <td>испания</td>\n",
       "      <td>country</td>\n",
       "    </tr>\n",
       "    <tr>\n",
       "      <th>1</th>\n",
       "      <td>2508</td>\n",
       "      <td>сша</td>\n",
       "      <td>country</td>\n",
       "    </tr>\n",
       "    <tr>\n",
       "      <th>2</th>\n",
       "      <td>10716</td>\n",
       "      <td>канада</td>\n",
       "      <td>country</td>\n",
       "    </tr>\n",
       "    <tr>\n",
       "      <th>3</th>\n",
       "      <td>7868</td>\n",
       "      <td>великобритания</td>\n",
       "      <td>country</td>\n",
       "    </tr>\n",
       "    <tr>\n",
       "      <th>4</th>\n",
       "      <td>16268</td>\n",
       "      <td>ссср</td>\n",
       "      <td>country</td>\n",
       "    </tr>\n",
       "  </tbody>\n",
       "</table>\n",
       "</div>"
      ],
      "text/plain": [
       "      id           value  feature\n",
       "0  10711         испания  country\n",
       "1   2508             сша  country\n",
       "2  10716          канада  country\n",
       "3   7868  великобритания  country\n",
       "4  16268            ссср  country"
      ]
     },
     "execution_count": 16,
     "metadata": {},
     "output_type": "execute_result"
    }
   ],
   "source": [
    "# извлекаем местоположение студии для каждого айтема\n",
    "\n",
    "item_df[\"country\"] = item_df[\"countries\"].str.lower().str.replace(\", \", \",\", regex=False).str.split(\",\")\n",
    "country_feature = item_df[[\"item_id\", \"country\"]].explode(\"country\")\n",
    "country_feature.columns = [\"id\", \"value\"]\n",
    "country_feature[\"feature\"] = \"country\"\n",
    "country_feature.head()"
   ]
  },
  {
   "cell_type": "code",
   "execution_count": 17,
   "id": "9734d8a6",
   "metadata": {
    "execution": {
     "iopub.execute_input": "2022-12-12T18:54:57.841884Z",
     "iopub.status.busy": "2022-12-12T18:54:57.841518Z",
     "iopub.status.idle": "2022-12-12T18:54:57.861695Z",
     "shell.execute_reply": "2022-12-12T18:54:57.860609Z"
    },
    "papermill": {
     "duration": 0.035809,
     "end_time": "2022-12-12T18:54:57.863697",
     "exception": false,
     "start_time": "2022-12-12T18:54:57.827888",
     "status": "completed"
    },
    "tags": []
   },
   "outputs": [
    {
     "data": {
      "text/html": [
       "<div>\n",
       "<style scoped>\n",
       "    .dataframe tbody tr th:only-of-type {\n",
       "        vertical-align: middle;\n",
       "    }\n",
       "\n",
       "    .dataframe tbody tr th {\n",
       "        vertical-align: top;\n",
       "    }\n",
       "\n",
       "    .dataframe thead th {\n",
       "        text-align: right;\n",
       "    }\n",
       "</style>\n",
       "<table border=\"1\" class=\"dataframe\">\n",
       "  <thead>\n",
       "    <tr style=\"text-align: right;\">\n",
       "      <th></th>\n",
       "      <th>id</th>\n",
       "      <th>value</th>\n",
       "      <th>feature</th>\n",
       "    </tr>\n",
       "  </thead>\n",
       "  <tbody>\n",
       "    <tr>\n",
       "      <th>4326</th>\n",
       "      <td>222</td>\n",
       "      <td>драмы</td>\n",
       "      <td>genre</td>\n",
       "    </tr>\n",
       "    <tr>\n",
       "      <th>4326</th>\n",
       "      <td>222</td>\n",
       "      <td>русские</td>\n",
       "      <td>genre</td>\n",
       "    </tr>\n",
       "    <tr>\n",
       "      <th>4326</th>\n",
       "      <td>222</td>\n",
       "      <td>film</td>\n",
       "      <td>content_type</td>\n",
       "    </tr>\n",
       "    <tr>\n",
       "      <th>4326</th>\n",
       "      <td>222</td>\n",
       "      <td>ссср</td>\n",
       "      <td>country</td>\n",
       "    </tr>\n",
       "    <tr>\n",
       "      <th>4326</th>\n",
       "      <td>222</td>\n",
       "      <td>0</td>\n",
       "      <td>binned_r_year</td>\n",
       "    </tr>\n",
       "  </tbody>\n",
       "</table>\n",
       "</div>"
      ],
      "text/plain": [
       "       id    value        feature\n",
       "4326  222    драмы          genre\n",
       "4326  222  русские          genre\n",
       "4326  222     film   content_type\n",
       "4326  222     ссср        country\n",
       "4326  222        0  binned_r_year"
      ]
     },
     "execution_count": 17,
     "metadata": {},
     "output_type": "execute_result"
    }
   ],
   "source": [
    "# конкатенируем таблицы с фичами и проверяем по рандомному id\n",
    "\n",
    "item_features = pd.concat((genre_feature, content_feature, country_feature, release_year_feature))\n",
    "item_features[item_features['id'] == 222]"
   ]
  },
  {
   "cell_type": "code",
   "execution_count": 18,
   "id": "bc67bda8",
   "metadata": {
    "execution": {
     "iopub.execute_input": "2022-12-12T18:54:57.889669Z",
     "iopub.status.busy": "2022-12-12T18:54:57.889242Z",
     "iopub.status.idle": "2022-12-12T18:54:57.904934Z",
     "shell.execute_reply": "2022-12-12T18:54:57.904027Z"
    },
    "papermill": {
     "duration": 0.031343,
     "end_time": "2022-12-12T18:54:57.907269",
     "exception": false,
     "start_time": "2022-12-12T18:54:57.875926",
     "status": "completed"
    },
    "tags": []
   },
   "outputs": [],
   "source": [
    "\n",
    "TEST_USERS = test[Columns.User].unique()\n"
   ]
  },
  {
   "cell_type": "markdown",
   "id": "6e494359",
   "metadata": {
    "papermill": {
     "duration": 0.011841,
     "end_time": "2022-12-12T18:54:57.931556",
     "exception": false,
     "start_time": "2022-12-12T18:54:57.919715",
     "status": "completed"
    },
    "tags": []
   },
   "source": [
    "## Аппроксимационный поиск ближайших соседей c помощью Hierarchical Navigable Small World (NMSLIB)"
   ]
  },
  {
   "cell_type": "code",
   "execution_count": 19,
   "id": "b9785084",
   "metadata": {
    "execution": {
     "iopub.execute_input": "2022-12-12T18:54:57.957987Z",
     "iopub.status.busy": "2022-12-12T18:54:57.957631Z",
     "iopub.status.idle": "2022-12-12T18:54:59.599225Z",
     "shell.execute_reply": "2022-12-12T18:54:59.598229Z"
    },
    "papermill": {
     "duration": 1.657763,
     "end_time": "2022-12-12T18:54:59.601688",
     "exception": false,
     "start_time": "2022-12-12T18:54:57.943925",
     "status": "completed"
    },
    "tags": []
   },
   "outputs": [],
   "source": [
    "# создаем новый датасет на основе interactions.csv\n",
    "\n",
    "DATASET = Dataset.construct(\n",
    "    interactions_df=inter_df,\n",
    "    user_features_df=user_features,\n",
    "    cat_user_features=[\"age\", \"sex\", \"income\"],\n",
    "    item_features_df=item_features,\n",
    "    cat_item_features=[\"genre\", \"country\", 'binned_r_year', 'content_type'],\n",
    ")"
   ]
  },
  {
   "cell_type": "code",
   "execution_count": 20,
   "id": "aa768f0b",
   "metadata": {
    "execution": {
     "iopub.execute_input": "2022-12-12T18:54:59.628862Z",
     "iopub.status.busy": "2022-12-12T18:54:59.628436Z",
     "iopub.status.idle": "2022-12-12T18:55:39.754843Z",
     "shell.execute_reply": "2022-12-12T18:55:39.753194Z"
    },
    "papermill": {
     "duration": 40.149589,
     "end_time": "2022-12-12T18:55:39.764475",
     "exception": false,
     "start_time": "2022-12-12T18:54:59.614886",
     "status": "completed"
    },
    "tags": []
   },
   "outputs": [
    {
     "data": {
      "text/plain": [
       "<rectools.models.lightfm.LightFMWrapperModel at 0x7f90c1e4e5d0>"
      ]
     },
     "execution_count": 20,
     "metadata": {},
     "output_type": "execute_result"
    }
   ],
   "source": [
    "# обучаем модель с учетом лучших параметров\n",
    "\n",
    "model = LightFMWrapperModel(\n",
    "    model=LightFM(\n",
    "        no_components=32, \n",
    "        loss='warp', \n",
    "        random_state=100,\n",
    "        learning_rate=0.05,\n",
    "        user_alpha=0.1,\n",
    "        item_alpha=0.1,\n",
    "    ),\n",
    "    epochs=2,\n",
    "    num_threads=1,\n",
    ")\n",
    "model.fit(DATASET)"
   ]
  },
  {
   "cell_type": "code",
   "execution_count": 21,
   "id": "48821890",
   "metadata": {
    "execution": {
     "iopub.execute_input": "2022-12-12T18:55:39.790580Z",
     "iopub.status.busy": "2022-12-12T18:55:39.790185Z",
     "iopub.status.idle": "2022-12-12T18:55:39.797154Z",
     "shell.execute_reply": "2022-12-12T18:55:39.795868Z"
    },
    "papermill": {
     "duration": 0.022656,
     "end_time": "2022-12-12T18:55:39.799481",
     "exception": false,
     "start_time": "2022-12-12T18:55:39.776825",
     "status": "completed"
    },
    "tags": []
   },
   "outputs": [],
   "source": [
    "# функция аугментации пользователей\n",
    "\n",
    "def augment_items(factors):\n",
    "    normed_factors = np.linalg.norm(factors, axis=1)\n",
    "    max_norm = normed_factors.max()\n",
    "    extra_dim = np.sqrt(max_norm ** 2 - normed_factors ** 2).reshape(-1, 1)\n",
    "    augmented_factors = np.append(factors, extra_dim, axis=1)\n",
    "    return max_norm, augmented_factors"
   ]
  },
  {
   "cell_type": "code",
   "execution_count": 22,
   "id": "04326c42",
   "metadata": {
    "execution": {
     "iopub.execute_input": "2022-12-12T18:55:39.825512Z",
     "iopub.status.busy": "2022-12-12T18:55:39.825165Z",
     "iopub.status.idle": "2022-12-12T18:55:40.110866Z",
     "shell.execute_reply": "2022-12-12T18:55:40.109487Z"
    },
    "papermill": {
     "duration": 0.301593,
     "end_time": "2022-12-12T18:55:40.113382",
     "exception": false,
     "start_time": "2022-12-12T18:55:39.811789",
     "status": "completed"
    },
    "tags": []
   },
   "outputs": [],
   "source": [
    "# получение эмбеддингов пользователей и аугментация\n",
    "\n",
    "user_emb, item_emb = model.get_vectors(DATASET)\n",
    "max_norm, augmented_item_emb = augment_items(item_emb)\n",
    "extra_zeros = np.zeros((user_emb.shape[0], 1))\n",
    "augmented_user_emb = np.append(user_emb, extra_zeros, axis=1)"
   ]
  },
  {
   "cell_type": "code",
   "execution_count": 23,
   "id": "0e340b1b",
   "metadata": {
    "execution": {
     "iopub.execute_input": "2022-12-12T18:55:40.140309Z",
     "iopub.status.busy": "2022-12-12T18:55:40.139956Z",
     "iopub.status.idle": "2022-12-12T18:55:40.149014Z",
     "shell.execute_reply": "2022-12-12T18:55:40.147648Z"
    },
    "papermill": {
     "duration": 0.025515,
     "end_time": "2022-12-12T18:55:40.151490",
     "exception": false,
     "start_time": "2022-12-12T18:55:40.125975",
     "status": "completed"
    },
    "tags": []
   },
   "outputs": [],
   "source": [
    "# инициализируем модель Hierarchical Navigable Small World \n",
    "\n",
    "index = nmslib.init(method='hnsw', space='cosinesimil', data_type=nmslib.DataType.DENSE_VECTOR) \n",
    "index.addDataPointBatch(augmented_item_emb); "
   ]
  },
  {
   "cell_type": "code",
   "execution_count": 24,
   "id": "f8731e5b",
   "metadata": {
    "execution": {
     "iopub.execute_input": "2022-12-12T18:55:40.178077Z",
     "iopub.status.busy": "2022-12-12T18:55:40.177741Z",
     "iopub.status.idle": "2022-12-12T18:56:01.812144Z",
     "shell.execute_reply": "2022-12-12T18:56:01.810418Z"
    },
    "papermill": {
     "duration": 21.650474,
     "end_time": "2022-12-12T18:56:01.814441",
     "exception": false,
     "start_time": "2022-12-12T18:55:40.163967",
     "status": "completed"
    },
    "tags": []
   },
   "outputs": [
    {
     "name": "stdout",
     "output_type": "stream",
     "text": [
      "Параметры {'M': 48, 'indexThreadQty': 4, 'efConstruction': 100}\n"
     ]
    }
   ],
   "source": [
    "# определяем параметры\n",
    "\n",
    "time_params = {'M': 48, 'indexThreadQty': 4, 'efConstruction': 100}\n",
    "index.createIndex(time_params) \n",
    "print('Параметры', time_params)"
   ]
  },
  {
   "cell_type": "code",
   "execution_count": 25,
   "id": "739e5331",
   "metadata": {
    "execution": {
     "iopub.execute_input": "2022-12-12T18:56:01.841321Z",
     "iopub.status.busy": "2022-12-12T18:56:01.840980Z",
     "iopub.status.idle": "2022-12-12T18:56:01.846425Z",
     "shell.execute_reply": "2022-12-12T18:56:01.844866Z"
    },
    "papermill": {
     "duration": 0.021343,
     "end_time": "2022-12-12T18:56:01.848430",
     "exception": false,
     "start_time": "2022-12-12T18:56:01.827087",
     "status": "completed"
    },
    "tags": []
   },
   "outputs": [],
   "source": [
    "# параметры для knnQuery\n",
    "\n",
    "query_time_params = {'efSearch': 100}\n",
    "index.setQueryTimeParams(query_time_params)"
   ]
  },
  {
   "cell_type": "code",
   "execution_count": 26,
   "id": "548da45d",
   "metadata": {
    "execution": {
     "iopub.execute_input": "2022-12-12T18:56:01.875365Z",
     "iopub.status.busy": "2022-12-12T18:56:01.874191Z",
     "iopub.status.idle": "2022-12-12T18:56:01.879549Z",
     "shell.execute_reply": "2022-12-12T18:56:01.878806Z"
    },
    "papermill": {
     "duration": 0.020871,
     "end_time": "2022-12-12T18:56:01.881470",
     "exception": false,
     "start_time": "2022-12-12T18:56:01.860599",
     "status": "completed"
    },
    "tags": []
   },
   "outputs": [],
   "source": [
    "# функция, возвращающая карту значений\n",
    "\n",
    "def get_map(df, col):\n",
    "    inv_map = dict(enumerate(df[col].unique()))\n",
    "    mapp = {v: k for k, v in inv_map.items()}\n",
    "    return inv_map, mapp"
   ]
  },
  {
   "cell_type": "code",
   "execution_count": 27,
   "id": "12a886c2",
   "metadata": {
    "execution": {
     "iopub.execute_input": "2022-12-12T18:56:01.909108Z",
     "iopub.status.busy": "2022-12-12T18:56:01.908723Z",
     "iopub.status.idle": "2022-12-12T18:56:02.326827Z",
     "shell.execute_reply": "2022-12-12T18:56:02.325630Z"
    },
    "papermill": {
     "duration": 0.435376,
     "end_time": "2022-12-12T18:56:02.329351",
     "exception": false,
     "start_time": "2022-12-12T18:56:01.893975",
     "status": "completed"
    },
    "tags": []
   },
   "outputs": [],
   "source": [
    "# маппинг тестовых пользователей\n",
    "\n",
    "users_inv_map, users_map = get_map(train, 'user_id')\n",
    "test_emb_ids = [users_map[user] for user in TEST_USERS]"
   ]
  },
  {
   "cell_type": "code",
   "execution_count": 28,
   "id": "1b8dbac0",
   "metadata": {
    "execution": {
     "iopub.execute_input": "2022-12-12T18:56:02.356078Z",
     "iopub.status.busy": "2022-12-12T18:56:02.355711Z",
     "iopub.status.idle": "2022-12-12T18:56:04.787066Z",
     "shell.execute_reply": "2022-12-12T18:56:04.786204Z"
    },
    "papermill": {
     "duration": 2.447474,
     "end_time": "2022-12-12T18:56:04.789481",
     "exception": false,
     "start_time": "2022-12-12T18:56:02.342007",
     "status": "completed"
    },
    "tags": []
   },
   "outputs": [],
   "source": [
    "# рекомендации тестовым пользователям\n",
    "\n",
    "qmatrix = augmented_user_emb[test_emb_ids, :]\n",
    "nbrs = index.knnQueryBatch(qmatrix, k = 10, num_threads = 4)"
   ]
  },
  {
   "cell_type": "code",
   "execution_count": 29,
   "id": "21f8963f",
   "metadata": {
    "execution": {
     "iopub.execute_input": "2022-12-12T18:56:04.816183Z",
     "iopub.status.busy": "2022-12-12T18:56:04.815833Z",
     "iopub.status.idle": "2022-12-12T18:56:07.120762Z",
     "shell.execute_reply": "2022-12-12T18:56:07.118955Z"
    },
    "papermill": {
     "duration": 2.321841,
     "end_time": "2022-12-12T18:56:07.123858",
     "exception": false,
     "start_time": "2022-12-12T18:56:04.802017",
     "status": "completed"
    },
    "tags": []
   },
   "outputs": [
    {
     "data": {
      "text/html": [
       "<div>\n",
       "<style scoped>\n",
       "    .dataframe tbody tr th:only-of-type {\n",
       "        vertical-align: middle;\n",
       "    }\n",
       "\n",
       "    .dataframe tbody tr th {\n",
       "        vertical-align: top;\n",
       "    }\n",
       "\n",
       "    .dataframe thead th {\n",
       "        text-align: right;\n",
       "    }\n",
       "</style>\n",
       "<table border=\"1\" class=\"dataframe\">\n",
       "  <thead>\n",
       "    <tr style=\"text-align: right;\">\n",
       "      <th></th>\n",
       "      <th>user_id</th>\n",
       "      <th>item_id</th>\n",
       "    </tr>\n",
       "  </thead>\n",
       "  <tbody>\n",
       "    <tr>\n",
       "      <th>0</th>\n",
       "      <td>203219</td>\n",
       "      <td>[12846, 2616, 11970, 9617, 7347, 8391, 7737, 3...</td>\n",
       "    </tr>\n",
       "    <tr>\n",
       "      <th>1</th>\n",
       "      <td>200197</td>\n",
       "      <td>[12846, 2616, 9617, 11970, 7347, 7737, 8391, 3...</td>\n",
       "    </tr>\n",
       "    <tr>\n",
       "      <th>2</th>\n",
       "      <td>73446</td>\n",
       "      <td>[12846, 2616, 11970, 9617, 7347, 8391, 7737, 3...</td>\n",
       "    </tr>\n",
       "    <tr>\n",
       "      <th>3</th>\n",
       "      <td>10010</td>\n",
       "      <td>[12846, 2616, 11970, 9617, 7347, 8391, 7737, 3...</td>\n",
       "    </tr>\n",
       "    <tr>\n",
       "      <th>4</th>\n",
       "      <td>890735</td>\n",
       "      <td>[12846, 2616, 11970, 9617, 7347, 8391, 7737, 3...</td>\n",
       "    </tr>\n",
       "  </tbody>\n",
       "</table>\n",
       "</div>"
      ],
      "text/plain": [
       "   user_id                                            item_id\n",
       "0   203219  [12846, 2616, 11970, 9617, 7347, 8391, 7737, 3...\n",
       "1   200197  [12846, 2616, 9617, 11970, 7347, 7737, 8391, 3...\n",
       "2    73446  [12846, 2616, 11970, 9617, 7347, 8391, 7737, 3...\n",
       "3    10010  [12846, 2616, 11970, 9617, 7347, 8391, 7737, 3...\n",
       "4   890735  [12846, 2616, 11970, 9617, 7347, 8391, 7737, 3..."
      ]
     },
     "execution_count": 29,
     "metadata": {},
     "output_type": "execute_result"
    }
   ],
   "source": [
    "# рекомендации тестовым пользователям\n",
    "\n",
    "item_inv_mapping, item_mapping = get_map(train, 'item_id')\n",
    "recos = [[item_inv_mapping[item] for item in nbrs[i][0]] for i in range(len(nbrs))]\n",
    "recos = pd.DataFrame(list(zip(TEST_USERS, recos)), columns=['user_id', 'item_id'])\n",
    "recos.head()"
   ]
  },
  {
   "cell_type": "code",
   "execution_count": 30,
   "id": "8a3f979a",
   "metadata": {
    "execution": {
     "iopub.execute_input": "2022-12-12T18:56:07.151783Z",
     "iopub.status.busy": "2022-12-12T18:56:07.151416Z",
     "iopub.status.idle": "2022-12-12T18:56:08.130240Z",
     "shell.execute_reply": "2022-12-12T18:56:08.128930Z"
    },
    "papermill": {
     "duration": 0.995852,
     "end_time": "2022-12-12T18:56:08.132813",
     "exception": false,
     "start_time": "2022-12-12T18:56:07.136961",
     "status": "completed"
    },
    "tags": []
   },
   "outputs": [
    {
     "data": {
      "text/plain": [
       "{'recall@10': 0.002844172816152323, 'map@10': 0.0011697972600785258}"
      ]
     },
     "execution_count": 30,
     "metadata": {},
     "output_type": "execute_result"
    }
   ],
   "source": [
    "# метрики\n",
    "\n",
    "res = recos.explode('item_id')\n",
    "res['rank'] = res.groupby('user_id').cumcount() + 1\n",
    "approc_metrics = calc_metrics(METRICS, res, test, train)\n",
    "approc_metrics"
   ]
  },
  {
   "cell_type": "markdown",
   "id": "33373ec8",
   "metadata": {
    "papermill": {
     "duration": 0.012247,
     "end_time": "2022-12-12T18:56:08.157862",
     "exception": false,
     "start_time": "2022-12-12T18:56:08.145615",
     "status": "completed"
    },
    "tags": []
   },
   "source": [
    "## Решение проблемы холодных пользователей"
   ]
  },
  {
   "cell_type": "markdown",
   "id": "5d7aa3de",
   "metadata": {
    "papermill": {
     "duration": 0.01218,
     "end_time": "2022-12-12T18:56:08.182339",
     "exception": false,
     "start_time": "2022-12-12T18:56:08.170159",
     "status": "completed"
    },
    "tags": []
   },
   "source": [
    "Проблема холодных пользователей решается многими способами. Например, таким пользователям можно выдавать наиболее популярные запросы. Другой вариант - по имеющимся статистическим данным определять для холодного пользователя наиболее близкую демографическую группу и выдавать наиболее популярные рекомендации для этой группы. Кроме того, можно сделать дефолтный набор продуктов, рекомендуемых новым пользователям. Еще один способ - найти пользователя наиболее близкого к холодному и дать рекомендации как будто бы для него. Этот вариант мы постарались реализовать в коде, представленном ниже."
   ]
  },
  {
   "cell_type": "code",
   "execution_count": 31,
   "id": "5b36ca88",
   "metadata": {
    "execution": {
     "iopub.execute_input": "2022-12-12T18:56:08.210736Z",
     "iopub.status.busy": "2022-12-12T18:56:08.210321Z",
     "iopub.status.idle": "2022-12-12T18:56:08.218750Z",
     "shell.execute_reply": "2022-12-12T18:56:08.217686Z"
    },
    "papermill": {
     "duration": 0.024818,
     "end_time": "2022-12-12T18:56:08.220725",
     "exception": false,
     "start_time": "2022-12-12T18:56:08.195907",
     "status": "completed"
    },
    "tags": []
   },
   "outputs": [],
   "source": [
    "# преобразуем сет в лист\n",
    "\n",
    "cold_users = list(cold_users)"
   ]
  },
  {
   "cell_type": "code",
   "execution_count": 32,
   "id": "2534d0b8",
   "metadata": {
    "execution": {
     "iopub.execute_input": "2022-12-12T18:56:08.247449Z",
     "iopub.status.busy": "2022-12-12T18:56:08.247021Z",
     "iopub.status.idle": "2022-12-12T18:56:08.708552Z",
     "shell.execute_reply": "2022-12-12T18:56:08.707189Z"
    },
    "papermill": {
     "duration": 0.477926,
     "end_time": "2022-12-12T18:56:08.711213",
     "exception": false,
     "start_time": "2022-12-12T18:56:08.233287",
     "status": "completed"
    },
    "tags": []
   },
   "outputs": [],
   "source": [
    "# получаем карты для пользователей и айтемов из датасета, включающего холодных пользователей\n",
    "\n",
    "cold_users_inv_map, cold_users_map = get_map(inter_df, 'user_id')\n",
    "citems_inv_map, citems_map = get_map(inter_df, 'item_id')"
   ]
  },
  {
   "cell_type": "code",
   "execution_count": 33,
   "id": "673c6784",
   "metadata": {
    "execution": {
     "iopub.execute_input": "2022-12-12T18:56:08.739202Z",
     "iopub.status.busy": "2022-12-12T18:56:08.738854Z",
     "iopub.status.idle": "2022-12-12T18:56:34.316337Z",
     "shell.execute_reply": "2022-12-12T18:56:34.314535Z"
    },
    "papermill": {
     "duration": 25.594584,
     "end_time": "2022-12-12T18:56:34.318857",
     "exception": false,
     "start_time": "2022-12-12T18:56:08.724273",
     "status": "completed"
    },
    "tags": []
   },
   "outputs": [],
   "source": [
    "# инициализируем LFMDataset\n",
    "\n",
    "DATASET = LFMDataset()\n",
    "DATASET.fit(users=inter_df[\"user_id\"].values,items=inter_df[\"item_id\"].values,)\n",
    "inter_matrix, _ = DATASET.build_interactions(zip(*inter_df[[\"user_id\", \"item_id\"]].values.T))"
   ]
  },
  {
   "cell_type": "code",
   "execution_count": 34,
   "id": "b62588ab",
   "metadata": {
    "execution": {
     "iopub.execute_input": "2022-12-12T18:56:34.346355Z",
     "iopub.status.busy": "2022-12-12T18:56:34.345917Z",
     "iopub.status.idle": "2022-12-12T18:56:47.047342Z",
     "shell.execute_reply": "2022-12-12T18:56:47.045925Z"
    },
    "papermill": {
     "duration": 12.7179,
     "end_time": "2022-12-12T18:56:47.049788",
     "exception": false,
     "start_time": "2022-12-12T18:56:34.331888",
     "status": "completed"
    },
    "tags": []
   },
   "outputs": [
    {
     "data": {
      "text/plain": [
       "<lightfm.lightfm.LightFM at 0x7f90c1e538d0>"
      ]
     },
     "execution_count": 34,
     "metadata": {},
     "output_type": "execute_result"
    }
   ],
   "source": [
    "# инициализируем модель и обучаем её на датасете\n",
    "\n",
    "model = LightFM(\n",
    "    learning_rate=0.05, \n",
    "    loss='warp', \n",
    "    no_components=64,\n",
    "    random_state=100,\n",
    ")\n",
    "\n",
    "model.fit(\n",
    "    interactions = inter_matrix, \n",
    "    epochs=2,\n",
    "    num_threads=20,\n",
    ")"
   ]
  },
  {
   "cell_type": "code",
   "execution_count": 35,
   "id": "670bf8c9",
   "metadata": {
    "execution": {
     "iopub.execute_input": "2022-12-12T18:56:47.076762Z",
     "iopub.status.busy": "2022-12-12T18:56:47.076362Z",
     "iopub.status.idle": "2022-12-12T18:56:47.082063Z",
     "shell.execute_reply": "2022-12-12T18:56:47.081291Z"
    },
    "papermill": {
     "duration": 0.021696,
     "end_time": "2022-12-12T18:56:47.084326",
     "exception": false,
     "start_time": "2022-12-12T18:56:47.062630",
     "status": "completed"
    },
    "tags": []
   },
   "outputs": [],
   "source": [
    "# функция для получения наиболее схожих пользователей по эмбеддингам\n",
    "\n",
    "def get_similar_user(model, user_id):\n",
    "    user_embeddings = (model.user_embeddings.T\n",
    "                      / np.linalg.norm(model.user_embeddings, axis=1)).T\n",
    "    query_embedding = user_embeddings[user_id]\n",
    "    similarity = np.dot(user_embeddings, query_embedding)\n",
    "    most_similar = np.argsort(-similarity)[1:11]\n",
    "    return most_similar"
   ]
  },
  {
   "cell_type": "code",
   "execution_count": 36,
   "id": "debdcaf8",
   "metadata": {
    "execution": {
     "iopub.execute_input": "2022-12-12T18:56:47.111945Z",
     "iopub.status.busy": "2022-12-12T18:56:47.111333Z",
     "iopub.status.idle": "2022-12-12T18:56:47.118138Z",
     "shell.execute_reply": "2022-12-12T18:56:47.116790Z"
    },
    "papermill": {
     "duration": 0.023148,
     "end_time": "2022-12-12T18:56:47.120251",
     "exception": false,
     "start_time": "2022-12-12T18:56:47.097103",
     "status": "completed"
    },
    "tags": []
   },
   "outputs": [],
   "source": [
    "# функция выдачи рекомендаций\n",
    "\n",
    "def get_recos(user_id, model, inter_matrix, user_to_id, id_to_item, n_recommendations = N):\n",
    "    inner_id = user_to_id[user_id]\n",
    "    scores = model.predict(user_ids=inner_id,\n",
    "                            item_ids=np.arange(inter_matrix.shape[1]),\n",
    "                            num_threads=20)\n",
    "    watched_items = inter_matrix.col[inter_matrix.row == inner_id]\n",
    "    scores[watched_items] = -np.inf\n",
    "    reco_item_inner_ids = np.argpartition(scores, -np.arange(n_recommendations))[-n_recommendations:][::-1]\n",
    "    recos = [id_to_item[x] for x in reco_item_inner_ids]\n",
    "    return recos"
   ]
  },
  {
   "cell_type": "code",
   "execution_count": 37,
   "id": "94a064f3",
   "metadata": {
    "execution": {
     "iopub.execute_input": "2022-12-12T18:56:47.148464Z",
     "iopub.status.busy": "2022-12-12T18:56:47.148067Z",
     "iopub.status.idle": "2022-12-12T18:56:47.427260Z",
     "shell.execute_reply": "2022-12-12T18:56:47.425960Z"
    },
    "papermill": {
     "duration": 0.297521,
     "end_time": "2022-12-12T18:56:47.430417",
     "exception": false,
     "start_time": "2022-12-12T18:56:47.132896",
     "status": "completed"
    },
    "tags": []
   },
   "outputs": [
    {
     "data": {
      "text/plain": [
       "array([448182, 177692,  37406,  50653,   9774, 310206, 659402, 649670,\n",
       "       180949, 325718])"
      ]
     },
     "execution_count": 37,
     "metadata": {},
     "output_type": "execute_result"
    }
   ],
   "source": [
    "# проверка функции на случайном холодном пользователе\n",
    "\n",
    "get_similar_user(model, cold_users[100])"
   ]
  },
  {
   "cell_type": "code",
   "execution_count": 38,
   "id": "dd508468",
   "metadata": {
    "execution": {
     "iopub.execute_input": "2022-12-12T18:56:47.459586Z",
     "iopub.status.busy": "2022-12-12T18:56:47.459193Z",
     "iopub.status.idle": "2022-12-12T18:56:47.844410Z",
     "shell.execute_reply": "2022-12-12T18:56:47.843359Z"
    },
    "papermill": {
     "duration": 0.402717,
     "end_time": "2022-12-12T18:56:47.846434",
     "exception": false,
     "start_time": "2022-12-12T18:56:47.443717",
     "status": "completed"
    },
    "tags": []
   },
   "outputs": [
    {
     "data": {
      "text/html": [
       "<div>\n",
       "<style scoped>\n",
       "    .dataframe tbody tr th:only-of-type {\n",
       "        vertical-align: middle;\n",
       "    }\n",
       "\n",
       "    .dataframe tbody tr th {\n",
       "        vertical-align: top;\n",
       "    }\n",
       "\n",
       "    .dataframe thead th {\n",
       "        text-align: right;\n",
       "    }\n",
       "</style>\n",
       "<table border=\"1\" class=\"dataframe\">\n",
       "  <thead>\n",
       "    <tr style=\"text-align: right;\">\n",
       "      <th></th>\n",
       "      <th>user_id</th>\n",
       "      <th>item_id</th>\n",
       "      <th>title</th>\n",
       "      <th>genres</th>\n",
       "    </tr>\n",
       "  </thead>\n",
       "  <tbody>\n",
       "    <tr>\n",
       "      <th>0</th>\n",
       "      <td>131093</td>\n",
       "      <td>15297</td>\n",
       "      <td>Клиника счастья</td>\n",
       "      <td>драмы, мелодрамы</td>\n",
       "    </tr>\n",
       "    <tr>\n",
       "      <th>1</th>\n",
       "      <td>131093</td>\n",
       "      <td>10440</td>\n",
       "      <td>Хрустальный</td>\n",
       "      <td>триллеры, детективы</td>\n",
       "    </tr>\n",
       "    <tr>\n",
       "      <th>2</th>\n",
       "      <td>131093</td>\n",
       "      <td>9728</td>\n",
       "      <td>Гнев человеческий</td>\n",
       "      <td>боевики, триллеры</td>\n",
       "    </tr>\n",
       "    <tr>\n",
       "      <th>3</th>\n",
       "      <td>131093</td>\n",
       "      <td>13865</td>\n",
       "      <td>Девятаев</td>\n",
       "      <td>драмы, военные, приключения</td>\n",
       "    </tr>\n",
       "    <tr>\n",
       "      <th>4</th>\n",
       "      <td>131093</td>\n",
       "      <td>3734</td>\n",
       "      <td>Прабабушка легкого поведения</td>\n",
       "      <td>комедии</td>\n",
       "    </tr>\n",
       "    <tr>\n",
       "      <th>5</th>\n",
       "      <td>131093</td>\n",
       "      <td>4880</td>\n",
       "      <td>Афера</td>\n",
       "      <td>комедии</td>\n",
       "    </tr>\n",
       "    <tr>\n",
       "      <th>6</th>\n",
       "      <td>131093</td>\n",
       "      <td>2657</td>\n",
       "      <td>Подслушано</td>\n",
       "      <td>драмы, триллеры</td>\n",
       "    </tr>\n",
       "    <tr>\n",
       "      <th>7</th>\n",
       "      <td>131093</td>\n",
       "      <td>6809</td>\n",
       "      <td>Дуров</td>\n",
       "      <td>документальное</td>\n",
       "    </tr>\n",
       "    <tr>\n",
       "      <th>8</th>\n",
       "      <td>131093</td>\n",
       "      <td>142</td>\n",
       "      <td>Маша</td>\n",
       "      <td>драмы, триллеры</td>\n",
       "    </tr>\n",
       "    <tr>\n",
       "      <th>9</th>\n",
       "      <td>131093</td>\n",
       "      <td>7571</td>\n",
       "      <td>100% волк</td>\n",
       "      <td>мультфильм, приключения, семейное, фэнтези, ко...</td>\n",
       "    </tr>\n",
       "  </tbody>\n",
       "</table>\n",
       "</div>"
      ],
      "text/plain": [
       "   user_id  item_id                         title  \\\n",
       "0   131093    15297               Клиника счастья   \n",
       "1   131093    10440                   Хрустальный   \n",
       "2   131093     9728             Гнев человеческий   \n",
       "3   131093    13865                      Девятаев   \n",
       "4   131093     3734  Прабабушка легкого поведения   \n",
       "5   131093     4880                         Афера   \n",
       "6   131093     2657                    Подслушано   \n",
       "7   131093     6809                         Дуров   \n",
       "8   131093      142                          Маша   \n",
       "9   131093     7571                     100% волк   \n",
       "\n",
       "                                              genres  \n",
       "0                                   драмы, мелодрамы  \n",
       "1                                триллеры, детективы  \n",
       "2                                  боевики, триллеры  \n",
       "3                        драмы, военные, приключения  \n",
       "4                                            комедии  \n",
       "5                                            комедии  \n",
       "6                                    драмы, триллеры  \n",
       "7                                     документальное  \n",
       "8                                    драмы, триллеры  \n",
       "9  мультфильм, приключения, семейное, фэнтези, ко...  "
      ]
     },
     "execution_count": 38,
     "metadata": {},
     "output_type": "execute_result"
    }
   ],
   "source": [
    "# проверка функции на десятом холодном пользователе с выводом рекомендаций\n",
    "\n",
    "id_to_item = {v: k for k, v in DATASET._item_id_mapping.items()}\n",
    "user_ids = get_similar_user(model, cold_users[10])\n",
    "user_ids = [idx for idx in user_ids if idx not in cold_users]\n",
    "for u in user_ids:\n",
    "    try:\n",
    "        recos = get_recos(user_id= u,\n",
    "                  model=model,\n",
    "                  inter_matrix=inter_matrix,\n",
    "                  user_to_id=DATASET._user_id_mapping,\n",
    "                  id_to_item=id_to_item,\n",
    "                  n_recommendations=10\n",
    "        )\n",
    "        break\n",
    "    except:\n",
    "        print(f'Нет достаточного числа рекомендаций для пользователя {u}')\n",
    "cold_22_recos = pd.DataFrame({\"user_id\": cold_users[10], \"item_id\": recos}).merge(item_df[[\"item_id\", \"title\", \"genres\"]])\n",
    "cold_22_recos"
   ]
  }
 ],
 "metadata": {
  "kernelspec": {
   "display_name": "Python 3",
   "language": "python",
   "name": "python3"
  },
  "language_info": {
   "codemirror_mode": {
    "name": "ipython",
    "version": 3
   },
   "file_extension": ".py",
   "mimetype": "text/x-python",
   "name": "python",
   "nbconvert_exporter": "python",
   "pygments_lexer": "ipython3",
   "version": "3.7.12"
  },
  "papermill": {
   "default_parameters": {},
   "duration": 151.235995,
   "end_time": "2022-12-12T18:56:49.285162",
   "environment_variables": {},
   "exception": null,
   "input_path": "__notebook__.ipynb",
   "output_path": "__notebook__.ipynb",
   "parameters": {},
   "start_time": "2022-12-12T18:54:18.049167",
   "version": "2.3.4"
  }
 },
 "nbformat": 4,
 "nbformat_minor": 5
}
