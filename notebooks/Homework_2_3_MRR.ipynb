{
  "cells": [
    {
      "cell_type": "markdown",
      "metadata": {
        "id": "nbuoIyx9E8OF"
      },
      "source": [
        "## Постановка задачи"
      ]
    },
    {
      "cell_type": "markdown",
      "metadata": {
        "id": "Q3FSGWvkGewO"
      },
      "source": [
        "### MRR\n",
        "Исходные данные - результат `generate_subsample` \n",
        "\n",
        "**Задача** - по аналогии с precision написать три версии функции подсчета Mean Reciprocal Rank (naive, numba, pandas) и протестировать на разных размерах выборки\n",
        "- **Протестируйте** для всех комбинаций (users_count, top_k):\n",
        "  - users_count - [100, 1000, 10000, 100000]\n",
        "  - top_k - [10, 50, 100]\n",
        "- Результатом тестирования должен быть **график**, где будут отражены следующие показатели:\n",
        "  - Алгоритм - naive, numba, pandas\n",
        "  - Скорость работы (время)\n",
        "  - users_count\n",
        "  - top_k"
      ]
    },
    {
      "cell_type": "markdown",
      "metadata": {
        "id": "SNj-kGJ8GsiB"
      },
      "source": [
        "## Импорты"
      ]
    },
    {
      "cell_type": "code",
      "execution_count": null,
      "metadata": {
        "id": "L6bFuXeYDOph"
      },
      "outputs": [],
      "source": [
        "try:\n",
        "    import rectools\n",
        "except:\n",
        "    !pip install rectools\n",
        "    import rectools"
      ]
    },
    {
      "cell_type": "code",
      "execution_count": null,
      "metadata": {
        "id": "2Qlotw-AE8zt"
      },
      "outputs": [],
      "source": [
        "import timeit\n",
        "from tqdm.auto import tqdm\n",
        "\n",
        "import numpy as np\n",
        "import numba as nb\n",
        "import pandas as pd\n",
        "from matplotlib import pyplot as plt\n",
        "\n",
        "import requests\n",
        "\n",
        "from rectools import Columns"
      ]
    },
    {
      "cell_type": "markdown",
      "metadata": {
        "id": "FlHounTsGy8x"
      },
      "source": [
        "## Подготовка данных"
      ]
    },
    {
      "cell_type": "markdown",
      "metadata": {
        "id": "3etATg9wIZmc"
      },
      "source": [
        "### Загрузка"
      ]
    },
    {
      "cell_type": "code",
      "execution_count": null,
      "metadata": {
        "id": "OXNF46EVGxVj"
      },
      "outputs": [],
      "source": [
        "!mkdir -p ../data/hw2-3/"
      ]
    },
    {
      "cell_type": "code",
      "execution_count": null,
      "metadata": {
        "id": "hinNxzd1HDUe"
      },
      "outputs": [],
      "source": [
        "url = \"https://github.com/irsafilo/KION_DATASET/raw/f69775be31fa5779907cf0a92ddedb70037fb5ae/data_original.zip\""
      ]
    },
    {
      "cell_type": "code",
      "execution_count": null,
      "metadata": {
        "colab": {
          "base_uri": "https://localhost:8080/",
          "height": 49,
          "referenced_widgets": [
            "4a9534121aac483598a5a8cc2a0be18c",
            "7106ead0d2084a4ca27acaf93845fb02",
            "36bda7be5f18433391482a29529094dc",
            "0c6e3a51622244748395a05a2fd61023",
            "ee4c8f017e4142ddb1e5d5802a1022ba",
            "2e0f0c83298447a88d9f3bffadfe91db",
            "8017706ba9d0459aa193bcc29fd888ad",
            "9b371d3328c542528208f1811b114e60",
            "7daf4dff032e406c85b79529883e87c8",
            "633c32f1444f4319b3eb8b619828e9fa",
            "ac56bfc6f95541aa9a448c5760426c5b"
          ]
        },
        "id": "_Jgbsm4UHFU2",
        "outputId": "01e43807-3476-468f-ada6-c4c86b33dfa7"
      },
      "outputs": [
        {
          "data": {
            "application/vnd.jupyter.widget-view+json": {
              "model_id": "4a9534121aac483598a5a8cc2a0be18c",
              "version_major": 2,
              "version_minor": 0
            },
            "text/plain": [
              "kion dataset download:   0%|          | 0.00/78.8M [00:00<?, ?iB/s]"
            ]
          },
          "metadata": {},
          "output_type": "display_data"
        }
      ],
      "source": [
        "req = requests.get(url, stream=True)\n",
        "\n",
        "with open(\"../data/hw2-3/kion.zip\", \"wb\") as fd:\n",
        "    total_size_in_bytes = int(req.headers.get(\"Content-Length\", 0))\n",
        "    progress_bar = tqdm(\n",
        "        desc=\"kion dataset download\",\n",
        "        total=total_size_in_bytes,\n",
        "        unit=\"iB\",\n",
        "        unit_scale=True,\n",
        "    )\n",
        "    for chunk in req.iter_content(chunk_size=2**20):\n",
        "        progress_bar.update(len(chunk))\n",
        "        fd.write(chunk)"
      ]
    },
    {
      "cell_type": "code",
      "execution_count": null,
      "metadata": {
        "colab": {
          "base_uri": "https://localhost:8080/"
        },
        "id": "-o26hmEKHJ9l",
        "outputId": "26bb8559-fc6f-4ef8-9fc1-0828004f2224"
      },
      "outputs": [
        {
          "name": "stdout",
          "output_type": "stream",
          "text": [
            "Archive:  ../data/hw2-3/kion.zip\n",
            "replace ../data/hw2-3/data_original/interactions.csv? [y]es, [n]o, [A]ll, [N]one, [r]ename: A\n",
            "  inflating: ../data/hw2-3/data_original/interactions.csv  \n",
            "  inflating: ../data/hw2-3/__MACOSX/data_original/._interactions.csv  \n",
            "  inflating: ../data/hw2-3/data_original/users.csv  \n",
            "  inflating: ../data/hw2-3/__MACOSX/data_original/._users.csv  \n",
            "  inflating: ../data/hw2-3/data_original/items.csv  \n",
            "  inflating: ../data/hw2-3/__MACOSX/data_original/._items.csv  \n"
          ]
        }
      ],
      "source": [
        "!unzip ../data/hw2-3/kion.zip -d ../data/hw2-3/"
      ]
    },
    {
      "cell_type": "markdown",
      "metadata": {
        "id": "xv48KmohIawJ"
      },
      "source": [
        "### Препроцессинг"
      ]
    },
    {
      "cell_type": "code",
      "execution_count": null,
      "metadata": {
        "id": "n22leVhKHaEL"
      },
      "outputs": [],
      "source": [
        "interactions = pd.read_csv(\"../data/hw2-3/data_original/interactions.csv\")\n",
        "\n",
        "interactions.rename(\n",
        "    columns={\n",
        "        \"track_id\": Columns.Item,\n",
        "        \"last_watch_dt\": Columns.Datetime,\n",
        "        \"total_dur\": Columns.Weight,\n",
        "    },\n",
        "    inplace=True,\n",
        ")\n",
        "\n",
        "interactions[Columns.Datetime] = pd.to_datetime(interactions[Columns.Datetime])"
      ]
    },
    {
      "cell_type": "code",
      "execution_count": null,
      "metadata": {
        "id": "bjELLc5XIhQr"
      },
      "outputs": [],
      "source": [
        "users = pd.read_csv(\"../data/hw2-3/data_original/users.csv\")\n",
        "items = pd.read_csv(\"../data/hw2-3/data_original/items.csv\")"
      ]
    },
    {
      "cell_type": "code",
      "execution_count": null,
      "metadata": {
        "colab": {
          "base_uri": "https://localhost:8080/",
          "height": 363
        },
        "id": "ZgQ7U6M9Imim",
        "outputId": "6be10a37-4c60-4caa-b112-a05af72eeda3"
      },
      "outputs": [
        {
          "data": {
            "text/html": [
              "\n",
              "  <div id=\"df-934519a6-7edd-47c9-b798-065bad31de35\">\n",
              "    <div class=\"colab-df-container\">\n",
              "      <div>\n",
              "<style scoped>\n",
              "    .dataframe tbody tr th:only-of-type {\n",
              "        vertical-align: middle;\n",
              "    }\n",
              "\n",
              "    .dataframe tbody tr th {\n",
              "        vertical-align: top;\n",
              "    }\n",
              "\n",
              "    .dataframe thead th {\n",
              "        text-align: right;\n",
              "    }\n",
              "</style>\n",
              "<table border=\"1\" class=\"dataframe\">\n",
              "  <thead>\n",
              "    <tr style=\"text-align: right;\">\n",
              "      <th></th>\n",
              "      <th>user_id</th>\n",
              "      <th>item_id</th>\n",
              "      <th>datetime</th>\n",
              "      <th>weight</th>\n",
              "      <th>watched_pct</th>\n",
              "    </tr>\n",
              "  </thead>\n",
              "  <tbody>\n",
              "    <tr>\n",
              "      <th>0</th>\n",
              "      <td>176549</td>\n",
              "      <td>9506</td>\n",
              "      <td>2021-05-11</td>\n",
              "      <td>4250</td>\n",
              "      <td>72.0</td>\n",
              "    </tr>\n",
              "    <tr>\n",
              "      <th>1</th>\n",
              "      <td>699317</td>\n",
              "      <td>1659</td>\n",
              "      <td>2021-05-29</td>\n",
              "      <td>8317</td>\n",
              "      <td>100.0</td>\n",
              "    </tr>\n",
              "    <tr>\n",
              "      <th>2</th>\n",
              "      <td>656683</td>\n",
              "      <td>7107</td>\n",
              "      <td>2021-05-09</td>\n",
              "      <td>10</td>\n",
              "      <td>0.0</td>\n",
              "    </tr>\n",
              "    <tr>\n",
              "      <th>3</th>\n",
              "      <td>864613</td>\n",
              "      <td>7638</td>\n",
              "      <td>2021-07-05</td>\n",
              "      <td>14483</td>\n",
              "      <td>100.0</td>\n",
              "    </tr>\n",
              "    <tr>\n",
              "      <th>4</th>\n",
              "      <td>964868</td>\n",
              "      <td>9506</td>\n",
              "      <td>2021-04-30</td>\n",
              "      <td>6725</td>\n",
              "      <td>100.0</td>\n",
              "    </tr>\n",
              "    <tr>\n",
              "      <th>5476246</th>\n",
              "      <td>648596</td>\n",
              "      <td>12225</td>\n",
              "      <td>2021-08-13</td>\n",
              "      <td>76</td>\n",
              "      <td>0.0</td>\n",
              "    </tr>\n",
              "    <tr>\n",
              "      <th>5476247</th>\n",
              "      <td>546862</td>\n",
              "      <td>9673</td>\n",
              "      <td>2021-04-13</td>\n",
              "      <td>2308</td>\n",
              "      <td>49.0</td>\n",
              "    </tr>\n",
              "    <tr>\n",
              "      <th>5476248</th>\n",
              "      <td>697262</td>\n",
              "      <td>15297</td>\n",
              "      <td>2021-08-20</td>\n",
              "      <td>18307</td>\n",
              "      <td>63.0</td>\n",
              "    </tr>\n",
              "    <tr>\n",
              "      <th>5476249</th>\n",
              "      <td>384202</td>\n",
              "      <td>16197</td>\n",
              "      <td>2021-04-19</td>\n",
              "      <td>6203</td>\n",
              "      <td>100.0</td>\n",
              "    </tr>\n",
              "    <tr>\n",
              "      <th>5476250</th>\n",
              "      <td>319709</td>\n",
              "      <td>4436</td>\n",
              "      <td>2021-08-15</td>\n",
              "      <td>3921</td>\n",
              "      <td>45.0</td>\n",
              "    </tr>\n",
              "  </tbody>\n",
              "</table>\n",
              "</div>\n",
              "      <button class=\"colab-df-convert\" onclick=\"convertToInteractive('df-934519a6-7edd-47c9-b798-065bad31de35')\"\n",
              "              title=\"Convert this dataframe to an interactive table.\"\n",
              "              style=\"display:none;\">\n",
              "        \n",
              "  <svg xmlns=\"http://www.w3.org/2000/svg\" height=\"24px\"viewBox=\"0 0 24 24\"\n",
              "       width=\"24px\">\n",
              "    <path d=\"M0 0h24v24H0V0z\" fill=\"none\"/>\n",
              "    <path d=\"M18.56 5.44l.94 2.06.94-2.06 2.06-.94-2.06-.94-.94-2.06-.94 2.06-2.06.94zm-11 1L8.5 8.5l.94-2.06 2.06-.94-2.06-.94L8.5 2.5l-.94 2.06-2.06.94zm10 10l.94 2.06.94-2.06 2.06-.94-2.06-.94-.94-2.06-.94 2.06-2.06.94z\"/><path d=\"M17.41 7.96l-1.37-1.37c-.4-.4-.92-.59-1.43-.59-.52 0-1.04.2-1.43.59L10.3 9.45l-7.72 7.72c-.78.78-.78 2.05 0 2.83L4 21.41c.39.39.9.59 1.41.59.51 0 1.02-.2 1.41-.59l7.78-7.78 2.81-2.81c.8-.78.8-2.07 0-2.86zM5.41 20L4 18.59l7.72-7.72 1.47 1.35L5.41 20z\"/>\n",
              "  </svg>\n",
              "      </button>\n",
              "      \n",
              "  <style>\n",
              "    .colab-df-container {\n",
              "      display:flex;\n",
              "      flex-wrap:wrap;\n",
              "      gap: 12px;\n",
              "    }\n",
              "\n",
              "    .colab-df-convert {\n",
              "      background-color: #E8F0FE;\n",
              "      border: none;\n",
              "      border-radius: 50%;\n",
              "      cursor: pointer;\n",
              "      display: none;\n",
              "      fill: #1967D2;\n",
              "      height: 32px;\n",
              "      padding: 0 0 0 0;\n",
              "      width: 32px;\n",
              "    }\n",
              "\n",
              "    .colab-df-convert:hover {\n",
              "      background-color: #E2EBFA;\n",
              "      box-shadow: 0px 1px 2px rgba(60, 64, 67, 0.3), 0px 1px 3px 1px rgba(60, 64, 67, 0.15);\n",
              "      fill: #174EA6;\n",
              "    }\n",
              "\n",
              "    [theme=dark] .colab-df-convert {\n",
              "      background-color: #3B4455;\n",
              "      fill: #D2E3FC;\n",
              "    }\n",
              "\n",
              "    [theme=dark] .colab-df-convert:hover {\n",
              "      background-color: #434B5C;\n",
              "      box-shadow: 0px 1px 3px 1px rgba(0, 0, 0, 0.15);\n",
              "      filter: drop-shadow(0px 1px 2px rgba(0, 0, 0, 0.3));\n",
              "      fill: #FFFFFF;\n",
              "    }\n",
              "  </style>\n",
              "\n",
              "      <script>\n",
              "        const buttonEl =\n",
              "          document.querySelector('#df-934519a6-7edd-47c9-b798-065bad31de35 button.colab-df-convert');\n",
              "        buttonEl.style.display =\n",
              "          google.colab.kernel.accessAllowed ? 'block' : 'none';\n",
              "\n",
              "        async function convertToInteractive(key) {\n",
              "          const element = document.querySelector('#df-934519a6-7edd-47c9-b798-065bad31de35');\n",
              "          const dataTable =\n",
              "            await google.colab.kernel.invokeFunction('convertToInteractive',\n",
              "                                                     [key], {});\n",
              "          if (!dataTable) return;\n",
              "\n",
              "          const docLinkHtml = 'Like what you see? Visit the ' +\n",
              "            '<a target=\"_blank\" href=https://colab.research.google.com/notebooks/data_table.ipynb>data table notebook</a>'\n",
              "            + ' to learn more about interactive tables.';\n",
              "          element.innerHTML = '';\n",
              "          dataTable['output_type'] = 'display_data';\n",
              "          await google.colab.output.renderOutput(dataTable, element);\n",
              "          const docLink = document.createElement('div');\n",
              "          docLink.innerHTML = docLinkHtml;\n",
              "          element.appendChild(docLink);\n",
              "        }\n",
              "      </script>\n",
              "    </div>\n",
              "  </div>\n",
              "  "
            ],
            "text/plain": [
              "         user_id  item_id   datetime  weight  watched_pct\n",
              "0         176549     9506 2021-05-11    4250         72.0\n",
              "1         699317     1659 2021-05-29    8317        100.0\n",
              "2         656683     7107 2021-05-09      10          0.0\n",
              "3         864613     7638 2021-07-05   14483        100.0\n",
              "4         964868     9506 2021-04-30    6725        100.0\n",
              "5476246   648596    12225 2021-08-13      76          0.0\n",
              "5476247   546862     9673 2021-04-13    2308         49.0\n",
              "5476248   697262    15297 2021-08-20   18307         63.0\n",
              "5476249   384202    16197 2021-04-19    6203        100.0\n",
              "5476250   319709     4436 2021-08-15    3921         45.0"
            ]
          },
          "execution_count": 9,
          "metadata": {},
          "output_type": "execute_result"
        }
      ],
      "source": [
        "def headtail(df):\n",
        "    return pd.concat([df.head(), df.tail()])\n",
        "\n",
        "\n",
        "headtail(interactions)"
      ]
    },
    {
      "cell_type": "code",
      "execution_count": null,
      "metadata": {
        "id": "IMlcJ1s3Inoq"
      },
      "outputs": [],
      "source": [
        "def generate_subsample(users_count, top_k):\n",
        "    users = np.random.choice(\n",
        "        interactions[Columns.User].unique(), users_count, replace=False\n",
        "    )\n",
        "    df = interactions[interactions[Columns.User].isin(users)].reset_index(drop=True)\n",
        "    del df[Columns.Datetime], df[Columns.Weight], df[\"watched_pct\"]\n",
        "\n",
        "    recs = np.random.choice(df[Columns.Item], size=(users_count, top_k))\n",
        "    return df, users, recs"
      ]
    },
    {
      "cell_type": "markdown",
      "metadata": {
        "id": "yOXLaA2mI-RX"
      },
      "source": [
        "## Реализация"
      ]
    },
    {
      "cell_type": "markdown",
      "metadata": {
        "id": "NyQFsRUbKXhn"
      },
      "source": [
        "## Naive"
      ]
    },
    {
      "cell_type": "code",
      "execution_count": null,
      "metadata": {
        "id": "U_7lS3J0KX0s"
      },
      "outputs": [],
      "source": [
        "def mrr_naive(target, users, recs):\n",
        "    mrr = []\n",
        "    for i, user in enumerate(users):\n",
        "        user_mrr = 0\n",
        "        user_target = target[target[:, 0] == user][:, 1]\n",
        "        for j, rec in enumerate(recs[i]):\n",
        "            if rec in user_target:\n",
        "                user_mrr = 1 / (j + 1)\n",
        "                break\n",
        "        mrr.append(user_mrr)\n",
        "    return sum(mrr) / len(mrr)"
      ]
    },
    {
      "cell_type": "markdown",
      "metadata": {
        "id": "h_Z9h9UbJt3y"
      },
      "source": [
        "### Numba"
      ]
    },
    {
      "cell_type": "code",
      "execution_count": null,
      "metadata": {
        "id": "cHtJYeEwI8oa"
      },
      "outputs": [],
      "source": [
        "@nb.njit(cache=True, parallel=True)\n",
        "def mrr_numba(target, users, recs):\n",
        "    mrr = np.zeros(len(users))\n",
        "    for i in nb.prange(len(users)):\n",
        "        user = users[i]\n",
        "        user_mrr = 0\n",
        "        user_target = target[target[:, 0] == user][:, 1]\n",
        "        for j, rec in enumerate(recs[i]):\n",
        "            if rec in user_target:\n",
        "                user_mrr = 1 / (j + 1)\n",
        "                break\n",
        "        mrr[i] = user_mrr\n",
        "    return mrr.mean()"
      ]
    },
    {
      "cell_type": "markdown",
      "metadata": {
        "id": "s9b3NPYRLCaW"
      },
      "source": [
        "## Pandas"
      ]
    },
    {
      "cell_type": "code",
      "execution_count": null,
      "metadata": {
        "id": "Hgo_VFdRLCHL"
      },
      "outputs": [],
      "source": [
        "def mrr_pandas(df, users, recs):\n",
        "    k = recs.shape[1]\n",
        "    df_recs = pd.DataFrame(\n",
        "        {Columns.User: np.repeat(users, k), Columns.Item: recs.ravel()}\n",
        "    )\n",
        "    df_recs[Columns.Rank] = df_recs.groupby(Columns.User).cumcount() + 1\n",
        "    df_recs = df.merge(\n",
        "        df_recs,\n",
        "        how=\"left\",\n",
        "        left_on=[Columns.User, Columns.Item],\n",
        "        right_on=[Columns.User, Columns.Item],\n",
        "    )\n",
        "    # Получение минимального ранга для каждого item'a для каждого user'а\n",
        "    min_rank = df_recs.groupby([Columns.User, Columns.Item])[\"rank\"].min()\n",
        "    # Получение минимального ранга для каждого user'а\n",
        "    min_rank = min_rank.reset_index().groupby(Columns.User).min()\n",
        "    # Нахождение обратного ранга\n",
        "    reciprocal_rank = 1 / min_rank[\"rank\"]\n",
        "    # Подсчет среднего значения\n",
        "    mrr = reciprocal_rank.sum() / len(users)\n",
        "    return mrr"
      ]
    },
    {
      "cell_type": "markdown",
      "metadata": {
        "id": "a195xF9aWTvd"
      },
      "source": [
        "## Тестирование корректности результатов"
      ]
    },
    {
      "cell_type": "code",
      "execution_count": null,
      "metadata": {
        "id": "LWJYpg47pIUg"
      },
      "outputs": [],
      "source": [
        "n_runs = 2\n",
        "top_k = [10, 50, 100]\n",
        "users_count = [100, 1000, 10000]"
      ]
    },
    {
      "cell_type": "code",
      "execution_count": null,
      "metadata": {
        "colab": {
          "base_uri": "https://localhost:8080/"
        },
        "id": "At3xEOYVWspN",
        "outputId": "3b69fab9-e16f-4cd5-da38-2ac79dd13d16"
      },
      "outputs": [
        {
          "name": "stdout",
          "output_type": "stream",
          "text": [
            "Accepted!\n"
          ]
        }
      ],
      "source": [
        "for user_count in users_count:\n",
        "    for k in top_k:\n",
        "        for _ in range(n_runs):\n",
        "            df, users, recs = generate_subsample(user_count, k)\n",
        "            mrr1 = mrr_pandas(df, users, recs)\n",
        "            mrr2 = mrr_naive(df.values, users, recs)\n",
        "            mrr3 = mrr_numba(df.values, users, recs)\n",
        "\n",
        "            assert np.abs(mrr1 - mrr2).sum() < 1e-8, \"Pandas != Native\"\n",
        "            assert np.abs(mrr1 - mrr3).sum() < 1e-8, \"Pandas != Numba\"\n",
        "            assert np.abs(mrr3 - mrr2).sum() < 1e-8, \"Numba != Native\"\n",
        "print(\"Accepted!\")"
      ]
    },
    {
      "cell_type": "markdown",
      "metadata": {
        "id": "ZzdumYz1XoR6"
      },
      "source": [
        "## Тестирование времени работы"
      ]
    },
    {
      "cell_type": "code",
      "execution_count": null,
      "metadata": {
        "id": "DEI1GcojbuD7"
      },
      "outputs": [],
      "source": [
        "n_runs = 2\n",
        "top_k = [10, 50, 100]\n",
        "users_count = [100, 1000, 10000]"
      ]
    },
    {
      "cell_type": "code",
      "execution_count": null,
      "metadata": {
        "id": "Gey2rFb1YlXp"
      },
      "outputs": [],
      "source": [
        "methods = {\n",
        "    \"Naive\": \"mrr_naive(df.values, users, recs)\",\n",
        "    \"Numba\": \"mrr_numba(df.values, users, recs)\",\n",
        "    \"Pandas\": \"mrr_pandas(df, users, recs)\",\n",
        "}"
      ]
    },
    {
      "cell_type": "code",
      "execution_count": null,
      "metadata": {
        "id": "7JRJlyN7djqu"
      },
      "outputs": [],
      "source": [
        "result = {}\n",
        "for name in methods:\n",
        "    result[name] = np.zeros((len(users_count), len(top_k)))"
      ]
    },
    {
      "cell_type": "code",
      "execution_count": null,
      "metadata": {
        "colab": {
          "base_uri": "https://localhost:8080/"
        },
        "id": "aGnTKC10aROB",
        "outputId": "c27e1126-cf97-4b04-bba0-f43b4dc5f58c"
      },
      "outputs": [
        {
          "name": "stdout",
          "output_type": "stream",
          "text": [
            "Run methods: Naive, user_count: 100, k: 10\n",
            "Time: 0.014995814000030805\n",
            "Run methods: Numba, user_count: 100, k: 10\n",
            "Time: 0.000988642500487913\n",
            "Run methods: Pandas, user_count: 100, k: 10\n",
            "Time: 0.01771497099980479\n",
            "Run methods: Naive, user_count: 100, k: 50\n",
            "Time: 0.02777476050050609\n",
            "Run methods: Numba, user_count: 100, k: 50\n",
            "Time: 0.001610690499546763\n",
            "Run methods: Pandas, user_count: 100, k: 50\n",
            "Time: 0.01875138500054163\n",
            "Run methods: Naive, user_count: 100, k: 100\n",
            "Time: 0.041064652999921236\n",
            "Run methods: Numba, user_count: 100, k: 100\n",
            "Time: 0.0008661520005261991\n",
            "Run methods: Pandas, user_count: 100, k: 100\n",
            "Time: 0.020493632499892556\n",
            "Run methods: Naive, user_count: 1000, k: 10\n",
            "Time: 0.1319106285009184\n",
            "Run methods: Numba, user_count: 1000, k: 10\n",
            "Time: 0.02238799799943081\n",
            "Run methods: Pandas, user_count: 1000, k: 10\n",
            "Time: 0.02630737450090237\n",
            "Run methods: Naive, user_count: 1000, k: 50\n",
            "Time: 0.2855684004989598\n",
            "Run methods: Numba, user_count: 1000, k: 50\n",
            "Time: 0.03260876600052143\n",
            "Run methods: Pandas, user_count: 1000, k: 50\n",
            "Time: 0.04493835250104894\n",
            "Run methods: Naive, user_count: 1000, k: 100\n",
            "Time: 0.4584352650008441\n",
            "Run methods: Numba, user_count: 1000, k: 100\n",
            "Time: 0.026021826500254974\n",
            "Run methods: Pandas, user_count: 1000, k: 100\n",
            "Time: 0.05289273649941606\n",
            "Run methods: Naive, user_count: 10000, k: 10\n",
            "Time: 4.3462542465003935\n",
            "Run methods: Numba, user_count: 10000, k: 10\n",
            "Time: 2.3789042269991114\n",
            "Run methods: Pandas, user_count: 10000, k: 10\n",
            "Time: 0.12880274999952235\n",
            "Run methods: Naive, user_count: 10000, k: 50\n",
            "Time: 5.764445552500547\n",
            "Run methods: Numba, user_count: 10000, k: 50\n",
            "Time: 2.271761649999462\n",
            "Run methods: Pandas, user_count: 10000, k: 50\n",
            "Time: 0.26181817000087904\n",
            "Run methods: Naive, user_count: 10000, k: 100\n",
            "Time: 7.432822216500426\n",
            "Run methods: Numba, user_count: 10000, k: 100\n",
            "Time: 2.3467117435002365\n",
            "Run methods: Pandas, user_count: 10000, k: 100\n",
            "Time: 0.44060228950093006\n"
          ]
        }
      ],
      "source": [
        "for i, user_count in enumerate(users_count):\n",
        "    for j, k in enumerate(top_k):\n",
        "        df, users, recs = generate_subsample(user_count, k)\n",
        "        for name in methods:\n",
        "            print(f\"Run methods: {name}, user_count: {user_count}, k: {k}\")\n",
        "            t = timeit.repeat(\n",
        "                methods[name],\n",
        "                \"from __main__ import mrr_naive, mrr_numba, mrr_pandas, df, users, recs\",\n",
        "                repeat=n_runs,\n",
        "                number=n_runs,\n",
        "            )\n",
        "            print(f\"Time: {sum(t) / len(t)}\")\n",
        "            result[name][i][j] = sum(t) / len(t)"
      ]
    },
    {
      "cell_type": "markdown",
      "metadata": {
        "id": "y0vmRK7ae1Cc"
      },
      "source": [
        "### Plot graph"
      ]
    },
    {
      "cell_type": "code",
      "execution_count": null,
      "metadata": {
        "colab": {
          "base_uri": "https://localhost:8080/",
          "height": 404
        },
        "id": "_hpcysY4e2vL",
        "outputId": "7b8f90d2-35a5-4dff-d47e-193706d993e7"
      },
      "outputs": [
        {
          "data": {
            "image/png": "[encoded data removed]",
            "text/plain": [
              "<Figure size 1080x432 with 3 Axes>"
            ]
          },
          "metadata": {
            "needs_background": "light"
          },
          "output_type": "display_data"
        }
      ],
      "source": [
        "_, ax = plt.subplots(1, 3, figsize=(15, 6))\n",
        "\n",
        "for i in range(len(top_k)):\n",
        "    for j, name in enumerate(methods):\n",
        "        ax[i].plot(users_count, result[name][:, i], label=name)\n",
        "    ax[i].set_title(f\"top_k = {top_k[i]}\")\n",
        "    ax[i].set_xlabel(\"number users\")\n",
        "    ax[i].set_ylabel(\"time (s)\")\n",
        "    ax[i].grid()\n",
        "    ax[i].legend()"
      ]
    },
    {
      "cell_type": "code",
      "execution_count": null,
      "metadata": {
        "colab": {
          "base_uri": "https://localhost:8080/",
          "height": 404
        },
        "id": "NzcUpZRZgcp_",
        "outputId": "b69a5a4f-c2d7-431d-bf0b-9c43e7f5030d"
      },
      "outputs": [
        {
          "data": {
            "image/png": "[encoded data removed]",
            "text/plain": [
              "<Figure size 1080x432 with 3 Axes>"
            ]
          },
          "metadata": {
            "needs_background": "light"
          },
          "output_type": "display_data"
        }
      ],
      "source": [
        "_, ax = plt.subplots(1, 3, figsize=(15, 6))\n",
        "for i in range(len(users_count)):\n",
        "    for j, name in enumerate(methods):\n",
        "        ax[i].plot(top_k, result[name][i, :], label=name)\n",
        "    ax[i].set_title(f\"users_count = {users_count[i]}\")\n",
        "    ax[i].set_xlabel(\"top k\")\n",
        "    ax[i].set_ylabel(\"time (s)\")\n",
        "    ax[i].grid()\n",
        "    ax[i].legend()"
      ]
    }
  ],
  "metadata": {
    "colab": {
      "provenance": []
    },
    "kernelspec": {
      "display_name": "Python 3.10.8 ('.venv': poetry)",
      "language": "python",
      "name": "python3"
    },
    "language_info": {
      "name": "python",
      "version": "3.10.8"
    },
    "vscode": {
      "interpreter": {
        "hash": "bd100e319fbc196d4ffdc6bb44a6ade695a8a2db78460a334f3cabb37ce0a27a"
      }
    },
    "widgets": {
      "application/vnd.jupyter.widget-state+json": {
        "0c6e3a51622244748395a05a2fd61023": {
          "model_module": "@jupyter-widgets/controls",
          "model_module_version": "1.5.0",
          "model_name": "HTMLModel",
          "state": {
            "_dom_classes": [],
            "_model_module": "@jupyter-widgets/controls",
            "_model_module_version": "1.5.0",
            "_model_name": "HTMLModel",
            "_view_count": null,
            "_view_module": "@jupyter-widgets/controls",
            "_view_module_version": "1.5.0",
            "_view_name": "HTMLView",
            "description": "",
            "description_tooltip": null,
            "layout": "IPY_MODEL_633c32f1444f4319b3eb8b619828e9fa",
            "placeholder": "​",
            "style": "IPY_MODEL_ac56bfc6f95541aa9a448c5760426c5b",
            "value": " 78.8M/78.8M [00:20&lt;00:00, 277MiB/s]"
          }
        },
        "2e0f0c83298447a88d9f3bffadfe91db": {
          "model_module": "@jupyter-widgets/base",
          "model_module_version": "1.2.0",
          "model_name": "LayoutModel",
          "state": {
            "_model_module": "@jupyter-widgets/base",
            "_model_module_version": "1.2.0",
            "_model_name": "LayoutModel",
            "_view_count": null,
            "_view_module": "@jupyter-widgets/base",
            "_view_module_version": "1.2.0",
            "_view_name": "LayoutView",
            "align_content": null,
            "align_items": null,
            "align_self": null,
            "border": null,
            "bottom": null,
            "display": null,
            "flex": null,
            "flex_flow": null,
            "grid_area": null,
            "grid_auto_columns": null,
            "grid_auto_flow": null,
            "grid_auto_rows": null,
            "grid_column": null,
            "grid_gap": null,
            "grid_row": null,
            "grid_template_areas": null,
            "grid_template_columns": null,
            "grid_template_rows": null,
            "height": null,
            "justify_content": null,
            "justify_items": null,
            "left": null,
            "margin": null,
            "max_height": null,
            "max_width": null,
            "min_height": null,
            "min_width": null,
            "object_fit": null,
            "object_position": null,
            "order": null,
            "overflow": null,
            "overflow_x": null,
            "overflow_y": null,
            "padding": null,
            "right": null,
            "top": null,
            "visibility": null,
            "width": null
          }
        },
        "36bda7be5f18433391482a29529094dc": {
          "model_module": "@jupyter-widgets/controls",
          "model_module_version": "1.5.0",
          "model_name": "FloatProgressModel",
          "state": {
            "_dom_classes": [],
            "_model_module": "@jupyter-widgets/controls",
            "_model_module_version": "1.5.0",
            "_model_name": "FloatProgressModel",
            "_view_count": null,
            "_view_module": "@jupyter-widgets/controls",
            "_view_module_version": "1.5.0",
            "_view_name": "ProgressView",
            "bar_style": "",
            "description": "",
            "description_tooltip": null,
            "layout": "IPY_MODEL_9b371d3328c542528208f1811b114e60",
            "max": 78795295,
            "min": 0,
            "orientation": "horizontal",
            "style": "IPY_MODEL_7daf4dff032e406c85b79529883e87c8",
            "value": 78795295
          }
        },
        "4a9534121aac483598a5a8cc2a0be18c": {
          "model_module": "@jupyter-widgets/controls",
          "model_module_version": "1.5.0",
          "model_name": "HBoxModel",
          "state": {
            "_dom_classes": [],
            "_model_module": "@jupyter-widgets/controls",
            "_model_module_version": "1.5.0",
            "_model_name": "HBoxModel",
            "_view_count": null,
            "_view_module": "@jupyter-widgets/controls",
            "_view_module_version": "1.5.0",
            "_view_name": "HBoxView",
            "box_style": "",
            "children": [
              "IPY_MODEL_7106ead0d2084a4ca27acaf93845fb02",
              "IPY_MODEL_36bda7be5f18433391482a29529094dc",
              "IPY_MODEL_0c6e3a51622244748395a05a2fd61023"
            ],
            "layout": "IPY_MODEL_ee4c8f017e4142ddb1e5d5802a1022ba"
          }
        },
        "633c32f1444f4319b3eb8b619828e9fa": {
          "model_module": "@jupyter-widgets/base",
          "model_module_version": "1.2.0",
          "model_name": "LayoutModel",
          "state": {
            "_model_module": "@jupyter-widgets/base",
            "_model_module_version": "1.2.0",
            "_model_name": "LayoutModel",
            "_view_count": null,
            "_view_module": "@jupyter-widgets/base",
            "_view_module_version": "1.2.0",
            "_view_name": "LayoutView",
            "align_content": null,
            "align_items": null,
            "align_self": null,
            "border": null,
            "bottom": null,
            "display": null,
            "flex": null,
            "flex_flow": null,
            "grid_area": null,
            "grid_auto_columns": null,
            "grid_auto_flow": null,
            "grid_auto_rows": null,
            "grid_column": null,
            "grid_gap": null,
            "grid_row": null,
            "grid_template_areas": null,
            "grid_template_columns": null,
            "grid_template_rows": null,
            "height": null,
            "justify_content": null,
            "justify_items": null,
            "left": null,
            "margin": null,
            "max_height": null,
            "max_width": null,
            "min_height": null,
            "min_width": null,
            "object_fit": null,
            "object_position": null,
            "order": null,
            "overflow": null,
            "overflow_x": null,
            "overflow_y": null,
            "padding": null,
            "right": null,
            "top": null,
            "visibility": null,
            "width": null
          }
        },
        "7106ead0d2084a4ca27acaf93845fb02": {
          "model_module": "@jupyter-widgets/controls",
          "model_module_version": "1.5.0",
          "model_name": "HTMLModel",
          "state": {
            "_dom_classes": [],
            "_model_module": "@jupyter-widgets/controls",
            "_model_module_version": "1.5.0",
            "_model_name": "HTMLModel",
            "_view_count": null,
            "_view_module": "@jupyter-widgets/controls",
            "_view_module_version": "1.5.0",
            "_view_name": "HTMLView",
            "description": "",
            "description_tooltip": null,
            "layout": "IPY_MODEL_2e0f0c83298447a88d9f3bffadfe91db",
            "placeholder": "​",
            "style": "IPY_MODEL_8017706ba9d0459aa193bcc29fd888ad",
            "value": "kion dataset download: 100%"
          }
        },
        "7daf4dff032e406c85b79529883e87c8": {
          "model_module": "@jupyter-widgets/controls",
          "model_module_version": "1.5.0",
          "model_name": "ProgressStyleModel",
          "state": {
            "_model_module": "@jupyter-widgets/controls",
            "_model_module_version": "1.5.0",
            "_model_name": "ProgressStyleModel",
            "_view_count": null,
            "_view_module": "@jupyter-widgets/base",
            "_view_module_version": "1.2.0",
            "_view_name": "StyleView",
            "bar_color": null,
            "description_width": ""
          }
        },
        "8017706ba9d0459aa193bcc29fd888ad": {
          "model_module": "@jupyter-widgets/controls",
          "model_module_version": "1.5.0",
          "model_name": "DescriptionStyleModel",
          "state": {
            "_model_module": "@jupyter-widgets/controls",
            "_model_module_version": "1.5.0",
            "_model_name": "DescriptionStyleModel",
            "_view_count": null,
            "_view_module": "@jupyter-widgets/base",
            "_view_module_version": "1.2.0",
            "_view_name": "StyleView",
            "description_width": ""
          }
        },
        "9b371d3328c542528208f1811b114e60": {
          "model_module": "@jupyter-widgets/base",
          "model_module_version": "1.2.0",
          "model_name": "LayoutModel",
          "state": {
            "_model_module": "@jupyter-widgets/base",
            "_model_module_version": "1.2.0",
            "_model_name": "LayoutModel",
            "_view_count": null,
            "_view_module": "@jupyter-widgets/base",
            "_view_module_version": "1.2.0",
            "_view_name": "LayoutView",
            "align_content": null,
            "align_items": null,
            "align_self": null,
            "border": null,
            "bottom": null,
            "display": null,
            "flex": null,
            "flex_flow": null,
            "grid_area": null,
            "grid_auto_columns": null,
            "grid_auto_flow": null,
            "grid_auto_rows": null,
            "grid_column": null,
            "grid_gap": null,
            "grid_row": null,
            "grid_template_areas": null,
            "grid_template_columns": null,
            "grid_template_rows": null,
            "height": null,
            "justify_content": null,
            "justify_items": null,
            "left": null,
            "margin": null,
            "max_height": null,
            "max_width": null,
            "min_height": null,
            "min_width": null,
            "object_fit": null,
            "object_position": null,
            "order": null,
            "overflow": null,
            "overflow_x": null,
            "overflow_y": null,
            "padding": null,
            "right": null,
            "top": null,
            "visibility": null,
            "width": null
          }
        },
        "ac56bfc6f95541aa9a448c5760426c5b": {
          "model_module": "@jupyter-widgets/controls",
          "model_module_version": "1.5.0",
          "model_name": "DescriptionStyleModel",
          "state": {
            "_model_module": "@jupyter-widgets/controls",
            "_model_module_version": "1.5.0",
            "_model_name": "DescriptionStyleModel",
            "_view_count": null,
            "_view_module": "@jupyter-widgets/base",
            "_view_module_version": "1.2.0",
            "_view_name": "StyleView",
            "description_width": ""
          }
        },
        "ee4c8f017e4142ddb1e5d5802a1022ba": {
          "model_module": "@jupyter-widgets/base",
          "model_module_version": "1.2.0",
          "model_name": "LayoutModel",
          "state": {
            "_model_module": "@jupyter-widgets/base",
            "_model_module_version": "1.2.0",
            "_model_name": "LayoutModel",
            "_view_count": null,
            "_view_module": "@jupyter-widgets/base",
            "_view_module_version": "1.2.0",
            "_view_name": "LayoutView",
            "align_content": null,
            "align_items": null,
            "align_self": null,
            "border": null,
            "bottom": null,
            "display": null,
            "flex": null,
            "flex_flow": null,
            "grid_area": null,
            "grid_auto_columns": null,
            "grid_auto_flow": null,
            "grid_auto_rows": null,
            "grid_column": null,
            "grid_gap": null,
            "grid_row": null,
            "grid_template_areas": null,
            "grid_template_columns": null,
            "grid_template_rows": null,
            "height": null,
            "justify_content": null,
            "justify_items": null,
            "left": null,
            "margin": null,
            "max_height": null,
            "max_width": null,
            "min_height": null,
            "min_width": null,
            "object_fit": null,
            "object_position": null,
            "order": null,
            "overflow": null,
            "overflow_x": null,
            "overflow_y": null,
            "padding": null,
            "right": null,
            "top": null,
            "visibility": null,
            "width": null
          }
        }
      }
    }
  },
  "nbformat": 4,
  "nbformat_minor": 0
}
