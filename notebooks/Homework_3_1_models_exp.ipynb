{
 "cells": [
  {
   "cell_type": "code",
   "execution_count": null,
   "metadata": {
    "colab": {
     "base_uri": "https://localhost:8080/"
    },
    "collapsed": true,
    "id": "zJ61tlLkWgHf",
    "outputId": "38dbbe81-aa75-4f86-9a75-3051f6a78ae6"
   },
   "outputs": [
    {
     "name": "stdout",
     "output_type": "stream",
     "text": [
      "Looking in indexes: https://pypi.org/simple, https://us-python.pkg.dev/colab-wheels/public/simple/\n",
      "Collecting rectools==0.2.0\n",
      "  Downloading RecTools-0.2.0-py3-none-any.whl (86 kB)\n",
      "\u001b[K     |████████████████████████████████| 86 kB 2.5 MB/s \n",
      "\u001b[?25hRequirement already satisfied: tqdm<5.0.0,>=4.27.0 in /usr/local/lib/python3.8/dist-packages (from rectools==0.2.0) (4.64.1)\n",
      "Requirement already satisfied: scipy<2.0.0,>=1.5.4 in /usr/local/lib/python3.8/dist-packages (from rectools==0.2.0) (1.7.3)\n",
      "Requirement already satisfied: typeguard<3.0.0,>=2.0.1 in /usr/local/lib/python3.8/dist-packages (from rectools==0.2.0) (2.7.1)\n",
      "Collecting nmslib<3.0.0,>=2.0.4\n",
      "  Downloading nmslib-2.1.1-cp38-cp38-manylinux2010_x86_64.whl (13.4 MB)\n",
      "\u001b[K     |████████████████████████████████| 13.4 MB 51.0 MB/s \n",
      "\u001b[?25hCollecting lightfm<2.0,>=1.16\n",
      "  Downloading lightfm-1.16.tar.gz (310 kB)\n",
      "\u001b[K     |████████████████████████████████| 310 kB 68.3 MB/s \n",
      "\u001b[?25hCollecting Markdown<3.3,>=3.2\n",
      "  Downloading Markdown-3.2.2-py3-none-any.whl (88 kB)\n",
      "\u001b[K     |████████████████████████████████| 88 kB 6.4 MB/s \n",
      "\u001b[?25hCollecting implicit==0.4.4\n",
      "  Downloading implicit-0.4.4.tar.gz (1.1 MB)\n",
      "\u001b[K     |████████████████████████████████| 1.1 MB 48.5 MB/s \n",
      "\u001b[?25hRequirement already satisfied: pandas<2.0.0,>=0.25.3 in /usr/local/lib/python3.8/dist-packages (from rectools==0.2.0) (1.3.5)\n",
      "Collecting attrs<22.0.0,>=19.1.0\n",
      "  Downloading attrs-21.4.0-py2.py3-none-any.whl (60 kB)\n",
      "\u001b[K     |████████████████████████████████| 60 kB 8.4 MB/s \n",
      "\u001b[?25hRequirement already satisfied: numpy<2.0.0,>=1.19.5 in /usr/local/lib/python3.8/dist-packages (from rectools==0.2.0) (1.21.6)\n",
      "Requirement already satisfied: requests in /usr/local/lib/python3.8/dist-packages (from lightfm<2.0,>=1.16->rectools==0.2.0) (2.23.0)\n",
      "Requirement already satisfied: scikit-learn in /usr/local/lib/python3.8/dist-packages (from lightfm<2.0,>=1.16->rectools==0.2.0) (1.0.2)\n",
      "Requirement already satisfied: psutil in /usr/local/lib/python3.8/dist-packages (from nmslib<3.0.0,>=2.0.4->rectools==0.2.0) (5.4.8)\n",
      "Collecting pybind11<2.6.2\n",
      "  Downloading pybind11-2.6.1-py2.py3-none-any.whl (188 kB)\n",
      "\u001b[K     |████████████████████████████████| 188 kB 62.5 MB/s \n",
      "\u001b[?25hRequirement already satisfied: pytz>=2017.3 in /usr/local/lib/python3.8/dist-packages (from pandas<2.0.0,>=0.25.3->rectools==0.2.0) (2022.6)\n",
      "Requirement already satisfied: python-dateutil>=2.7.3 in /usr/local/lib/python3.8/dist-packages (from pandas<2.0.0,>=0.25.3->rectools==0.2.0) (2.8.2)\n",
      "Requirement already satisfied: six>=1.5 in /usr/local/lib/python3.8/dist-packages (from python-dateutil>=2.7.3->pandas<2.0.0,>=0.25.3->rectools==0.2.0) (1.15.0)\n",
      "Requirement already satisfied: chardet<4,>=3.0.2 in /usr/local/lib/python3.8/dist-packages (from requests->lightfm<2.0,>=1.16->rectools==0.2.0) (3.0.4)\n",
      "Requirement already satisfied: idna<3,>=2.5 in /usr/local/lib/python3.8/dist-packages (from requests->lightfm<2.0,>=1.16->rectools==0.2.0) (2.10)\n",
      "Requirement already satisfied: certifi>=2017.4.17 in /usr/local/lib/python3.8/dist-packages (from requests->lightfm<2.0,>=1.16->rectools==0.2.0) (2022.9.24)\n",
      "Requirement already satisfied: urllib3!=1.25.0,!=1.25.1,<1.26,>=1.21.1 in /usr/local/lib/python3.8/dist-packages (from requests->lightfm<2.0,>=1.16->rectools==0.2.0) (1.24.3)\n",
      "Requirement already satisfied: threadpoolctl>=2.0.0 in /usr/local/lib/python3.8/dist-packages (from scikit-learn->lightfm<2.0,>=1.16->rectools==0.2.0) (3.1.0)\n",
      "Requirement already satisfied: joblib>=0.11 in /usr/local/lib/python3.8/dist-packages (from scikit-learn->lightfm<2.0,>=1.16->rectools==0.2.0) (1.2.0)\n",
      "Building wheels for collected packages: implicit, lightfm\n",
      "  Building wheel for implicit (setup.py) ... \u001b[?25l\u001b[?25hdone\n",
      "  Created wheel for implicit: filename=implicit-0.4.4-cp38-cp38-linux_x86_64.whl size=3825505 sha256=35b8c6ee7e1b69534cc67d4a498b71aefdc0c91a2b4b2c7f5186e648f617e936\n",
      "  Stored in directory: /root/.cache/pip/wheels/00/ac/67/6f4536c819ed560c2c7e17c0f7a920e3e50c26108616087d05\n",
      "  Building wheel for lightfm (setup.py) ... \u001b[?25l\u001b[?25hdone\n",
      "  Created wheel for lightfm: filename=lightfm-1.16-cp38-cp38-linux_x86_64.whl size=746161 sha256=f59dc37335b9f0f65ba7ed9d25f21b83d411f124659d1c5d862df7ca93d4470e\n",
      "  Stored in directory: /root/.cache/pip/wheels/ec/bb/51/9c487d021c1373b691d13cadca0b65b6852627b1f3f43550fa\n",
      "Successfully built implicit lightfm\n",
      "Installing collected packages: pybind11, nmslib, Markdown, lightfm, implicit, attrs, rectools\n",
      "  Attempting uninstall: Markdown\n",
      "    Found existing installation: Markdown 3.4.1\n",
      "    Uninstalling Markdown-3.4.1:\n",
      "      Successfully uninstalled Markdown-3.4.1\n",
      "  Attempting uninstall: attrs\n",
      "    Found existing installation: attrs 22.1.0\n",
      "    Uninstalling attrs-22.1.0:\n",
      "      Successfully uninstalled attrs-22.1.0\n",
      "Successfully installed Markdown-3.2.2 attrs-21.4.0 implicit-0.4.4 lightfm-1.16 nmslib-2.1.1 pybind11-2.6.1 rectools-0.2.0\n"
     ]
    }
   ],
   "source": [
    "!pip install rectools==0.2.0"
   ]
  },
  {
   "cell_type": "code",
   "execution_count": 1,
   "metadata": {
    "collapsed": true,
    "id": "P3O0KfFoE-7h"
   },
   "outputs": [
    {
     "ename": "ModuleNotFoundError",
     "evalue": "No module named 'rectools'",
     "output_type": "error",
     "traceback": [
      "\u001b[1;31m---------------------------------------------------------------------------\u001b[0m",
      "\u001b[1;31mModuleNotFoundError\u001b[0m                       Traceback (most recent call last)",
      "Input \u001b[1;32mIn [1]\u001b[0m, in \u001b[0;36m<cell line: 8>\u001b[1;34m()\u001b[0m\n\u001b[0;32m      5\u001b[0m \u001b[38;5;28;01mimport\u001b[39;00m \u001b[38;5;21;01mscipy\u001b[39;00m \u001b[38;5;28;01mas\u001b[39;00m \u001b[38;5;21;01msp\u001b[39;00m\n\u001b[0;32m      6\u001b[0m \u001b[38;5;28;01mimport\u001b[39;00m \u001b[38;5;21;01mmatplotlib\u001b[39;00m\u001b[38;5;21;01m.\u001b[39;00m\u001b[38;5;21;01mpyplot\u001b[39;00m \u001b[38;5;28;01mas\u001b[39;00m \u001b[38;5;21;01mplt\u001b[39;00m\n\u001b[1;32m----> 8\u001b[0m \u001b[38;5;28;01mfrom\u001b[39;00m \u001b[38;5;21;01mrectools\u001b[39;00m \u001b[38;5;28;01mimport\u001b[39;00m Columns\n\u001b[0;32m      9\u001b[0m \u001b[38;5;28;01mfrom\u001b[39;00m \u001b[38;5;21;01mrectools\u001b[39;00m\u001b[38;5;21;01m.\u001b[39;00m\u001b[38;5;21;01mmodel_selection\u001b[39;00m \u001b[38;5;28;01mimport\u001b[39;00m TimeRangeSplit\n\u001b[0;32m     10\u001b[0m \u001b[38;5;28;01mfrom\u001b[39;00m \u001b[38;5;21;01mrectools\u001b[39;00m\u001b[38;5;21;01m.\u001b[39;00m\u001b[38;5;21;01mmetrics\u001b[39;00m \u001b[38;5;28;01mimport\u001b[39;00m Precision, Recall, MeanInvUserFreq, Serendipity, MAP, calc_metrics\n",
      "\u001b[1;31mModuleNotFoundError\u001b[0m: No module named 'rectools'"
     ]
    }
   ],
   "source": [
    "import requests\n",
    "\n",
    "import pandas as pd\n",
    "import numpy as np\n",
    "import scipy as sp\n",
    "import matplotlib.pyplot as plt\n",
    "\n",
    "from rectools import Columns\n",
    "from rectools.model_selection import TimeRangeSplit\n",
    "from rectools.metrics import Precision, Recall, MeanInvUserFreq, Serendipity, MAP, calc_metrics\n",
    "from implicit.nearest_neighbours import CosineRecommender, TFIDFRecommender, BM25Recommender\n",
    "from tqdm.auto import tqdm\n",
    "\n",
    "from userknn import UserKnn"
   ]
  },
  {
   "cell_type": "code",
   "execution_count": null,
   "metadata": {
    "id": "vjF6wXtHAYWl"
   },
   "outputs": [],
   "source": [
    "# calculate several classic (precision@k and recall@k) and \"beyond accuracy\" metrics\n",
    "metrics = {\n",
    "    \"prec@10\": Precision(k=10),\n",
    "    \"recall@10\": Recall(k=10),\n",
    "    \"map@10\": MAP(k=10),\n",
    "    \"novelty\": MeanInvUserFreq(k=10),\n",
    "    \"serendipity\": Serendipity(k=10),\n",
    "}\n",
    "\n",
    "# few simple models to compare\n",
    "models = {\n",
    "    \"cosine\": CosineRecommender(),\n",
    "    \"tfidf\": TFIDFRecommender(),\n",
    "    \"bm25\": BM25Recommender(K1=15, B=19.5)\n",
    "}"
   ]
  },
  {
   "cell_type": "code",
   "execution_count": null,
   "metadata": {
    "colab": {
     "base_uri": "https://localhost:8080/",
     "height": 49,
     "referenced_widgets": [
      "6c9cbfbdf1794571b39bb41043b7d6e0",
      "c730a01324fa4bb9bc1a037bf7ad4b85",
      "7c5b6fafacf6478b8158fda7096beab5",
      "5a123cb9ce1e4afaaec991180befc88f",
      "78181c0ca2d14d7381609eeba7046dec",
      "204103da3ed445ba8154e327fdad2c8c",
      "7fbc948991c742c28c38ae719b0bbdea",
      "2239de39b9c743f1a1a54b282758836c",
      "bdf753746b7b4da79d6f694502197729",
      "6b7fafdaffa540c2b6e4dd405678655a",
      "95a69970c25740c088e19d81247939e2"
     ]
    },
    "id": "W38MeHfWCFiX",
    "outputId": "d0349f14-4349-453f-f5ba-1a895f8ed3cc"
   },
   "outputs": [
    {
     "data": {
      "application/vnd.jupyter.widget-view+json": {
       "model_id": "6c9cbfbdf1794571b39bb41043b7d6e0",
       "version_major": 2,
       "version_minor": 0
      },
      "text/plain": [
       "kion dataset download:   0%|          | 0.00/78.8M [00:00<?, ?iB/s]"
      ]
     },
     "metadata": {},
     "output_type": "display_data"
    }
   ],
   "source": [
    "# download dataset by chunks\n",
    "url = \"https://storage.yandexcloud.net/itmo-recsys-public-data/kion_train.zip\"\n",
    "\n",
    "req = requests.get(url, stream=True)\n",
    "\n",
    "with open('kion_train.zip', \"wb\") as fd:\n",
    "    total_size_in_bytes = int(req.headers.get('Content-Length', 0))\n",
    "    progress_bar = tqdm(desc='kion dataset download', total=total_size_in_bytes, unit='iB', unit_scale=True)\n",
    "    for chunk in req.iter_content(chunk_size=2 ** 20):\n",
    "        progress_bar.update(len(chunk))\n",
    "        fd.write(chunk)"
   ]
  },
  {
   "cell_type": "code",
   "execution_count": null,
   "metadata": {
    "colab": {
     "base_uri": "https://localhost:8080/"
    },
    "collapsed": true,
    "id": "CKhUOL3CCKnj",
    "outputId": "c62a4615-a61a-47aa-92a2-8ce58755eaaf"
   },
   "outputs": [
    {
     "name": "stdout",
     "output_type": "stream",
     "text": [
      "Archive:  kion_train.zip\n",
      "   creating: kion_train/\n",
      "  inflating: kion_train/interactions.csv  \n",
      "  inflating: __MACOSX/kion_train/._interactions.csv  \n",
      "  inflating: kion_train/users.csv    \n",
      "  inflating: __MACOSX/kion_train/._users.csv  \n",
      "  inflating: kion_train/items.csv    \n",
      "  inflating: __MACOSX/kion_train/._items.csv  \n"
     ]
    }
   ],
   "source": [
    "!unzip kion_train.zip"
   ]
  },
  {
   "cell_type": "markdown",
   "metadata": {
    "id": "KLgZtzhJ0KOy"
   },
   "source": [
    "Для определение оптимального кол-ва K соседей, при котором достиагется маскмальное значение метрик, код обучения был перестроен таким образом, чтобы запоминать значение метрик при различных значениях К, на каждой итерации кросс-валидации\n",
    "\n",
    "Была написана функция read_data, представленная ниже - её задача прочитать набор данных из файла и вернуть его чать (10, 20 и т.д. процентов). Она была написана для того, чтобы иметь возможность использовать меньший объем данных во время тестирования, и обучение занимало не так много времени."
   ]
  },
  {
   "cell_type": "code",
   "execution_count": null,
   "metadata": {
    "id": "euo_bVkRFqKJ"
   },
   "outputs": [],
   "source": [
    "def read_data(per: float):\n",
    "    interactions = pd.read_csv('kion_train/interactions.csv')\n",
    "    users = pd.read_csv('kion_train/users.csv')\n",
    "    items = pd.read_csv('kion_train/items.csv')\n",
    "\n",
    "    interactions.rename(columns={'last_watch_dt': Columns.Datetime,\n",
    "                              'total_dur': Columns.Weight}, \n",
    "                      inplace=True) \n",
    "\n",
    "    interactions['datetime'] = pd.to_datetime(interactions['datetime'])\n",
    "    interactions = interactions.sample(frac = per)\n",
    "    return interactions"
   ]
  },
  {
   "cell_type": "code",
   "execution_count": null,
   "metadata": {
    "colab": {
     "base_uri": "https://localhost:8080/",
     "height": 376,
     "referenced_widgets": [
      "d6dadd87ed994d31bdf1ac5b66938232",
      "822a5ef6e1e547d49f3d2705543f677e",
      "e86c21dbdd3c4b58ad6727d044170e3f",
      "10fc183589c345db9f7602f163653115",
      "e52925e352db44619545c2279098c9bd",
      "31985fe5287946c59e3fb2e5e0770bd4",
      "a21bb94dd27a4a82868f33d027c1e25e",
      "6b500f8fe90c40f3a9f90b59d9dc273e",
      "8fa5026bf06e43a0997d7df3ece074e9",
      "3c7e2b2f53f049748778cb03f546f297",
      "0e9cd81bf9464fc6bfb9d02bd9aa1a53",
      "3c46c5204e074b48ab4556fe6260b0ff",
      "c34aa67c754f4788a37064af8af0641c",
      "787be4edc90f4e37b4194c002799e9a5",
      "35930c70f42c4c01bb34208c977ccf24",
      "ac4fe5b67b1f4931bf31fcd10169e0aa",
      "61563e50a4714e79a296b40f0754262e",
      "9067f60c013e43b5909d15b19b5b62de",
      "403b379060754733b5c77da7fa8a93a9",
      "1cad2e412df84041b46147ac76f08760",
      "c8f61381f3b64001bfcffcb2943042d2",
      "26a8c73f3c6b4135907211fee2bc054a",
      "280bfdc2eb764b56acaad4d9295ff76e",
      "30d6436ebd484d14a5df818623a31f60",
      "c756a555995b4a4a9d89ad8d8bf0854a",
      "aeae163c5c03446c8bbc5aa270fb569b",
      "3d5bdadae565480784d7c5769367c7f4",
      "f4254964bc2d4f83947b366dc9766552",
      "4af77a277a7142c2819a6ce97919a445",
      "e2e29335dc62466ea98b1f337050e57e",
      "6cbe5f2d6801454fa3c8046925073311",
      "99cb59d36ad24890a3771ffc86a60db3",
      "d7deeca9e446442bacd9fcb6531bfae3"
     ]
    },
    "collapsed": true,
    "id": "hsxpkeQDzcJj",
    "outputId": "541f49f1-9202-4c57-e695-2d8b6296ed0c"
   },
   "outputs": [
    {
     "name": "stdout",
     "output_type": "stream",
     "text": [
      "Start date and last date of the test fold: (Timestamp('2021-08-16 00:00:00'), Timestamp('2021-08-22 00:00:00'))\n",
      "start_date: 2021-08-16 00:00:00\n",
      "last_date: 2021-08-22 00:00:00\n",
      "periods: 2\n",
      "freq: 5D\n",
      "\n",
      "Test fold borders: ['2021-08-16' '2021-08-21']\n",
      "Real number of folds: 1\n",
      "\n",
      "==================== Fold 0\n",
      "{'Start date': Timestamp('2021-08-16 00:00:00', freq='5D'), 'End date': Timestamp('2021-08-21 00:00:00', freq='5D'), 'Train': 5051815, 'Train users': 906071, 'Train items': 15577, 'Test': 207727, 'Test users': 85168, 'Test items': 6109}\n"
     ]
    },
    {
     "data": {
      "application/vnd.jupyter.widget-view+json": {
       "model_id": "d6dadd87ed994d31bdf1ac5b66938232",
       "version_major": 2,
       "version_minor": 0
      },
      "text/plain": [
       "  0%|          | 0/906071 [00:00<?, ?it/s]"
      ]
     },
     "metadata": {},
     "output_type": "display_data"
    },
    {
     "name": "stdout",
     "output_type": "stream",
     "text": [
      "{'model_name': 'cosine', 'model': <__main__.UserKnn object at 0x7f324e1f9a00>, 'prec@10': 0.0029999530340033814, 'recall@10': 0.016337850082903622, 'map@10': 0.002927372940549914, 'novelty': 8.314817115428983, 'serendipity': 4.7560958940661814e-05}\n"
     ]
    },
    {
     "data": {
      "application/vnd.jupyter.widget-view+json": {
       "model_id": "3c46c5204e074b48ab4556fe6260b0ff",
       "version_major": 2,
       "version_minor": 0
      },
      "text/plain": [
       "  0%|          | 0/906071 [00:00<?, ?it/s]"
      ]
     },
     "metadata": {},
     "output_type": "display_data"
    },
    {
     "name": "stdout",
     "output_type": "stream",
     "text": [
      "{'model_name': 'tfidf', 'model': <__main__.UserKnn object at 0x7f324456c1f0>, 'prec@10': 0.005197961675746759, 'recall@10': 0.028708677507013208, 'map@10': 0.005516857740274315, 'novelty': 8.240146930593266, 'serendipity': 5.951310880619221e-05}\n"
     ]
    },
    {
     "data": {
      "application/vnd.jupyter.widget-view+json": {
       "model_id": "280bfdc2eb764b56acaad4d9295ff76e",
       "version_major": 2,
       "version_minor": 0
      },
      "text/plain": [
       "  0%|          | 0/906071 [00:00<?, ?it/s]"
      ]
     },
     "metadata": {},
     "output_type": "display_data"
    },
    {
     "name": "stdout",
     "output_type": "stream",
     "text": [
      "{'model_name': 'bm25', 'model': <__main__.UserKnn object at 0x7f323ae1ed90>, 'prec@10': 0.0006058613563779823, 'recall@10': 0.0022446922136746673, 'map@10': 0.0005152807530598287, 'novelty': 11.192535619141902, 'serendipity': 8.376194565901258e-05}\n"
     ]
    }
   ],
   "source": [
    "results = [] #результаты всех моделей\n",
    "\n",
    "for i in range(1, 4, 1):\n",
    "\n",
    "    interactions = read_data(i / 10)\n",
    "\n",
    "    n_folds = 1\n",
    "    unit = \"D\"\n",
    "    n_units = 5\n",
    "\n",
    "    last_date = interactions[Columns.Datetime].max().normalize()\n",
    "    start_date = last_date - pd.Timedelta(n_folds * n_units + 1, unit=unit)  \n",
    "    print(f\"Start date and last date of the test fold: {start_date, last_date}\")\n",
    "\n",
    "    periods = n_folds + 1\n",
    "    freq = f\"{n_units}{unit}\"\n",
    "    print(\n",
    "      f\"start_date: {start_date}\\n\"\n",
    "      f\"last_date: {last_date}\\n\"\n",
    "      f\"periods: {periods}\\n\"\n",
    "      f\"freq: {freq}\\n\"\n",
    "    )\n",
    "\n",
    "    date_range = pd.date_range(start=start_date, periods=periods, freq=freq, tz=last_date.tz)\n",
    "    print(f\"Test fold borders: {date_range.values.astype('datetime64[D]')}\")\n",
    "\n",
    "    # generator of folds\n",
    "    cv = TimeRangeSplit(\n",
    "      date_range=date_range,\n",
    "      filter_already_seen=True,\n",
    "      filter_cold_items=True,\n",
    "      filter_cold_users=True,\n",
    "    )\n",
    "    print(f\"Real number of folds: {cv.get_n_splits(interactions)}\")\n",
    "\n",
    "    per_results = []\n",
    "    fold_iterator = cv.split(interactions, collect_fold_stats=True)\n",
    "\n",
    "    for i_fold, (train_ids, test_ids, fold_info) in enumerate(fold_iterator):\n",
    "        print(f\"\\n==================== Fold {i_fold}\")\n",
    "        print(fold_info)\n",
    "\n",
    "        df_train = interactions.iloc[train_ids].copy()\n",
    "        df_test = interactions.iloc[test_ids][Columns.UserItem].copy()\n",
    "\n",
    "        catalog = df_train[Columns.Item].unique()\n",
    "\n",
    "        for model_name, model in models.items():\n",
    "            for n in range(10, 65, 5):\n",
    "                userknn_model = UserKnn(model=model, N_users=n)\n",
    "                userknn_model.fit(df_train)\n",
    "\n",
    "                recos = userknn_model.predict(df_test)\n",
    "\n",
    "                metric_values = calc_metrics(\n",
    "                    metrics,\n",
    "                    reco=recos,\n",
    "                    interactions=df_test,\n",
    "                    prev_interactions=df_train,\n",
    "                    catalog=catalog,\n",
    "                )\n",
    "\n",
    "                fold = {\"per\": i/10, \"fold\": i_fold, \"k\": n, \"model\": model_name}\n",
    "                fold.update(metric_values)\n",
    "                print(fold)\n",
    "                per_results.append(fold)\n",
    "            results.append(per_results)"
   ]
  },
  {
   "cell_type": "markdown",
   "metadata": {
    "id": "1QO-BIVi1og2"
   },
   "source": [
    "Для получения значения метрик и определения K было выполнено обучение моделей на 10%, 20% и 30% объема обучающей выборки. Графики, полученные ниже, иллюстрируют, что оптимальным значением K является 20. Тенденции роста оптимального значения К с увеличением объема данных не выявлено. "
   ]
  },
  {
   "cell_type": "code",
   "execution_count": null,
   "metadata": {
    "colab": {
     "base_uri": "https://localhost:8080/"
    },
    "id": "Hrb1VRITw6nP",
    "outputId": "4cdedfbc-54e1-4a2b-db2d-a9dfea3bdce5"
   },
   "outputs": [
    {
     "name": "stdout",
     "output_type": "stream",
     "text": [
      "    per   prec@10  recall@10    map@10\n",
      "k                                     \n",
      "10  0.1  0.000077   0.000577  0.000362\n",
      "15  0.1  0.000136   0.001053  0.000579\n",
      "20  0.1  0.000175   0.001399  0.000711\n",
      "25  0.1  0.000175   0.001399  0.000711\n",
      "30  0.1  0.000175   0.001399  0.000711\n",
      "35  0.1  0.000175   0.001399  0.000711\n",
      "40  0.1  0.000175   0.001399  0.000711\n",
      "45  0.1  0.000175   0.001399  0.000711\n",
      "50  0.1  0.000175   0.001399  0.000711\n",
      "55  0.1  0.000175   0.001399  0.000711\n",
      "60  0.1  0.000175   0.001399  0.000711\n"
     ]
    }
   ],
   "source": [
    "#код, позволяющий сохранить полученные значения в файл \n",
    "for i in range(len(results)):\n",
    "    results_i = pd.DataFrame(results[i]).drop(columns=\"fold\").groupby([\"k\"], sort=False).agg(\"mean\")\n",
    "    print(results_i)\n",
    "    results_i.to_csv('results_bm25_{}.csv'.format(i), index=False)"
   ]
  },
  {
   "cell_type": "code",
   "execution_count": null,
   "metadata": {
    "colab": {
     "base_uri": "https://localhost:8080/"
    },
    "id": "8dQqJtFyewpE",
    "outputId": "c79e3fc5-c123-4fa1-dc4b-cb4b13d8b944"
   },
   "outputs": [
    {
     "name": "stdout",
     "output_type": "stream",
     "text": [
      "     prec@10  recall@10    map@10   novelty  serendipity\n",
      "10  0.000444   0.003362  0.000725  9.327008     0.000007\n",
      "15  0.000592   0.004517  0.000899  9.440459     0.000009\n",
      "20  0.000655   0.004972  0.000958  9.539425     0.000010\n",
      "25  0.000655   0.004972  0.000958  9.539425     0.000010\n",
      "30  0.000655   0.004972  0.000958  9.539425     0.000010\n",
      "35  0.000655   0.004972  0.000958  9.539425     0.000010\n",
      "40  0.000655   0.004972  0.000958  9.539425     0.000010\n",
      "45  0.000655   0.004972  0.000958  9.539425     0.000010\n",
      "50  0.000655   0.004972  0.000958  9.539425     0.000010\n",
      "55  0.000655   0.004972  0.000958  9.539425     0.000010\n",
      "60  0.000655   0.004972  0.000958  9.539425     0.000010\n",
      "     prec@10  recall@10    map@10   novelty  serendipity\n",
      "10  0.000703   0.005301  0.001169  9.656965     0.000006\n",
      "15  0.000942   0.007192  0.001501  9.468444     0.000008\n",
      "20  0.001136   0.008621  0.001776  9.359574     0.000009\n",
      "25  0.001136   0.008621  0.001776  9.359574     0.000009\n",
      "30  0.001136   0.008621  0.001776  9.359574     0.000009\n",
      "35  0.001136   0.008621  0.001776  9.359574     0.000009\n",
      "40  0.001136   0.008621  0.001776  9.359574     0.000009\n",
      "45  0.001136   0.008621  0.001776  9.359574     0.000009\n",
      "50  0.001136   0.008621  0.001776  9.359574     0.000009\n",
      "55  0.001136   0.008621  0.001776  9.359574     0.000009\n",
      "60  0.001136   0.008621  0.001776  9.359574     0.000009\n"
     ]
    }
   ],
   "source": [
    "#выполним построения графиков, для того, чтобы наглядно отразить результаты экспериментов\n",
    "cosine_10 = pd.read_csv('/content/drive/MyDrive/recsys/hw3/hyp_opt/results_cosine_0.csv')\n",
    "cosine_20 = pd.read_csv('/content/drive/MyDrive/recsys/hw3/hyp_opt/results_cosine_1.csv')\n",
    "cosine_30 = pd.read_csv('/content/drive/MyDrive/recsys/hw3/hyp_opt/results_cosine_2.csv')\n",
    "tfidf_10 = pd.read_csv('/content/drive/MyDrive/recsys/hw3/hyp_opt/results_tfidf_0.csv')\n",
    "tfidf_20 = pd.read_csv('/content/drive/MyDrive/recsys/hw3/hyp_opt/results_tfidf_1.csv')\n",
    "tfidf_30 = pd.read_csv('/content/drive/MyDrive/recsys/hw3/hyp_opt/results_tfidf_2.csv')\n",
    "\n",
    "cosine= pd.concat((cosine_10, cosine_20, cosine_30))\n",
    "cosine_mean = cosine.drop(columns=\"per\").groupby(cosine.index, sort=False).agg(\"mean\")\n",
    "cosine_mean.set_index([cosine_mean.index*5 + 10], inplace=True, drop=True)\n",
    "\n",
    "tfidf = pd.concat((tfidf_10, tfidf_20, tfidf_30))\n",
    "tfidf_mean = tfidf.drop(columns=\"per\").groupby(tfidf.index, sort=False).agg(\"mean\")\n",
    "tfidf_mean.set_index([tfidf_mean.index*5 + 10], inplace=True, drop=True)"
   ]
  },
  {
   "cell_type": "code",
   "execution_count": null,
   "metadata": {
    "colab": {
     "base_uri": "https://localhost:8080/",
     "height": 375
    },
    "id": "mHijeO94F3re",
    "outputId": "62c3a961-1778-42cc-9c7d-20802cdcadf0"
   },
   "outputs": [
    {
     "data": {
      "image/png": "[encoded data removed]",
      "text/plain": [
       "<Figure size 720x432 with 6 Axes>"
      ]
     },
     "metadata": {
      "needs_background": "light"
     },
     "output_type": "display_data"
    }
   ],
   "source": [
    "cosine_mean.plot(subplots=True, layout=(3, 2), figsize=(10, 6), sharex=False);"
   ]
  },
  {
   "cell_type": "code",
   "execution_count": null,
   "metadata": {
    "colab": {
     "base_uri": "https://localhost:8080/",
     "height": 374
    },
    "id": "IbHzv8dTKBaf",
    "outputId": "920e25b3-5b9f-4dd8-e8db-6cd09af09799"
   },
   "outputs": [
    {
     "data": {
      "image/png": "[encoded data removed]",
      "text/plain": [
       "<Figure size 720x432 with 6 Axes>"
      ]
     },
     "metadata": {
      "needs_background": "light"
     },
     "output_type": "display_data"
    }
   ],
   "source": [
    "tfidf_mean.plot(subplots=True, layout=(3, 2), figsize=(10, 6), sharex=False);"
   ]
  },
  {
   "cell_type": "markdown",
   "metadata": {
    "id": "Son_yZcGA6N0"
   },
   "source": [
    "На графиках выше вы можете видеть результаты только для моделей cosine и tfidf, так как в процеесе проведения экспериментов была обнаружена проблема - модель bm25 имеет больше гиперпараметров, из-за чего метрики, без дополнительной настройки параметров К1 и B отображаются как 0.0. В результате этого, было принято решение проверить гипотезу об оптимальном К в 20 на малом наборе данных (10%) и случайных параметрах K1 и B при которых значения метрик хоть как-то вычисляются. Гипотеза подтвердилась. Графики представлены ниже. Теперь необходимо подобрать параметры K1 и B при K=20. Затем сравним значение метрик и выберем лучшую модель, которую в последствии обучим на 100% данных."
   ]
  },
  {
   "cell_type": "code",
   "execution_count": null,
   "metadata": {
    "colab": {
     "base_uri": "https://localhost:8080/",
     "height": 259
    },
    "id": "8lvp20udKzNG",
    "outputId": "3ca51998-680d-4c44-f9eb-c29e4f854ece"
   },
   "outputs": [
    {
     "data": {
      "image/png": "[encoded data removed]",
      "text/plain": [
       "<Figure size 720x432 with 6 Axes>"
      ]
     },
     "metadata": {
      "needs_background": "light"
     },
     "output_type": "display_data"
    }
   ],
   "source": [
    "bm25_10 = pd.read_csv('/content/drive/MyDrive/recsys/hw3/hyp_opt/results_bm25_0.csv')\n",
    "bm25_10 = bm25_10.drop(columns=\"per\")\n",
    "bm25_10.set_index([bm25_10.index*5 + 10], inplace=True, drop=True)\n",
    "\n",
    "bm25_10.plot(subplots=True, layout=(3, 2), figsize=(10, 6), sharex=False);"
   ]
  },
  {
   "cell_type": "markdown",
   "metadata": {},
   "source": [
    "Ниже представлен абсолютно такой же процесс кросс-валидации с подбром гиперпараметров, как и выше, только модифицированный под текущую задачу.\n",
    "\n",
    "Для ускорения процесса было принято решение выполнить запуск кода ниже несколько раз с различными границами интервалов для параметров. На первой итерации были взяты k от 1 до 100 с шагом 5 и b от 1 до 30 с шагом 2, по результатам оптимальными стали k - 16, b - 19. На втором этапе были взяты k от 14 до 16 с шагом 1 и b от 18 до 19.5 с шагом 0.5, по результатам оптимальными k1 - 15, b - 19.5"
   ]
  },
  {
   "cell_type": "code",
   "execution_count": null,
   "metadata": {
    "colab": {
     "base_uri": "https://localhost:8080/",
     "height": 277,
     "referenced_widgets": [
      "4e5f477fc8e44f949af9d15bc2ffb864",
      "01de5a36aae24429b28e383061d51ff0",
      "2d0fdfa7d83a418988f71755cb76bd50",
      "62c2495b948d4a2e89d0400fbafcce55",
      "f4ccf2de8b0840e999e3dfbb3f576573",
      "bd26b91392c24b14af563fcc465724d3",
      "4db7bfa2fa30497cb8d2068f905a8469",
      "4f2e5c0fbccb4170a21c59647ce0e026",
      "20a2eca5f00f47f9932d12634c1517ac",
      "a3208d0b45404dd2a3ef1dc732a9af25",
      "d890c022b3d34cef8ccba32a546b6b9b"
     ]
    },
    "collapsed": true,
    "id": "eh1dJRMhLicI",
    "outputId": "9670f79d-4155-4339-bf8e-1e002263a5ef"
   },
   "outputs": [
    {
     "name": "stdout",
     "output_type": "stream",
     "text": [
      "Start date and last date of the test fold: (Timestamp('2021-08-16 00:00:00'), Timestamp('2021-08-22 00:00:00'))\n",
      "start_date: 2021-08-16 00:00:00\n",
      "last_date: 2021-08-22 00:00:00\n",
      "periods: 2\n",
      "freq: 5D\n",
      "\n",
      "Test fold borders: ['2021-08-16' '2021-08-21']\n",
      "Real number of folds: 1\n",
      "\n",
      "==================== Fold 0\n",
      "{'Start date': Timestamp('2021-08-16 00:00:00', freq='5D'), 'End date': Timestamp('2021-08-21 00:00:00', freq='5D'), 'Train': 505431, 'Train users': 287050, 'Train items': 9688, 'Test': 12155, 'Test users': 9886, 'Test items': 2612}\n"
     ]
    },
    {
     "data": {
      "application/vnd.jupyter.widget-view+json": {
       "model_id": "4e5f477fc8e44f949af9d15bc2ffb864",
       "version_major": 2,
       "version_minor": 0
      },
      "text/plain": [
       "  0%|          | 0/287050 [00:00<?, ?it/s]"
      ]
     },
     "metadata": {},
     "output_type": "display_data"
    },
    {
     "name": "stdout",
     "output_type": "stream",
     "text": [
      "{'fold': 0, 'prec@10': 0.00034392069593364356, 'recall@10': 0.002608065277496797, 'map@10': 0.0007591704157554855, 'novelty': 9.630624983012384, 'serendipity': 1.2964084303993072e-05}\n"
     ]
    }
   ],
   "source": [
    "interactions = read_data(0.1)\n",
    "\n",
    "n_folds = 1\n",
    "unit = \"D\"\n",
    "n_units = 5\n",
    "\n",
    "last_date = interactions[Columns.Datetime].max().normalize()\n",
    "start_date = last_date - pd.Timedelta(n_folds * n_units + 1, unit=unit)  \n",
    "print(f\"Start date and last date of the test fold: {start_date, last_date}\")\n",
    "\n",
    "periods = n_folds + 1\n",
    "freq = f\"{n_units}{unit}\"\n",
    "print(\n",
    "    f\"start_date: {start_date}\\n\"\n",
    "    f\"last_date: {last_date}\\n\"\n",
    "    f\"periods: {periods}\\n\"\n",
    "    f\"freq: {freq}\\n\"\n",
    ")\n",
    "    \n",
    "date_range = pd.date_range(start=start_date, periods=periods, freq=freq, tz=last_date.tz)\n",
    "print(f\"Test fold borders: {date_range.values.astype('datetime64[D]')}\")\n",
    "\n",
    "# generator of folds\n",
    "cv = TimeRangeSplit(\n",
    "    date_range=date_range,\n",
    "    filter_already_seen=True,\n",
    "    filter_cold_items=True,\n",
    "    filter_cold_users=True,\n",
    ")\n",
    "print(f\"Real number of folds: {cv.get_n_splits(interactions)}\")\n",
    "\n",
    "fold_iterator = cv.split(interactions, collect_fold_stats=True)\n",
    "results = []\n",
    "\n",
    "for i_fold, (train_ids, test_ids, fold_info) in enumerate(fold_iterator):\n",
    "    print(f\"\\n==================== Fold {i_fold}\")\n",
    "    print(fold_info)\n",
    "\n",
    "    df_train = interactions.iloc[train_ids].copy()\n",
    "    df_test = interactions.iloc[test_ids][Columns.UserItem].copy()\n",
    "\n",
    "    catalog = df_train[Columns.Item].unique()\n",
    "    \n",
    "    for k_1 in range(14, 17, 1):\n",
    "        for b in [x / 10.0 for x in range(180, 200, 5)]:\n",
    "            model = UserKnn(model=BM25Recommender(K1=15, B=19.5), N_users=20)\n",
    "            model.fit(df_train)\n",
    "\n",
    "            recos = model.predict(df_test)\n",
    "\n",
    "            metric_values = calc_metrics(\n",
    "                metrics,\n",
    "                reco=recos,\n",
    "                interactions=df_test,\n",
    "                prev_interactions=df_train,\n",
    "                catalog=catalog,\n",
    "            )\n",
    "\n",
    "            fold = {\"fold\": i_fold}\n",
    "            fold.update(metric_values)\n",
    "            print(fold)\n",
    "            results.append(fold)"
   ]
  },
  {
   "cell_type": "markdown",
   "metadata": {},
   "source": [
    "После получения значения гиперпараметров было произведено \"обучение\" bm25 на 30% данных.\n",
    "Затем мы сравнили значения метрик каждой модели и приняли решение, что tfidf становится основной"
   ]
  },
  {
   "cell_type": "code",
   "execution_count": null,
   "metadata": {
    "colab": {
     "base_uri": "https://localhost:8080/"
    },
    "id": "FgDsLm4K6heq",
    "outputId": "d5afcc28-436a-4195-f0e0-d2010a9e6882"
   },
   "outputs": [
    {
     "name": "stdout",
     "output_type": "stream",
     "text": [
      "cosine\n",
      " prec@10        0.000956\n",
      "recall@10      0.007010\n",
      "map@10         0.001310\n",
      "novelty        9.040109\n",
      "serendipity    0.000013\n",
      "Name: 2, dtype: float64 \n",
      "\n",
      "tfidf\n",
      " prec@10        0.001781\n",
      "recall@10      0.013013\n",
      "map@10         0.002612\n",
      "novelty        8.862508\n",
      "serendipity    0.000013\n",
      "Name: 2, dtype: float64 \n",
      "\n",
      "bm25\n",
      "                      0\n",
      "prec@10       0.000778\n",
      "recall@10     0.005509\n",
      "map@10        0.001030\n",
      "novelty      10.857291\n",
      "serendipity   0.000031 \n",
      "\n"
     ]
    }
   ],
   "source": [
    "bm25 = pd.read_csv('/content/drive/MyDrive/recsys/hw3/hyp_opt/results_bm25.csv', index_col=0)\n",
    "cosine = cosine_30.iloc[2].drop('per')\n",
    "tfidf = tfidf_30.iloc[2].drop('per')\n",
    "\n",
    "print(\"cosine\\n\", cosine, \"\\n\")\n",
    "print(\"tfidf\\n\", tfidf, \"\\n\")\n",
    "print(\"bm25\\n\", bm25, \"\\n\")"
   ]
  }
 ],
 "metadata": {
  "colab": {
   "provenance": []
  },
  "kernelspec": {
   "display_name": "Python 3 (ipykernel)",
   "language": "python",
   "name": "python3"
  },
  "language_info": {
   "codemirror_mode": {
    "name": "ipython",
    "version": 3
   },
   "file_extension": ".py",
   "mimetype": "text/x-python",
   "name": "python",
   "nbconvert_exporter": "python",
   "pygments_lexer": "ipython3",
   "version": "3.9.12"
  },
  "widgets": {
   "application/vnd.jupyter.widget-state+json": {
    "01de5a36aae24429b28e383061d51ff0": {
     "model_module": "@jupyter-widgets/controls",
     "model_module_version": "1.5.0",
     "model_name": "HTMLModel",
     "state": {
      "_dom_classes": [],
      "_model_module": "@jupyter-widgets/controls",
      "_model_module_version": "1.5.0",
      "_model_name": "HTMLModel",
      "_view_count": null,
      "_view_module": "@jupyter-widgets/controls",
      "_view_module_version": "1.5.0",
      "_view_name": "HTMLView",
      "description": "",
      "description_tooltip": null,
      "layout": "IPY_MODEL_bd26b91392c24b14af563fcc465724d3",
      "placeholder": "​",
      "style": "IPY_MODEL_4db7bfa2fa30497cb8d2068f905a8469",
      "value": "100%"
     }
    },
    "0e9cd81bf9464fc6bfb9d02bd9aa1a53": {
     "model_module": "@jupyter-widgets/controls",
     "model_module_version": "1.5.0",
     "model_name": "DescriptionStyleModel",
     "state": {
      "_model_module": "@jupyter-widgets/controls",
      "_model_module_version": "1.5.0",
      "_model_name": "DescriptionStyleModel",
      "_view_count": null,
      "_view_module": "@jupyter-widgets/base",
      "_view_module_version": "1.2.0",
      "_view_name": "StyleView",
      "description_width": ""
     }
    },
    "10fc183589c345db9f7602f163653115": {
     "model_module": "@jupyter-widgets/controls",
     "model_module_version": "1.5.0",
     "model_name": "HTMLModel",
     "state": {
      "_dom_classes": [],
      "_model_module": "@jupyter-widgets/controls",
      "_model_module_version": "1.5.0",
      "_model_name": "HTMLModel",
      "_view_count": null,
      "_view_module": "@jupyter-widgets/controls",
      "_view_module_version": "1.5.0",
      "_view_name": "HTMLView",
      "description": "",
      "description_tooltip": null,
      "layout": "IPY_MODEL_3c7e2b2f53f049748778cb03f546f297",
      "placeholder": "​",
      "style": "IPY_MODEL_0e9cd81bf9464fc6bfb9d02bd9aa1a53",
      "value": " 906071/906071 [25:00&lt;00:00, 617.76it/s]"
     }
    },
    "1cad2e412df84041b46147ac76f08760": {
     "model_module": "@jupyter-widgets/controls",
     "model_module_version": "1.5.0",
     "model_name": "ProgressStyleModel",
     "state": {
      "_model_module": "@jupyter-widgets/controls",
      "_model_module_version": "1.5.0",
      "_model_name": "ProgressStyleModel",
      "_view_count": null,
      "_view_module": "@jupyter-widgets/base",
      "_view_module_version": "1.2.0",
      "_view_name": "StyleView",
      "bar_color": null,
      "description_width": ""
     }
    },
    "204103da3ed445ba8154e327fdad2c8c": {
     "model_module": "@jupyter-widgets/base",
     "model_module_version": "1.2.0",
     "model_name": "LayoutModel",
     "state": {
      "_model_module": "@jupyter-widgets/base",
      "_model_module_version": "1.2.0",
      "_model_name": "LayoutModel",
      "_view_count": null,
      "_view_module": "@jupyter-widgets/base",
      "_view_module_version": "1.2.0",
      "_view_name": "LayoutView",
      "align_content": null,
      "align_items": null,
      "align_self": null,
      "border": null,
      "bottom": null,
      "display": null,
      "flex": null,
      "flex_flow": null,
      "grid_area": null,
      "grid_auto_columns": null,
      "grid_auto_flow": null,
      "grid_auto_rows": null,
      "grid_column": null,
      "grid_gap": null,
      "grid_row": null,
      "grid_template_areas": null,
      "grid_template_columns": null,
      "grid_template_rows": null,
      "height": null,
      "justify_content": null,
      "justify_items": null,
      "left": null,
      "margin": null,
      "max_height": null,
      "max_width": null,
      "min_height": null,
      "min_width": null,
      "object_fit": null,
      "object_position": null,
      "order": null,
      "overflow": null,
      "overflow_x": null,
      "overflow_y": null,
      "padding": null,
      "right": null,
      "top": null,
      "visibility": null,
      "width": null
     }
    },
    "20a2eca5f00f47f9932d12634c1517ac": {
     "model_module": "@jupyter-widgets/controls",
     "model_module_version": "1.5.0",
     "model_name": "ProgressStyleModel",
     "state": {
      "_model_module": "@jupyter-widgets/controls",
      "_model_module_version": "1.5.0",
      "_model_name": "ProgressStyleModel",
      "_view_count": null,
      "_view_module": "@jupyter-widgets/base",
      "_view_module_version": "1.2.0",
      "_view_name": "StyleView",
      "bar_color": null,
      "description_width": ""
     }
    },
    "2239de39b9c743f1a1a54b282758836c": {
     "model_module": "@jupyter-widgets/base",
     "model_module_version": "1.2.0",
     "model_name": "LayoutModel",
     "state": {
      "_model_module": "@jupyter-widgets/base",
      "_model_module_version": "1.2.0",
      "_model_name": "LayoutModel",
      "_view_count": null,
      "_view_module": "@jupyter-widgets/base",
      "_view_module_version": "1.2.0",
      "_view_name": "LayoutView",
      "align_content": null,
      "align_items": null,
      "align_self": null,
      "border": null,
      "bottom": null,
      "display": null,
      "flex": null,
      "flex_flow": null,
      "grid_area": null,
      "grid_auto_columns": null,
      "grid_auto_flow": null,
      "grid_auto_rows": null,
      "grid_column": null,
      "grid_gap": null,
      "grid_row": null,
      "grid_template_areas": null,
      "grid_template_columns": null,
      "grid_template_rows": null,
      "height": null,
      "justify_content": null,
      "justify_items": null,
      "left": null,
      "margin": null,
      "max_height": null,
      "max_width": null,
      "min_height": null,
      "min_width": null,
      "object_fit": null,
      "object_position": null,
      "order": null,
      "overflow": null,
      "overflow_x": null,
      "overflow_y": null,
      "padding": null,
      "right": null,
      "top": null,
      "visibility": null,
      "width": null
     }
    },
    "26a8c73f3c6b4135907211fee2bc054a": {
     "model_module": "@jupyter-widgets/controls",
     "model_module_version": "1.5.0",
     "model_name": "DescriptionStyleModel",
     "state": {
      "_model_module": "@jupyter-widgets/controls",
      "_model_module_version": "1.5.0",
      "_model_name": "DescriptionStyleModel",
      "_view_count": null,
      "_view_module": "@jupyter-widgets/base",
      "_view_module_version": "1.2.0",
      "_view_name": "StyleView",
      "description_width": ""
     }
    },
    "280bfdc2eb764b56acaad4d9295ff76e": {
     "model_module": "@jupyter-widgets/controls",
     "model_module_version": "1.5.0",
     "model_name": "HBoxModel",
     "state": {
      "_dom_classes": [],
      "_model_module": "@jupyter-widgets/controls",
      "_model_module_version": "1.5.0",
      "_model_name": "HBoxModel",
      "_view_count": null,
      "_view_module": "@jupyter-widgets/controls",
      "_view_module_version": "1.5.0",
      "_view_name": "HBoxView",
      "box_style": "",
      "children": [
       "IPY_MODEL_30d6436ebd484d14a5df818623a31f60",
       "IPY_MODEL_c756a555995b4a4a9d89ad8d8bf0854a",
       "IPY_MODEL_aeae163c5c03446c8bbc5aa270fb569b"
      ],
      "layout": "IPY_MODEL_3d5bdadae565480784d7c5769367c7f4"
     }
    },
    "2d0fdfa7d83a418988f71755cb76bd50": {
     "model_module": "@jupyter-widgets/controls",
     "model_module_version": "1.5.0",
     "model_name": "FloatProgressModel",
     "state": {
      "_dom_classes": [],
      "_model_module": "@jupyter-widgets/controls",
      "_model_module_version": "1.5.0",
      "_model_name": "FloatProgressModel",
      "_view_count": null,
      "_view_module": "@jupyter-widgets/controls",
      "_view_module_version": "1.5.0",
      "_view_name": "ProgressView",
      "bar_style": "success",
      "description": "",
      "description_tooltip": null,
      "layout": "IPY_MODEL_4f2e5c0fbccb4170a21c59647ce0e026",
      "max": 287050,
      "min": 0,
      "orientation": "horizontal",
      "style": "IPY_MODEL_20a2eca5f00f47f9932d12634c1517ac",
      "value": 287050
     }
    },
    "30d6436ebd484d14a5df818623a31f60": {
     "model_module": "@jupyter-widgets/controls",
     "model_module_version": "1.5.0",
     "model_name": "HTMLModel",
     "state": {
      "_dom_classes": [],
      "_model_module": "@jupyter-widgets/controls",
      "_model_module_version": "1.5.0",
      "_model_name": "HTMLModel",
      "_view_count": null,
      "_view_module": "@jupyter-widgets/controls",
      "_view_module_version": "1.5.0",
      "_view_name": "HTMLView",
      "description": "",
      "description_tooltip": null,
      "layout": "IPY_MODEL_f4254964bc2d4f83947b366dc9766552",
      "placeholder": "​",
      "style": "IPY_MODEL_4af77a277a7142c2819a6ce97919a445",
      "value": "100%"
     }
    },
    "31985fe5287946c59e3fb2e5e0770bd4": {
     "model_module": "@jupyter-widgets/base",
     "model_module_version": "1.2.0",
     "model_name": "LayoutModel",
     "state": {
      "_model_module": "@jupyter-widgets/base",
      "_model_module_version": "1.2.0",
      "_model_name": "LayoutModel",
      "_view_count": null,
      "_view_module": "@jupyter-widgets/base",
      "_view_module_version": "1.2.0",
      "_view_name": "LayoutView",
      "align_content": null,
      "align_items": null,
      "align_self": null,
      "border": null,
      "bottom": null,
      "display": null,
      "flex": null,
      "flex_flow": null,
      "grid_area": null,
      "grid_auto_columns": null,
      "grid_auto_flow": null,
      "grid_auto_rows": null,
      "grid_column": null,
      "grid_gap": null,
      "grid_row": null,
      "grid_template_areas": null,
      "grid_template_columns": null,
      "grid_template_rows": null,
      "height": null,
      "justify_content": null,
      "justify_items": null,
      "left": null,
      "margin": null,
      "max_height": null,
      "max_width": null,
      "min_height": null,
      "min_width": null,
      "object_fit": null,
      "object_position": null,
      "order": null,
      "overflow": null,
      "overflow_x": null,
      "overflow_y": null,
      "padding": null,
      "right": null,
      "top": null,
      "visibility": null,
      "width": null
     }
    },
    "35930c70f42c4c01bb34208c977ccf24": {
     "model_module": "@jupyter-widgets/controls",
     "model_module_version": "1.5.0",
     "model_name": "HTMLModel",
     "state": {
      "_dom_classes": [],
      "_model_module": "@jupyter-widgets/controls",
      "_model_module_version": "1.5.0",
      "_model_name": "HTMLModel",
      "_view_count": null,
      "_view_module": "@jupyter-widgets/controls",
      "_view_module_version": "1.5.0",
      "_view_name": "HTMLView",
      "description": "",
      "description_tooltip": null,
      "layout": "IPY_MODEL_c8f61381f3b64001bfcffcb2943042d2",
      "placeholder": "​",
      "style": "IPY_MODEL_26a8c73f3c6b4135907211fee2bc054a",
      "value": " 906070/906071 [25:02&lt;00:00, 614.19it/s]"
     }
    },
    "3c46c5204e074b48ab4556fe6260b0ff": {
     "model_module": "@jupyter-widgets/controls",
     "model_module_version": "1.5.0",
     "model_name": "HBoxModel",
     "state": {
      "_dom_classes": [],
      "_model_module": "@jupyter-widgets/controls",
      "_model_module_version": "1.5.0",
      "_model_name": "HBoxModel",
      "_view_count": null,
      "_view_module": "@jupyter-widgets/controls",
      "_view_module_version": "1.5.0",
      "_view_name": "HBoxView",
      "box_style": "",
      "children": [
       "IPY_MODEL_c34aa67c754f4788a37064af8af0641c",
       "IPY_MODEL_787be4edc90f4e37b4194c002799e9a5",
       "IPY_MODEL_35930c70f42c4c01bb34208c977ccf24"
      ],
      "layout": "IPY_MODEL_ac4fe5b67b1f4931bf31fcd10169e0aa"
     }
    },
    "3c7e2b2f53f049748778cb03f546f297": {
     "model_module": "@jupyter-widgets/base",
     "model_module_version": "1.2.0",
     "model_name": "LayoutModel",
     "state": {
      "_model_module": "@jupyter-widgets/base",
      "_model_module_version": "1.2.0",
      "_model_name": "LayoutModel",
      "_view_count": null,
      "_view_module": "@jupyter-widgets/base",
      "_view_module_version": "1.2.0",
      "_view_name": "LayoutView",
      "align_content": null,
      "align_items": null,
      "align_self": null,
      "border": null,
      "bottom": null,
      "display": null,
      "flex": null,
      "flex_flow": null,
      "grid_area": null,
      "grid_auto_columns": null,
      "grid_auto_flow": null,
      "grid_auto_rows": null,
      "grid_column": null,
      "grid_gap": null,
      "grid_row": null,
      "grid_template_areas": null,
      "grid_template_columns": null,
      "grid_template_rows": null,
      "height": null,
      "justify_content": null,
      "justify_items": null,
      "left": null,
      "margin": null,
      "max_height": null,
      "max_width": null,
      "min_height": null,
      "min_width": null,
      "object_fit": null,
      "object_position": null,
      "order": null,
      "overflow": null,
      "overflow_x": null,
      "overflow_y": null,
      "padding": null,
      "right": null,
      "top": null,
      "visibility": null,
      "width": null
     }
    },
    "3d5bdadae565480784d7c5769367c7f4": {
     "model_module": "@jupyter-widgets/base",
     "model_module_version": "1.2.0",
     "model_name": "LayoutModel",
     "state": {
      "_model_module": "@jupyter-widgets/base",
      "_model_module_version": "1.2.0",
      "_model_name": "LayoutModel",
      "_view_count": null,
      "_view_module": "@jupyter-widgets/base",
      "_view_module_version": "1.2.0",
      "_view_name": "LayoutView",
      "align_content": null,
      "align_items": null,
      "align_self": null,
      "border": null,
      "bottom": null,
      "display": null,
      "flex": null,
      "flex_flow": null,
      "grid_area": null,
      "grid_auto_columns": null,
      "grid_auto_flow": null,
      "grid_auto_rows": null,
      "grid_column": null,
      "grid_gap": null,
      "grid_row": null,
      "grid_template_areas": null,
      "grid_template_columns": null,
      "grid_template_rows": null,
      "height": null,
      "justify_content": null,
      "justify_items": null,
      "left": null,
      "margin": null,
      "max_height": null,
      "max_width": null,
      "min_height": null,
      "min_width": null,
      "object_fit": null,
      "object_position": null,
      "order": null,
      "overflow": null,
      "overflow_x": null,
      "overflow_y": null,
      "padding": null,
      "right": null,
      "top": null,
      "visibility": null,
      "width": null
     }
    },
    "403b379060754733b5c77da7fa8a93a9": {
     "model_module": "@jupyter-widgets/base",
     "model_module_version": "1.2.0",
     "model_name": "LayoutModel",
     "state": {
      "_model_module": "@jupyter-widgets/base",
      "_model_module_version": "1.2.0",
      "_model_name": "LayoutModel",
      "_view_count": null,
      "_view_module": "@jupyter-widgets/base",
      "_view_module_version": "1.2.0",
      "_view_name": "LayoutView",
      "align_content": null,
      "align_items": null,
      "align_self": null,
      "border": null,
      "bottom": null,
      "display": null,
      "flex": null,
      "flex_flow": null,
      "grid_area": null,
      "grid_auto_columns": null,
      "grid_auto_flow": null,
      "grid_auto_rows": null,
      "grid_column": null,
      "grid_gap": null,
      "grid_row": null,
      "grid_template_areas": null,
      "grid_template_columns": null,
      "grid_template_rows": null,
      "height": null,
      "justify_content": null,
      "justify_items": null,
      "left": null,
      "margin": null,
      "max_height": null,
      "max_width": null,
      "min_height": null,
      "min_width": null,
      "object_fit": null,
      "object_position": null,
      "order": null,
      "overflow": null,
      "overflow_x": null,
      "overflow_y": null,
      "padding": null,
      "right": null,
      "top": null,
      "visibility": null,
      "width": null
     }
    },
    "4af77a277a7142c2819a6ce97919a445": {
     "model_module": "@jupyter-widgets/controls",
     "model_module_version": "1.5.0",
     "model_name": "DescriptionStyleModel",
     "state": {
      "_model_module": "@jupyter-widgets/controls",
      "_model_module_version": "1.5.0",
      "_model_name": "DescriptionStyleModel",
      "_view_count": null,
      "_view_module": "@jupyter-widgets/base",
      "_view_module_version": "1.2.0",
      "_view_name": "StyleView",
      "description_width": ""
     }
    },
    "4db7bfa2fa30497cb8d2068f905a8469": {
     "model_module": "@jupyter-widgets/controls",
     "model_module_version": "1.5.0",
     "model_name": "DescriptionStyleModel",
     "state": {
      "_model_module": "@jupyter-widgets/controls",
      "_model_module_version": "1.5.0",
      "_model_name": "DescriptionStyleModel",
      "_view_count": null,
      "_view_module": "@jupyter-widgets/base",
      "_view_module_version": "1.2.0",
      "_view_name": "StyleView",
      "description_width": ""
     }
    },
    "4e5f477fc8e44f949af9d15bc2ffb864": {
     "model_module": "@jupyter-widgets/controls",
     "model_module_version": "1.5.0",
     "model_name": "HBoxModel",
     "state": {
      "_dom_classes": [],
      "_model_module": "@jupyter-widgets/controls",
      "_model_module_version": "1.5.0",
      "_model_name": "HBoxModel",
      "_view_count": null,
      "_view_module": "@jupyter-widgets/controls",
      "_view_module_version": "1.5.0",
      "_view_name": "HBoxView",
      "box_style": "",
      "children": [
       "IPY_MODEL_01de5a36aae24429b28e383061d51ff0",
       "IPY_MODEL_2d0fdfa7d83a418988f71755cb76bd50",
       "IPY_MODEL_62c2495b948d4a2e89d0400fbafcce55"
      ],
      "layout": "IPY_MODEL_f4ccf2de8b0840e999e3dfbb3f576573"
     }
    },
    "4f2e5c0fbccb4170a21c59647ce0e026": {
     "model_module": "@jupyter-widgets/base",
     "model_module_version": "1.2.0",
     "model_name": "LayoutModel",
     "state": {
      "_model_module": "@jupyter-widgets/base",
      "_model_module_version": "1.2.0",
      "_model_name": "LayoutModel",
      "_view_count": null,
      "_view_module": "@jupyter-widgets/base",
      "_view_module_version": "1.2.0",
      "_view_name": "LayoutView",
      "align_content": null,
      "align_items": null,
      "align_self": null,
      "border": null,
      "bottom": null,
      "display": null,
      "flex": null,
      "flex_flow": null,
      "grid_area": null,
      "grid_auto_columns": null,
      "grid_auto_flow": null,
      "grid_auto_rows": null,
      "grid_column": null,
      "grid_gap": null,
      "grid_row": null,
      "grid_template_areas": null,
      "grid_template_columns": null,
      "grid_template_rows": null,
      "height": null,
      "justify_content": null,
      "justify_items": null,
      "left": null,
      "margin": null,
      "max_height": null,
      "max_width": null,
      "min_height": null,
      "min_width": null,
      "object_fit": null,
      "object_position": null,
      "order": null,
      "overflow": null,
      "overflow_x": null,
      "overflow_y": null,
      "padding": null,
      "right": null,
      "top": null,
      "visibility": null,
      "width": null
     }
    },
    "5a123cb9ce1e4afaaec991180befc88f": {
     "model_module": "@jupyter-widgets/controls",
     "model_module_version": "1.5.0",
     "model_name": "HTMLModel",
     "state": {
      "_dom_classes": [],
      "_model_module": "@jupyter-widgets/controls",
      "_model_module_version": "1.5.0",
      "_model_name": "HTMLModel",
      "_view_count": null,
      "_view_module": "@jupyter-widgets/controls",
      "_view_module_version": "1.5.0",
      "_view_name": "HTMLView",
      "description": "",
      "description_tooltip": null,
      "layout": "IPY_MODEL_6b7fafdaffa540c2b6e4dd405678655a",
      "placeholder": "​",
      "style": "IPY_MODEL_95a69970c25740c088e19d81247939e2",
      "value": " 78.8M/78.8M [00:20&lt;00:00, 24.2MiB/s]"
     }
    },
    "61563e50a4714e79a296b40f0754262e": {
     "model_module": "@jupyter-widgets/base",
     "model_module_version": "1.2.0",
     "model_name": "LayoutModel",
     "state": {
      "_model_module": "@jupyter-widgets/base",
      "_model_module_version": "1.2.0",
      "_model_name": "LayoutModel",
      "_view_count": null,
      "_view_module": "@jupyter-widgets/base",
      "_view_module_version": "1.2.0",
      "_view_name": "LayoutView",
      "align_content": null,
      "align_items": null,
      "align_self": null,
      "border": null,
      "bottom": null,
      "display": null,
      "flex": null,
      "flex_flow": null,
      "grid_area": null,
      "grid_auto_columns": null,
      "grid_auto_flow": null,
      "grid_auto_rows": null,
      "grid_column": null,
      "grid_gap": null,
      "grid_row": null,
      "grid_template_areas": null,
      "grid_template_columns": null,
      "grid_template_rows": null,
      "height": null,
      "justify_content": null,
      "justify_items": null,
      "left": null,
      "margin": null,
      "max_height": null,
      "max_width": null,
      "min_height": null,
      "min_width": null,
      "object_fit": null,
      "object_position": null,
      "order": null,
      "overflow": null,
      "overflow_x": null,
      "overflow_y": null,
      "padding": null,
      "right": null,
      "top": null,
      "visibility": null,
      "width": null
     }
    },
    "62c2495b948d4a2e89d0400fbafcce55": {
     "model_module": "@jupyter-widgets/controls",
     "model_module_version": "1.5.0",
     "model_name": "HTMLModel",
     "state": {
      "_dom_classes": [],
      "_model_module": "@jupyter-widgets/controls",
      "_model_module_version": "1.5.0",
      "_model_name": "HTMLModel",
      "_view_count": null,
      "_view_module": "@jupyter-widgets/controls",
      "_view_module_version": "1.5.0",
      "_view_name": "HTMLView",
      "description": "",
      "description_tooltip": null,
      "layout": "IPY_MODEL_a3208d0b45404dd2a3ef1dc732a9af25",
      "placeholder": "​",
      "style": "IPY_MODEL_d890c022b3d34cef8ccba32a546b6b9b",
      "value": " 287050/287050 [00:26&lt;00:00, 11870.00it/s]"
     }
    },
    "6b500f8fe90c40f3a9f90b59d9dc273e": {
     "model_module": "@jupyter-widgets/base",
     "model_module_version": "1.2.0",
     "model_name": "LayoutModel",
     "state": {
      "_model_module": "@jupyter-widgets/base",
      "_model_module_version": "1.2.0",
      "_model_name": "LayoutModel",
      "_view_count": null,
      "_view_module": "@jupyter-widgets/base",
      "_view_module_version": "1.2.0",
      "_view_name": "LayoutView",
      "align_content": null,
      "align_items": null,
      "align_self": null,
      "border": null,
      "bottom": null,
      "display": null,
      "flex": null,
      "flex_flow": null,
      "grid_area": null,
      "grid_auto_columns": null,
      "grid_auto_flow": null,
      "grid_auto_rows": null,
      "grid_column": null,
      "grid_gap": null,
      "grid_row": null,
      "grid_template_areas": null,
      "grid_template_columns": null,
      "grid_template_rows": null,
      "height": null,
      "justify_content": null,
      "justify_items": null,
      "left": null,
      "margin": null,
      "max_height": null,
      "max_width": null,
      "min_height": null,
      "min_width": null,
      "object_fit": null,
      "object_position": null,
      "order": null,
      "overflow": null,
      "overflow_x": null,
      "overflow_y": null,
      "padding": null,
      "right": null,
      "top": null,
      "visibility": null,
      "width": null
     }
    },
    "6b7fafdaffa540c2b6e4dd405678655a": {
     "model_module": "@jupyter-widgets/base",
     "model_module_version": "1.2.0",
     "model_name": "LayoutModel",
     "state": {
      "_model_module": "@jupyter-widgets/base",
      "_model_module_version": "1.2.0",
      "_model_name": "LayoutModel",
      "_view_count": null,
      "_view_module": "@jupyter-widgets/base",
      "_view_module_version": "1.2.0",
      "_view_name": "LayoutView",
      "align_content": null,
      "align_items": null,
      "align_self": null,
      "border": null,
      "bottom": null,
      "display": null,
      "flex": null,
      "flex_flow": null,
      "grid_area": null,
      "grid_auto_columns": null,
      "grid_auto_flow": null,
      "grid_auto_rows": null,
      "grid_column": null,
      "grid_gap": null,
      "grid_row": null,
      "grid_template_areas": null,
      "grid_template_columns": null,
      "grid_template_rows": null,
      "height": null,
      "justify_content": null,
      "justify_items": null,
      "left": null,
      "margin": null,
      "max_height": null,
      "max_width": null,
      "min_height": null,
      "min_width": null,
      "object_fit": null,
      "object_position": null,
      "order": null,
      "overflow": null,
      "overflow_x": null,
      "overflow_y": null,
      "padding": null,
      "right": null,
      "top": null,
      "visibility": null,
      "width": null
     }
    },
    "6c9cbfbdf1794571b39bb41043b7d6e0": {
     "model_module": "@jupyter-widgets/controls",
     "model_module_version": "1.5.0",
     "model_name": "HBoxModel",
     "state": {
      "_dom_classes": [],
      "_model_module": "@jupyter-widgets/controls",
      "_model_module_version": "1.5.0",
      "_model_name": "HBoxModel",
      "_view_count": null,
      "_view_module": "@jupyter-widgets/controls",
      "_view_module_version": "1.5.0",
      "_view_name": "HBoxView",
      "box_style": "",
      "children": [
       "IPY_MODEL_c730a01324fa4bb9bc1a037bf7ad4b85",
       "IPY_MODEL_7c5b6fafacf6478b8158fda7096beab5",
       "IPY_MODEL_5a123cb9ce1e4afaaec991180befc88f"
      ],
      "layout": "IPY_MODEL_78181c0ca2d14d7381609eeba7046dec"
     }
    },
    "6cbe5f2d6801454fa3c8046925073311": {
     "model_module": "@jupyter-widgets/controls",
     "model_module_version": "1.5.0",
     "model_name": "ProgressStyleModel",
     "state": {
      "_model_module": "@jupyter-widgets/controls",
      "_model_module_version": "1.5.0",
      "_model_name": "ProgressStyleModel",
      "_view_count": null,
      "_view_module": "@jupyter-widgets/base",
      "_view_module_version": "1.2.0",
      "_view_name": "StyleView",
      "bar_color": null,
      "description_width": ""
     }
    },
    "78181c0ca2d14d7381609eeba7046dec": {
     "model_module": "@jupyter-widgets/base",
     "model_module_version": "1.2.0",
     "model_name": "LayoutModel",
     "state": {
      "_model_module": "@jupyter-widgets/base",
      "_model_module_version": "1.2.0",
      "_model_name": "LayoutModel",
      "_view_count": null,
      "_view_module": "@jupyter-widgets/base",
      "_view_module_version": "1.2.0",
      "_view_name": "LayoutView",
      "align_content": null,
      "align_items": null,
      "align_self": null,
      "border": null,
      "bottom": null,
      "display": null,
      "flex": null,
      "flex_flow": null,
      "grid_area": null,
      "grid_auto_columns": null,
      "grid_auto_flow": null,
      "grid_auto_rows": null,
      "grid_column": null,
      "grid_gap": null,
      "grid_row": null,
      "grid_template_areas": null,
      "grid_template_columns": null,
      "grid_template_rows": null,
      "height": null,
      "justify_content": null,
      "justify_items": null,
      "left": null,
      "margin": null,
      "max_height": null,
      "max_width": null,
      "min_height": null,
      "min_width": null,
      "object_fit": null,
      "object_position": null,
      "order": null,
      "overflow": null,
      "overflow_x": null,
      "overflow_y": null,
      "padding": null,
      "right": null,
      "top": null,
      "visibility": null,
      "width": null
     }
    },
    "787be4edc90f4e37b4194c002799e9a5": {
     "model_module": "@jupyter-widgets/controls",
     "model_module_version": "1.5.0",
     "model_name": "FloatProgressModel",
     "state": {
      "_dom_classes": [],
      "_model_module": "@jupyter-widgets/controls",
      "_model_module_version": "1.5.0",
      "_model_name": "FloatProgressModel",
      "_view_count": null,
      "_view_module": "@jupyter-widgets/controls",
      "_view_module_version": "1.5.0",
      "_view_name": "ProgressView",
      "bar_style": "danger",
      "description": "",
      "description_tooltip": null,
      "layout": "IPY_MODEL_403b379060754733b5c77da7fa8a93a9",
      "max": 906071,
      "min": 0,
      "orientation": "horizontal",
      "style": "IPY_MODEL_1cad2e412df84041b46147ac76f08760",
      "value": 906070
     }
    },
    "7c5b6fafacf6478b8158fda7096beab5": {
     "model_module": "@jupyter-widgets/controls",
     "model_module_version": "1.5.0",
     "model_name": "FloatProgressModel",
     "state": {
      "_dom_classes": [],
      "_model_module": "@jupyter-widgets/controls",
      "_model_module_version": "1.5.0",
      "_model_name": "FloatProgressModel",
      "_view_count": null,
      "_view_module": "@jupyter-widgets/controls",
      "_view_module_version": "1.5.0",
      "_view_name": "ProgressView",
      "bar_style": "",
      "description": "",
      "description_tooltip": null,
      "layout": "IPY_MODEL_2239de39b9c743f1a1a54b282758836c",
      "max": 78795385,
      "min": 0,
      "orientation": "horizontal",
      "style": "IPY_MODEL_bdf753746b7b4da79d6f694502197729",
      "value": 78795385
     }
    },
    "7fbc948991c742c28c38ae719b0bbdea": {
     "model_module": "@jupyter-widgets/controls",
     "model_module_version": "1.5.0",
     "model_name": "DescriptionStyleModel",
     "state": {
      "_model_module": "@jupyter-widgets/controls",
      "_model_module_version": "1.5.0",
      "_model_name": "DescriptionStyleModel",
      "_view_count": null,
      "_view_module": "@jupyter-widgets/base",
      "_view_module_version": "1.2.0",
      "_view_name": "StyleView",
      "description_width": ""
     }
    },
    "822a5ef6e1e547d49f3d2705543f677e": {
     "model_module": "@jupyter-widgets/controls",
     "model_module_version": "1.5.0",
     "model_name": "HTMLModel",
     "state": {
      "_dom_classes": [],
      "_model_module": "@jupyter-widgets/controls",
      "_model_module_version": "1.5.0",
      "_model_name": "HTMLModel",
      "_view_count": null,
      "_view_module": "@jupyter-widgets/controls",
      "_view_module_version": "1.5.0",
      "_view_name": "HTMLView",
      "description": "",
      "description_tooltip": null,
      "layout": "IPY_MODEL_31985fe5287946c59e3fb2e5e0770bd4",
      "placeholder": "​",
      "style": "IPY_MODEL_a21bb94dd27a4a82868f33d027c1e25e",
      "value": "100%"
     }
    },
    "8fa5026bf06e43a0997d7df3ece074e9": {
     "model_module": "@jupyter-widgets/controls",
     "model_module_version": "1.5.0",
     "model_name": "ProgressStyleModel",
     "state": {
      "_model_module": "@jupyter-widgets/controls",
      "_model_module_version": "1.5.0",
      "_model_name": "ProgressStyleModel",
      "_view_count": null,
      "_view_module": "@jupyter-widgets/base",
      "_view_module_version": "1.2.0",
      "_view_name": "StyleView",
      "bar_color": null,
      "description_width": ""
     }
    },
    "9067f60c013e43b5909d15b19b5b62de": {
     "model_module": "@jupyter-widgets/controls",
     "model_module_version": "1.5.0",
     "model_name": "DescriptionStyleModel",
     "state": {
      "_model_module": "@jupyter-widgets/controls",
      "_model_module_version": "1.5.0",
      "_model_name": "DescriptionStyleModel",
      "_view_count": null,
      "_view_module": "@jupyter-widgets/base",
      "_view_module_version": "1.2.0",
      "_view_name": "StyleView",
      "description_width": ""
     }
    },
    "95a69970c25740c088e19d81247939e2": {
     "model_module": "@jupyter-widgets/controls",
     "model_module_version": "1.5.0",
     "model_name": "DescriptionStyleModel",
     "state": {
      "_model_module": "@jupyter-widgets/controls",
      "_model_module_version": "1.5.0",
      "_model_name": "DescriptionStyleModel",
      "_view_count": null,
      "_view_module": "@jupyter-widgets/base",
      "_view_module_version": "1.2.0",
      "_view_name": "StyleView",
      "description_width": ""
     }
    },
    "99cb59d36ad24890a3771ffc86a60db3": {
     "model_module": "@jupyter-widgets/base",
     "model_module_version": "1.2.0",
     "model_name": "LayoutModel",
     "state": {
      "_model_module": "@jupyter-widgets/base",
      "_model_module_version": "1.2.0",
      "_model_name": "LayoutModel",
      "_view_count": null,
      "_view_module": "@jupyter-widgets/base",
      "_view_module_version": "1.2.0",
      "_view_name": "LayoutView",
      "align_content": null,
      "align_items": null,
      "align_self": null,
      "border": null,
      "bottom": null,
      "display": null,
      "flex": null,
      "flex_flow": null,
      "grid_area": null,
      "grid_auto_columns": null,
      "grid_auto_flow": null,
      "grid_auto_rows": null,
      "grid_column": null,
      "grid_gap": null,
      "grid_row": null,
      "grid_template_areas": null,
      "grid_template_columns": null,
      "grid_template_rows": null,
      "height": null,
      "justify_content": null,
      "justify_items": null,
      "left": null,
      "margin": null,
      "max_height": null,
      "max_width": null,
      "min_height": null,
      "min_width": null,
      "object_fit": null,
      "object_position": null,
      "order": null,
      "overflow": null,
      "overflow_x": null,
      "overflow_y": null,
      "padding": null,
      "right": null,
      "top": null,
      "visibility": null,
      "width": null
     }
    },
    "a21bb94dd27a4a82868f33d027c1e25e": {
     "model_module": "@jupyter-widgets/controls",
     "model_module_version": "1.5.0",
     "model_name": "DescriptionStyleModel",
     "state": {
      "_model_module": "@jupyter-widgets/controls",
      "_model_module_version": "1.5.0",
      "_model_name": "DescriptionStyleModel",
      "_view_count": null,
      "_view_module": "@jupyter-widgets/base",
      "_view_module_version": "1.2.0",
      "_view_name": "StyleView",
      "description_width": ""
     }
    },
    "a3208d0b45404dd2a3ef1dc732a9af25": {
     "model_module": "@jupyter-widgets/base",
     "model_module_version": "1.2.0",
     "model_name": "LayoutModel",
     "state": {
      "_model_module": "@jupyter-widgets/base",
      "_model_module_version": "1.2.0",
      "_model_name": "LayoutModel",
      "_view_count": null,
      "_view_module": "@jupyter-widgets/base",
      "_view_module_version": "1.2.0",
      "_view_name": "LayoutView",
      "align_content": null,
      "align_items": null,
      "align_self": null,
      "border": null,
      "bottom": null,
      "display": null,
      "flex": null,
      "flex_flow": null,
      "grid_area": null,
      "grid_auto_columns": null,
      "grid_auto_flow": null,
      "grid_auto_rows": null,
      "grid_column": null,
      "grid_gap": null,
      "grid_row": null,
      "grid_template_areas": null,
      "grid_template_columns": null,
      "grid_template_rows": null,
      "height": null,
      "justify_content": null,
      "justify_items": null,
      "left": null,
      "margin": null,
      "max_height": null,
      "max_width": null,
      "min_height": null,
      "min_width": null,
      "object_fit": null,
      "object_position": null,
      "order": null,
      "overflow": null,
      "overflow_x": null,
      "overflow_y": null,
      "padding": null,
      "right": null,
      "top": null,
      "visibility": null,
      "width": null
     }
    },
    "ac4fe5b67b1f4931bf31fcd10169e0aa": {
     "model_module": "@jupyter-widgets/base",
     "model_module_version": "1.2.0",
     "model_name": "LayoutModel",
     "state": {
      "_model_module": "@jupyter-widgets/base",
      "_model_module_version": "1.2.0",
      "_model_name": "LayoutModel",
      "_view_count": null,
      "_view_module": "@jupyter-widgets/base",
      "_view_module_version": "1.2.0",
      "_view_name": "LayoutView",
      "align_content": null,
      "align_items": null,
      "align_self": null,
      "border": null,
      "bottom": null,
      "display": null,
      "flex": null,
      "flex_flow": null,
      "grid_area": null,
      "grid_auto_columns": null,
      "grid_auto_flow": null,
      "grid_auto_rows": null,
      "grid_column": null,
      "grid_gap": null,
      "grid_row": null,
      "grid_template_areas": null,
      "grid_template_columns": null,
      "grid_template_rows": null,
      "height": null,
      "justify_content": null,
      "justify_items": null,
      "left": null,
      "margin": null,
      "max_height": null,
      "max_width": null,
      "min_height": null,
      "min_width": null,
      "object_fit": null,
      "object_position": null,
      "order": null,
      "overflow": null,
      "overflow_x": null,
      "overflow_y": null,
      "padding": null,
      "right": null,
      "top": null,
      "visibility": null,
      "width": null
     }
    },
    "aeae163c5c03446c8bbc5aa270fb569b": {
     "model_module": "@jupyter-widgets/controls",
     "model_module_version": "1.5.0",
     "model_name": "HTMLModel",
     "state": {
      "_dom_classes": [],
      "_model_module": "@jupyter-widgets/controls",
      "_model_module_version": "1.5.0",
      "_model_name": "HTMLModel",
      "_view_count": null,
      "_view_module": "@jupyter-widgets/controls",
      "_view_module_version": "1.5.0",
      "_view_name": "HTMLView",
      "description": "",
      "description_tooltip": null,
      "layout": "IPY_MODEL_99cb59d36ad24890a3771ffc86a60db3",
      "placeholder": "​",
      "style": "IPY_MODEL_d7deeca9e446442bacd9fcb6531bfae3",
      "value": " 906071/906071 [24:58&lt;00:00, 629.53it/s]"
     }
    },
    "bd26b91392c24b14af563fcc465724d3": {
     "model_module": "@jupyter-widgets/base",
     "model_module_version": "1.2.0",
     "model_name": "LayoutModel",
     "state": {
      "_model_module": "@jupyter-widgets/base",
      "_model_module_version": "1.2.0",
      "_model_name": "LayoutModel",
      "_view_count": null,
      "_view_module": "@jupyter-widgets/base",
      "_view_module_version": "1.2.0",
      "_view_name": "LayoutView",
      "align_content": null,
      "align_items": null,
      "align_self": null,
      "border": null,
      "bottom": null,
      "display": null,
      "flex": null,
      "flex_flow": null,
      "grid_area": null,
      "grid_auto_columns": null,
      "grid_auto_flow": null,
      "grid_auto_rows": null,
      "grid_column": null,
      "grid_gap": null,
      "grid_row": null,
      "grid_template_areas": null,
      "grid_template_columns": null,
      "grid_template_rows": null,
      "height": null,
      "justify_content": null,
      "justify_items": null,
      "left": null,
      "margin": null,
      "max_height": null,
      "max_width": null,
      "min_height": null,
      "min_width": null,
      "object_fit": null,
      "object_position": null,
      "order": null,
      "overflow": null,
      "overflow_x": null,
      "overflow_y": null,
      "padding": null,
      "right": null,
      "top": null,
      "visibility": null,
      "width": null
     }
    },
    "bdf753746b7b4da79d6f694502197729": {
     "model_module": "@jupyter-widgets/controls",
     "model_module_version": "1.5.0",
     "model_name": "ProgressStyleModel",
     "state": {
      "_model_module": "@jupyter-widgets/controls",
      "_model_module_version": "1.5.0",
      "_model_name": "ProgressStyleModel",
      "_view_count": null,
      "_view_module": "@jupyter-widgets/base",
      "_view_module_version": "1.2.0",
      "_view_name": "StyleView",
      "bar_color": null,
      "description_width": ""
     }
    },
    "c34aa67c754f4788a37064af8af0641c": {
     "model_module": "@jupyter-widgets/controls",
     "model_module_version": "1.5.0",
     "model_name": "HTMLModel",
     "state": {
      "_dom_classes": [],
      "_model_module": "@jupyter-widgets/controls",
      "_model_module_version": "1.5.0",
      "_model_name": "HTMLModel",
      "_view_count": null,
      "_view_module": "@jupyter-widgets/controls",
      "_view_module_version": "1.5.0",
      "_view_name": "HTMLView",
      "description": "",
      "description_tooltip": null,
      "layout": "IPY_MODEL_61563e50a4714e79a296b40f0754262e",
      "placeholder": "​",
      "style": "IPY_MODEL_9067f60c013e43b5909d15b19b5b62de",
      "value": "100%"
     }
    },
    "c730a01324fa4bb9bc1a037bf7ad4b85": {
     "model_module": "@jupyter-widgets/controls",
     "model_module_version": "1.5.0",
     "model_name": "HTMLModel",
     "state": {
      "_dom_classes": [],
      "_model_module": "@jupyter-widgets/controls",
      "_model_module_version": "1.5.0",
      "_model_name": "HTMLModel",
      "_view_count": null,
      "_view_module": "@jupyter-widgets/controls",
      "_view_module_version": "1.5.0",
      "_view_name": "HTMLView",
      "description": "",
      "description_tooltip": null,
      "layout": "IPY_MODEL_204103da3ed445ba8154e327fdad2c8c",
      "placeholder": "​",
      "style": "IPY_MODEL_7fbc948991c742c28c38ae719b0bbdea",
      "value": "kion dataset download: 100%"
     }
    },
    "c756a555995b4a4a9d89ad8d8bf0854a": {
     "model_module": "@jupyter-widgets/controls",
     "model_module_version": "1.5.0",
     "model_name": "FloatProgressModel",
     "state": {
      "_dom_classes": [],
      "_model_module": "@jupyter-widgets/controls",
      "_model_module_version": "1.5.0",
      "_model_name": "FloatProgressModel",
      "_view_count": null,
      "_view_module": "@jupyter-widgets/controls",
      "_view_module_version": "1.5.0",
      "_view_name": "ProgressView",
      "bar_style": "success",
      "description": "",
      "description_tooltip": null,
      "layout": "IPY_MODEL_e2e29335dc62466ea98b1f337050e57e",
      "max": 906071,
      "min": 0,
      "orientation": "horizontal",
      "style": "IPY_MODEL_6cbe5f2d6801454fa3c8046925073311",
      "value": 906071
     }
    },
    "c8f61381f3b64001bfcffcb2943042d2": {
     "model_module": "@jupyter-widgets/base",
     "model_module_version": "1.2.0",
     "model_name": "LayoutModel",
     "state": {
      "_model_module": "@jupyter-widgets/base",
      "_model_module_version": "1.2.0",
      "_model_name": "LayoutModel",
      "_view_count": null,
      "_view_module": "@jupyter-widgets/base",
      "_view_module_version": "1.2.0",
      "_view_name": "LayoutView",
      "align_content": null,
      "align_items": null,
      "align_self": null,
      "border": null,
      "bottom": null,
      "display": null,
      "flex": null,
      "flex_flow": null,
      "grid_area": null,
      "grid_auto_columns": null,
      "grid_auto_flow": null,
      "grid_auto_rows": null,
      "grid_column": null,
      "grid_gap": null,
      "grid_row": null,
      "grid_template_areas": null,
      "grid_template_columns": null,
      "grid_template_rows": null,
      "height": null,
      "justify_content": null,
      "justify_items": null,
      "left": null,
      "margin": null,
      "max_height": null,
      "max_width": null,
      "min_height": null,
      "min_width": null,
      "object_fit": null,
      "object_position": null,
      "order": null,
      "overflow": null,
      "overflow_x": null,
      "overflow_y": null,
      "padding": null,
      "right": null,
      "top": null,
      "visibility": null,
      "width": null
     }
    },
    "d6dadd87ed994d31bdf1ac5b66938232": {
     "model_module": "@jupyter-widgets/controls",
     "model_module_version": "1.5.0",
     "model_name": "HBoxModel",
     "state": {
      "_dom_classes": [],
      "_model_module": "@jupyter-widgets/controls",
      "_model_module_version": "1.5.0",
      "_model_name": "HBoxModel",
      "_view_count": null,
      "_view_module": "@jupyter-widgets/controls",
      "_view_module_version": "1.5.0",
      "_view_name": "HBoxView",
      "box_style": "",
      "children": [
       "IPY_MODEL_822a5ef6e1e547d49f3d2705543f677e",
       "IPY_MODEL_e86c21dbdd3c4b58ad6727d044170e3f",
       "IPY_MODEL_10fc183589c345db9f7602f163653115"
      ],
      "layout": "IPY_MODEL_e52925e352db44619545c2279098c9bd"
     }
    },
    "d7deeca9e446442bacd9fcb6531bfae3": {
     "model_module": "@jupyter-widgets/controls",
     "model_module_version": "1.5.0",
     "model_name": "DescriptionStyleModel",
     "state": {
      "_model_module": "@jupyter-widgets/controls",
      "_model_module_version": "1.5.0",
      "_model_name": "DescriptionStyleModel",
      "_view_count": null,
      "_view_module": "@jupyter-widgets/base",
      "_view_module_version": "1.2.0",
      "_view_name": "StyleView",
      "description_width": ""
     }
    },
    "d890c022b3d34cef8ccba32a546b6b9b": {
     "model_module": "@jupyter-widgets/controls",
     "model_module_version": "1.5.0",
     "model_name": "DescriptionStyleModel",
     "state": {
      "_model_module": "@jupyter-widgets/controls",
      "_model_module_version": "1.5.0",
      "_model_name": "DescriptionStyleModel",
      "_view_count": null,
      "_view_module": "@jupyter-widgets/base",
      "_view_module_version": "1.2.0",
      "_view_name": "StyleView",
      "description_width": ""
     }
    },
    "e2e29335dc62466ea98b1f337050e57e": {
     "model_module": "@jupyter-widgets/base",
     "model_module_version": "1.2.0",
     "model_name": "LayoutModel",
     "state": {
      "_model_module": "@jupyter-widgets/base",
      "_model_module_version": "1.2.0",
      "_model_name": "LayoutModel",
      "_view_count": null,
      "_view_module": "@jupyter-widgets/base",
      "_view_module_version": "1.2.0",
      "_view_name": "LayoutView",
      "align_content": null,
      "align_items": null,
      "align_self": null,
      "border": null,
      "bottom": null,
      "display": null,
      "flex": null,
      "flex_flow": null,
      "grid_area": null,
      "grid_auto_columns": null,
      "grid_auto_flow": null,
      "grid_auto_rows": null,
      "grid_column": null,
      "grid_gap": null,
      "grid_row": null,
      "grid_template_areas": null,
      "grid_template_columns": null,
      "grid_template_rows": null,
      "height": null,
      "justify_content": null,
      "justify_items": null,
      "left": null,
      "margin": null,
      "max_height": null,
      "max_width": null,
      "min_height": null,
      "min_width": null,
      "object_fit": null,
      "object_position": null,
      "order": null,
      "overflow": null,
      "overflow_x": null,
      "overflow_y": null,
      "padding": null,
      "right": null,
      "top": null,
      "visibility": null,
      "width": null
     }
    },
    "e52925e352db44619545c2279098c9bd": {
     "model_module": "@jupyter-widgets/base",
     "model_module_version": "1.2.0",
     "model_name": "LayoutModel",
     "state": {
      "_model_module": "@jupyter-widgets/base",
      "_model_module_version": "1.2.0",
      "_model_name": "LayoutModel",
      "_view_count": null,
      "_view_module": "@jupyter-widgets/base",
      "_view_module_version": "1.2.0",
      "_view_name": "LayoutView",
      "align_content": null,
      "align_items": null,
      "align_self": null,
      "border": null,
      "bottom": null,
      "display": null,
      "flex": null,
      "flex_flow": null,
      "grid_area": null,
      "grid_auto_columns": null,
      "grid_auto_flow": null,
      "grid_auto_rows": null,
      "grid_column": null,
      "grid_gap": null,
      "grid_row": null,
      "grid_template_areas": null,
      "grid_template_columns": null,
      "grid_template_rows": null,
      "height": null,
      "justify_content": null,
      "justify_items": null,
      "left": null,
      "margin": null,
      "max_height": null,
      "max_width": null,
      "min_height": null,
      "min_width": null,
      "object_fit": null,
      "object_position": null,
      "order": null,
      "overflow": null,
      "overflow_x": null,
      "overflow_y": null,
      "padding": null,
      "right": null,
      "top": null,
      "visibility": null,
      "width": null
     }
    },
    "e86c21dbdd3c4b58ad6727d044170e3f": {
     "model_module": "@jupyter-widgets/controls",
     "model_module_version": "1.5.0",
     "model_name": "FloatProgressModel",
     "state": {
      "_dom_classes": [],
      "_model_module": "@jupyter-widgets/controls",
      "_model_module_version": "1.5.0",
      "_model_name": "FloatProgressModel",
      "_view_count": null,
      "_view_module": "@jupyter-widgets/controls",
      "_view_module_version": "1.5.0",
      "_view_name": "ProgressView",
      "bar_style": "success",
      "description": "",
      "description_tooltip": null,
      "layout": "IPY_MODEL_6b500f8fe90c40f3a9f90b59d9dc273e",
      "max": 906071,
      "min": 0,
      "orientation": "horizontal",
      "style": "IPY_MODEL_8fa5026bf06e43a0997d7df3ece074e9",
      "value": 906071
     }
    },
    "f4254964bc2d4f83947b366dc9766552": {
     "model_module": "@jupyter-widgets/base",
     "model_module_version": "1.2.0",
     "model_name": "LayoutModel",
     "state": {
      "_model_module": "@jupyter-widgets/base",
      "_model_module_version": "1.2.0",
      "_model_name": "LayoutModel",
      "_view_count": null,
      "_view_module": "@jupyter-widgets/base",
      "_view_module_version": "1.2.0",
      "_view_name": "LayoutView",
      "align_content": null,
      "align_items": null,
      "align_self": null,
      "border": null,
      "bottom": null,
      "display": null,
      "flex": null,
      "flex_flow": null,
      "grid_area": null,
      "grid_auto_columns": null,
      "grid_auto_flow": null,
      "grid_auto_rows": null,
      "grid_column": null,
      "grid_gap": null,
      "grid_row": null,
      "grid_template_areas": null,
      "grid_template_columns": null,
      "grid_template_rows": null,
      "height": null,
      "justify_content": null,
      "justify_items": null,
      "left": null,
      "margin": null,
      "max_height": null,
      "max_width": null,
      "min_height": null,
      "min_width": null,
      "object_fit": null,
      "object_position": null,
      "order": null,
      "overflow": null,
      "overflow_x": null,
      "overflow_y": null,
      "padding": null,
      "right": null,
      "top": null,
      "visibility": null,
      "width": null
     }
    },
    "f4ccf2de8b0840e999e3dfbb3f576573": {
     "model_module": "@jupyter-widgets/base",
     "model_module_version": "1.2.0",
     "model_name": "LayoutModel",
     "state": {
      "_model_module": "@jupyter-widgets/base",
      "_model_module_version": "1.2.0",
      "_model_name": "LayoutModel",
      "_view_count": null,
      "_view_module": "@jupyter-widgets/base",
      "_view_module_version": "1.2.0",
      "_view_name": "LayoutView",
      "align_content": null,
      "align_items": null,
      "align_self": null,
      "border": null,
      "bottom": null,
      "display": null,
      "flex": null,
      "flex_flow": null,
      "grid_area": null,
      "grid_auto_columns": null,
      "grid_auto_flow": null,
      "grid_auto_rows": null,
      "grid_column": null,
      "grid_gap": null,
      "grid_row": null,
      "grid_template_areas": null,
      "grid_template_columns": null,
      "grid_template_rows": null,
      "height": null,
      "justify_content": null,
      "justify_items": null,
      "left": null,
      "margin": null,
      "max_height": null,
      "max_width": null,
      "min_height": null,
      "min_width": null,
      "object_fit": null,
      "object_position": null,
      "order": null,
      "overflow": null,
      "overflow_x": null,
      "overflow_y": null,
      "padding": null,
      "right": null,
      "top": null,
      "visibility": null,
      "width": null
     }
    }
   }
  }
 },
 "nbformat": 4,
 "nbformat_minor": 1
}
