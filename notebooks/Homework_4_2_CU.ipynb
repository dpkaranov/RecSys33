{
 "cells": [
  {
   "cell_type": "markdown",
   "id": "69e20770",
   "metadata": {
    "_cell_guid": "b1076dfc-b9ad-4769-8c92-a6c4dae69d19",
    "_uuid": "8f2839f25d086af736a60e9eeb907d3b93b6e0e5",
    "papermill": {
     "duration": 0.012346,
     "end_time": "2022-12-11T20:36:23.032852",
     "exception": false,
     "start_time": "2022-12-11T20:36:23.020506",
     "status": "completed"
    },
    "tags": []
   },
   "source": [
    "# Домашнее задание № 4 часть 2 (курс МТС, команда 33)"
   ]
  },
  {
   "cell_type": "markdown",
   "id": "fb064fff",
   "metadata": {
    "papermill": {
     "duration": 0.01443,
     "end_time": "2022-12-11T20:36:23.060889",
     "exception": false,
     "start_time": "2022-12-11T20:36:23.046459",
     "status": "completed"
    },
    "tags": []
   },
   "source": [
    "## Подготовка окружения для проведения эксперимента"
   ]
  },
  {
   "cell_type": "code",
   "execution_count": 1,
   "id": "cc30edfc",
   "metadata": {
    "execution": {
     "iopub.execute_input": "2022-12-11T20:36:23.091204Z",
     "iopub.status.busy": "2022-12-11T20:36:23.090171Z",
     "iopub.status.idle": "2022-12-11T20:36:37.981583Z",
     "shell.execute_reply": "2022-12-11T20:36:37.980399Z"
    },
    "papermill": {
     "duration": 14.91089,
     "end_time": "2022-12-11T20:36:37.984417",
     "exception": false,
     "start_time": "2022-12-11T20:36:23.073527",
     "status": "completed"
    },
    "tags": []
   },
   "outputs": [
    {
     "name": "stdout",
     "output_type": "stream",
     "text": [
      "\u001b[33mWARNING: Running pip as the 'root' user can result in broken permissions and conflicting behaviour with the system package manager. It is recommended to use a virtual environment instead: https://pip.pypa.io/warnings/venv\u001b[0m\u001b[33m\r\n",
      "\u001b[0m"
     ]
    }
   ],
   "source": [
    "# устанавливаем необходимые зависимости\n",
    "!pip install rectools > None"
   ]
  },
  {
   "cell_type": "code",
   "execution_count": 2,
   "id": "07a26e7c",
   "metadata": {
    "execution": {
     "iopub.execute_input": "2022-12-11T20:36:38.009197Z",
     "iopub.status.busy": "2022-12-11T20:36:38.008778Z",
     "iopub.status.idle": "2022-12-11T20:36:44.532880Z",
     "shell.execute_reply": "2022-12-11T20:36:44.531358Z"
    },
    "papermill": {
     "duration": 6.538889,
     "end_time": "2022-12-11T20:36:44.535701",
     "exception": false,
     "start_time": "2022-12-11T20:36:37.996812",
     "status": "completed"
    },
    "tags": []
   },
   "outputs": [
    {
     "name": "stderr",
     "output_type": "stream",
     "text": [
      "Your CPU supports instructions that this binary was not compiled to use: SSE3 SSE4.1 SSE4.2 AVX AVX2\n",
      "For maximum performance, you can install NMSLIB from sources \n",
      "pip install --no-binary :all: nmslib\n"
     ]
    }
   ],
   "source": [
    "# импортируем зависимости\n",
    "\n",
    "import pandas as pd\n",
    "import numpy as np\n",
    "\n",
    "import nmslib\n",
    "from rectools.metrics import Recall, MAP, calc_metrics\n",
    "from rectools.models import LightFMWrapperModel\n",
    "from rectools import Columns\n",
    "from rectools.dataset import Dataset\n",
    "from lightfm import LightFM\n",
    "from lightfm.data import Dataset as LFMDataset"
   ]
  },
  {
   "cell_type": "code",
   "execution_count": 3,
   "id": "57299409",
   "metadata": {
    "execution": {
     "iopub.execute_input": "2022-12-11T20:36:44.559170Z",
     "iopub.status.busy": "2022-12-11T20:36:44.558173Z",
     "iopub.status.idle": "2022-12-11T20:36:50.763020Z",
     "shell.execute_reply": "2022-12-11T20:36:50.761617Z"
    },
    "papermill": {
     "duration": 6.219509,
     "end_time": "2022-12-11T20:36:50.766018",
     "exception": false,
     "start_time": "2022-12-11T20:36:44.546509",
     "status": "completed"
    },
    "tags": []
   },
   "outputs": [
    {
     "name": "stdout",
     "output_type": "stream",
     "text": [
      "--2022-12-11 20:36:45--  https://storage.yandexcloud.net/itmo-recsys-public-data/kion_train.zip\r\n",
      "Resolving storage.yandexcloud.net (storage.yandexcloud.net)... 213.180.193.243, 2a02:6b8::1d9\r\n",
      "Connecting to storage.yandexcloud.net (storage.yandexcloud.net)|213.180.193.243|:443... connected.\r\n",
      "HTTP request sent, awaiting response... 200 OK\r\n",
      "Length: 78795385 (75M) [application/zip]\r\n",
      "Saving to: ‘kion_train.zip’\r\n",
      "\r\n",
      "kion_train.zip      100%[===================>]  75.14M  22.0MB/s    in 4.2s    \r\n",
      "\r\n",
      "2022-12-11 20:36:50 (17.8 MB/s) - ‘kion_train.zip’ saved [78795385/78795385]\r\n",
      "\r\n"
     ]
    }
   ],
   "source": [
    "# скачиваем датасеты\n",
    "\n",
    "!wget https://storage.yandexcloud.net/itmo-recsys-public-data/kion_train.zip"
   ]
  },
  {
   "cell_type": "code",
   "execution_count": 4,
   "id": "ab9aa8fe",
   "metadata": {
    "execution": {
     "iopub.execute_input": "2022-12-11T20:36:50.793075Z",
     "iopub.status.busy": "2022-12-11T20:36:50.792590Z",
     "iopub.status.idle": "2022-12-11T20:36:51.893425Z",
     "shell.execute_reply": "2022-12-11T20:36:51.891884Z"
    },
    "papermill": {
     "duration": 1.118165,
     "end_time": "2022-12-11T20:36:51.896396",
     "exception": false,
     "start_time": "2022-12-11T20:36:50.778231",
     "status": "completed"
    },
    "tags": []
   },
   "outputs": [
    {
     "name": "stdout",
     "output_type": "stream",
     "text": [
      "None  __notebook__.ipynb  kion_train.zip\r\n"
     ]
    }
   ],
   "source": [
    "!ls"
   ]
  },
  {
   "cell_type": "code",
   "execution_count": 5,
   "id": "87edff4d",
   "metadata": {
    "execution": {
     "iopub.execute_input": "2022-12-11T20:36:51.921806Z",
     "iopub.status.busy": "2022-12-11T20:36:51.921346Z",
     "iopub.status.idle": "2022-12-11T20:36:55.412276Z",
     "shell.execute_reply": "2022-12-11T20:36:55.410762Z"
    },
    "papermill": {
     "duration": 3.506961,
     "end_time": "2022-12-11T20:36:55.415128",
     "exception": false,
     "start_time": "2022-12-11T20:36:51.908167",
     "status": "completed"
    },
    "tags": []
   },
   "outputs": [
    {
     "name": "stdout",
     "output_type": "stream",
     "text": [
      "Archive:  ./kion_train.zip\r\n",
      "   creating: kion_train/\r\n",
      "  inflating: kion_train/interactions.csv  \r\n",
      "  inflating: __MACOSX/kion_train/._interactions.csv  \r\n",
      "  inflating: kion_train/users.csv    \r\n",
      "  inflating: __MACOSX/kion_train/._users.csv  \r\n",
      "  inflating: kion_train/items.csv    \r\n",
      "  inflating: __MACOSX/kion_train/._items.csv  \r\n"
     ]
    }
   ],
   "source": [
    "!unzip ./kion_train.zip "
   ]
  },
  {
   "cell_type": "code",
   "execution_count": 6,
   "id": "a8145f21",
   "metadata": {
    "execution": {
     "iopub.execute_input": "2022-12-11T20:36:55.441166Z",
     "iopub.status.busy": "2022-12-11T20:36:55.440722Z",
     "iopub.status.idle": "2022-12-11T20:36:55.446549Z",
     "shell.execute_reply": "2022-12-11T20:36:55.445450Z"
    },
    "papermill": {
     "duration": 0.021616,
     "end_time": "2022-12-11T20:36:55.448844",
     "exception": false,
     "start_time": "2022-12-11T20:36:55.427228",
     "status": "completed"
    },
    "tags": []
   },
   "outputs": [],
   "source": [
    "N = 10\n",
    "METRICS = {\"map@10\": MAP(k=10),\"recall@10\": Recall(k=10)}"
   ]
  },
  {
   "cell_type": "code",
   "execution_count": 7,
   "id": "5bf1140e",
   "metadata": {
    "execution": {
     "iopub.execute_input": "2022-12-11T20:36:55.474732Z",
     "iopub.status.busy": "2022-12-11T20:36:55.473959Z",
     "iopub.status.idle": "2022-12-11T20:36:55.481712Z",
     "shell.execute_reply": "2022-12-11T20:36:55.480394Z"
    },
    "papermill": {
     "duration": 0.023365,
     "end_time": "2022-12-11T20:36:55.484178",
     "exception": false,
     "start_time": "2022-12-11T20:36:55.460813",
     "status": "completed"
    },
    "tags": []
   },
   "outputs": [],
   "source": [
    "def get_datasets():\n",
    "    inter_df = pd.read_csv('kion_train/interactions.csv')\n",
    "    user_df = pd.read_csv('kion_train/users.csv')\n",
    "    item_df = pd.read_csv('kion_train/items.csv')\n",
    "    inter_df.rename(columns={'last_watch_dt': 'datetime','total_dur': 'weight',},inplace=True)\n",
    "    inter_df['datetime'] = pd.to_datetime(inter_df['datetime'])\n",
    "    inter_df[Columns.Weight] = np.where(inter_df['watched_pct'] > 10, 3, 1)\n",
    "    return inter_df, user_df, item_df"
   ]
  },
  {
   "cell_type": "code",
   "execution_count": 8,
   "id": "36a48528",
   "metadata": {
    "execution": {
     "iopub.execute_input": "2022-12-11T20:36:55.510073Z",
     "iopub.status.busy": "2022-12-11T20:36:55.509632Z",
     "iopub.status.idle": "2022-12-11T20:37:00.909264Z",
     "shell.execute_reply": "2022-12-11T20:37:00.907667Z"
    },
    "papermill": {
     "duration": 5.415902,
     "end_time": "2022-12-11T20:37:00.912163",
     "exception": false,
     "start_time": "2022-12-11T20:36:55.496261",
     "status": "completed"
    },
    "tags": []
   },
   "outputs": [
    {
     "name": "stdout",
     "output_type": "stream",
     "text": [
      "Размерность трейна : (4985269, 5)\n",
      "Размерность теста: (490982, 5)\n"
     ]
    }
   ],
   "source": [
    "inter_df, user_df, item_df = get_datasets()\n",
    "\n",
    "# формируем трейновый и тестовый датасет\n",
    "\n",
    "last_date = inter_df[Columns.Datetime].max().normalize()\n",
    "\n",
    "train = inter_df[inter_df[Columns.Datetime] < last_date - pd.Timedelta(days=7)].copy()\n",
    "test = inter_df[inter_df[Columns.Datetime] >= last_date - pd.Timedelta(days=7)].copy()\n",
    "\n",
    "print(f\"Размерность трейна : {train.shape}\")\n",
    "print(f\"Размерность теста: {test.shape}\")"
   ]
  },
  {
   "cell_type": "code",
   "execution_count": 9,
   "id": "7db35c4b",
   "metadata": {
    "execution": {
     "iopub.execute_input": "2022-12-11T20:37:00.938865Z",
     "iopub.status.busy": "2022-12-11T20:37:00.938313Z",
     "iopub.status.idle": "2022-12-11T20:37:03.217192Z",
     "shell.execute_reply": "2022-12-11T20:37:03.216156Z"
    },
    "papermill": {
     "duration": 2.295287,
     "end_time": "2022-12-11T20:37:03.219899",
     "exception": false,
     "start_time": "2022-12-11T20:37:00.924612",
     "status": "completed"
    },
    "tags": []
   },
   "outputs": [],
   "source": [
    "# убираем холодных пользователей из теста\n",
    "\n",
    "cold_users = set(test[Columns.User]) - set(train[Columns.User])\n",
    "test.drop(test[test[Columns.User].isin(cold_users)].index, inplace=True)"
   ]
  },
  {
   "cell_type": "code",
   "execution_count": 10,
   "id": "147bfed5",
   "metadata": {
    "execution": {
     "iopub.execute_input": "2022-12-11T20:37:03.245717Z",
     "iopub.status.busy": "2022-12-11T20:37:03.245273Z",
     "iopub.status.idle": "2022-12-11T20:37:03.743345Z",
     "shell.execute_reply": "2022-12-11T20:37:03.742162Z"
    },
    "papermill": {
     "duration": 0.514236,
     "end_time": "2022-12-11T20:37:03.746090",
     "exception": false,
     "start_time": "2022-12-11T20:37:03.231854",
     "status": "completed"
    },
    "tags": []
   },
   "outputs": [
    {
     "data": {
      "text/html": [
       "<div>\n",
       "<style scoped>\n",
       "    .dataframe tbody tr th:only-of-type {\n",
       "        vertical-align: middle;\n",
       "    }\n",
       "\n",
       "    .dataframe tbody tr th {\n",
       "        vertical-align: top;\n",
       "    }\n",
       "\n",
       "    .dataframe thead th {\n",
       "        text-align: right;\n",
       "    }\n",
       "</style>\n",
       "<table border=\"1\" class=\"dataframe\">\n",
       "  <thead>\n",
       "    <tr style=\"text-align: right;\">\n",
       "      <th></th>\n",
       "      <th>user_id</th>\n",
       "      <th>age</th>\n",
       "      <th>income</th>\n",
       "      <th>sex</th>\n",
       "      <th>kids_flg</th>\n",
       "    </tr>\n",
       "  </thead>\n",
       "  <tbody>\n",
       "    <tr>\n",
       "      <th>0</th>\n",
       "      <td>973171</td>\n",
       "      <td>age_25_34</td>\n",
       "      <td>income_60_90</td>\n",
       "      <td>М</td>\n",
       "      <td>1</td>\n",
       "    </tr>\n",
       "    <tr>\n",
       "      <th>1</th>\n",
       "      <td>962099</td>\n",
       "      <td>age_18_24</td>\n",
       "      <td>income_20_40</td>\n",
       "      <td>М</td>\n",
       "      <td>0</td>\n",
       "    </tr>\n",
       "    <tr>\n",
       "      <th>3</th>\n",
       "      <td>721985</td>\n",
       "      <td>age_45_54</td>\n",
       "      <td>income_20_40</td>\n",
       "      <td>Ж</td>\n",
       "      <td>0</td>\n",
       "    </tr>\n",
       "    <tr>\n",
       "      <th>4</th>\n",
       "      <td>704055</td>\n",
       "      <td>age_35_44</td>\n",
       "      <td>income_60_90</td>\n",
       "      <td>Ж</td>\n",
       "      <td>0</td>\n",
       "    </tr>\n",
       "    <tr>\n",
       "      <th>5</th>\n",
       "      <td>1037719</td>\n",
       "      <td>age_45_54</td>\n",
       "      <td>income_60_90</td>\n",
       "      <td>М</td>\n",
       "      <td>0</td>\n",
       "    </tr>\n",
       "  </tbody>\n",
       "</table>\n",
       "</div>"
      ],
      "text/plain": [
       "   user_id        age        income sex  kids_flg\n",
       "0   973171  age_25_34  income_60_90   М         1\n",
       "1   962099  age_18_24  income_20_40   М         0\n",
       "3   721985  age_45_54  income_20_40   Ж         0\n",
       "4   704055  age_35_44  income_60_90   Ж         0\n",
       "5  1037719  age_45_54  income_60_90   М         0"
      ]
     },
     "execution_count": 10,
     "metadata": {},
     "output_type": "execute_result"
    }
   ],
   "source": [
    "# заполняем пустые значения\n",
    "\n",
    "user_df.fillna('Unknown', inplace=True)\n",
    "user_df = user_df.loc[user_df[Columns.User].isin(train[Columns.User])].copy()\n",
    "user_df.head()"
   ]
  },
  {
   "cell_type": "code",
   "execution_count": 11,
   "id": "498d4ac8",
   "metadata": {
    "execution": {
     "iopub.execute_input": "2022-12-11T20:37:03.773603Z",
     "iopub.status.busy": "2022-12-11T20:37:03.773176Z",
     "iopub.status.idle": "2022-12-11T20:37:03.916103Z",
     "shell.execute_reply": "2022-12-11T20:37:03.914962Z"
    },
    "papermill": {
     "duration": 0.159814,
     "end_time": "2022-12-11T20:37:03.918927",
     "exception": false,
     "start_time": "2022-12-11T20:37:03.759113",
     "status": "completed"
    },
    "tags": []
   },
   "outputs": [
    {
     "data": {
      "text/html": [
       "<div>\n",
       "<style scoped>\n",
       "    .dataframe tbody tr th:only-of-type {\n",
       "        vertical-align: middle;\n",
       "    }\n",
       "\n",
       "    .dataframe tbody tr th {\n",
       "        vertical-align: top;\n",
       "    }\n",
       "\n",
       "    .dataframe thead th {\n",
       "        text-align: right;\n",
       "    }\n",
       "</style>\n",
       "<table border=\"1\" class=\"dataframe\">\n",
       "  <thead>\n",
       "    <tr style=\"text-align: right;\">\n",
       "      <th></th>\n",
       "      <th>id</th>\n",
       "      <th>value</th>\n",
       "      <th>feature</th>\n",
       "    </tr>\n",
       "  </thead>\n",
       "  <tbody>\n",
       "    <tr>\n",
       "      <th>0</th>\n",
       "      <td>973171</td>\n",
       "      <td>age_25_34</td>\n",
       "      <td>age</td>\n",
       "    </tr>\n",
       "    <tr>\n",
       "      <th>1</th>\n",
       "      <td>962099</td>\n",
       "      <td>age_18_24</td>\n",
       "      <td>age</td>\n",
       "    </tr>\n",
       "    <tr>\n",
       "      <th>3</th>\n",
       "      <td>721985</td>\n",
       "      <td>age_45_54</td>\n",
       "      <td>age</td>\n",
       "    </tr>\n",
       "    <tr>\n",
       "      <th>4</th>\n",
       "      <td>704055</td>\n",
       "      <td>age_35_44</td>\n",
       "      <td>age</td>\n",
       "    </tr>\n",
       "    <tr>\n",
       "      <th>5</th>\n",
       "      <td>1037719</td>\n",
       "      <td>age_45_54</td>\n",
       "      <td>age</td>\n",
       "    </tr>\n",
       "  </tbody>\n",
       "</table>\n",
       "</div>"
      ],
      "text/plain": [
       "        id      value feature\n",
       "0   973171  age_25_34     age\n",
       "1   962099  age_18_24     age\n",
       "3   721985  age_45_54     age\n",
       "4   704055  age_35_44     age\n",
       "5  1037719  age_45_54     age"
      ]
     },
     "execution_count": 11,
     "metadata": {},
     "output_type": "execute_result"
    }
   ],
   "source": [
    "# извлекаем возраст, пол и доход пользователей\n",
    "\n",
    "user_features_frames = []\n",
    "for feature in [\"age\", \"sex\", \"income\"]:\n",
    "    feature_frame = user_df.reindex(columns=[Columns.User, feature])\n",
    "    feature_frame.columns = [\"id\", \"value\"]\n",
    "    feature_frame[\"feature\"] = feature\n",
    "    user_features_frames.append(feature_frame)\n",
    "user_features = pd.concat(user_features_frames)\n",
    "user_features.head()"
   ]
  },
  {
   "cell_type": "code",
   "execution_count": 12,
   "id": "3c18f7c3",
   "metadata": {
    "execution": {
     "iopub.execute_input": "2022-12-11T20:37:03.947350Z",
     "iopub.status.busy": "2022-12-11T20:37:03.946840Z",
     "iopub.status.idle": "2022-12-11T20:37:04.042838Z",
     "shell.execute_reply": "2022-12-11T20:37:04.041729Z"
    },
    "papermill": {
     "duration": 0.113567,
     "end_time": "2022-12-11T20:37:04.046135",
     "exception": false,
     "start_time": "2022-12-11T20:37:03.932568",
     "status": "completed"
    },
    "tags": []
   },
   "outputs": [
    {
     "data": {
      "text/html": [
       "<div>\n",
       "<style scoped>\n",
       "    .dataframe tbody tr th:only-of-type {\n",
       "        vertical-align: middle;\n",
       "    }\n",
       "\n",
       "    .dataframe tbody tr th {\n",
       "        vertical-align: top;\n",
       "    }\n",
       "\n",
       "    .dataframe thead th {\n",
       "        text-align: right;\n",
       "    }\n",
       "</style>\n",
       "<table border=\"1\" class=\"dataframe\">\n",
       "  <thead>\n",
       "    <tr style=\"text-align: right;\">\n",
       "      <th></th>\n",
       "      <th>item_id</th>\n",
       "      <th>content_type</th>\n",
       "      <th>title</th>\n",
       "      <th>title_orig</th>\n",
       "      <th>release_year</th>\n",
       "      <th>genres</th>\n",
       "      <th>countries</th>\n",
       "      <th>for_kids</th>\n",
       "      <th>age_rating</th>\n",
       "      <th>studios</th>\n",
       "      <th>directors</th>\n",
       "      <th>actors</th>\n",
       "      <th>description</th>\n",
       "      <th>keywords</th>\n",
       "    </tr>\n",
       "  </thead>\n",
       "  <tbody>\n",
       "    <tr>\n",
       "      <th>0</th>\n",
       "      <td>10711</td>\n",
       "      <td>film</td>\n",
       "      <td>Поговори с ней</td>\n",
       "      <td>Hable con ella</td>\n",
       "      <td>2002.0</td>\n",
       "      <td>драмы, зарубежные, детективы, мелодрамы</td>\n",
       "      <td>Испания</td>\n",
       "      <td>NaN</td>\n",
       "      <td>16.0</td>\n",
       "      <td>NaN</td>\n",
       "      <td>Педро Альмодовар</td>\n",
       "      <td>Адольфо Фернандес, Ана Фернандес, Дарио Гранди...</td>\n",
       "      <td>Мелодрама легендарного Педро Альмодовара «Пого...</td>\n",
       "      <td>Поговори, ней, 2002, Испания, друзья, любовь, ...</td>\n",
       "    </tr>\n",
       "    <tr>\n",
       "      <th>1</th>\n",
       "      <td>2508</td>\n",
       "      <td>film</td>\n",
       "      <td>Голые перцы</td>\n",
       "      <td>Search Party</td>\n",
       "      <td>2014.0</td>\n",
       "      <td>зарубежные, приключения, комедии</td>\n",
       "      <td>США</td>\n",
       "      <td>NaN</td>\n",
       "      <td>16.0</td>\n",
       "      <td>NaN</td>\n",
       "      <td>Скот Армстронг</td>\n",
       "      <td>Адам Палли, Брайан Хаски, Дж.Б. Смув, Джейсон ...</td>\n",
       "      <td>Уморительная современная комедия на популярную...</td>\n",
       "      <td>Голые, перцы, 2014, США, друзья, свадьбы, прео...</td>\n",
       "    </tr>\n",
       "    <tr>\n",
       "      <th>2</th>\n",
       "      <td>10716</td>\n",
       "      <td>film</td>\n",
       "      <td>Тактическая сила</td>\n",
       "      <td>Tactical Force</td>\n",
       "      <td>2011.0</td>\n",
       "      <td>криминал, зарубежные, триллеры, боевики, комедии</td>\n",
       "      <td>Канада</td>\n",
       "      <td>NaN</td>\n",
       "      <td>16.0</td>\n",
       "      <td>NaN</td>\n",
       "      <td>Адам П. Калтраро</td>\n",
       "      <td>Адриан Холмс, Даррен Шалави, Джерри Вассерман,...</td>\n",
       "      <td>Профессиональный рестлер Стив Остин («Все или ...</td>\n",
       "      <td>Тактическая, сила, 2011, Канада, бандиты, ганг...</td>\n",
       "    </tr>\n",
       "    <tr>\n",
       "      <th>3</th>\n",
       "      <td>7868</td>\n",
       "      <td>film</td>\n",
       "      <td>45 лет</td>\n",
       "      <td>45 Years</td>\n",
       "      <td>2015.0</td>\n",
       "      <td>драмы, зарубежные, мелодрамы</td>\n",
       "      <td>Великобритания</td>\n",
       "      <td>NaN</td>\n",
       "      <td>16.0</td>\n",
       "      <td>NaN</td>\n",
       "      <td>Эндрю Хэй</td>\n",
       "      <td>Александра Риддлстон-Барретт, Джеральдин Джейм...</td>\n",
       "      <td>Шарлотта Рэмплинг, Том Кортни, Джеральдин Джей...</td>\n",
       "      <td>45, лет, 2015, Великобритания, брак, жизнь, лю...</td>\n",
       "    </tr>\n",
       "    <tr>\n",
       "      <th>4</th>\n",
       "      <td>16268</td>\n",
       "      <td>film</td>\n",
       "      <td>Все решает мгновение</td>\n",
       "      <td>NaN</td>\n",
       "      <td>1978.0</td>\n",
       "      <td>драмы, спорт, советские, мелодрамы</td>\n",
       "      <td>СССР</td>\n",
       "      <td>NaN</td>\n",
       "      <td>12.0</td>\n",
       "      <td>Ленфильм</td>\n",
       "      <td>Виктор Садовский</td>\n",
       "      <td>Александр Абдулов, Александр Демьяненко, Алекс...</td>\n",
       "      <td>Расчетливая чаровница из советского кинохита «...</td>\n",
       "      <td>Все, решает, мгновение, 1978, СССР, сильные, ж...</td>\n",
       "    </tr>\n",
       "  </tbody>\n",
       "</table>\n",
       "</div>"
      ],
      "text/plain": [
       "   item_id content_type                 title      title_orig  release_year  \\\n",
       "0    10711         film        Поговори с ней  Hable con ella        2002.0   \n",
       "1     2508         film           Голые перцы    Search Party        2014.0   \n",
       "2    10716         film      Тактическая сила  Tactical Force        2011.0   \n",
       "3     7868         film                45 лет        45 Years        2015.0   \n",
       "4    16268         film  Все решает мгновение             NaN        1978.0   \n",
       "\n",
       "                                             genres       countries  for_kids  \\\n",
       "0           драмы, зарубежные, детективы, мелодрамы         Испания       NaN   \n",
       "1                  зарубежные, приключения, комедии             США       NaN   \n",
       "2  криминал, зарубежные, триллеры, боевики, комедии          Канада       NaN   \n",
       "3                      драмы, зарубежные, мелодрамы  Великобритания       NaN   \n",
       "4                драмы, спорт, советские, мелодрамы            СССР       NaN   \n",
       "\n",
       "   age_rating   studios         directors  \\\n",
       "0        16.0       NaN  Педро Альмодовар   \n",
       "1        16.0       NaN    Скот Армстронг   \n",
       "2        16.0       NaN  Адам П. Калтраро   \n",
       "3        16.0       NaN         Эндрю Хэй   \n",
       "4        12.0  Ленфильм  Виктор Садовский   \n",
       "\n",
       "                                              actors  \\\n",
       "0  Адольфо Фернандес, Ана Фернандес, Дарио Гранди...   \n",
       "1  Адам Палли, Брайан Хаски, Дж.Б. Смув, Джейсон ...   \n",
       "2  Адриан Холмс, Даррен Шалави, Джерри Вассерман,...   \n",
       "3  Александра Риддлстон-Барретт, Джеральдин Джейм...   \n",
       "4  Александр Абдулов, Александр Демьяненко, Алекс...   \n",
       "\n",
       "                                         description  \\\n",
       "0  Мелодрама легендарного Педро Альмодовара «Пого...   \n",
       "1  Уморительная современная комедия на популярную...   \n",
       "2  Профессиональный рестлер Стив Остин («Все или ...   \n",
       "3  Шарлотта Рэмплинг, Том Кортни, Джеральдин Джей...   \n",
       "4  Расчетливая чаровница из советского кинохита «...   \n",
       "\n",
       "                                            keywords  \n",
       "0  Поговори, ней, 2002, Испания, друзья, любовь, ...  \n",
       "1  Голые, перцы, 2014, США, друзья, свадьбы, прео...  \n",
       "2  Тактическая, сила, 2011, Канада, бандиты, ганг...  \n",
       "3  45, лет, 2015, Великобритания, брак, жизнь, лю...  \n",
       "4  Все, решает, мгновение, 1978, СССР, сильные, ж...  "
      ]
     },
     "execution_count": 12,
     "metadata": {},
     "output_type": "execute_result"
    }
   ],
   "source": [
    "item_df = item_df.loc[item_df[Columns.Item].isin(train[Columns.Item])].copy()\n",
    "item_df.head()"
   ]
  },
  {
   "cell_type": "code",
   "execution_count": 13,
   "id": "3693912b",
   "metadata": {
    "execution": {
     "iopub.execute_input": "2022-12-11T20:37:04.074105Z",
     "iopub.status.busy": "2022-12-11T20:37:04.073705Z",
     "iopub.status.idle": "2022-12-11T20:37:04.172315Z",
     "shell.execute_reply": "2022-12-11T20:37:04.171245Z"
    },
    "papermill": {
     "duration": 0.117689,
     "end_time": "2022-12-11T20:37:04.176936",
     "exception": false,
     "start_time": "2022-12-11T20:37:04.059247",
     "status": "completed"
    },
    "tags": []
   },
   "outputs": [
    {
     "data": {
      "text/html": [
       "<div>\n",
       "<style scoped>\n",
       "    .dataframe tbody tr th:only-of-type {\n",
       "        vertical-align: middle;\n",
       "    }\n",
       "\n",
       "    .dataframe tbody tr th {\n",
       "        vertical-align: top;\n",
       "    }\n",
       "\n",
       "    .dataframe thead th {\n",
       "        text-align: right;\n",
       "    }\n",
       "</style>\n",
       "<table border=\"1\" class=\"dataframe\">\n",
       "  <thead>\n",
       "    <tr style=\"text-align: right;\">\n",
       "      <th></th>\n",
       "      <th>id</th>\n",
       "      <th>value</th>\n",
       "      <th>feature</th>\n",
       "    </tr>\n",
       "  </thead>\n",
       "  <tbody>\n",
       "    <tr>\n",
       "      <th>0</th>\n",
       "      <td>10711</td>\n",
       "      <td>драмы</td>\n",
       "      <td>genre</td>\n",
       "    </tr>\n",
       "    <tr>\n",
       "      <th>0</th>\n",
       "      <td>10711</td>\n",
       "      <td>зарубежные</td>\n",
       "      <td>genre</td>\n",
       "    </tr>\n",
       "    <tr>\n",
       "      <th>0</th>\n",
       "      <td>10711</td>\n",
       "      <td>детективы</td>\n",
       "      <td>genre</td>\n",
       "    </tr>\n",
       "    <tr>\n",
       "      <th>0</th>\n",
       "      <td>10711</td>\n",
       "      <td>мелодрамы</td>\n",
       "      <td>genre</td>\n",
       "    </tr>\n",
       "    <tr>\n",
       "      <th>1</th>\n",
       "      <td>2508</td>\n",
       "      <td>зарубежные</td>\n",
       "      <td>genre</td>\n",
       "    </tr>\n",
       "  </tbody>\n",
       "</table>\n",
       "</div>"
      ],
      "text/plain": [
       "      id       value feature\n",
       "0  10711       драмы   genre\n",
       "0  10711  зарубежные   genre\n",
       "0  10711   детективы   genre\n",
       "0  10711   мелодрамы   genre\n",
       "1   2508  зарубежные   genre"
      ]
     },
     "execution_count": 13,
     "metadata": {},
     "output_type": "execute_result"
    }
   ],
   "source": [
    "# извлекаем жанры для каждого фильма и сериала\n",
    "\n",
    "item_df[\"genre\"] = item_df[\"genres\"].str.lower().str.replace(\", \", \",\", regex=False).str.split(\",\")\n",
    "genre_feature = item_df[[\"item_id\", \"genre\"]].explode(\"genre\")\n",
    "genre_feature.columns = [\"id\", \"value\"]\n",
    "genre_feature[\"feature\"] = \"genre\"\n",
    "genre_feature.head()"
   ]
  },
  {
   "cell_type": "code",
   "execution_count": 14,
   "id": "acd9b2f6",
   "metadata": {
    "execution": {
     "iopub.execute_input": "2022-12-11T20:37:04.285835Z",
     "iopub.status.busy": "2022-12-11T20:37:04.285212Z",
     "iopub.status.idle": "2022-12-11T20:37:04.303007Z",
     "shell.execute_reply": "2022-12-11T20:37:04.301899Z"
    },
    "papermill": {
     "duration": 0.090479,
     "end_time": "2022-12-11T20:37:04.305360",
     "exception": false,
     "start_time": "2022-12-11T20:37:04.214881",
     "status": "completed"
    },
    "tags": []
   },
   "outputs": [
    {
     "data": {
      "text/html": [
       "<div>\n",
       "<style scoped>\n",
       "    .dataframe tbody tr th:only-of-type {\n",
       "        vertical-align: middle;\n",
       "    }\n",
       "\n",
       "    .dataframe tbody tr th {\n",
       "        vertical-align: top;\n",
       "    }\n",
       "\n",
       "    .dataframe thead th {\n",
       "        text-align: right;\n",
       "    }\n",
       "</style>\n",
       "<table border=\"1\" class=\"dataframe\">\n",
       "  <thead>\n",
       "    <tr style=\"text-align: right;\">\n",
       "      <th></th>\n",
       "      <th>id</th>\n",
       "      <th>value</th>\n",
       "      <th>feature</th>\n",
       "    </tr>\n",
       "  </thead>\n",
       "  <tbody>\n",
       "    <tr>\n",
       "      <th>0</th>\n",
       "      <td>10711</td>\n",
       "      <td>film</td>\n",
       "      <td>content_type</td>\n",
       "    </tr>\n",
       "    <tr>\n",
       "      <th>1</th>\n",
       "      <td>2508</td>\n",
       "      <td>film</td>\n",
       "      <td>content_type</td>\n",
       "    </tr>\n",
       "    <tr>\n",
       "      <th>2</th>\n",
       "      <td>10716</td>\n",
       "      <td>film</td>\n",
       "      <td>content_type</td>\n",
       "    </tr>\n",
       "    <tr>\n",
       "      <th>3</th>\n",
       "      <td>7868</td>\n",
       "      <td>film</td>\n",
       "      <td>content_type</td>\n",
       "    </tr>\n",
       "    <tr>\n",
       "      <th>4</th>\n",
       "      <td>16268</td>\n",
       "      <td>film</td>\n",
       "      <td>content_type</td>\n",
       "    </tr>\n",
       "  </tbody>\n",
       "</table>\n",
       "</div>"
      ],
      "text/plain": [
       "      id value       feature\n",
       "0  10711  film  content_type\n",
       "1   2508  film  content_type\n",
       "2  10716  film  content_type\n",
       "3   7868  film  content_type\n",
       "4  16268  film  content_type"
      ]
     },
     "execution_count": 14,
     "metadata": {},
     "output_type": "execute_result"
    }
   ],
   "source": [
    "# извлекаем тип контента для каждого айтема\n",
    "\n",
    "content_feature = item_df.reindex(columns=[Columns.Item, \"content_type\"])\n",
    "content_feature.columns = [\"id\", \"value\"]\n",
    "content_feature[\"feature\"] = \"content_type\"\n",
    "content_feature.head()"
   ]
  },
  {
   "cell_type": "code",
   "execution_count": 15,
   "id": "95258804",
   "metadata": {
    "execution": {
     "iopub.execute_input": "2022-12-11T20:37:04.335774Z",
     "iopub.status.busy": "2022-12-11T20:37:04.333991Z",
     "iopub.status.idle": "2022-12-11T20:37:04.353862Z",
     "shell.execute_reply": "2022-12-11T20:37:04.352943Z"
    },
    "papermill": {
     "duration": 0.03756,
     "end_time": "2022-12-11T20:37:04.356709",
     "exception": false,
     "start_time": "2022-12-11T20:37:04.319149",
     "status": "completed"
    },
    "tags": []
   },
   "outputs": [
    {
     "data": {
      "text/html": [
       "<div>\n",
       "<style scoped>\n",
       "    .dataframe tbody tr th:only-of-type {\n",
       "        vertical-align: middle;\n",
       "    }\n",
       "\n",
       "    .dataframe tbody tr th {\n",
       "        vertical-align: top;\n",
       "    }\n",
       "\n",
       "    .dataframe thead th {\n",
       "        text-align: right;\n",
       "    }\n",
       "</style>\n",
       "<table border=\"1\" class=\"dataframe\">\n",
       "  <thead>\n",
       "    <tr style=\"text-align: right;\">\n",
       "      <th></th>\n",
       "      <th>id</th>\n",
       "      <th>value</th>\n",
       "      <th>feature</th>\n",
       "    </tr>\n",
       "  </thead>\n",
       "  <tbody>\n",
       "    <tr>\n",
       "      <th>0</th>\n",
       "      <td>10711</td>\n",
       "      <td>1</td>\n",
       "      <td>binned_r_year</td>\n",
       "    </tr>\n",
       "    <tr>\n",
       "      <th>1</th>\n",
       "      <td>2508</td>\n",
       "      <td>4</td>\n",
       "      <td>binned_r_year</td>\n",
       "    </tr>\n",
       "    <tr>\n",
       "      <th>2</th>\n",
       "      <td>10716</td>\n",
       "      <td>3</td>\n",
       "      <td>binned_r_year</td>\n",
       "    </tr>\n",
       "    <tr>\n",
       "      <th>3</th>\n",
       "      <td>7868</td>\n",
       "      <td>5</td>\n",
       "      <td>binned_r_year</td>\n",
       "    </tr>\n",
       "    <tr>\n",
       "      <th>4</th>\n",
       "      <td>16268</td>\n",
       "      <td>0</td>\n",
       "      <td>binned_r_year</td>\n",
       "    </tr>\n",
       "  </tbody>\n",
       "</table>\n",
       "</div>"
      ],
      "text/plain": [
       "      id value        feature\n",
       "0  10711     1  binned_r_year\n",
       "1   2508     4  binned_r_year\n",
       "2  10716     3  binned_r_year\n",
       "3   7868     5  binned_r_year\n",
       "4  16268     0  binned_r_year"
      ]
     },
     "execution_count": 15,
     "metadata": {},
     "output_type": "execute_result"
    }
   ],
   "source": [
    "# извлекаем квантиль года выпуска для каждого айтема\n",
    "\n",
    "item_df['binned_r_year'] = pd.qcut(item_df['release_year'], q=10, labels=list(range(10)))\n",
    "release_year_feature = item_df.reindex(columns=[Columns.Item, \"binned_r_year\"])\n",
    "release_year_feature.columns = [\"id\", \"value\"]\n",
    "release_year_feature[\"feature\"] = \"binned_r_year\"\n",
    "release_year_feature.head()"
   ]
  },
  {
   "cell_type": "code",
   "execution_count": 16,
   "id": "de0e5cc1",
   "metadata": {
    "execution": {
     "iopub.execute_input": "2022-12-11T20:37:04.389669Z",
     "iopub.status.busy": "2022-12-11T20:37:04.389272Z",
     "iopub.status.idle": "2022-12-11T20:37:04.446320Z",
     "shell.execute_reply": "2022-12-11T20:37:04.445171Z"
    },
    "papermill": {
     "duration": 0.076021,
     "end_time": "2022-12-11T20:37:04.450506",
     "exception": false,
     "start_time": "2022-12-11T20:37:04.374485",
     "status": "completed"
    },
    "tags": []
   },
   "outputs": [
    {
     "data": {
      "text/html": [
       "<div>\n",
       "<style scoped>\n",
       "    .dataframe tbody tr th:only-of-type {\n",
       "        vertical-align: middle;\n",
       "    }\n",
       "\n",
       "    .dataframe tbody tr th {\n",
       "        vertical-align: top;\n",
       "    }\n",
       "\n",
       "    .dataframe thead th {\n",
       "        text-align: right;\n",
       "    }\n",
       "</style>\n",
       "<table border=\"1\" class=\"dataframe\">\n",
       "  <thead>\n",
       "    <tr style=\"text-align: right;\">\n",
       "      <th></th>\n",
       "      <th>id</th>\n",
       "      <th>value</th>\n",
       "      <th>feature</th>\n",
       "    </tr>\n",
       "  </thead>\n",
       "  <tbody>\n",
       "    <tr>\n",
       "      <th>0</th>\n",
       "      <td>10711</td>\n",
       "      <td>испания</td>\n",
       "      <td>country</td>\n",
       "    </tr>\n",
       "    <tr>\n",
       "      <th>1</th>\n",
       "      <td>2508</td>\n",
       "      <td>сша</td>\n",
       "      <td>country</td>\n",
       "    </tr>\n",
       "    <tr>\n",
       "      <th>2</th>\n",
       "      <td>10716</td>\n",
       "      <td>канада</td>\n",
       "      <td>country</td>\n",
       "    </tr>\n",
       "    <tr>\n",
       "      <th>3</th>\n",
       "      <td>7868</td>\n",
       "      <td>великобритания</td>\n",
       "      <td>country</td>\n",
       "    </tr>\n",
       "    <tr>\n",
       "      <th>4</th>\n",
       "      <td>16268</td>\n",
       "      <td>ссср</td>\n",
       "      <td>country</td>\n",
       "    </tr>\n",
       "  </tbody>\n",
       "</table>\n",
       "</div>"
      ],
      "text/plain": [
       "      id           value  feature\n",
       "0  10711         испания  country\n",
       "1   2508             сша  country\n",
       "2  10716          канада  country\n",
       "3   7868  великобритания  country\n",
       "4  16268            ссср  country"
      ]
     },
     "execution_count": 16,
     "metadata": {},
     "output_type": "execute_result"
    }
   ],
   "source": [
    "# извлекаем местоположение студии для каждого айтема\n",
    "\n",
    "item_df[\"country\"] = item_df[\"countries\"].str.lower().str.replace(\", \", \",\", regex=False).str.split(\",\")\n",
    "country_feature = item_df[[\"item_id\", \"country\"]].explode(\"country\")\n",
    "country_feature.columns = [\"id\", \"value\"]\n",
    "country_feature[\"feature\"] = \"country\"\n",
    "country_feature.head()"
   ]
  },
  {
   "cell_type": "code",
   "execution_count": 17,
   "id": "2314c7ac",
   "metadata": {
    "execution": {
     "iopub.execute_input": "2022-12-11T20:37:04.484914Z",
     "iopub.status.busy": "2022-12-11T20:37:04.484545Z",
     "iopub.status.idle": "2022-12-11T20:37:04.507223Z",
     "shell.execute_reply": "2022-12-11T20:37:04.506121Z"
    },
    "papermill": {
     "duration": 0.03965,
     "end_time": "2022-12-11T20:37:04.509545",
     "exception": false,
     "start_time": "2022-12-11T20:37:04.469895",
     "status": "completed"
    },
    "tags": []
   },
   "outputs": [
    {
     "data": {
      "text/html": [
       "<div>\n",
       "<style scoped>\n",
       "    .dataframe tbody tr th:only-of-type {\n",
       "        vertical-align: middle;\n",
       "    }\n",
       "\n",
       "    .dataframe tbody tr th {\n",
       "        vertical-align: top;\n",
       "    }\n",
       "\n",
       "    .dataframe thead th {\n",
       "        text-align: right;\n",
       "    }\n",
       "</style>\n",
       "<table border=\"1\" class=\"dataframe\">\n",
       "  <thead>\n",
       "    <tr style=\"text-align: right;\">\n",
       "      <th></th>\n",
       "      <th>id</th>\n",
       "      <th>value</th>\n",
       "      <th>feature</th>\n",
       "    </tr>\n",
       "  </thead>\n",
       "  <tbody>\n",
       "    <tr>\n",
       "      <th>4326</th>\n",
       "      <td>222</td>\n",
       "      <td>драмы</td>\n",
       "      <td>genre</td>\n",
       "    </tr>\n",
       "    <tr>\n",
       "      <th>4326</th>\n",
       "      <td>222</td>\n",
       "      <td>русские</td>\n",
       "      <td>genre</td>\n",
       "    </tr>\n",
       "    <tr>\n",
       "      <th>4326</th>\n",
       "      <td>222</td>\n",
       "      <td>film</td>\n",
       "      <td>content_type</td>\n",
       "    </tr>\n",
       "    <tr>\n",
       "      <th>4326</th>\n",
       "      <td>222</td>\n",
       "      <td>ссср</td>\n",
       "      <td>country</td>\n",
       "    </tr>\n",
       "    <tr>\n",
       "      <th>4326</th>\n",
       "      <td>222</td>\n",
       "      <td>0</td>\n",
       "      <td>binned_r_year</td>\n",
       "    </tr>\n",
       "  </tbody>\n",
       "</table>\n",
       "</div>"
      ],
      "text/plain": [
       "       id    value        feature\n",
       "4326  222    драмы          genre\n",
       "4326  222  русские          genre\n",
       "4326  222     film   content_type\n",
       "4326  222     ссср        country\n",
       "4326  222        0  binned_r_year"
      ]
     },
     "execution_count": 17,
     "metadata": {},
     "output_type": "execute_result"
    }
   ],
   "source": [
    "# конкатенируем таблицы с фичами и проверяем по рандомному id\n",
    "\n",
    "item_features = pd.concat((genre_feature, content_feature, country_feature, release_year_feature))\n",
    "item_features[item_features['id'] == 222]"
   ]
  },
  {
   "cell_type": "code",
   "execution_count": 18,
   "id": "40f8a404",
   "metadata": {
    "execution": {
     "iopub.execute_input": "2022-12-11T20:37:04.539109Z",
     "iopub.status.busy": "2022-12-11T20:37:04.537914Z",
     "iopub.status.idle": "2022-12-11T20:37:04.554800Z",
     "shell.execute_reply": "2022-12-11T20:37:04.553596Z"
    },
    "papermill": {
     "duration": 0.034267,
     "end_time": "2022-12-11T20:37:04.557506",
     "exception": false,
     "start_time": "2022-12-11T20:37:04.523239",
     "status": "completed"
    },
    "tags": []
   },
   "outputs": [],
   "source": [
    "\n",
    "TEST_USERS = test[Columns.User].unique()\n"
   ]
  },
  {
   "cell_type": "markdown",
   "id": "3119eca1",
   "metadata": {
    "papermill": {
     "duration": 0.013369,
     "end_time": "2022-12-11T20:37:04.584687",
     "exception": false,
     "start_time": "2022-12-11T20:37:04.571318",
     "status": "completed"
    },
    "tags": []
   },
   "source": [
    "## Аппроксимационный поиск ближайших соседей c помощью Hierarchical Navigable Small World (NMSLIB)"
   ]
  },
  {
   "cell_type": "code",
   "execution_count": 19,
   "id": "dab8c110",
   "metadata": {
    "execution": {
     "iopub.execute_input": "2022-12-11T20:37:04.614275Z",
     "iopub.status.busy": "2022-12-11T20:37:04.613872Z",
     "iopub.status.idle": "2022-12-11T20:37:06.877935Z",
     "shell.execute_reply": "2022-12-11T20:37:06.876501Z"
    },
    "papermill": {
     "duration": 2.283323,
     "end_time": "2022-12-11T20:37:06.881609",
     "exception": false,
     "start_time": "2022-12-11T20:37:04.598286",
     "status": "completed"
    },
    "tags": []
   },
   "outputs": [],
   "source": [
    "# создаем новый датасет на основе interactions.csv\n",
    "\n",
    "DATASET = Dataset.construct(\n",
    "    interactions_df=inter_df,\n",
    "    user_features_df=user_features,\n",
    "    cat_user_features=[\"age\", \"sex\", \"income\"],\n",
    "    item_features_df=item_features,\n",
    "    cat_item_features=[\"genre\", \"country\", 'binned_r_year', 'content_type'],\n",
    ")"
   ]
  },
  {
   "cell_type": "code",
   "execution_count": 20,
   "id": "39cdcb12",
   "metadata": {
    "execution": {
     "iopub.execute_input": "2022-12-11T20:37:06.912673Z",
     "iopub.status.busy": "2022-12-11T20:37:06.910611Z",
     "iopub.status.idle": "2022-12-11T20:38:09.205369Z",
     "shell.execute_reply": "2022-12-11T20:38:09.203961Z"
    },
    "papermill": {
     "duration": 62.328045,
     "end_time": "2022-12-11T20:38:09.223441",
     "exception": false,
     "start_time": "2022-12-11T20:37:06.895396",
     "status": "completed"
    },
    "tags": []
   },
   "outputs": [
    {
     "data": {
      "text/plain": [
       "<rectools.models.lightfm.LightFMWrapperModel at 0x7fa58ad08750>"
      ]
     },
     "execution_count": 20,
     "metadata": {},
     "output_type": "execute_result"
    }
   ],
   "source": [
    "# обучаем модель с учетом лучших параметров\n",
    "\n",
    "model = LightFMWrapperModel(\n",
    "  model=LightFM(\n",
    "    no_components=32, \n",
    "    loss='warp', \n",
    "    random_state=100,\n",
    "    learning_rate=0.05,\n",
    "    user_alpha=0.1,\n",
    "    item_alpha=0.1,\n",
    "  ),\n",
    "  epochs=2,\n",
    "  num_threads=1,\n",
    ")\n",
    "model.fit(DATASET)"
   ]
  },
  {
   "cell_type": "code",
   "execution_count": 21,
   "id": "90c266ed",
   "metadata": {
    "execution": {
     "iopub.execute_input": "2022-12-11T20:38:09.254495Z",
     "iopub.status.busy": "2022-12-11T20:38:09.253666Z",
     "iopub.status.idle": "2022-12-11T20:38:09.261230Z",
     "shell.execute_reply": "2022-12-11T20:38:09.259784Z"
    },
    "papermill": {
     "duration": 0.026434,
     "end_time": "2022-12-11T20:38:09.263985",
     "exception": false,
     "start_time": "2022-12-11T20:38:09.237551",
     "status": "completed"
    },
    "tags": []
   },
   "outputs": [],
   "source": [
    "def augment_items(factors):\n",
    "    normed_factors = np.linalg.norm(factors, axis=1)\n",
    "    max_norm = normed_factors.max()\n",
    "    extra_dim = np.sqrt(max_norm ** 2 - normed_factors ** 2).reshape(-1, 1)\n",
    "    augmented_factors = np.append(factors, extra_dim, axis=1)\n",
    "    return max_norm, augmented_factors"
   ]
  },
  {
   "cell_type": "code",
   "execution_count": 22,
   "id": "531deba0",
   "metadata": {
    "execution": {
     "iopub.execute_input": "2022-12-11T20:38:09.295763Z",
     "iopub.status.busy": "2022-12-11T20:38:09.295247Z",
     "iopub.status.idle": "2022-12-11T20:38:09.977269Z",
     "shell.execute_reply": "2022-12-11T20:38:09.976070Z"
    },
    "papermill": {
     "duration": 0.70131,
     "end_time": "2022-12-11T20:38:09.980461",
     "exception": false,
     "start_time": "2022-12-11T20:38:09.279151",
     "status": "completed"
    },
    "tags": []
   },
   "outputs": [],
   "source": [
    "user_emb, item_emb = model.get_vectors(DATASET)\n",
    "max_norm, augmented_item_emb = augment_items(item_emb)\n",
    "extra_zeros = np.zeros((user_emb.shape[0], 1))\n",
    "augmented_user_emb = np.append(user_emb, extra_zeros, axis=1)"
   ]
  },
  {
   "cell_type": "code",
   "execution_count": 23,
   "id": "e34667ab",
   "metadata": {
    "execution": {
     "iopub.execute_input": "2022-12-11T20:38:10.010129Z",
     "iopub.status.busy": "2022-12-11T20:38:10.009736Z",
     "iopub.status.idle": "2022-12-11T20:38:10.021991Z",
     "shell.execute_reply": "2022-12-11T20:38:10.020544Z"
    },
    "papermill": {
     "duration": 0.030084,
     "end_time": "2022-12-11T20:38:10.024535",
     "exception": false,
     "start_time": "2022-12-11T20:38:09.994451",
     "status": "completed"
    },
    "tags": []
   },
   "outputs": [],
   "source": [
    "index = nmslib.init(method='hnsw', space='cosinesimil', data_type=nmslib.DataType.DENSE_VECTOR) \n",
    "index.addDataPointBatch(augmented_item_emb); "
   ]
  },
  {
   "cell_type": "code",
   "execution_count": 24,
   "id": "fc287699",
   "metadata": {
    "execution": {
     "iopub.execute_input": "2022-12-11T20:38:10.054235Z",
     "iopub.status.busy": "2022-12-11T20:38:10.053856Z",
     "iopub.status.idle": "2022-12-11T20:38:39.647347Z",
     "shell.execute_reply": "2022-12-11T20:38:39.646028Z"
    },
    "papermill": {
     "duration": 29.611273,
     "end_time": "2022-12-11T20:38:39.649993",
     "exception": false,
     "start_time": "2022-12-11T20:38:10.038720",
     "status": "completed"
    },
    "tags": []
   },
   "outputs": [
    {
     "name": "stdout",
     "output_type": "stream",
     "text": [
      "Index-time parameters {'M': 48, 'indexThreadQty': 4, 'efConstruction': 100}\n"
     ]
    }
   ],
   "source": [
    "index_time_params = {'M': 48, 'indexThreadQty': 4, 'efConstruction': 100}\n",
    "index.createIndex(index_time_params) \n",
    "print('Index-time parameters', index_time_params)"
   ]
  },
  {
   "cell_type": "code",
   "execution_count": 25,
   "id": "7af3eeb3",
   "metadata": {
    "execution": {
     "iopub.execute_input": "2022-12-11T20:38:39.679519Z",
     "iopub.status.busy": "2022-12-11T20:38:39.679107Z",
     "iopub.status.idle": "2022-12-11T20:38:39.684659Z",
     "shell.execute_reply": "2022-12-11T20:38:39.683346Z"
    },
    "papermill": {
     "duration": 0.023174,
     "end_time": "2022-12-11T20:38:39.687208",
     "exception": false,
     "start_time": "2022-12-11T20:38:39.664034",
     "status": "completed"
    },
    "tags": []
   },
   "outputs": [],
   "source": [
    "query_time_params = {'efSearch': 100}\n",
    "index.setQueryTimeParams(query_time_params)"
   ]
  },
  {
   "cell_type": "code",
   "execution_count": 26,
   "id": "732c906b",
   "metadata": {
    "execution": {
     "iopub.execute_input": "2022-12-11T20:38:39.716671Z",
     "iopub.status.busy": "2022-12-11T20:38:39.716238Z",
     "iopub.status.idle": "2022-12-11T20:38:39.721970Z",
     "shell.execute_reply": "2022-12-11T20:38:39.720851Z"
    },
    "papermill": {
     "duration": 0.023478,
     "end_time": "2022-12-11T20:38:39.724673",
     "exception": false,
     "start_time": "2022-12-11T20:38:39.701195",
     "status": "completed"
    },
    "tags": []
   },
   "outputs": [],
   "source": [
    "def get_map(df, col):\n",
    "    inv_map = dict(enumerate(df[col].unique()))\n",
    "    mapp = {v: k for k, v in inv_map.items()}\n",
    "    return inv_map, mapp"
   ]
  },
  {
   "cell_type": "code",
   "execution_count": 27,
   "id": "a49bd4aa",
   "metadata": {
    "execution": {
     "iopub.execute_input": "2022-12-11T20:38:39.755084Z",
     "iopub.status.busy": "2022-12-11T20:38:39.754714Z",
     "iopub.status.idle": "2022-12-11T20:38:44.485915Z",
     "shell.execute_reply": "2022-12-11T20:38:44.484844Z"
    },
    "papermill": {
     "duration": 4.749952,
     "end_time": "2022-12-11T20:38:44.489076",
     "exception": false,
     "start_time": "2022-12-11T20:38:39.739124",
     "status": "completed"
    },
    "tags": []
   },
   "outputs": [],
   "source": [
    "users_inv_map, users_map = get_map(train, 'user_id')\n",
    "test_emb_ids = [users_map[user] for user in TEST_USERS]\n",
    "test_emb_ids[:10]\n",
    "query_matrix = augmented_user_emb[test_emb_ids, :]\n",
    "query_qty = query_matrix.shape[0]\n",
    "nbrs = index.knnQueryBatch(query_matrix, k = 10, num_threads = 4)\n",
    "item_inv_mapping, item_mapping = get_map(train, 'item_id')"
   ]
  },
  {
   "cell_type": "code",
   "execution_count": 28,
   "id": "9ef77729",
   "metadata": {
    "execution": {
     "iopub.execute_input": "2022-12-11T20:38:44.520670Z",
     "iopub.status.busy": "2022-12-11T20:38:44.519460Z",
     "iopub.status.idle": "2022-12-11T20:38:47.392791Z",
     "shell.execute_reply": "2022-12-11T20:38:47.391387Z"
    },
    "papermill": {
     "duration": 2.891952,
     "end_time": "2022-12-11T20:38:47.395613",
     "exception": false,
     "start_time": "2022-12-11T20:38:44.503661",
     "status": "completed"
    },
    "tags": []
   },
   "outputs": [
    {
     "data": {
      "text/html": [
       "<div>\n",
       "<style scoped>\n",
       "    .dataframe tbody tr th:only-of-type {\n",
       "        vertical-align: middle;\n",
       "    }\n",
       "\n",
       "    .dataframe tbody tr th {\n",
       "        vertical-align: top;\n",
       "    }\n",
       "\n",
       "    .dataframe thead th {\n",
       "        text-align: right;\n",
       "    }\n",
       "</style>\n",
       "<table border=\"1\" class=\"dataframe\">\n",
       "  <thead>\n",
       "    <tr style=\"text-align: right;\">\n",
       "      <th></th>\n",
       "      <th>user_id</th>\n",
       "      <th>item_id</th>\n",
       "    </tr>\n",
       "  </thead>\n",
       "  <tbody>\n",
       "    <tr>\n",
       "      <th>0</th>\n",
       "      <td>203219</td>\n",
       "      <td>[12846, 2616, 11970, 9617, 7347, 8391, 7737, 3...</td>\n",
       "    </tr>\n",
       "    <tr>\n",
       "      <th>1</th>\n",
       "      <td>200197</td>\n",
       "      <td>[12846, 2616, 9617, 11970, 7347, 8391, 7737, 3...</td>\n",
       "    </tr>\n",
       "    <tr>\n",
       "      <th>2</th>\n",
       "      <td>73446</td>\n",
       "      <td>[12846, 2616, 11970, 9617, 7347, 8391, 7737, 3...</td>\n",
       "    </tr>\n",
       "    <tr>\n",
       "      <th>3</th>\n",
       "      <td>10010</td>\n",
       "      <td>[12846, 2616, 11970, 9617, 7347, 8391, 7737, 3...</td>\n",
       "    </tr>\n",
       "    <tr>\n",
       "      <th>4</th>\n",
       "      <td>890735</td>\n",
       "      <td>[12846, 2616, 11970, 9617, 7347, 8391, 7737, 3...</td>\n",
       "    </tr>\n",
       "  </tbody>\n",
       "</table>\n",
       "</div>"
      ],
      "text/plain": [
       "   user_id                                            item_id\n",
       "0   203219  [12846, 2616, 11970, 9617, 7347, 8391, 7737, 3...\n",
       "1   200197  [12846, 2616, 9617, 11970, 7347, 8391, 7737, 3...\n",
       "2    73446  [12846, 2616, 11970, 9617, 7347, 8391, 7737, 3...\n",
       "3    10010  [12846, 2616, 11970, 9617, 7347, 8391, 7737, 3...\n",
       "4   890735  [12846, 2616, 11970, 9617, 7347, 8391, 7737, 3..."
      ]
     },
     "execution_count": 28,
     "metadata": {},
     "output_type": "execute_result"
    }
   ],
   "source": [
    "# рекомендации тестовым пользователям\n",
    "\n",
    "recos = [[item_inv_mapping[item] for item in nbrs[i][0]] for i in range(len(nbrs))]\n",
    "recos = pd.DataFrame(list(zip(TEST_USERS, recos)), columns=['user_id', 'item_id'])\n",
    "recos.head()"
   ]
  },
  {
   "cell_type": "code",
   "execution_count": 29,
   "id": "c6d18781",
   "metadata": {
    "execution": {
     "iopub.execute_input": "2022-12-11T20:38:47.427656Z",
     "iopub.status.busy": "2022-12-11T20:38:47.427200Z",
     "iopub.status.idle": "2022-12-11T20:38:48.874837Z",
     "shell.execute_reply": "2022-12-11T20:38:48.873706Z"
    },
    "papermill": {
     "duration": 1.467456,
     "end_time": "2022-12-11T20:38:48.877882",
     "exception": false,
     "start_time": "2022-12-11T20:38:47.410426",
     "status": "completed"
    },
    "tags": []
   },
   "outputs": [
    {
     "data": {
      "text/plain": [
       "{'recall@10': 0.0028580047340201835, 'map@10': 0.0011749443720157793}"
      ]
     },
     "execution_count": 29,
     "metadata": {},
     "output_type": "execute_result"
    }
   ],
   "source": [
    "res = recos.explode('item_id')\n",
    "res['rank'] = res.groupby('user_id').cumcount() + 1\n",
    "approc_metrics = calc_metrics(METRICS, res, test, train)\n",
    "approc_metrics"
   ]
  },
  {
   "cell_type": "markdown",
   "id": "6b964213",
   "metadata": {
    "papermill": {
     "duration": 0.013909,
     "end_time": "2022-12-11T20:38:48.906245",
     "exception": false,
     "start_time": "2022-12-11T20:38:48.892336",
     "status": "completed"
    },
    "tags": []
   },
   "source": [
    "## Решение проблемы холодных пользователей"
   ]
  },
  {
   "cell_type": "markdown",
   "id": "372d0e61",
   "metadata": {
    "papermill": {
     "duration": 0.013699,
     "end_time": "2022-12-11T20:38:48.934223",
     "exception": false,
     "start_time": "2022-12-11T20:38:48.920524",
     "status": "completed"
    },
    "tags": []
   },
   "source": [
    "Проблема холодных пользователей решается многими способами. Например, таким пользователям можно выдавать наиболее популярные запросы. Другой вариант - по имеющимся статистическим данным определять для холодного пользователя наиболее близкую демографическую группу и выдавать наиболее популярные рекомендации для этой группы. Кроме того, можно сделать дефолтный набор продуктов, рекомендуемых новым пользователям. Еще один способ - найти пользователя наиболее близкого к холодному и дать рекомендации как будто бы для него. Этот вариант мы постарались реализовать в коде, представленном ниже."
   ]
  },
  {
   "cell_type": "code",
   "execution_count": 30,
   "id": "a58fd31d",
   "metadata": {
    "execution": {
     "iopub.execute_input": "2022-12-11T20:38:48.965242Z",
     "iopub.status.busy": "2022-12-11T20:38:48.963733Z",
     "iopub.status.idle": "2022-12-11T20:38:48.975310Z",
     "shell.execute_reply": "2022-12-11T20:38:48.973868Z"
    },
    "papermill": {
     "duration": 0.029704,
     "end_time": "2022-12-11T20:38:48.978083",
     "exception": false,
     "start_time": "2022-12-11T20:38:48.948379",
     "status": "completed"
    },
    "tags": []
   },
   "outputs": [],
   "source": [
    "cold_users = list(cold_users)"
   ]
  },
  {
   "cell_type": "code",
   "execution_count": 31,
   "id": "71361958",
   "metadata": {
    "execution": {
     "iopub.execute_input": "2022-12-11T20:38:49.009018Z",
     "iopub.status.busy": "2022-12-11T20:38:49.008506Z",
     "iopub.status.idle": "2022-12-11T20:38:49.779565Z",
     "shell.execute_reply": "2022-12-11T20:38:49.777990Z"
    },
    "papermill": {
     "duration": 0.790187,
     "end_time": "2022-12-11T20:38:49.782820",
     "exception": false,
     "start_time": "2022-12-11T20:38:48.992633",
     "status": "completed"
    },
    "tags": []
   },
   "outputs": [],
   "source": [
    "cold_users_inv_map, cold_users_map = get_map(inter_df, 'user_id')\n",
    "citems_inv_map, citems_map = get_map(inter_df, 'item_id')"
   ]
  },
  {
   "cell_type": "code",
   "execution_count": 32,
   "id": "a962d11f",
   "metadata": {
    "execution": {
     "iopub.execute_input": "2022-12-11T20:38:49.814524Z",
     "iopub.status.busy": "2022-12-11T20:38:49.814110Z",
     "iopub.status.idle": "2022-12-11T20:39:18.302479Z",
     "shell.execute_reply": "2022-12-11T20:39:18.300954Z"
    },
    "papermill": {
     "duration": 28.508147,
     "end_time": "2022-12-11T20:39:18.306018",
     "exception": false,
     "start_time": "2022-12-11T20:38:49.797871",
     "status": "completed"
    },
    "tags": []
   },
   "outputs": [],
   "source": [
    "DATASET = LFMDataset()\n",
    "DATASET.fit(users=inter_df[\"user_id\"].values,items=inter_df[\"item_id\"].values,)\n",
    "inter_matrix, _ = DATASET.build_interactions(zip(*inter_df[[\"user_id\", \"item_id\"]].values.T))"
   ]
  },
  {
   "cell_type": "code",
   "execution_count": 33,
   "id": "fad88f33",
   "metadata": {
    "execution": {
     "iopub.execute_input": "2022-12-11T20:39:18.338928Z",
     "iopub.status.busy": "2022-12-11T20:39:18.338471Z",
     "iopub.status.idle": "2022-12-11T20:39:32.479518Z",
     "shell.execute_reply": "2022-12-11T20:39:32.478347Z"
    },
    "papermill": {
     "duration": 14.160945,
     "end_time": "2022-12-11T20:39:32.482481",
     "exception": false,
     "start_time": "2022-12-11T20:39:18.321536",
     "status": "completed"
    },
    "tags": []
   },
   "outputs": [
    {
     "data": {
      "text/plain": [
       "<lightfm.lightfm.LightFM at 0x7fa58c8ac450>"
      ]
     },
     "execution_count": 33,
     "metadata": {},
     "output_type": "execute_result"
    }
   ],
   "source": [
    "model = LightFM(learning_rate=0.05, \n",
    "                loss='warp', \n",
    "                no_components=64,\n",
    "                random_state=100,\n",
    ")\n",
    "model.fit(interactions = inter_matrix, \n",
    "                        epochs=2,\n",
    "                        num_threads=20,\n",
    ")"
   ]
  },
  {
   "cell_type": "code",
   "execution_count": 34,
   "id": "4e1815e5",
   "metadata": {
    "execution": {
     "iopub.execute_input": "2022-12-11T20:39:32.513628Z",
     "iopub.status.busy": "2022-12-11T20:39:32.512251Z",
     "iopub.status.idle": "2022-12-11T20:39:32.519408Z",
     "shell.execute_reply": "2022-12-11T20:39:32.518259Z"
    },
    "papermill": {
     "duration": 0.025123,
     "end_time": "2022-12-11T20:39:32.522127",
     "exception": false,
     "start_time": "2022-12-11T20:39:32.497004",
     "status": "completed"
    },
    "tags": []
   },
   "outputs": [],
   "source": [
    "def get_similar_user(model, user_id):\n",
    "    user_embeddings = (model.user_embeddings.T\n",
    "                      / np.linalg.norm(model.user_embeddings, axis=1)).T\n",
    "    query_embedding = user_embeddings[user_id]\n",
    "    similarity = np.dot(user_embeddings, query_embedding)\n",
    "    most_similar = np.argsort(-similarity)[1:11]\n",
    "    return most_similar"
   ]
  },
  {
   "cell_type": "code",
   "execution_count": 35,
   "id": "c6fd58e6",
   "metadata": {
    "execution": {
     "iopub.execute_input": "2022-12-11T20:39:32.553433Z",
     "iopub.status.busy": "2022-12-11T20:39:32.552766Z",
     "iopub.status.idle": "2022-12-11T20:39:33.004659Z",
     "shell.execute_reply": "2022-12-11T20:39:33.003163Z"
    },
    "papermill": {
     "duration": 0.47249,
     "end_time": "2022-12-11T20:39:33.009141",
     "exception": false,
     "start_time": "2022-12-11T20:39:32.536651",
     "status": "completed"
    },
    "tags": []
   },
   "outputs": [
    {
     "data": {
      "text/plain": [
       "array([ 51917, 152300, 272977, 144096, 332726, 157477, 568259, 701735,\n",
       "       249970, 150317])"
      ]
     },
     "execution_count": 35,
     "metadata": {},
     "output_type": "execute_result"
    }
   ],
   "source": [
    "get_similar_user(model, cold_users[100])"
   ]
  },
  {
   "cell_type": "code",
   "execution_count": 36,
   "id": "f6e67df0",
   "metadata": {
    "execution": {
     "iopub.execute_input": "2022-12-11T20:39:33.048208Z",
     "iopub.status.busy": "2022-12-11T20:39:33.047500Z",
     "iopub.status.idle": "2022-12-11T20:39:33.054508Z",
     "shell.execute_reply": "2022-12-11T20:39:33.053317Z"
    },
    "papermill": {
     "duration": 0.026288,
     "end_time": "2022-12-11T20:39:33.057139",
     "exception": false,
     "start_time": "2022-12-11T20:39:33.030851",
     "status": "completed"
    },
    "tags": []
   },
   "outputs": [],
   "source": [
    "id_to_item = {v: k for k, v in DATASET._item_id_mapping.items()}"
   ]
  },
  {
   "cell_type": "code",
   "execution_count": 37,
   "id": "2cba1f7b",
   "metadata": {
    "execution": {
     "iopub.execute_input": "2022-12-11T20:39:33.089407Z",
     "iopub.status.busy": "2022-12-11T20:39:33.088988Z",
     "iopub.status.idle": "2022-12-11T20:39:33.096689Z",
     "shell.execute_reply": "2022-12-11T20:39:33.095210Z"
    },
    "papermill": {
     "duration": 0.027267,
     "end_time": "2022-12-11T20:39:33.099152",
     "exception": false,
     "start_time": "2022-12-11T20:39:33.071885",
     "status": "completed"
    },
    "tags": []
   },
   "outputs": [],
   "source": [
    "def get_recos(user_id, model, inter_matrix, user_to_id, id_to_item, n_recommendations = N):\n",
    "    inner_id = user_to_id[user_id]\n",
    "    scores = model.predict(user_ids=inner_id,\n",
    "                            item_ids=np.arange(inter_matrix.shape[1]),\n",
    "                            num_threads=20)\n",
    "    watched_items = inter_matrix.col[inter_matrix.row == inner_id]\n",
    "    scores[watched_items] = -np.inf\n",
    "    reco_item_inner_ids = np.argpartition(scores, -np.arange(n_recommendations))[-n_recommendations:][::-1]\n",
    "    recos = [id_to_item[x] for x in reco_item_inner_ids]\n",
    "    return recos"
   ]
  },
  {
   "cell_type": "code",
   "execution_count": 38,
   "id": "98dc7fd2",
   "metadata": {
    "execution": {
     "iopub.execute_input": "2022-12-11T20:39:33.130395Z",
     "iopub.status.busy": "2022-12-11T20:39:33.129964Z",
     "iopub.status.idle": "2022-12-11T20:39:33.712919Z",
     "shell.execute_reply": "2022-12-11T20:39:33.711643Z"
    },
    "papermill": {
     "duration": 0.601823,
     "end_time": "2022-12-11T20:39:33.715711",
     "exception": false,
     "start_time": "2022-12-11T20:39:33.113888",
     "status": "completed"
    },
    "tags": []
   },
   "outputs": [
    {
     "data": {
      "text/html": [
       "<div>\n",
       "<style scoped>\n",
       "    .dataframe tbody tr th:only-of-type {\n",
       "        vertical-align: middle;\n",
       "    }\n",
       "\n",
       "    .dataframe tbody tr th {\n",
       "        vertical-align: top;\n",
       "    }\n",
       "\n",
       "    .dataframe thead th {\n",
       "        text-align: right;\n",
       "    }\n",
       "</style>\n",
       "<table border=\"1\" class=\"dataframe\">\n",
       "  <thead>\n",
       "    <tr style=\"text-align: right;\">\n",
       "      <th></th>\n",
       "      <th>user_id</th>\n",
       "      <th>item_id</th>\n",
       "      <th>title</th>\n",
       "      <th>genres</th>\n",
       "    </tr>\n",
       "  </thead>\n",
       "  <tbody>\n",
       "    <tr>\n",
       "      <th>0</th>\n",
       "      <td>463081</td>\n",
       "      <td>10440</td>\n",
       "      <td>Хрустальный</td>\n",
       "      <td>триллеры, детективы</td>\n",
       "    </tr>\n",
       "    <tr>\n",
       "      <th>1</th>\n",
       "      <td>463081</td>\n",
       "      <td>15297</td>\n",
       "      <td>Клиника счастья</td>\n",
       "      <td>драмы, мелодрамы</td>\n",
       "    </tr>\n",
       "    <tr>\n",
       "      <th>2</th>\n",
       "      <td>463081</td>\n",
       "      <td>13865</td>\n",
       "      <td>Девятаев</td>\n",
       "      <td>драмы, военные, приключения</td>\n",
       "    </tr>\n",
       "    <tr>\n",
       "      <th>3</th>\n",
       "      <td>463081</td>\n",
       "      <td>9728</td>\n",
       "      <td>Гнев человеческий</td>\n",
       "      <td>боевики, триллеры</td>\n",
       "    </tr>\n",
       "    <tr>\n",
       "      <th>4</th>\n",
       "      <td>463081</td>\n",
       "      <td>4151</td>\n",
       "      <td>Секреты семейной жизни</td>\n",
       "      <td>комедии</td>\n",
       "    </tr>\n",
       "    <tr>\n",
       "      <th>5</th>\n",
       "      <td>463081</td>\n",
       "      <td>3734</td>\n",
       "      <td>Прабабушка легкого поведения</td>\n",
       "      <td>комедии</td>\n",
       "    </tr>\n",
       "    <tr>\n",
       "      <th>6</th>\n",
       "      <td>463081</td>\n",
       "      <td>2657</td>\n",
       "      <td>Подслушано</td>\n",
       "      <td>драмы, триллеры</td>\n",
       "    </tr>\n",
       "    <tr>\n",
       "      <th>7</th>\n",
       "      <td>463081</td>\n",
       "      <td>4880</td>\n",
       "      <td>Афера</td>\n",
       "      <td>комедии</td>\n",
       "    </tr>\n",
       "    <tr>\n",
       "      <th>8</th>\n",
       "      <td>463081</td>\n",
       "      <td>6809</td>\n",
       "      <td>Дуров</td>\n",
       "      <td>документальное</td>\n",
       "    </tr>\n",
       "    <tr>\n",
       "      <th>9</th>\n",
       "      <td>463081</td>\n",
       "      <td>142</td>\n",
       "      <td>Маша</td>\n",
       "      <td>драмы, триллеры</td>\n",
       "    </tr>\n",
       "  </tbody>\n",
       "</table>\n",
       "</div>"
      ],
      "text/plain": [
       "   user_id  item_id                         title                       genres\n",
       "0   463081    10440                   Хрустальный          триллеры, детективы\n",
       "1   463081    15297               Клиника счастья             драмы, мелодрамы\n",
       "2   463081    13865                      Девятаев  драмы, военные, приключения\n",
       "3   463081     9728             Гнев человеческий            боевики, триллеры\n",
       "4   463081     4151        Секреты семейной жизни                      комедии\n",
       "5   463081     3734  Прабабушка легкого поведения                      комедии\n",
       "6   463081     2657                    Подслушано              драмы, триллеры\n",
       "7   463081     4880                         Афера                      комедии\n",
       "8   463081     6809                         Дуров               документальное\n",
       "9   463081      142                          Маша              драмы, триллеры"
      ]
     },
     "execution_count": 38,
     "metadata": {},
     "output_type": "execute_result"
    }
   ],
   "source": [
    "user_ids = get_similar_user(model, cold_users[0])\n",
    "user_ids = [idx for idx in user_ids if idx not in cold_users]\n",
    "recos = get_recos(user_id=user_ids[0],\n",
    "          model=model,\n",
    "          inter_matrix=inter_matrix,\n",
    "          user_to_id=DATASET._user_id_mapping,\n",
    "          id_to_item=id_to_item,\n",
    "          n_recommendations=10\n",
    ")\n",
    "cold_22_recos = pd.DataFrame({\"user_id\": user_ids[0], \"item_id\": recos}).merge(item_df[[\"item_id\", \"title\", \"genres\"]])\n",
    "cold_22_recos"
   ]
  }
 ],
 "metadata": {
  "kernelspec": {
   "display_name": "Python 3",
   "language": "python",
   "name": "python3"
  },
  "language_info": {
   "codemirror_mode": {
    "name": "ipython",
    "version": 3
   },
   "file_extension": ".py",
   "mimetype": "text/x-python",
   "name": "python",
   "nbconvert_exporter": "python",
   "pygments_lexer": "ipython3",
   "version": "3.7.12"
  },
  "papermill": {
   "default_parameters": {},
   "duration": 201.249237,
   "end_time": "2022-12-11T20:39:35.360250",
   "environment_variables": {},
   "exception": null,
   "input_path": "__notebook__.ipynb",
   "output_path": "__notebook__.ipynb",
   "parameters": {},
   "start_time": "2022-12-11T20:36:14.111013",
   "version": "2.3.4"
  }
 },
 "nbformat": 4,
 "nbformat_minor": 5
}
