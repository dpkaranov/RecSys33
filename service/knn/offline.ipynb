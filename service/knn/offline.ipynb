{
 "cells": [
  {
   "cell_type": "code",
   "execution_count": 19,
   "id": "fab498f4",
   "metadata": {},
   "outputs": [],
   "source": [
    "import dill\n",
    "import pandas as pd"
   ]
  },
  {
   "cell_type": "code",
   "execution_count": 41,
   "id": "ef9eca70",
   "metadata": {},
   "outputs": [
    {
     "name": "stdout",
     "output_type": "stream",
     "text": [
      "840196\n"
     ]
    }
   ],
   "source": [
    "#код, который использовался для объединения бачей предсказаний\n",
    "with open('cosine1_offline.dill', \"rb\") as f:\n",
    "    p1 = dill.load(f)\n",
    "with open('cosine2_offline.dill', \"rb\") as f:\n",
    "    p2 = dill.load(f)\n",
    "with open('cosine3_offline.dill', \"rb\") as f:\n",
    "    p3 = dill.load(f)\n",
    "with open('cosine4_offline.dill', \"rb\") as f:\n",
    "    p4 = dill.load(f)\n",
    "\n",
    "all_data = {}\n",
    "all_data.update(p1)\n",
    "all_data.update(p2)\n",
    "all_data.update(p3)\n",
    "all_data.update(p4)\n",
    "\n",
    "print(len(list(all_data.items())))\n",
    "\n",
    "with open(\"cosine_offline.dill\", \"wb\") as f:\n",
    "    dill.dump(all_data, f, -1)"
   ]
  },
  {
   "cell_type": "code",
   "execution_count": 67,
   "id": "70084fd7",
   "metadata": {},
   "outputs": [],
   "source": [
    "#загрузка всех необходимых данных\n",
    "users = pd.read_csv('service/data/users.csv')\n",
    "users = list(users['user_id'])\n",
    "\n",
    "with open('bm25_offline.dill', \"rb\") as f:\n",
    "    bm25_data = dill.load(f)\n",
    "\n",
    "with open('tfidf_offline.dill', \"rb\") as f:\n",
    "    tfidf_data = dill.load(f)\n",
    "    \n",
    "with open('cosine_offline.dill', \"rb\") as f:\n",
    "    cosine_data = dill.load(f)"
   ]
  },
  {
   "cell_type": "markdown",
   "id": "99a91965",
   "metadata": {},
   "source": [
    "Проведем небольшой анализ полученных рекомендаций"
   ]
  },
  {
   "cell_type": "code",
   "execution_count": 68,
   "id": "dc830ae0",
   "metadata": {},
   "outputs": [
    {
     "name": "stdout",
     "output_type": "stream",
     "text": [
      "tfidf number of empty recs: 384091\n",
      "bm25 number of empty recs: 641291\n",
      "cosine number of empty recs: 384091\n",
      "\n",
      "tfidf number of non empty, but <10 recs: 215743\n",
      "bm25 number of non empty, but <10 recs: 4940\n",
      "cosine number of non empty, but <10 recs: 215743\n"
     ]
    }
   ],
   "source": [
    "#Проверим сколько пустых рекомендаций есть в предсказаниях\n",
    "tfidf_empty = sum(x == [] for x in tfidf_data.values())\n",
    "bm25_empty = sum(x == [] for x in bm25_data.values())\n",
    "cosine_empty = sum(x == [] for x in tfidf_data.values())\n",
    "\n",
    "print(\"tfidf number of empty recs: {}\".format(tfidf_empty))\n",
    "print(\"bm25 number of empty recs: {}\".format(bm25_empty))\n",
    "print(\"cosine number of empty recs: {}\\n\".format(cosine_empty))\n",
    "\n",
    "#Проверим сколько есть не пустых рекомендаций, но меньше 10\n",
    "tfidf_nonempty = sum((len(x) >= 1 and len(x) < 10) for x in tfidf_data.values())\n",
    "bm25_nonempty = sum((len(x) >= 1 and len(x) < 10) for x in bm25_data.values())\n",
    "cosine_nonempty = sum((len(x) >= 1 and len(x) < 10) for x in tfidf_data.values())\n",
    "\n",
    "print(\"tfidf number of non empty, but <10 recs: {}\".format(tfidf_nonempty))\n",
    "print(\"bm25 number of non empty, but <10 recs: {}\".format(bm25_nonempty))\n",
    "print(\"cosine number of non empty, but <10 recs: {}\".format(cosine_nonempty))"
   ]
  },
  {
   "cell_type": "markdown",
   "id": "9ce80215",
   "metadata": {},
   "source": [
    "Пронализировав ситуацию на лидерборде (самый высокий скор у bm25 моделей) и результаты оффлайн рекомендаций (анализ кол-ва из блока выше), было принято решение использовать такой алгоритм для объединения - Сначала берем предсказания bm25, если их меньше 10, то берем tfidf, если и их меньше, то cosine, если и их меньше, то предлагаем популярное.\n",
    "\n",
    "P.S. в процессе прогона, оказалось, что при вычислении оффлайна один id потерялся, из-за этого был добавлен try/catch и пользователю присвоено популярное "
   ]
  },
  {
   "cell_type": "code",
   "execution_count": 91,
   "id": "91b6a0ad",
   "metadata": {},
   "outputs": [
    {
     "name": "stdout",
     "output_type": "stream",
     "text": [
      "bm25 count: 193965\n",
      "tfidf count: 161110\n",
      "cosine count: 45224\n",
      "popular count: 439898\n"
     ]
    }
   ],
   "source": [
    "counts = [0] * 4 #bm25, tfidf, cosine, popular\n",
    "final_data = {}\n",
    "\n",
    "for user in users:\n",
    "    try:\n",
    "        recs = bm25_data.get(user)\n",
    "        if (len(recs) < 10):\n",
    "            recs = tfidf_data.get(user)\n",
    "            if (len(recs) < 10):\n",
    "                recs = cosine_data.get(user)\n",
    "                if (len(recs) < 10):\n",
    "                    recs = [10440, 15297, 9728, 13865, 3734, 12192, 4151, 11863, 7793, 7829]\n",
    "                    counts[3] += 1\n",
    "                else:\n",
    "                    counts[2] += 1\n",
    "            else:\n",
    "                counts[1] += 1\n",
    "        else:\n",
    "            counts[0] += 1\n",
    "        final_data.update({user: recs})\n",
    "    except:\n",
    "        final_data.update({user: [10440, 15297, 9728, 13865, 3734, 12192, 4151, 11863, 7793, 7829]})\n",
    "        counts[3] += 1\n",
    "\n",
    "print(\"bm25 count: {}\".format(counts[0]))\n",
    "print(\"tfidf count: {}\".format(counts[1]))\n",
    "print(\"cosine count: {}\".format(counts[2]))\n",
    "print(\"popular count: {}\".format(counts[3]))\n",
    "\n",
    "with open(\"all_alg1.dill\", \"wb\") as f:\n",
    "    dill.dump(final_data, f, -1)"
   ]
  },
  {
   "cell_type": "markdown",
   "id": "83e29d2b",
   "metadata": {},
   "source": [
    "Ради интереса немного изменим алгоритм, и, перед тем как предложить популярное, попробуем объеденить рекомендации всех 3 моделей"
   ]
  },
  {
   "cell_type": "code",
   "execution_count": 87,
   "id": "d39687da",
   "metadata": {},
   "outputs": [
    {
     "name": "stdout",
     "output_type": "stream",
     "text": [
      "bm25 count: 193965\n",
      "tfidf count: 161110\n",
      "cosine count: 45224\n",
      "sum count: 18152\n",
      "popular count: 421746\n"
     ]
    }
   ],
   "source": [
    "counts = [0] * 5 #bm25, tfidf, cosine, sum, popular\n",
    "final_data = {}\n",
    "\n",
    "for user in users:\n",
    "    try:\n",
    "        recs_bm25 = bm25_data.get(user)\n",
    "        if len(recs_bm25) < 10:\n",
    "            recs_tfidf = tfidf_data.get(user)\n",
    "            if len(recs_tfidf) < 10:\n",
    "                recs_cosine = cosine_data.get(user)\n",
    "                if len(recs_cosine) < 10:\n",
    "                    recs_all = list(set(recs_bm25) | set(recs_tfidf) | set(recs_cosine))[:10]\n",
    "                    if len(recs_all) < 10:\n",
    "                        recs = [10440, 15297, 9728, 13865, 3734, 12192, 4151, 11863, 7793, 7829]\n",
    "                        counts[4] += 1\n",
    "                        final_data.update({user: recs})\n",
    "                    else:\n",
    "                        counts[3] += 1\n",
    "                        final_data.update({user: recs_all})\n",
    "                else:\n",
    "                    counts[2] += 1\n",
    "                    final_data.update({user: recs_cosine})\n",
    "            else:\n",
    "                counts[1] += 1\n",
    "                final_data.update({user: recs_tfidf})\n",
    "        else:\n",
    "            counts[0] += 1\n",
    "            final_data.update({user: recs_bm25})\n",
    "    except:\n",
    "            final_data.update({user: [10440, 15297, 9728, 13865, 3734, 12192, 4151, 11863, 7793, 7829]})\n",
    "            counts[4] += 1\n",
    "\n",
    "\n",
    "print(\"bm25 count: {}\".format(counts[0]))\n",
    "print(\"tfidf count: {}\".format(counts[1]))\n",
    "print(\"cosine count: {}\".format(counts[2]))\n",
    "print(\"sum count: {}\".format(counts[3]))\n",
    "print(\"popular count: {}\".format(counts[4]))\n",
    "\n",
    "with open(\"all_alg2.dill\", \"wb\") as f:\n",
    "    dill.dump(final_data, f, -1)"
   ]
  }
 ],
 "metadata": {
  "kernelspec": {
   "display_name": "Python 3 (ipykernel)",
   "language": "python",
   "name": "python3"
  },
  "language_info": {
   "codemirror_mode": {
    "name": "ipython",
    "version": 3
   },
   "file_extension": ".py",
   "mimetype": "text/x-python",
   "name": "python",
   "nbconvert_exporter": "python",
   "pygments_lexer": "ipython3",
   "version": "3.9.12"
  }
 },
 "nbformat": 4,
 "nbformat_minor": 5
}
